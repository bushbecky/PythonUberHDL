{
 "cells": [
  {
   "cell_type": "markdown",
   "metadata": {},
   "source": [
    "\\title{*myHDL* to *PYNQ-Z1/2* Fabric Only Examples}\n",
    "\\author{Steven K Armour}\n",
    "\\maketitle"
   ]
  },
  {
   "cell_type": "markdown",
   "metadata": {},
   "source": [
    "These are a rework of the excellent example *ARTY* tutorials by Will Green of [*Time to Explore*](https://timetoexplore.net/). But reworked in python's *myHDL* module to then regenerate Verilog/VHDL code that with the appropriate constraints can be redeployed on the *PYNQ-Z1/2* board using only the programmable logic of its ZYNQ-7000 FPGA. \n",
    "\n",
    "(These examples do not use the FPGA's SoC capability and thus do not use the *PYNQ* (Python Productivity for ZYNQ) SDK wrapper )"
   ]
  },
  {
   "cell_type": "markdown",
   "metadata": {
    "toc": true
   },
   "source": [
    "<h1>Table of Contents<span class=\"tocSkip\"></span></h1>\n",
    "<div class=\"toc\" style=\"margin-top: 1em;\"><ul class=\"toc-item\"><li><span><a href=\"#References\" data-toc-modified-id=\"References-1\"><span class=\"toc-item-num\">1&nbsp;&nbsp;</span>References</a></span></li><li><span><a href=\"#Libraries-and-Helper-functions\" data-toc-modified-id=\"Libraries-and-Helper-functions-2\"><span class=\"toc-item-num\">2&nbsp;&nbsp;</span>Libraries and Helper functions</a></span></li><li><span><a href=\"#How-to-load-the-Verilog-Sources,-Testbench,-and-Constraints-into-Vivado\" data-toc-modified-id=\"How-to-load-the-Verilog-Sources,-Testbench,-and-Constraints-into-Vivado-3\"><span class=\"toc-item-num\">3&nbsp;&nbsp;</span>How to load the Verilog Sources, Testbench, and Constraints into Vivado</a></span></li><li><span><a href=\"#Project-1:-1-Switch-1-LED\" data-toc-modified-id=\"Project-1:-1-Switch-1-LED-4\"><span class=\"toc-item-num\">4&nbsp;&nbsp;</span>Project 1: 1 Switch 1 LED</a></span><ul class=\"toc-item\"><li><span><a href=\"#myHDL-Code\" data-toc-modified-id=\"myHDL-Code-4.1\"><span class=\"toc-item-num\">4.1&nbsp;&nbsp;</span>myHDL Code</a></span></li><li><span><a href=\"#myHDL-Testing\" data-toc-modified-id=\"myHDL-Testing-4.2\"><span class=\"toc-item-num\">4.2&nbsp;&nbsp;</span>myHDL Testing</a></span></li><li><span><a href=\"#Verilog-Code\" data-toc-modified-id=\"Verilog-Code-4.3\"><span class=\"toc-item-num\">4.3&nbsp;&nbsp;</span>Verilog Code</a></span></li><li><span><a href=\"#PYNQ-Z1-Constraints-File\" data-toc-modified-id=\"PYNQ-Z1-Constraints-File-4.4\"><span class=\"toc-item-num\">4.4&nbsp;&nbsp;</span>PYNQ-Z1 Constraints File</a></span></li><li><span><a href=\"#Verilog-Testbench\" data-toc-modified-id=\"Verilog-Testbench-4.5\"><span class=\"toc-item-num\">4.5&nbsp;&nbsp;</span>Verilog Testbench</a></span></li><li><span><a href=\"#Board-Verification\" data-toc-modified-id=\"Board-Verification-4.6\"><span class=\"toc-item-num\">4.6&nbsp;&nbsp;</span>Board Verification</a></span></li></ul></li><li><span><a href=\"#Project-2:-2-Switches-4-LEDS\" data-toc-modified-id=\"Project-2:-2-Switches-4-LEDS-5\"><span class=\"toc-item-num\">5&nbsp;&nbsp;</span>Project 2: 2 Switches 4 LEDS</a></span><ul class=\"toc-item\"><li><span><a href=\"#myHDL-Code\" data-toc-modified-id=\"myHDL-Code-5.1\"><span class=\"toc-item-num\">5.1&nbsp;&nbsp;</span>myHDL Code</a></span></li><li><span><a href=\"#myHDL-Testing\" data-toc-modified-id=\"myHDL-Testing-5.2\"><span class=\"toc-item-num\">5.2&nbsp;&nbsp;</span>myHDL Testing</a></span></li><li><span><a href=\"#Verilog-Code\" data-toc-modified-id=\"Verilog-Code-5.3\"><span class=\"toc-item-num\">5.3&nbsp;&nbsp;</span>Verilog Code</a></span></li><li><span><a href=\"#Verilog-Testbench-(ToDo)\" data-toc-modified-id=\"Verilog-Testbench-(ToDo)-5.4\"><span class=\"toc-item-num\">5.4&nbsp;&nbsp;</span>Verilog Testbench (ToDo)</a></span></li><li><span><a href=\"#PYNQ-Z1-Constraints-File\" data-toc-modified-id=\"PYNQ-Z1-Constraints-File-5.5\"><span class=\"toc-item-num\">5.5&nbsp;&nbsp;</span>PYNQ-Z1 Constraints File</a></span></li><li><span><a href=\"#Board-Verification\" data-toc-modified-id=\"Board-Verification-5.6\"><span class=\"toc-item-num\">5.6&nbsp;&nbsp;</span>Board Verification</a></span></li></ul></li><li><span><a href=\"#Project-3:-Countdown\" data-toc-modified-id=\"Project-3:-Countdown-6\"><span class=\"toc-item-num\">6&nbsp;&nbsp;</span>Project 3: Countdown</a></span><ul class=\"toc-item\"><li><span><a href=\"#myHDL-Code\" data-toc-modified-id=\"myHDL-Code-6.1\"><span class=\"toc-item-num\">6.1&nbsp;&nbsp;</span>myHDL Code</a></span></li><li><span><a href=\"#myHDL-Testing-(Needs-Improvements)\" data-toc-modified-id=\"myHDL-Testing-(Needs-Improvements)-6.2\"><span class=\"toc-item-num\">6.2&nbsp;&nbsp;</span>myHDL Testing (Needs Improvements)</a></span></li><li><span><a href=\"#Verilog-Code\" data-toc-modified-id=\"Verilog-Code-6.3\"><span class=\"toc-item-num\">6.3&nbsp;&nbsp;</span>Verilog Code</a></span></li><li><span><a href=\"#Verilog-Testbench\" data-toc-modified-id=\"Verilog-Testbench-6.4\"><span class=\"toc-item-num\">6.4&nbsp;&nbsp;</span>Verilog Testbench</a></span><ul class=\"toc-item\"><li><span><a href=\"#Conversion-Issue\" data-toc-modified-id=\"Conversion-Issue-6.4.1\"><span class=\"toc-item-num\">6.4.1&nbsp;&nbsp;</span>Conversion Issue</a></span></li></ul></li><li><span><a href=\"#PYNQ-Z1-Constraints-File\" data-toc-modified-id=\"PYNQ-Z1-Constraints-File-6.5\"><span class=\"toc-item-num\">6.5&nbsp;&nbsp;</span>PYNQ-Z1 Constraints File</a></span></li><li><span><a href=\"#Board-Verification\" data-toc-modified-id=\"Board-Verification-6.6\"><span class=\"toc-item-num\">6.6&nbsp;&nbsp;</span>Board Verification</a></span></li></ul></li><li><span><a href=\"#Project-4:-Basic-Duty-Cycle\" data-toc-modified-id=\"Project-4:-Basic-Duty-Cycle-7\"><span class=\"toc-item-num\">7&nbsp;&nbsp;</span>Project 4: Basic Duty Cycle</a></span><ul class=\"toc-item\"><li><span><a href=\"#myHDL-Code\" data-toc-modified-id=\"myHDL-Code-7.1\"><span class=\"toc-item-num\">7.1&nbsp;&nbsp;</span>myHDL Code</a></span></li><li><span><a href=\"#myHDL-Testing\" data-toc-modified-id=\"myHDL-Testing-7.2\"><span class=\"toc-item-num\">7.2&nbsp;&nbsp;</span>myHDL Testing</a></span></li><li><span><a href=\"#Verilog-Code\" data-toc-modified-id=\"Verilog-Code-7.3\"><span class=\"toc-item-num\">7.3&nbsp;&nbsp;</span>Verilog Code</a></span></li><li><span><a href=\"#PYNQ-Z1-Constraints-File\" data-toc-modified-id=\"PYNQ-Z1-Constraints-File-7.4\"><span class=\"toc-item-num\">7.4&nbsp;&nbsp;</span>PYNQ-Z1 Constraints File</a></span></li><li><span><a href=\"#Verilog-Testbench\" data-toc-modified-id=\"Verilog-Testbench-7.5\"><span class=\"toc-item-num\">7.5&nbsp;&nbsp;</span>Verilog Testbench</a></span></li><li><span><a href=\"#Board-Verification\" data-toc-modified-id=\"Board-Verification-7.6\"><span class=\"toc-item-num\">7.6&nbsp;&nbsp;</span>Board Verification</a></span></li></ul></li><li><span><a href=\"#Project-5:-Mid-level-pwm-LED\" data-toc-modified-id=\"Project-5:-Mid-level-pwm-LED-8\"><span class=\"toc-item-num\">8&nbsp;&nbsp;</span>Project 5: Mid-level pwm LED</a></span><ul class=\"toc-item\"><li><ul class=\"toc-item\"><li><span><a href=\"#pwm-myHDL-Code\" data-toc-modified-id=\"pwm-myHDL-Code-8.0.1\"><span class=\"toc-item-num\">8.0.1&nbsp;&nbsp;</span>pwm myHDL Code</a></span></li><li><span><a href=\"#pwm-myHDL-Testing\" data-toc-modified-id=\"pwm-myHDL-Testing-8.0.2\"><span class=\"toc-item-num\">8.0.2&nbsp;&nbsp;</span>pwm myHDL Testing</a></span></li><li><span><a href=\"#pwm-Verilog-Code\" data-toc-modified-id=\"pwm-Verilog-Code-8.0.3\"><span class=\"toc-item-num\">8.0.3&nbsp;&nbsp;</span>pwm Verilog Code</a></span></li><li><span><a href=\"#pwm-PYNQ-Z1-Constraints-File\" data-toc-modified-id=\"pwm-PYNQ-Z1-Constraints-File-8.0.4\"><span class=\"toc-item-num\">8.0.4&nbsp;&nbsp;</span>pwm PYNQ-Z1 Constraints File</a></span></li><li><span><a href=\"#pwm-Verilog-Testbench\" data-toc-modified-id=\"pwm-Verilog-Testbench-8.0.5\"><span class=\"toc-item-num\">8.0.5&nbsp;&nbsp;</span>pwm Verilog Testbench</a></span></li></ul></li><li><span><a href=\"#top-myHDL-Code\" data-toc-modified-id=\"top-myHDL-Code-8.1\"><span class=\"toc-item-num\">8.1&nbsp;&nbsp;</span>top myHDL Code</a></span></li><li><span><a href=\"#myHDL-Testing\" data-toc-modified-id=\"myHDL-Testing-8.2\"><span class=\"toc-item-num\">8.2&nbsp;&nbsp;</span>myHDL Testing</a></span></li><li><span><a href=\"#Verilog-Code\" data-toc-modified-id=\"Verilog-Code-8.3\"><span class=\"toc-item-num\">8.3&nbsp;&nbsp;</span>Verilog Code</a></span></li><li><span><a href=\"#PYNQ-Z1-Constraints-File\" data-toc-modified-id=\"PYNQ-Z1-Constraints-File-8.4\"><span class=\"toc-item-num\">8.4&nbsp;&nbsp;</span>PYNQ-Z1 Constraints File</a></span></li><li><span><a href=\"#Verilog-Testbench\" data-toc-modified-id=\"Verilog-Testbench-8.5\"><span class=\"toc-item-num\">8.5&nbsp;&nbsp;</span>Verilog Testbench</a></span></li><li><span><a href=\"#Board-Verification\" data-toc-modified-id=\"Board-Verification-8.6\"><span class=\"toc-item-num\">8.6&nbsp;&nbsp;</span>Board Verification</a></span></li></ul></li></ul></div>"
   ]
  },
  {
   "cell_type": "markdown",
   "metadata": {},
   "source": [
    "# References \n",
    "@misc{green_2017,\n",
    "title={Arty FPGA 01: Hello World with Verilog & Vivado},\n",
    "url={https://timetoexplore.net/blog/arty-fpga-verilog-01},\n",
    "journal={Time to Explore},\n",
    "author={Green, Will},\n",
    "year={2017}\n",
    "},\n",
    "\n",
    "@misc{green_2017,\n",
    "title={Arty FPGA 02: Clocks, Counting, & Colour},\n",
    "url={https://timetoexplore.net/blog/arty-fpga-verilog-02},\n",
    "journal={Time to Explore},\n",
    "author={Green, Will},\n",
    "year={2017}\n",
    "},\n",
    "\n",
    "@book{ogden_2017,\n",
    "place={https://github.com/Xilinx/PYNQ/blob/master/sdbuild/boot_configs/Pynq-Z1-defconfig/constraints.xdc},\n",
    "title={PYNQ/sdbuild/boot_configs/Pynq-Z1-defconfig/constraints.xdc},\n",
    "publisher={PYNQ},\n",
    "author={Ogden, Peter},\n",
    "year={2017}\n",
    "}"
   ]
  },
  {
   "cell_type": "markdown",
   "metadata": {},
   "source": [
    "# Libraries and Helper functions"
   ]
  },
  {
   "cell_type": "code",
   "execution_count": 1,
   "metadata": {},
   "outputs": [
    {
     "data": {
      "application/json": {
       "Software versions": [
        {
         "module": "Python",
         "version": "3.6.2 64bit [GCC 4.4.7 20120313 (Red Hat 4.4.7-1)]"
        },
        {
         "module": "IPython",
         "version": "6.2.1"
        },
        {
         "module": "OS",
         "version": "Linux 4.15.0 30 generic x86_64 with debian stretch sid"
        },
        {
         "module": "myhdl",
         "version": "0.10"
        },
        {
         "module": "myhdlpeek",
         "version": "0.0.6"
        },
        {
         "module": "numpy",
         "version": "1.13.3"
        },
        {
         "module": "pandas",
         "version": "0.23.3"
        },
        {
         "module": "matplotlib",
         "version": "2.1.0"
        },
        {
         "module": "sympy",
         "version": "1.1.2.dev"
        }
       ]
      },
      "text/html": [
       "<table><tr><th>Software</th><th>Version</th></tr><tr><td>Python</td><td>3.6.2 64bit [GCC 4.4.7 20120313 (Red Hat 4.4.7-1)]</td></tr><tr><td>IPython</td><td>6.2.1</td></tr><tr><td>OS</td><td>Linux 4.15.0 30 generic x86_64 with debian stretch sid</td></tr><tr><td>myhdl</td><td>0.10</td></tr><tr><td>myhdlpeek</td><td>0.0.6</td></tr><tr><td>numpy</td><td>1.13.3</td></tr><tr><td>pandas</td><td>0.23.3</td></tr><tr><td>matplotlib</td><td>2.1.0</td></tr><tr><td>sympy</td><td>1.1.2.dev</td></tr><tr><td colspan='2'>Mon Aug 20 12:42:52 2018 MDT</td></tr></table>"
      ],
      "text/latex": [
       "\\begin{tabular}{|l|l|}\\hline\n",
       "{\\bf Software} & {\\bf Version} \\\\ \\hline\\hline\n",
       "Python & 3.6.2 64bit [GCC 4.4.7 20120313 (Red Hat 4.4.7-1)] \\\\ \\hline\n",
       "IPython & 6.2.1 \\\\ \\hline\n",
       "OS & Linux 4.15.0 30 generic x86\\_64 with debian stretch sid \\\\ \\hline\n",
       "myhdl & 0.10 \\\\ \\hline\n",
       "myhdlpeek & 0.0.6 \\\\ \\hline\n",
       "numpy & 1.13.3 \\\\ \\hline\n",
       "pandas & 0.23.3 \\\\ \\hline\n",
       "matplotlib & 2.1.0 \\\\ \\hline\n",
       "sympy & 1.1.2.dev \\\\ \\hline\n",
       "\\hline \\multicolumn{2}{|l|}{Mon Aug 20 12:42:52 2018 MDT} \\\\ \\hline\n",
       "\\end{tabular}\n"
      ],
      "text/plain": [
       "Software versions\n",
       "Python 3.6.2 64bit [GCC 4.4.7 20120313 (Red Hat 4.4.7-1)]\n",
       "IPython 6.2.1\n",
       "OS Linux 4.15.0 30 generic x86_64 with debian stretch sid\n",
       "myhdl 0.10\n",
       "myhdlpeek 0.0.6\n",
       "numpy 1.13.3\n",
       "pandas 0.23.3\n",
       "matplotlib 2.1.0\n",
       "sympy 1.1.2.dev\n",
       "Mon Aug 20 12:42:52 2018 MDT"
      ]
     },
     "execution_count": 1,
     "metadata": {},
     "output_type": "execute_result"
    }
   ],
   "source": [
    "#this notebook was written to utlize the `(some) LaTeX environments for Jupyter notebook\n",
    "#` exstantion found here\n",
    "#https://github.com/ProfFan/latex_envs\n",
    "\n",
    "from myhdl import *\n",
    "from myhdlpeek import Peeker\n",
    "import numpy as np\n",
    "import pandas as pd\n",
    "import matplotlib.pyplot as plt\n",
    "%matplotlib inline\n",
    "\n",
    "from sympy import *\n",
    "init_printing()\n",
    "\n",
    "#https://github.com/jrjohansson/version_information\n",
    "%load_ext version_information\n",
    "%version_information myhdl, myhdlpeek, numpy, pandas, matplotlib, sympy"
   ]
  },
  {
   "cell_type": "code",
   "execution_count": 2,
   "metadata": {},
   "outputs": [],
   "source": [
    "#helper  functions to read in the .v and .vhd generated files into python\n",
    "def VerilogTextReader(loc, printresult=True):\n",
    "    with open(f'{loc}.v', 'r') as vText:\n",
    "        VerilogText=vText.read()\n",
    "    if printresult:\n",
    "        print(f'***Verilog modual from {loc}.v***\\n\\n', VerilogText)\n",
    "    return VerilogText\n",
    "\n",
    "def VHDLTextReader(loc, printresult=True):\n",
    "    with open(f'{loc}.vhd', 'r') as vText:\n",
    "        VerilogText=vText.read()\n",
    "    if printresult:\n",
    "        print(f'***VHDL modual from {loc}.vhd***\\n\\n', VerilogText)\n",
    "    return VerilogText"
   ]
  },
  {
   "cell_type": "markdown",
   "metadata": {},
   "source": [
    "# How to load the Verilog Sources, Testbench, and Constraints into Vivado\n",
    "This is not a tutorial on the usage of Xilinx's Vivado, for that information see the original source material from **Time to Explore** https://timetoexplore.net/blog/arty-fpga-verilog-01  &  https://timetoexplore.net/blog/arty-fpga-verilog-02 . However, here is some additional information that might prove useful. \n",
    "\n",
    "First, when you run each project in this notebook three Verilog scripts will be generated. Typically the first is `tb_*.v` which is generated by the internal *myHDL* simulator. DO NOT LOAD THESE INTO VIVADO. The second script is the actual Verilog/VHDL code that is loaded into sources. A showing of which is rendered below the cells titled **Verilog Code**, if you wish to use VHDL instead of Verilog please see the *myHDL* documentation on how to convert to VHDL from myHDL. The Third file is the testbench that is made to run in Verilog (I have only ever generated Verilog Testbench so conversion to VHDL is at your own risk) the file name is `*_TBV.v` these should be sourced under simulation sources in Vivado. The constraint files `*.xdc` should be sourced as constraint sources. Finally when running each project in Vivado you will need to go under the sources tab and right click on the source and simulation source files and set them to **Top** and in the constraints section I would right click and disable any constraint sources that are not the appropriate constraint source for the selected **Top** modules. Finlay whenever the notebook/notebook cells that generate Verilog/VHDL code run they will rewrite the target file. This means that Vivado will see a change in the source and will then ask you to refresh the project. If you are past the Simulation Stage you will want to avoid doing this as it will be time-consuming.\n"
   ]
  },
  {
   "cell_type": "markdown",
   "metadata": {},
   "source": [
    "# Project 1: 1 Switch 1 LED\n",
    "From https://timetoexplore.net/blog/arty-fpga-verilog-01\n",
    "creates a simple single switch controlled LED"
   ]
  },
  {
   "cell_type": "markdown",
   "metadata": {},
   "source": [
    "## myHDL Code"
   ]
  },
  {
   "cell_type": "code",
   "execution_count": 3,
   "metadata": {},
   "outputs": [],
   "source": [
    "@block\n",
    "def S0L0(sw, clk, led):\n",
    "    \"\"\"\n",
    "    FPGA Hello world of one switch controlling one LED based on\n",
    "    https://timetoexplore.net/blog/arty-fpga-verilog-01\n",
    "    \n",
    "    Target:\n",
    "        ZYNQ 7000 Board (Arty, PYNQ-Z1, PYNQ-Z2) with at least 2 \n",
    "        switchs and 4 leds\n",
    "    \n",
    "    \n",
    "    Input:\n",
    "        sw(2bitVec):switch input from PYNQ-Z1/2 (ect.)\n",
    "        clk(bool): clock input    \n",
    "    Ouput:\n",
    "        led(4bitVec): led output to PYNQ-Z1/2 (ect.)\n",
    "        \n",
    "    \"\"\"\n",
    "    \n",
    "    @always(clk.posedge)\n",
    "    def logic():\n",
    "        if sw[0]==0:\n",
    "            led.next[0]=True\n",
    "        else:\n",
    "            led.next[0]=False\n",
    "    \n",
    "    return instances()"
   ]
  },
  {
   "cell_type": "markdown",
   "metadata": {},
   "source": [
    "## myHDL Testing"
   ]
  },
  {
   "cell_type": "code",
   "execution_count": 4,
   "metadata": {},
   "outputs": [],
   "source": [
    "Peeker.clear()\n",
    "clk=Signal(bool(0)); Peeker(clk, 'clk')\n",
    "sw=Signal(intbv(0)[2:]); Peeker(sw, 'sw')\n",
    "led=Signal(intbv(0)[4:]); Peeker(led, 'led')\n",
    "\n",
    "np.random.seed(18)\n",
    "swTVals=[int(i) for i in np.random.randint(0,2, 10)]\n",
    "\n",
    "DUT=S0L0(sw, clk, led)\n",
    "\n",
    "def S0L0_TB():\n",
    "    \"\"\"\n",
    "    myHDL only Testbench for `S0L0`\n",
    "    \"\"\"\n",
    "    \n",
    "    @always(delay(1))\n",
    "    def ClkGen():\n",
    "        clk.next=not clk\n",
    "        \n",
    "    @instance\n",
    "    def stimules():\n",
    "        for i in range(10):\n",
    "            sw.next[0]=swTVals[i]\n",
    "            yield clk.posedge\n",
    "        raise StopSimulation()\n",
    "    \n",
    "    return instances()\n",
    "            \n",
    "sim=Simulation(DUT, S0L0_TB(), *Peeker.instances()).run()"
   ]
  },
  {
   "cell_type": "code",
   "execution_count": 5,
   "metadata": {},
   "outputs": [
    {
     "data": {
      "text/html": [
       "<div><script type=\"WaveDrom\">{\"signal\": [{\"name\": \"clk\", \"wave\": \"0101010101010101010\"}, {\"name\": \"led\", \"wave\": \"==.=.=.=.=.=.=.....\", \"data\": [\"0\", \"1\", \"0\", \"1\", \"0\", \"1\", \"0\", \"1\"]}, {\"name\": \"sw\", \"wave\": \"==.=.=.=.=.=.......\", \"data\": [\"0\", \"1\", \"0\", \"1\", \"0\", \"1\", \"0\"]}]}</script></div>"
      ]
     },
     "metadata": {},
     "output_type": "display_data"
    },
    {
     "data": {
      "application/javascript": [
       "$.getScript(\"http://wavedrom.com/wavedrom.min.js\", function () {\n",
       "$.getScript(\"http://wavedrom.com/skins/default.js\", function () {\n",
       "WaveDrom.ProcessAll();});\n",
       "});\n"
      ]
     },
     "metadata": {},
     "output_type": "display_data"
    }
   ],
   "source": [
    "Peeker.to_wavedrom()"
   ]
  },
  {
   "cell_type": "code",
   "execution_count": 6,
   "metadata": {},
   "outputs": [
    {
     "data": {
      "text/html": [
       "<div>\n",
       "<style scoped>\n",
       "    .dataframe tbody tr th:only-of-type {\n",
       "        vertical-align: middle;\n",
       "    }\n",
       "\n",
       "    .dataframe tbody tr th {\n",
       "        vertical-align: top;\n",
       "    }\n",
       "\n",
       "    .dataframe thead th {\n",
       "        text-align: right;\n",
       "    }\n",
       "</style>\n",
       "<table border=\"1\" class=\"dataframe\">\n",
       "  <thead>\n",
       "    <tr style=\"text-align: right;\">\n",
       "      <th></th>\n",
       "      <th>clk</th>\n",
       "      <th>led</th>\n",
       "      <th>sw</th>\n",
       "    </tr>\n",
       "  </thead>\n",
       "  <tbody>\n",
       "    <tr>\n",
       "      <th>0</th>\n",
       "      <td>1</td>\n",
       "      <td>1</td>\n",
       "      <td>1</td>\n",
       "    </tr>\n",
       "    <tr>\n",
       "      <th>1</th>\n",
       "      <td>1</td>\n",
       "      <td>0</td>\n",
       "      <td>0</td>\n",
       "    </tr>\n",
       "    <tr>\n",
       "      <th>2</th>\n",
       "      <td>1</td>\n",
       "      <td>1</td>\n",
       "      <td>1</td>\n",
       "    </tr>\n",
       "    <tr>\n",
       "      <th>3</th>\n",
       "      <td>1</td>\n",
       "      <td>0</td>\n",
       "      <td>0</td>\n",
       "    </tr>\n",
       "    <tr>\n",
       "      <th>4</th>\n",
       "      <td>1</td>\n",
       "      <td>1</td>\n",
       "      <td>1</td>\n",
       "    </tr>\n",
       "    <tr>\n",
       "      <th>5</th>\n",
       "      <td>1</td>\n",
       "      <td>0</td>\n",
       "      <td>0</td>\n",
       "    </tr>\n",
       "    <tr>\n",
       "      <th>6</th>\n",
       "      <td>1</td>\n",
       "      <td>1</td>\n",
       "      <td>0</td>\n",
       "    </tr>\n",
       "    <tr>\n",
       "      <th>7</th>\n",
       "      <td>1</td>\n",
       "      <td>1</td>\n",
       "      <td>0</td>\n",
       "    </tr>\n",
       "    <tr>\n",
       "      <th>8</th>\n",
       "      <td>1</td>\n",
       "      <td>1</td>\n",
       "      <td>0</td>\n",
       "    </tr>\n",
       "  </tbody>\n",
       "</table>\n",
       "</div>"
      ],
      "text/plain": [
       "   clk  led  sw\n",
       "0    1    1   1\n",
       "1    1    0   0\n",
       "2    1    1   1\n",
       "3    1    0   0\n",
       "4    1    1   1\n",
       "5    1    0   0\n",
       "6    1    1   0\n",
       "7    1    1   0\n",
       "8    1    1   0"
      ]
     },
     "execution_count": 6,
     "metadata": {},
     "output_type": "execute_result"
    }
   ],
   "source": [
    "S0L0Data=Peeker.to_dataframe()\n",
    "S0L0Data=S0L0Data[S0L0Data['clk']==1]\n",
    "S0L0Data.reset_index(drop=True, inplace=True)\n",
    "S0L0Data"
   ]
  },
  {
   "cell_type": "markdown",
   "metadata": {},
   "source": [
    "## Verilog Code"
   ]
  },
  {
   "cell_type": "code",
   "execution_count": 7,
   "metadata": {},
   "outputs": [
    {
     "name": "stdout",
     "output_type": "stream",
     "text": [
      "***Verilog modual from S0L0.v***\n",
      "\n",
      " // File: S0L0.v\n",
      "// Generated by MyHDL 0.10\n",
      "// Date: Mon Aug 20 12:43:02 2018\n",
      "\n",
      "\n",
      "`timescale 1ns/10ps\n",
      "\n",
      "module S0L0 (\n",
      "    sw,\n",
      "    clk,\n",
      "    led\n",
      ");\n",
      "// FPGA Hello world of one switch controlling one LED based on\n",
      "// https://timetoexplore.net/blog/arty-fpga-verilog-01\n",
      "// \n",
      "// Target:\n",
      "//     ZYNQ 7000 Board (Arty, PYNQ-Z1, PYNQ-Z2) with at least 2 \n",
      "//     switchs and 4 leds\n",
      "// \n",
      "// \n",
      "// Input:\n",
      "//     sw(2bitVec):switch input from PYNQ-Z1/2 (ect.)\n",
      "//     clk(bool): clock input    \n",
      "// Ouput:\n",
      "//     led(4bitVec): led output to PYNQ-Z1/2 (ect.)\n",
      "//     \n",
      "\n",
      "input [1:0] sw;\n",
      "input clk;\n",
      "output [3:0] led;\n",
      "reg [3:0] led;\n",
      "\n",
      "\n",
      "\n",
      "\n",
      "always @(posedge clk) begin: S0L0_LOGIC\n",
      "    if ((sw[0] == 0)) begin\n",
      "        led[0] <= 1'b1;\n",
      "    end\n",
      "    else begin\n",
      "        led[0] <= 1'b0;\n",
      "    end\n",
      "end\n",
      "\n",
      "endmodule\n",
      "\n"
     ]
    }
   ],
   "source": [
    "DUT.convert()\n",
    "VerilogTextReader('S0L0');"
   ]
  },
  {
   "cell_type": "markdown",
   "metadata": {},
   "source": [
    "\\begin{figure}\n",
    "\\centerline{\\includegraphics[width=10cm]{S0L0_RTL.png}}\n",
    "\\caption{\\label{fig:S0L0RTL} S0L0 RTL schematic; Xilinx Vivado 2017.4}\n",
    "\\end{figure}"
   ]
  },
  {
   "cell_type": "markdown",
   "metadata": {},
   "source": [
    "\\begin{figure}\n",
    "\\centerline{\\includegraphics[width=10cm]{S0L0_SYN.png}}\n",
    "\\caption{\\label{fig:S0L0SYN} S0L0 Synthesized Schematic; Xilinx Vivado 2017.4}\n",
    "\\end{figure}"
   ]
  },
  {
   "cell_type": "markdown",
   "metadata": {},
   "source": [
    "\\begin{figure}\n",
    "\\centerline{\\includegraphics[width=10cm]{S0L0_SYN.png}}\n",
    "\\caption{\\label{fig:S0L0SYN} S0L0 Implementated Schematic; Xilinx Vivado 2017.4}\n",
    "\\end{figure}"
   ]
  },
  {
   "cell_type": "markdown",
   "metadata": {},
   "source": [
    "## PYNQ-Z1 Constraints File\n",
    "Below is what is found in file `constrs_S0L0.xdc`\n",
    "\n",
    "Notice that the original port names found in the PYNQ-Z1 Constraints file have been changed to the port names in the module `S0L0`"
   ]
  },
  {
   "cell_type": "raw",
   "metadata": {},
   "source": [
    "## PYNQ-Z1 Board Constraints for S0L0.v\n",
    "## Based on https://github.com/Xilinx/PYNQ/blob/master/sdbuild/boot_configs/Pynq-Z1-defconfig/constraints.xdc\n",
    "\n",
    "## Clock signal 125 MHz\n",
    "\n",
    "set_property -dict { PACKAGE_PIN H16   IOSTANDARD LVCMOS33 } [get_ports { clk }]; #IO_L13P_T2_MRCC_35 Sch=clk\n",
    "create_clock -add -name sys_clk_pin -period 8.00 -waveform {0 4} [get_ports { clk }];\n",
    "\n",
    "## Switches\n",
    "set_property -dict {PACKAGE_PIN M20 IOSTANDARD LVCMOS33} [get_ports {sw[0]}]\n",
    "set_property -dict {PACKAGE_PIN M19 IOSTANDARD LVCMOS33} [get_ports {sw[1]}]\n",
    "\n",
    "\n",
    "##LEDs\n",
    "set_property -dict {PACKAGE_PIN R14 IOSTANDARD LVCMOS33} [get_ports {led[0]}]\n",
    "set_property -dict {PACKAGE_PIN P14 IOSTANDARD LVCMOS33} [get_ports {led[1]}]\n",
    "set_property -dict {PACKAGE_PIN N16 IOSTANDARD LVCMOS33} [get_ports {led[2]}]\n",
    "set_property -dict {PACKAGE_PIN M14 IOSTANDARD LVCMOS33} [get_ports {led[3]}]"
   ]
  },
  {
   "cell_type": "markdown",
   "metadata": {},
   "source": [
    "## Verilog Testbench"
   ]
  },
  {
   "cell_type": "code",
   "execution_count": 8,
   "metadata": {},
   "outputs": [
    {
     "name": "stdout",
     "output_type": "stream",
     "text": [
      "swTest: [0, 1, 0, 1, 0, 1, 0, 0, 0, 0], 150, [0, 1, 0, 1, 0, 1, 0, 0, 0, 0]\n"
     ]
    }
   ],
   "source": [
    "swTVal=intbv(int(''.join([str(i) for i in swTVals]), 2))[len(swTVals):]\n",
    "print(f'swTest: {swTVals}, {swTVal}, {[int(i) for i in swTVal]}')"
   ]
  },
  {
   "cell_type": "code",
   "execution_count": 9,
   "metadata": {},
   "outputs": [
    {
     "name": "stdout",
     "output_type": "stream",
     "text": [
      "<class 'myhdl._Signal._Signal'> <class '_ast.Name'>\n",
      "<class 'myhdl._Signal._Signal'> <class '_ast.Name'>\n",
      "<class 'myhdl._Signal._Signal'> <class '_ast.Name'>\n",
      "***Verilog modual from S0L0_TBV.v***\n",
      "\n",
      " // File: S0L0_TBV.v\n",
      "// Generated by MyHDL 0.10\n",
      "// Date: Mon Aug 20 12:43:47 2018\n",
      "\n",
      "\n",
      "`timescale 1ns/10ps\n",
      "\n",
      "module S0L0_TBV (\n",
      "\n",
      ");\n",
      "// myHDL -> Verilog Testbench for `S0L0`\n",
      "\n",
      "\n",
      "reg clk = 0;\n",
      "reg [1:0] sw = 0;\n",
      "reg [3:0] led = 0;\n",
      "wire [9:0] swTVals;\n",
      "\n",
      "assign swTVals = 10'd336;\n",
      "\n",
      "\n",
      "always @(led, sw, clk) begin: S0L0_TBV_PRINT_DATA\n",
      "    $write(\"%h\", sw);\n",
      "    $write(\" \");\n",
      "    $write(\"%h\", clk);\n",
      "    $write(\" \");\n",
      "    $write(\"%h\", led);\n",
      "    $write(\"\\n\");\n",
      "end\n",
      "\n",
      "\n",
      "always @(posedge clk) begin: S0L0_TBV_S0L00_0_LOGIC\n",
      "    if ((sw[0] == 0)) begin\n",
      "        led[0] <= 1'b1;\n",
      "    end\n",
      "    else begin\n",
      "        led[0] <= 1'b0;\n",
      "    end\n",
      "end\n",
      "\n",
      "\n",
      "initial begin: S0L0_TBV_CLK_SIGNAL\n",
      "    while (1'b1) begin\n",
      "        clk <= (!clk);\n",
      "        # 1;\n",
      "    end\n",
      "end\n",
      "\n",
      "\n",
      "initial begin: S0L0_TBV_STIMULES\n",
      "    integer i;\n",
      "    for (i=0; i<10; i=i+1) begin\n",
      "        sw[0] <= swTVals[i];\n",
      "        @(posedge clk);\n",
      "    end\n",
      "    $finish;\n",
      "end\n",
      "\n",
      "endmodule\n",
      "\n"
     ]
    },
    {
     "name": "stderr",
     "output_type": "stream",
     "text": [
      "/home/iridium/anaconda3/lib/python3.6/site-packages/myhdl/conversion/_toVerilog.py:349: ToVerilogWarning: Signal is not driven: swTVals\n",
      "  category=ToVerilogWarning\n"
     ]
    }
   ],
   "source": [
    "@block\n",
    "def S0L0_TBV():\n",
    "    \"\"\"\n",
    "    myHDL -> Verilog Testbench for `S0L0`\n",
    "    \"\"\"\n",
    "    clk=Signal(bool(0))\n",
    "    sw=Signal(intbv(0)[2:])\n",
    "    led=Signal(intbv(0)[4:])\n",
    "    \n",
    "    #test stimuli\n",
    "    swTVals=Signal(swTVal)\n",
    "    \n",
    "    @always_comb\n",
    "    def print_data():\n",
    "        print(sw, clk, led)\n",
    "\n",
    "\n",
    "    DUT=S0L0(sw, clk, led)\n",
    "    \n",
    "    @instance\n",
    "    def clk_signal():\n",
    "        while True:\n",
    "            clk.next = not clk\n",
    "            yield delay(1)\n",
    "        \n",
    "    @instance\n",
    "    def stimules():\n",
    "        for i in range(10):\n",
    "            sw.next[0]=swTVals[i]\n",
    "            yield clk.posedge\n",
    "        raise StopSimulation()\n",
    "    \n",
    "    return instances()\n",
    "            \n",
    "TB=S0L0_TBV()\n",
    "TB.convert(hdl=\"Verilog\", initial_values=True)\n",
    "VerilogTextReader('S0L0_TBV');"
   ]
  },
  {
   "cell_type": "markdown",
   "metadata": {},
   "source": [
    "## Board Verification\n",
    "https://www.youtube.com/watch?v=ru7ih-1iTyc"
   ]
  },
  {
   "cell_type": "markdown",
   "metadata": {},
   "source": [
    "# Project 2: 2 Switches 4 LEDS\n",
    "From https://timetoexplore.net/blog/arty-fpga-verilog-01 uses both Switches on the PYNQ-Z1 to control that on/off states of the four leds on the PYNQ-Z1"
   ]
  },
  {
   "cell_type": "markdown",
   "metadata": {},
   "source": [
    "## myHDL Code"
   ]
  },
  {
   "cell_type": "code",
   "execution_count": 10,
   "metadata": {},
   "outputs": [],
   "source": [
    "@block\n",
    "def S2L4(sw, clk, led):\n",
    "    \"\"\"\n",
    "    FPGA Hello world of two switchs controlling four LEDs based on\n",
    "    https://timetoexplore.net/blog/arty-fpga-verilog-01\n",
    "    \n",
    "    Target:\n",
    "        ZYNQ 7000 Board (Arty, PYNQ-Z1, PYNQ-Z2) with at least 2 \n",
    "        switchs and 4 leds\n",
    "    \n",
    "    \n",
    "    Input:\n",
    "        sw(2bitVec):switch input from PYNQ-Z1/2 (ect.)\n",
    "        clk(bool): clock input    \n",
    "    Ouput:\n",
    "        led(4bitVec): led output to PYNQ-Z1/2 (ect.)\n",
    "        \n",
    "    \"\"\"\n",
    "        \n",
    "    @always(clk.posedge)\n",
    "    def logic():\n",
    "        if sw[0]==0:\n",
    "            led.next[2:]=0\n",
    "        else:\n",
    "            led.next[2:]=3\n",
    "            \n",
    "        if sw[1]==0:\n",
    "            led.next[4:2]=0\n",
    "        else:\n",
    "            led.next[4:2]=3\n",
    "    \n",
    "    return instances()"
   ]
  },
  {
   "cell_type": "markdown",
   "metadata": {},
   "source": [
    "## myHDL Testing"
   ]
  },
  {
   "cell_type": "code",
   "execution_count": 11,
   "metadata": {
    "scrolled": false
   },
   "outputs": [],
   "source": [
    "Peeker.clear()\n",
    "clk=Signal(bool(0)); Peeker(clk, 'clk')\n",
    "sw=Signal(intbv(0)[2:]); Peeker(sw, 'sw')\n",
    "led=Signal(intbv(0)[4:]); Peeker(led, 'led')\n",
    "\n",
    "np.random.seed(18)\n",
    "swTVals=[int(i) for i in np.random.randint(0,4, 10)]\n",
    "\n",
    "DUT=S2L4(sw, clk, led)\n",
    "\n",
    "def S2L4_TB():\n",
    "    \"\"\"\n",
    "    myHDL only Testbench for `S2L4`\n",
    "    \"\"\"\n",
    "    \n",
    "    @always(delay(1))\n",
    "    def ClkGen():\n",
    "        clk.next=not clk\n",
    "        \n",
    "    @instance\n",
    "    def stimules():\n",
    "        for i in range(10):\n",
    "            sw.next=swTVals[i]\n",
    "            yield clk.posedge\n",
    "        raise StopSimulation()\n",
    "    \n",
    "    return instances()\n",
    "            \n",
    "sim=Simulation(DUT, S2L4_TB(), *Peeker.instances()).run()"
   ]
  },
  {
   "cell_type": "code",
   "execution_count": 12,
   "metadata": {},
   "outputs": [
    {
     "data": {
      "text/html": [
       "<div><script type=\"WaveDrom\">{\"signal\": [{\"name\": \"clk\", \"wave\": \"0101010101010101010\"}, {\"name\": \"led\", \"wave\": \"==.=.=.=.=.=.=.....\", \"data\": [\"0\", \"c\", \"f\", \"0\", \"3\", \"c\", \"3\", \"c\"]}, {\"name\": \"sw\", \"wave\": \"==.=.=.=.=.=.....=.\", \"data\": [\"2\", \"3\", \"0\", \"1\", \"2\", \"1\", \"2\", \"0\"]}]}</script></div>"
      ]
     },
     "metadata": {},
     "output_type": "display_data"
    },
    {
     "data": {
      "application/javascript": [
       "$.getScript(\"http://wavedrom.com/wavedrom.min.js\", function () {\n",
       "$.getScript(\"http://wavedrom.com/skins/default.js\", function () {\n",
       "WaveDrom.ProcessAll();});\n",
       "});\n"
      ]
     },
     "metadata": {},
     "output_type": "display_data"
    }
   ],
   "source": [
    "Peeker.to_wavedrom()"
   ]
  },
  {
   "cell_type": "code",
   "execution_count": 13,
   "metadata": {},
   "outputs": [
    {
     "data": {
      "text/html": [
       "<div>\n",
       "<style scoped>\n",
       "    .dataframe tbody tr th:only-of-type {\n",
       "        vertical-align: middle;\n",
       "    }\n",
       "\n",
       "    .dataframe tbody tr th {\n",
       "        vertical-align: top;\n",
       "    }\n",
       "\n",
       "    .dataframe thead th {\n",
       "        text-align: right;\n",
       "    }\n",
       "</style>\n",
       "<table border=\"1\" class=\"dataframe\">\n",
       "  <thead>\n",
       "    <tr style=\"text-align: right;\">\n",
       "      <th></th>\n",
       "      <th>clk</th>\n",
       "      <th>led</th>\n",
       "      <th>sw</th>\n",
       "    </tr>\n",
       "  </thead>\n",
       "  <tbody>\n",
       "    <tr>\n",
       "      <th>0</th>\n",
       "      <td>1</td>\n",
       "      <td>12</td>\n",
       "      <td>3</td>\n",
       "    </tr>\n",
       "    <tr>\n",
       "      <th>1</th>\n",
       "      <td>1</td>\n",
       "      <td>15</td>\n",
       "      <td>0</td>\n",
       "    </tr>\n",
       "    <tr>\n",
       "      <th>2</th>\n",
       "      <td>1</td>\n",
       "      <td>0</td>\n",
       "      <td>1</td>\n",
       "    </tr>\n",
       "    <tr>\n",
       "      <th>3</th>\n",
       "      <td>1</td>\n",
       "      <td>3</td>\n",
       "      <td>2</td>\n",
       "    </tr>\n",
       "    <tr>\n",
       "      <th>4</th>\n",
       "      <td>1</td>\n",
       "      <td>12</td>\n",
       "      <td>1</td>\n",
       "    </tr>\n",
       "    <tr>\n",
       "      <th>5</th>\n",
       "      <td>1</td>\n",
       "      <td>3</td>\n",
       "      <td>2</td>\n",
       "    </tr>\n",
       "    <tr>\n",
       "      <th>6</th>\n",
       "      <td>1</td>\n",
       "      <td>12</td>\n",
       "      <td>2</td>\n",
       "    </tr>\n",
       "    <tr>\n",
       "      <th>7</th>\n",
       "      <td>1</td>\n",
       "      <td>12</td>\n",
       "      <td>2</td>\n",
       "    </tr>\n",
       "    <tr>\n",
       "      <th>8</th>\n",
       "      <td>1</td>\n",
       "      <td>12</td>\n",
       "      <td>0</td>\n",
       "    </tr>\n",
       "  </tbody>\n",
       "</table>\n",
       "</div>"
      ],
      "text/plain": [
       "   clk  led  sw\n",
       "0    1   12   3\n",
       "1    1   15   0\n",
       "2    1    0   1\n",
       "3    1    3   2\n",
       "4    1   12   1\n",
       "5    1    3   2\n",
       "6    1   12   2\n",
       "7    1   12   2\n",
       "8    1   12   0"
      ]
     },
     "execution_count": 13,
     "metadata": {},
     "output_type": "execute_result"
    }
   ],
   "source": [
    "S2L4Data=Peeker.to_dataframe()\n",
    "S2L4Data=S2L4Data[S2L4Data['clk']==1]\n",
    "S2L4Data.reset_index(drop=True, inplace=True)\n",
    "S2L4Data"
   ]
  },
  {
   "cell_type": "markdown",
   "metadata": {},
   "source": [
    "## Verilog Code"
   ]
  },
  {
   "cell_type": "code",
   "execution_count": 14,
   "metadata": {},
   "outputs": [
    {
     "name": "stdout",
     "output_type": "stream",
     "text": [
      "***Verilog modual from S2L4.v***\n",
      "\n",
      " // File: S2L4.v\n",
      "// Generated by MyHDL 0.10\n",
      "// Date: Mon Aug 20 12:43:56 2018\n",
      "\n",
      "\n",
      "`timescale 1ns/10ps\n",
      "\n",
      "module S2L4 (\n",
      "    sw,\n",
      "    clk,\n",
      "    led\n",
      ");\n",
      "// FPGA Hello world of two switchs controlling four LEDs based on\n",
      "// https://timetoexplore.net/blog/arty-fpga-verilog-01\n",
      "// \n",
      "// Target:\n",
      "//     ZYNQ 7000 Board (Arty, PYNQ-Z1, PYNQ-Z2) with at least 2 \n",
      "//     switchs and 4 leds\n",
      "// \n",
      "// \n",
      "// Input:\n",
      "//     sw(2bitVec):switch input from PYNQ-Z1/2 (ect.)\n",
      "//     clk(bool): clock input    \n",
      "// Ouput:\n",
      "//     led(4bitVec): led output to PYNQ-Z1/2 (ect.)\n",
      "//     \n",
      "\n",
      "input [1:0] sw;\n",
      "input clk;\n",
      "output [3:0] led;\n",
      "reg [3:0] led;\n",
      "\n",
      "\n",
      "\n",
      "\n",
      "always @(posedge clk) begin: S2L4_LOGIC\n",
      "    if ((sw[0] == 0)) begin\n",
      "        led[2-1:0] <= 0;\n",
      "    end\n",
      "    else begin\n",
      "        led[2-1:0] <= 3;\n",
      "    end\n",
      "    if ((sw[1] == 0)) begin\n",
      "        led[4-1:2] <= 0;\n",
      "    end\n",
      "    else begin\n",
      "        led[4-1:2] <= 3;\n",
      "    end\n",
      "end\n",
      "\n",
      "endmodule\n",
      "\n"
     ]
    }
   ],
   "source": [
    "DUT.convert()\n",
    "VerilogTextReader('S2L4');"
   ]
  },
  {
   "cell_type": "markdown",
   "metadata": {},
   "source": [
    "\\begin{figure}\n",
    "\\centerline{\\includegraphics[width=10cm]{S2L4_RTL.png}}\n",
    "\\caption{\\label{fig:S2L4RTL} S2L4 RTL schematic; Xilinx Vivado 2017.4}\n",
    "\\end{figure}"
   ]
  },
  {
   "cell_type": "markdown",
   "metadata": {},
   "source": [
    "\\begin{figure}\n",
    "\\centerline{\\includegraphics[width=10cm]{S2L4_SYN.png}}\n",
    "\\caption{\\label{fig:S2L4SYN} S2L4 Synthesized Schematic; Xilinx Vivado 2017.4}\n",
    "\\end{figure}"
   ]
  },
  {
   "cell_type": "markdown",
   "metadata": {},
   "source": [
    "\\begin{figure}\n",
    "\\centerline{\\includegraphics[width=10cm]{S2L4_IMP.png}}\n",
    "\\caption{\\label{fig:S2L4SYN} S2L4 Implementated Schematic; Xilinx Vivado 2017.4}\n",
    "\\end{figure}"
   ]
  },
  {
   "cell_type": "markdown",
   "metadata": {},
   "source": [
    "## Verilog Testbench (ToDo)\n",
    "will write later when testbench conversion is improved"
   ]
  },
  {
   "cell_type": "markdown",
   "metadata": {},
   "source": [
    "## PYNQ-Z1 Constraints File\n",
    "using same one as in **Project 1: 1 Switch 1 LED**: `constrs_S0L0.xdc`"
   ]
  },
  {
   "cell_type": "markdown",
   "metadata": {},
   "source": [
    "## Board Verification"
   ]
  },
  {
   "cell_type": "code",
   "execution_count": null,
   "metadata": {},
   "outputs": [],
   "source": []
  },
  {
   "cell_type": "markdown",
   "metadata": {},
   "source": [
    "# Project 3: Countdown\n",
    "From https://timetoexplore.net/blog/arty-fpga-verilog-02 utilizes a counter that each led samples the bits at different locations to create various rate pulsed leds "
   ]
  },
  {
   "cell_type": "markdown",
   "metadata": {},
   "source": [
    "## myHDL Code"
   ]
  },
  {
   "cell_type": "code",
   "execution_count": 15,
   "metadata": {},
   "outputs": [],
   "source": [
    "@block\n",
    "def countLED(clk, led):\n",
    "    \"\"\"\n",
    "    FPGA Hello world of counter sampled led pulsing from\n",
    "    https://timetoexplore.net/blog/arty-fpga-verilog-02\n",
    "    \n",
    "    Target:\n",
    "        ZYNQ 7000 Board (Arty, PYNQ-Z1, PYNQ-Z2) with at least 2 \n",
    "        switchs and 4 leds\n",
    "    \n",
    "    \n",
    "    Input:\n",
    "        clk(bool): clock input    \n",
    "    Ouput:\n",
    "        led(4bitVec): led output to PYNQ-Z1/2 (ect.)\n",
    "        \n",
    "    \"\"\"\n",
    "    counter=Signal(modbv(0)[33:])\n",
    "    \n",
    "    @always(clk.posedge)\n",
    "    def logic():\n",
    "        counter.next=counter+1\n",
    "        led.next[0]=counter[26]\n",
    "        led.next[1]=counter[24]\n",
    "        led.next[2]=counter[22]\n",
    "        led.next[3]=counter[20]\n",
    "    \n",
    "    return instances()"
   ]
  },
  {
   "cell_type": "markdown",
   "metadata": {},
   "source": [
    "## myHDL Testing (Needs Improvements)"
   ]
  },
  {
   "cell_type": "code",
   "execution_count": 16,
   "metadata": {},
   "outputs": [
    {
     "data": {
      "text/plain": [
       "''"
      ]
     },
     "execution_count": 16,
     "metadata": {},
     "output_type": "execute_result"
    }
   ],
   "source": [
    "Peeker.clear()\n",
    "clk=Signal(bool(0)); Peeker(clk, 'clk')\n",
    "led=Signal(intbv(0)[4:]); Peeker(led, 'led')\n",
    "\n",
    "\n",
    "DUT=countLED(clk, led)\n",
    "\n",
    "#testbench it too slow as it\n",
    "'''\n",
    "def countLED_TB():\n",
    "    \"\"\"\n",
    "    myHDL only Testbench for `countLED`\n",
    "    \"\"\"\n",
    "    \n",
    "    @always(delay(1))\n",
    "    def ClkGen():\n",
    "        clk.next=not clk\n",
    "        \n",
    "    @instance\n",
    "    def stimules():\n",
    "        i=0\n",
    "        while True:\n",
    "            if i==2**33:\n",
    "                raise StopSimulation()\n",
    "            if 1%100==0:\n",
    "                print(i)\n",
    "            i+=1\n",
    "            yield clk.posedge\n",
    "    \n",
    "    return instances()\n",
    "            \n",
    "sim=Simulation(DUT, countLED_TB(), *Peeker.instances()).run()\n",
    "'''\n",
    ";"
   ]
  },
  {
   "cell_type": "markdown",
   "metadata": {},
   "source": [
    "Need to figure out how to write/run these long simulations better in python "
   ]
  },
  {
   "cell_type": "markdown",
   "metadata": {},
   "source": [
    "## Verilog Code"
   ]
  },
  {
   "cell_type": "code",
   "execution_count": 17,
   "metadata": {},
   "outputs": [
    {
     "name": "stdout",
     "output_type": "stream",
     "text": [
      "***Verilog modual from countLED.v***\n",
      "\n",
      " // File: countLED.v\n",
      "// Generated by MyHDL 0.10\n",
      "// Date: Mon Aug 20 12:44:11 2018\n",
      "\n",
      "\n",
      "`timescale 1ns/10ps\n",
      "\n",
      "module countLED (\n",
      "    clk,\n",
      "    led\n",
      ");\n",
      "// FPGA Hello world of counter sampled led pulsing from\n",
      "// https://timetoexplore.net/blog/arty-fpga-verilog-02\n",
      "// \n",
      "// Target:\n",
      "//     ZYNQ 7000 Board (Arty, PYNQ-Z1, PYNQ-Z2) with at least 2 \n",
      "//     switchs and 4 leds\n",
      "// \n",
      "// \n",
      "// Input:\n",
      "//     clk(bool): clock input    \n",
      "// Ouput:\n",
      "//     led(4bitVec): led output to PYNQ-Z1/2 (ect.)\n",
      "//     \n",
      "\n",
      "input clk;\n",
      "output [3:0] led;\n",
      "reg [3:0] led;\n",
      "\n",
      "reg [32:0] counter = 0;\n",
      "\n",
      "\n",
      "\n",
      "always @(posedge clk) begin: COUNTLED_LOGIC\n",
      "    counter <= (counter + 1);\n",
      "    led[0] <= counter[26];\n",
      "    led[1] <= counter[24];\n",
      "    led[2] <= counter[22];\n",
      "    led[3] <= counter[20];\n",
      "end\n",
      "\n",
      "endmodule\n",
      "\n"
     ]
    }
   ],
   "source": [
    "DUT.convert()\n",
    "VerilogTextReader('countLED');"
   ]
  },
  {
   "cell_type": "markdown",
   "metadata": {},
   "source": [
    "\\begin{figure}\n",
    "\\centerline{\\includegraphics[width=10cm]{countLEDRTL.png}}\n",
    "\\caption{\\label{fig:countLEDRTL} countLED RTL schematic; Xilinx Vivado 2017.4}\n",
    "\\end{figure}"
   ]
  },
  {
   "cell_type": "markdown",
   "metadata": {},
   "source": [
    "\\begin{figure}\n",
    "\\centerline{\\includegraphics[width=10cm]{countLEDSYN.png}}\n",
    "\\caption{\\label{fig:countLEDSYN} countLED Synthesized Schematic; Xilinx Vivado 2017.4}\n",
    "\\end{figure}"
   ]
  },
  {
   "cell_type": "markdown",
   "metadata": {},
   "source": [
    "\\begin{figure}\n",
    "\\centerline{\\includegraphics[width=10cm]{countLEDIMP.png}}\n",
    "\\caption{\\label{fig:countLEDSYN} countLED Implementated Schematic; Xilinx Vivado 2017.4}\n",
    "\\end{figure}"
   ]
  },
  {
   "cell_type": "markdown",
   "metadata": {},
   "source": [
    "## Verilog Testbench"
   ]
  },
  {
   "cell_type": "markdown",
   "metadata": {},
   "source": [
    "### Conversion Issue \n",
    "`2**33` was converted literally to `2**33` in the resulting Verilog code instead of `8589934592` as it should have been"
   ]
  },
  {
   "cell_type": "code",
   "execution_count": 18,
   "metadata": {},
   "outputs": [
    {
     "name": "stdout",
     "output_type": "stream",
     "text": [
      "<class 'myhdl._Signal._Signal'> <class '_ast.Name'>\n",
      "<class 'myhdl._Signal._Signal'> <class '_ast.Name'>\n",
      "***Verilog modual from countLED_TBV.v***\n",
      "\n",
      " // File: countLED_TBV.v\n",
      "// Generated by MyHDL 0.10\n",
      "// Date: Mon Aug 20 12:44:19 2018\n",
      "\n",
      "\n",
      "`timescale 1ns/10ps\n",
      "\n",
      "module countLED_TBV (\n",
      "\n",
      ");\n",
      "// myHDL -> Verilog Testbench for `countLED`\n",
      "// Note:\n",
      "//     Need to improve this testbench\n",
      "\n",
      "\n",
      "reg clk = 0;\n",
      "reg [3:0] led = 0;\n",
      "reg [32:0] countLED0_0_counter = 0;\n",
      "\n",
      "\n",
      "\n",
      "always @(led, clk) begin: COUNTLED_TBV_PRINT_DATA\n",
      "    $write(\"%h\", clk);\n",
      "    $write(\" \");\n",
      "    $write(\"%h\", led);\n",
      "    $write(\"\\n\");\n",
      "end\n",
      "\n",
      "\n",
      "always @(posedge clk) begin: COUNTLED_TBV_COUNTLED0_0_LOGIC\n",
      "    countLED0_0_counter <= (countLED0_0_counter + 1);\n",
      "    led[0] <= countLED0_0_counter[26];\n",
      "    led[1] <= countLED0_0_counter[24];\n",
      "    led[2] <= countLED0_0_counter[22];\n",
      "    led[3] <= countLED0_0_counter[20];\n",
      "end\n",
      "\n",
      "\n",
      "initial begin: COUNTLED_TBV_CLK_SIGNAL\n",
      "    while (1'b1) begin\n",
      "        clk <= (!clk);\n",
      "        # 1;\n",
      "    end\n",
      "end\n",
      "\n",
      "\n",
      "initial begin: COUNTLED_TBV_STIMULES\n",
      "    integer i;\n",
      "    i = 0;\n",
      "    while (1'b1) begin\n",
      "        if ((i == 35'h200000000)) begin\n",
      "            $finish;\n",
      "        end\n",
      "        i = i + 1;\n",
      "        @(posedge clk);\n",
      "    end\n",
      "end\n",
      "\n",
      "endmodule\n",
      "\n"
     ]
    }
   ],
   "source": [
    "@block\n",
    "def countLED_TBV():\n",
    "    \"\"\"\n",
    "    myHDL -> Verilog Testbench for `countLED`\n",
    "    Note:\n",
    "        Need to improve this testbench\n",
    "    \"\"\"\n",
    "    clk=Signal(bool(0))\n",
    "    led=Signal(intbv(0)[4:])\n",
    "    \n",
    "    @always_comb\n",
    "    def print_data():\n",
    "        print(clk, led)\n",
    "\n",
    "    DUT=countLED(clk, led)\n",
    "\n",
    "    @instance\n",
    "    def clk_signal():\n",
    "        while True:\n",
    "            clk.next = not clk\n",
    "            yield delay(1)\n",
    "   \n",
    "        \n",
    "    @instance\n",
    "    def stimules():\n",
    "        i=0\n",
    "        while True:\n",
    "            if i==8589934592:\n",
    "                raise StopSimulation()\n",
    "            \n",
    "            i+=1\n",
    "            yield clk.posedge\n",
    "    \n",
    "    return instances()\n",
    "            \n",
    "TB=countLED_TBV()\n",
    "TB.convert(hdl=\"Verilog\", initial_values=True)\n",
    "VerilogTextReader('countLED_TBV');"
   ]
  },
  {
   "cell_type": "markdown",
   "metadata": {},
   "source": [
    "## PYNQ-Z1 Constraints File\n",
    "Below is what is found in file `constrs_countLED.xdc`\n",
    "\n",
    "Notice that the original port names found in the PYNQ-Z1 Constraints file have been changed to the port names in the module `countLED`"
   ]
  },
  {
   "cell_type": "raw",
   "metadata": {},
   "source": [
    "## PYNQ-Z1 Board Constraints for countLED.v\n",
    "## Based on https://github.com/Xilinx/PYNQ/blob/master/sdbuild/boot_configs/Pynq-Z1-defconfig/constraints.xdc\n",
    "\n",
    "## Clock signal 125 MHz\n",
    "\n",
    "set_property -dict { PACKAGE_PIN H16   IOSTANDARD LVCMOS33 } [get_ports { clk }]; #IO_L13P_T2_MRCC_35 Sch=clk\n",
    "create_clock -add -name sys_clk_pin -period 10.00 -waveform {0 5} [get_ports { clk }];\n",
    "\n",
    "\n",
    "\n",
    "##LEDs\n",
    "set_property -dict {PACKAGE_PIN R14 IOSTANDARD LVCMOS33} [get_ports {led[0]}]\n",
    "set_property -dict {PACKAGE_PIN P14 IOSTANDARD LVCMOS33} [get_ports {led[1]}]\n",
    "set_property -dict {PACKAGE_PIN N16 IOSTANDARD LVCMOS33} [get_ports {led[2]}]\n",
    "set_property -dict {PACKAGE_PIN M14 IOSTANDARD LVCMOS33} [get_ports {led[3]}]"
   ]
  },
  {
   "cell_type": "markdown",
   "metadata": {},
   "source": [
    "## Board Verification\n",
    "https://www.youtube.com/watch?v=NXNtvBghVcI"
   ]
  },
  {
   "cell_type": "markdown",
   "metadata": {},
   "source": [
    "# Project 4: Basic Duty Cycle\n",
    "From https://timetoexplore.net/blog/arty-fpga-verilog-02 , this example utilizes the basic duty cycle on/off from an internal counter to dim the LEDs"
   ]
  },
  {
   "cell_type": "markdown",
   "metadata": {},
   "source": [
    "## myHDL Code"
   ]
  },
  {
   "cell_type": "code",
   "execution_count": 19,
   "metadata": {},
   "outputs": [],
   "source": [
    "@block\n",
    "def BDCLed(clk, led):\n",
    "    \"\"\"\n",
    "    FPGA Hello world of counter duty cycle led brightness control\n",
    "    https://timetoexplore.net/blog/arty-fpga-verilog-02\n",
    "    \n",
    "    Target:\n",
    "        ZYNQ 7000 Board (Arty, PYNQ-Z1, PYNQ-Z2) with at least 4 leds\n",
    "    \n",
    "    \n",
    "    Input:\n",
    "        clk(bool): clock input    \n",
    "    Ouput:\n",
    "        led(4bitVec): led output to PYNQ-Z1/2 (ect.)\n",
    "        \n",
    "    \"\"\"\n",
    "    counter=Signal(modbv(0)[8:])\n",
    "    duty_led=Signal(modbv(8)[8:])\n",
    "    \n",
    "    @always(clk.posedge)\n",
    "    def logic():\n",
    "        counter.next=counter+1\n",
    "        if counter<duty_led:\n",
    "            led.next=15\n",
    "        else:\n",
    "            led.next=0\n",
    "    \n",
    "    return instances()"
   ]
  },
  {
   "cell_type": "markdown",
   "metadata": {},
   "source": [
    "## myHDL Testing"
   ]
  },
  {
   "cell_type": "code",
   "execution_count": 20,
   "metadata": {},
   "outputs": [],
   "source": [
    "Peeker.clear()\n",
    "clk=Signal(bool(0)); Peeker(clk, 'clk')\n",
    "led=Signal(intbv(0)[4:]); Peeker(led, 'led')\n",
    "\n",
    "DUT=BDCLed(clk, led)\n",
    "    \n",
    "def BDCLed_TB():\n",
    "    \"\"\"\n",
    "    myHDL only Testbench for `BDCLed`\n",
    "    \"\"\"\n",
    "    \n",
    "    @always(delay(1))\n",
    "    def ClkGen():\n",
    "        clk.next=not clk\n",
    "        \n",
    "    @instance\n",
    "    def stimules():\n",
    "        i=0\n",
    "        while True:\n",
    "            if i==1000:\n",
    "                raise StopSimulation()\n",
    "            i+=1\n",
    "            yield clk.posedge\n",
    "    \n",
    "    return instances()\n",
    "            \n",
    "sim=Simulation(DUT, BDCLed_TB(), *Peeker.instances()).run()"
   ]
  },
  {
   "cell_type": "code",
   "execution_count": 21,
   "metadata": {},
   "outputs": [
    {
     "data": {
      "text/html": [
       "<div><script type=\"WaveDrom\">{\"signal\": [{\"name\": \"clk\", \"wave\": \"0101010101010101010101010101010101010101010101010101010101010101010101010101010101010101010101010101010101010101010101010101010101010101010101010101010101010101010101010101010101010101010101010101010101010101010101010101010101010101010101010101010101010101010101010101010101010101010101010101010101010101010101010101010101010101010101010101010101010101010101010101010101010101010101010101010101010101010101010101010101010101010101010101010101010101010101010101010101010101010101010101010101010101010101010101010101010101010101010101010101010101010101010101010101010101010101010101010101010101010101010101010101010101010101010101010101010101010101010101010101010101010101010101010101010101010101010101010101010101010101010101010101010101010101010101010101010101010101010101010101010101010101010101010101010101010101010101010101010101010101010101010101010101010101010101010101010101010101010101010101010101010101010101010101010101010101010101010101010101010101010101010101010101010101010101010101010101010101010101010101010101010101010101010101010101010101010101010101010101010101010101010101010101010101010101010101010101010101010101010101010101010101010101010101010101010101010101010101010101010101010101010101010101010101010101010101010101010101010101010101010101010101010101010101010101010101010101010101010101010101010101010101010101010101010101010101010101010101010101010101010101010101010101010101010101010101010101010101010101010101010101010101010101010101010101010101010101010101010101010101010101010101010101010101010101010101010101010101010101010101010101010101010101010101010101010101010101010101010101010101010101010101010101010101010101010101010101010101010101010101010101010101010101010101010101010101010101010101010101010101010101010101010101010101010101010101010101010101010101010101010101010101010101010101010101010101010101010101010101010101010101010101010101010101010101010101010101010101010101010101010101010101010101010101010101010101010101010101010101010101010101010101010101010\"}, {\"name\": \"led\", \"wave\": \"==...............=...............................................................................................................................................................................................................................................................................................................................................................................................................................................................................................................=...............=...............................................................................................................................................................................................................................................................................................................................................................................................................................................................................................................=...............=...............................................................................................................................................................................................................................................................................................................................................................................................................................................................................................................=...............=.............................................................................................................................................................................................................................................................................................................................................................................................................................................................\", \"data\": [\"0\", \"f\", \"0\", \"f\", \"0\", \"f\", \"0\", \"f\", \"0\"]}]}</script></div>"
      ]
     },
     "metadata": {},
     "output_type": "display_data"
    },
    {
     "data": {
      "application/javascript": [
       "$.getScript(\"http://wavedrom.com/wavedrom.min.js\", function () {\n",
       "$.getScript(\"http://wavedrom.com/skins/default.js\", function () {\n",
       "WaveDrom.ProcessAll();});\n",
       "});\n"
      ]
     },
     "metadata": {},
     "output_type": "display_data"
    }
   ],
   "source": [
    "Peeker.to_wavedrom()"
   ]
  },
  {
   "cell_type": "code",
   "execution_count": 22,
   "metadata": {},
   "outputs": [
    {
     "data": {
      "image/png": "[encoded data removed]",
      "text/plain": [
       "<matplotlib.figure.Figure at 0x7f0bf7c016a0>"
      ]
     },
     "metadata": {},
     "output_type": "display_data"
    }
   ],
   "source": [
    "BDCLedData=Peeker.to_dataframe()\n",
    "BDCLedData=BDCLedData[BDCLedData['clk']==1]\n",
    "BDCLedData.reset_index(drop=True, inplace=True)\n",
    "BDCLedData.plot(y='led', title='led cycle on time');"
   ]
  },
  {
   "cell_type": "markdown",
   "metadata": {},
   "source": [
    "## Verilog Code"
   ]
  },
  {
   "cell_type": "code",
   "execution_count": 23,
   "metadata": {},
   "outputs": [
    {
     "name": "stdout",
     "output_type": "stream",
     "text": [
      "***Verilog modual from BDCLed.v***\n",
      "\n",
      " // File: BDCLed.v\n",
      "// Generated by MyHDL 0.10\n",
      "// Date: Mon Aug 20 12:44:39 2018\n",
      "\n",
      "\n",
      "`timescale 1ns/10ps\n",
      "\n",
      "module BDCLed (\n",
      "    clk,\n",
      "    led\n",
      ");\n",
      "// FPGA Hello world of counter duty cycle led brightness control\n",
      "// https://timetoexplore.net/blog/arty-fpga-verilog-02\n",
      "// \n",
      "// Target:\n",
      "//     ZYNQ 7000 Board (Arty, PYNQ-Z1, PYNQ-Z2) with at least 4 leds\n",
      "// \n",
      "// \n",
      "// Input:\n",
      "//     clk(bool): clock input    \n",
      "// Ouput:\n",
      "//     led(4bitVec): led output to PYNQ-Z1/2 (ect.)\n",
      "//     \n",
      "\n",
      "input clk;\n",
      "output [3:0] led;\n",
      "reg [3:0] led;\n",
      "\n",
      "wire [7:0] duty_led;\n",
      "reg [7:0] counter = 0;\n",
      "\n",
      "assign duty_led = 8'd8;\n",
      "\n",
      "\n",
      "always @(posedge clk) begin: BDCLED_LOGIC\n",
      "    counter <= (counter + 1);\n",
      "    if ((counter < duty_led)) begin\n",
      "        led <= 15;\n",
      "    end\n",
      "    else begin\n",
      "        led <= 0;\n",
      "    end\n",
      "end\n",
      "\n",
      "endmodule\n",
      "\n"
     ]
    },
    {
     "name": "stderr",
     "output_type": "stream",
     "text": [
      "/home/iridium/anaconda3/lib/python3.6/site-packages/myhdl/conversion/_toVerilog.py:349: ToVerilogWarning: Signal is not driven: duty_led\n",
      "  category=ToVerilogWarning\n"
     ]
    }
   ],
   "source": [
    "DUT.convert()\n",
    "VerilogTextReader('BDCLed');"
   ]
  },
  {
   "cell_type": "markdown",
   "metadata": {},
   "source": [
    "\\begin{figure}\n",
    "\\centerline{\\includegraphics[width=10cm]{BDCLed_RTL.png}}\n",
    "\\caption{\\label{fig:BDCLedRTL} BDCLed RTL schematic; Xilinx Vivado 2017.4}\n",
    "\\end{figure}"
   ]
  },
  {
   "cell_type": "markdown",
   "metadata": {},
   "source": [
    "\\begin{figure}\n",
    "\\centerline{\\includegraphics[width=10cm]{BDCLed_SYN.png}}\n",
    "\\caption{\\label{fig:BDCLedSYN} BDCLed Synthesized Schematic; Xilinx Vivado 2017.4}\n",
    "\\end{figure}"
   ]
  },
  {
   "cell_type": "markdown",
   "metadata": {},
   "source": [
    "\\begin{figure}\n",
    "\\centerline{\\includegraphics[width=10cm]{BDCLed_IMP.png}}\n",
    "\\caption{\\label{fig:BDCLedSYN} BDCLed Implementated Schematic; Xilinx Vivado 2017.4}\n",
    "\\end{figure}"
   ]
  },
  {
   "cell_type": "markdown",
   "metadata": {},
   "source": [
    "## PYNQ-Z1 Constraints File\n",
    "uses the same constraint file `constrs_countLED.xdc` as the project **Project 3: Countdown**"
   ]
  },
  {
   "cell_type": "markdown",
   "metadata": {},
   "source": [
    "## Verilog Testbench"
   ]
  },
  {
   "cell_type": "code",
   "execution_count": 24,
   "metadata": {},
   "outputs": [
    {
     "name": "stdout",
     "output_type": "stream",
     "text": [
      "<class 'myhdl._Signal._Signal'> <class '_ast.Name'>\n",
      "<class 'myhdl._Signal._Signal'> <class '_ast.Name'>\n",
      "<class 'myhdl._Signal._Signal'> <class '_ast.Name'>\n",
      "***Verilog modual from BDCLed_TBV.v***\n",
      "\n",
      " // File: BDCLed_TBV.v\n",
      "// Generated by MyHDL 0.10\n",
      "// Date: Mon Aug 20 12:45:05 2018\n",
      "\n",
      "\n",
      "`timescale 1ns/10ps\n",
      "\n",
      "module BDCLed_TBV (\n",
      "\n",
      ");\n",
      "// myHDL -> Verilog Testbench for `BDCLed`\n",
      "\n",
      "\n",
      "reg clk = 0;\n",
      "wire [1:0] sw;\n",
      "reg [3:0] led = 0;\n",
      "wire [7:0] BDCLed0_0_duty_led;\n",
      "reg [7:0] BDCLed0_0_counter = 0;\n",
      "\n",
      "assign sw = 2'd0;\n",
      "assign BDCLed0_0_duty_led = 8'd8;\n",
      "\n",
      "\n",
      "always @(led, sw, clk) begin: BDCLED_TBV_PRINT_DATA\n",
      "    $write(\"%h\", sw);\n",
      "    $write(\" \");\n",
      "    $write(\"%h\", clk);\n",
      "    $write(\" \");\n",
      "    $write(\"%h\", led);\n",
      "    $write(\"\\n\");\n",
      "end\n",
      "\n",
      "\n",
      "always @(posedge clk) begin: BDCLED_TBV_BDCLED0_0_LOGIC\n",
      "    BDCLed0_0_counter <= (BDCLed0_0_counter + 1);\n",
      "    if ((BDCLed0_0_counter < BDCLed0_0_duty_led)) begin\n",
      "        led <= 15;\n",
      "    end\n",
      "    else begin\n",
      "        led <= 0;\n",
      "    end\n",
      "end\n",
      "\n",
      "\n",
      "initial begin: BDCLED_TBV_CLK_SIGNAL\n",
      "    while (1'b1) begin\n",
      "        clk <= (!clk);\n",
      "        # 1;\n",
      "    end\n",
      "end\n",
      "\n",
      "\n",
      "initial begin: BDCLED_TBV_STIMULES\n",
      "    integer i;\n",
      "    i = 0;\n",
      "    while (1'b1) begin\n",
      "        if ((i == 1000)) begin\n",
      "            $finish;\n",
      "        end\n",
      "        i = i + 1;\n",
      "        @(posedge clk);\n",
      "    end\n",
      "end\n",
      "\n",
      "endmodule\n",
      "\n"
     ]
    },
    {
     "name": "stderr",
     "output_type": "stream",
     "text": [
      "/home/iridium/anaconda3/lib/python3.6/site-packages/myhdl/conversion/_toVerilog.py:349: ToVerilogWarning: Signal is not driven: sw\n",
      "  category=ToVerilogWarning\n",
      "/home/iridium/anaconda3/lib/python3.6/site-packages/myhdl/conversion/_toVerilog.py:349: ToVerilogWarning: Signal is not driven: BDCLed0_0_duty_led\n",
      "  category=ToVerilogWarning\n"
     ]
    }
   ],
   "source": [
    "@block\n",
    "def BDCLed_TBV():\n",
    "    \"\"\"\n",
    "    myHDL -> Verilog Testbench for `BDCLed`\n",
    "    \"\"\"\n",
    "\n",
    "    clk=Signal(bool(0))\n",
    "    led=Signal(intbv(0)[4:])\n",
    "    \n",
    "    @always_comb\n",
    "    def print_data():\n",
    "        print(sw, clk, led)\n",
    "\n",
    "    DUT=BDCLed(clk, led)\n",
    "    \n",
    "    \n",
    "    @instance\n",
    "    def clk_signal():\n",
    "        while True:\n",
    "            clk.next = not clk\n",
    "            yield delay(1)\n",
    "        \n",
    "    @instance\n",
    "    def stimules():\n",
    "        i=0\n",
    "        while True:\n",
    "            if i==1000:\n",
    "                raise StopSimulation()\n",
    "            i+=1\n",
    "            yield clk.posedge\n",
    "    \n",
    "    return instances()\n",
    "            \n",
    "TB=BDCLed_TBV()\n",
    "TB.convert(hdl=\"Verilog\", initial_values=True)\n",
    "VerilogTextReader('BDCLed_TBV');"
   ]
  },
  {
   "cell_type": "markdown",
   "metadata": {},
   "source": [
    "## Board Verification\n",
    "https://www.youtube.com/watch?v=iL0Y0j9dEnE"
   ]
  },
  {
   "cell_type": "markdown",
   "metadata": {},
   "source": [
    "# Project 5: Mid-level pwm LED\n",
    "From https://timetoexplore.net/blog/arty-fpga-verilog-02 creates a mildly complex Pulse Width Modulator (pwm) module to then be deployed in a top module counter/assignment module to create various level pwm brightness for each of the LEDs"
   ]
  },
  {
   "cell_type": "markdown",
   "metadata": {},
   "source": [
    "### pwm myHDL Code"
   ]
  },
  {
   "cell_type": "code",
   "execution_count": 25,
   "metadata": {},
   "outputs": [],
   "source": [
    "@block\n",
    "def pwm(clk, dutyCount, ofState):\n",
    "    \"\"\"\n",
    "    pwm module\n",
    "    \n",
    "    Inputs:\n",
    "        clk(bool): clock\n",
    "        dutyCount(bitVec): clock cycle percent on time value\n",
    "        using an 8Bit internal counter\n",
    "        \n",
    "    Ouputs:\n",
    "        ofState(bool): on/off state signal of the PWM\n",
    "    \n",
    "    \"\"\"\n",
    "    counter=Signal(modbv(0)[8:])\n",
    "    \n",
    "    @always(clk.posedge)\n",
    "    def logic():\n",
    "        counter.next=counter+1\n",
    "        ofState.next=counter<dutyCount\n",
    "    \n",
    "    return instances()"
   ]
  },
  {
   "cell_type": "markdown",
   "metadata": {},
   "source": [
    "### pwm myHDL Testing"
   ]
  },
  {
   "cell_type": "code",
   "execution_count": 26,
   "metadata": {},
   "outputs": [],
   "source": [
    "Peeker.clear()\n",
    "\n",
    "clk=Signal(bool(0)); Peeker(clk, 'clk')\n",
    "dutyCount=Signal(intbv(0)[8:]); Peeker(dutyCount, 'dutyCount')\n",
    "ofState=Signal(bool(0)); Peeker(ofState, 'ofState')\n",
    "\n",
    "DUT=pwm(clk, dutyCount, ofState)\n",
    "\n",
    "def pwm_TB():\n",
    "    \"\"\"\n",
    "    myHDL only Testbench for `pwm`\n",
    "    \"\"\"\n",
    "    \n",
    "    @always(delay(1))\n",
    "    def ClkGen():\n",
    "        clk.next=not clk\n",
    "        \n",
    "    @instance\n",
    "    def stimules():\n",
    "        i=0\n",
    "        while True:\n",
    "            if i==5:\n",
    "                dutyCount.next=20\n",
    "            elif i==45:\n",
    "                dutyCount.next=80\n",
    "            elif i==100:\n",
    "                raise StopSimulation()\n",
    "            i+=1\n",
    "            yield clk.posedge\n",
    "    \n",
    "    return instances()\n",
    "\n",
    "sim=Simulation(DUT, pwm_TB(), *Peeker.instances()).run()"
   ]
  },
  {
   "cell_type": "code",
   "execution_count": 27,
   "metadata": {},
   "outputs": [
    {
     "data": {
      "text/html": [
       "<div><script type=\"WaveDrom\">{\"signal\": [{\"name\": \"clk\", \"wave\": \"0101010101010101010101010101010101010101010101010101010101010101010101010101010101010101010101010101010101010101010101010101010101010101010101010101010101010101010101010101010101010101010101010101010\"}, {\"name\": \"dutyCount\", \"wave\": \"=........=...............................................................................=.............................................................................................................\", \"data\": [\"0\", \"14\", \"50\"]}, {\"name\": \"ofState\", \"wave\": \"0..........1.............................0.................................................1.....................................................................0.....................................\"}]}</script></div>"
      ]
     },
     "metadata": {},
     "output_type": "display_data"
    },
    {
     "data": {
      "application/javascript": [
       "$.getScript(\"http://wavedrom.com/wavedrom.min.js\", function () {\n",
       "$.getScript(\"http://wavedrom.com/skins/default.js\", function () {\n",
       "WaveDrom.ProcessAll();});\n",
       "});\n"
      ]
     },
     "metadata": {},
     "output_type": "display_data"
    }
   ],
   "source": [
    "Peeker.to_wavedrom()"
   ]
  },
  {
   "cell_type": "code",
   "execution_count": 28,
   "metadata": {},
   "outputs": [
    {
     "data": {
      "image/png": "[encoded data removed]",
      "text/plain": [
       "<matplotlib.figure.Figure at 0x7f0bf0dfa160>"
      ]
     },
     "metadata": {},
     "output_type": "display_data"
    }
   ],
   "source": [
    "pwmData=Peeker.to_dataframe()\n",
    "pwmData=pwmData[pwmData['clk']==1]\n",
    "pwmData.reset_index(drop=True, inplace=True)\n",
    "pwmData.plot(y=['dutyCount', 'ofState'], title='pwm on/off vs duty cycle');"
   ]
  },
  {
   "cell_type": "markdown",
   "metadata": {},
   "source": [
    "### pwm Verilog Code"
   ]
  },
  {
   "cell_type": "code",
   "execution_count": 29,
   "metadata": {},
   "outputs": [
    {
     "name": "stdout",
     "output_type": "stream",
     "text": [
      "***Verilog modual from pwm.v***\n",
      "\n",
      " // File: pwm.v\n",
      "// Generated by MyHDL 0.10\n",
      "// Date: Mon Aug 20 12:45:49 2018\n",
      "\n",
      "\n",
      "`timescale 1ns/10ps\n",
      "\n",
      "module pwm (\n",
      "    clk,\n",
      "    dutyCount,\n",
      "    ofState\n",
      ");\n",
      "// pwm module\n",
      "// \n",
      "// Inputs:\n",
      "//     clk(bool): clock\n",
      "//     dutyCount(bitVec): clock cycle percent on time value\n",
      "//     using an 8Bit internal counter\n",
      "//     \n",
      "// Ouputs:\n",
      "//     ofState(bool): on/off state signal of the PWM\n",
      "\n",
      "input clk;\n",
      "input [7:0] dutyCount;\n",
      "output ofState;\n",
      "reg ofState;\n",
      "\n",
      "reg [7:0] counter = 0;\n",
      "\n",
      "\n",
      "\n",
      "always @(posedge clk) begin: PWM_LOGIC\n",
      "    counter <= (counter + 1);\n",
      "    ofState <= (counter < dutyCount);\n",
      "end\n",
      "\n",
      "endmodule\n",
      "\n"
     ]
    }
   ],
   "source": [
    "DUT.convert()\n",
    "VerilogTextReader('pwm');"
   ]
  },
  {
   "cell_type": "markdown",
   "metadata": {},
   "source": [
    "\\begin{figure}\n",
    "\\centerline{\\includegraphics[width=10cm]{pwm_RTL.png}}\n",
    "\\caption{\\label{fig:pwmRTL} pwm RTL schematic; Xilinx Vivado 2017.4}\n",
    "\\end{figure}"
   ]
  },
  {
   "cell_type": "markdown",
   "metadata": {},
   "source": [
    "\\begin{figure}\n",
    "\\centerline{\\includegraphics[width=10cm]{pwm_SYN.png}}\n",
    "\\caption{\\label{fig:pwmSYN} pwm Synthesized Schematic; Xilinx Vivado 2017.4}\n",
    "\\end{figure}"
   ]
  },
  {
   "cell_type": "markdown",
   "metadata": {},
   "source": [
    "### pwm PYNQ-Z1 Constraints File\n",
    "this module is a sup module and therefore was not taken beyond synthesis and thus has no constraint file"
   ]
  },
  {
   "cell_type": "markdown",
   "metadata": {},
   "source": [
    "### pwm Verilog Testbench"
   ]
  },
  {
   "cell_type": "code",
   "execution_count": 30,
   "metadata": {},
   "outputs": [
    {
     "name": "stdout",
     "output_type": "stream",
     "text": [
      "<class 'myhdl._Signal._Signal'> <class '_ast.Name'>\n",
      "<class 'myhdl._Signal._Signal'> <class '_ast.Name'>\n",
      "<class 'myhdl._Signal._Signal'> <class '_ast.Name'>\n",
      "***Verilog modual from pwm_TBV.v***\n",
      "\n",
      " // File: pwm_TBV.v\n",
      "// Generated by MyHDL 0.10\n",
      "// Date: Mon Aug 20 12:45:58 2018\n",
      "\n",
      "\n",
      "`timescale 1ns/10ps\n",
      "\n",
      "module pwm_TBV (\n",
      "\n",
      ");\n",
      "// myHDL-> Verilog Testbench for `pwm`\n",
      "\n",
      "\n",
      "reg clk = 0;\n",
      "reg [7:0] dutyCount = 0;\n",
      "reg ofState = 0;\n",
      "reg [7:0] pwm0_0_counter = 0;\n",
      "\n",
      "\n",
      "\n",
      "always @(dutyCount, ofState, clk) begin: PWM_TBV_PRINT_DATA\n",
      "    $write(\"%h\", clk);\n",
      "    $write(\" \");\n",
      "    $write(\"%h\", dutyCount);\n",
      "    $write(\" \");\n",
      "    $write(\"%h\", ofState);\n",
      "    $write(\"\\n\");\n",
      "end\n",
      "\n",
      "\n",
      "always @(posedge clk) begin: PWM_TBV_PWM0_0_LOGIC\n",
      "    pwm0_0_counter <= (pwm0_0_counter + 1);\n",
      "    ofState <= (pwm0_0_counter < dutyCount);\n",
      "end\n",
      "\n",
      "\n",
      "initial begin: PWM_TBV_CLK_SIGNAL\n",
      "    while (1'b1) begin\n",
      "        clk <= (!clk);\n",
      "        # 1;\n",
      "    end\n",
      "end\n",
      "\n",
      "\n",
      "initial begin: PWM_TBV_STIMULES\n",
      "    integer i;\n",
      "    i = 0;\n",
      "    while (1'b1) begin\n",
      "        case (i)\n",
      "            'h5: begin\n",
      "                dutyCount <= 20;\n",
      "            end\n",
      "            'h2d: begin\n",
      "                dutyCount <= 80;\n",
      "            end\n",
      "            'h64: begin\n",
      "                $finish;\n",
      "            end\n",
      "            default: begin\n",
      "                // pass\n",
      "            end\n",
      "        endcase\n",
      "        i = i + 1;\n",
      "        @(posedge clk);\n",
      "    end\n",
      "end\n",
      "\n",
      "endmodule\n",
      "\n"
     ]
    }
   ],
   "source": [
    "@block\n",
    "def pwm_TBV():\n",
    "    \"\"\"\n",
    "    myHDL-> Verilog Testbench for `pwm`\n",
    "    \"\"\"\n",
    "\n",
    "    clk=Signal(bool(0))\n",
    "    dutyCount=Signal(intbv(0)[8:])\n",
    "    ofState=Signal(bool(0))\n",
    "    \n",
    "    @always_comb\n",
    "    def print_data():\n",
    "        print(clk, dutyCount, ofState)\n",
    "\n",
    "    DUT=pwm(clk, dutyCount, ofState)\n",
    "    \n",
    "    @instance\n",
    "    def clk_signal():\n",
    "        while True:\n",
    "            clk.next = not clk\n",
    "            yield delay(1)\n",
    "        \n",
    "    @instance\n",
    "    def stimules():\n",
    "        i=0\n",
    "        while True:\n",
    "            if i==5:\n",
    "                dutyCount.next=20\n",
    "            elif i==45:\n",
    "                dutyCount.next=80\n",
    "            elif i==100:\n",
    "                raise StopSimulation()\n",
    "            else:\n",
    "                pass\n",
    "            i+=1\n",
    "            yield clk.posedge\n",
    "    \n",
    "    return instances()\n",
    "\n",
    "TB=pwm_TBV()\n",
    "TB.convert(hdl=\"Verilog\", initial_values=True)\n",
    "VerilogTextReader('pwm_TBV');"
   ]
  },
  {
   "cell_type": "markdown",
   "metadata": {},
   "source": [
    "## top myHDL Code"
   ]
  },
  {
   "cell_type": "code",
   "execution_count": 31,
   "metadata": {},
   "outputs": [],
   "source": [
    "@block\n",
    "def top(clk, led):\n",
    "    \"\"\"\n",
    "    FPGA Hello world multible pwm duty cycle controled leds\n",
    "    https://timetoexplore.net/blog/arty-fpga-verilog-02\n",
    "    \n",
    "    Target:\n",
    "        ZYNQ 7000 Board (Arty, PYNQ-Z1, PYNQ-Z2) with at least 4 leds\n",
    "    \n",
    "    \n",
    "    Input:\n",
    "        clk(bool): clock input    \n",
    "    Ouput:\n",
    "        led(4bitVec): led output to PYNQ-Z1/2 (ect.)\n",
    "        \n",
    "    \"\"\"\n",
    "    led_i=[Signal(bool(0)) for _ in range(4)]\n",
    "    pwmled0=pwm(clk=clk, dutyCount=Signal(intbv(4)[8:]), ofState=led_i[0])\n",
    "    pwmled1=pwm(clk=clk, dutyCount=Signal(intbv(16)[8:]), ofState=led_i[1])\n",
    "    pwmled2=pwm(clk=clk, dutyCount=Signal(intbv(64)[8:]), ofState=led_i[2])\n",
    "    pwmled3=pwm(clk=clk, dutyCount=Signal(intbv(255)[8:]), ofState=led_i[3])\n",
    "    \n",
    "    @always_comb\n",
    "    def ouputBuffer():\n",
    "        led.next=concat(led_i[3], led_i[2], led_i[1], led_i[0])\n",
    "    return instances()"
   ]
  },
  {
   "cell_type": "markdown",
   "metadata": {},
   "source": [
    "## myHDL Testing"
   ]
  },
  {
   "cell_type": "code",
   "execution_count": 32,
   "metadata": {},
   "outputs": [],
   "source": [
    "Peeker.clear()\n",
    "clk=Signal(bool(0)); Peeker(clk, 'clk')\n",
    "led=Signal(intbv(0)[4:]); Peeker(led, 'led')\n",
    "\n",
    "DUT=top(clk, led)\n",
    "\n",
    "\n",
    "def top_TB():\n",
    "    \"\"\"\n",
    "    myHDL only Testbench for `top`\n",
    "    \"\"\"\n",
    "    @always(delay(1))\n",
    "    def ClkGen():\n",
    "        clk.next=not clk\n",
    "        \n",
    "    @instance\n",
    "    def stimules():\n",
    "        i=0\n",
    "        while True:\n",
    "            if i==1000:\n",
    "                raise StopSimulation()\n",
    "            i+=1\n",
    "            yield clk.posedge\n",
    "    \n",
    "    return instances()\n",
    "\n",
    "sim=Simulation(DUT, top_TB(), *Peeker.instances()).run()"
   ]
  },
  {
   "cell_type": "code",
   "execution_count": 33,
   "metadata": {},
   "outputs": [
    {
     "data": {
      "text/html": [
       "<div><script type=\"WaveDrom\">{\"signal\": [{\"name\": \"clk\", \"wave\": \"0101010101010101010101010101010101010101010101010101010101010101010101010101010101010101010101010101010101010101010101010101010101010101010101010101010101010101010101010101010101010101010101010101010101010101010101010101010101010101010101010101010101010101010101010101010101010101010101010101010101010101010101010101010101010101010101010101010101010101010101010101010101010101010101010101010101010101010101010101010101010101010101010101010101010101010101010101010101010101010101010101010101010101010101010101010101010101010101010101010101010101010101010101010101010101010101010101010101010101010101010101010101010101010101010101010101010101010101010101010101010101010101010101010101010101010101010101010101010101010101010101010101010101010101010101010101010101010101010101010101010101010101010101010101010101010101010101010101010101010101010101010101010101010101010101010101010101010101010101010101010101010101010101010101010101010101010101010101010101010101010101010101010101010101010101010101010101010101010101010101010101010101010101010101010101010101010101010101010101010101010101010101010101010101010101010101010101010101010101010101010101010101010101010101010101010101010101010101010101010101010101010101010101010101010101010101010101010101010101010101010101010101010101010101010101010101010101010101010101010101010101010101010101010101010101010101010101010101010101010101010101010101010101010101010101010101010101010101010101010101010101010101010101010101010101010101010101010101010101010101010101010101010101010101010101010101010101010101010101010101010101010101010101010101010101010101010101010101010101010101010101010101010101010101010101010101010101010101010101010101010101010101010101010101010101010101010101010101010101010101010101010101010101010101010101010101010101010101010101010101010101010101010101010101010101010101010101010101010101010101010101010101010101010101010101010101010101010101010101010101010101010101010101010101010101010101010101010101010101010101010101010101010101010\"}, {\"name\": \"led\", \"wave\": \"==.......=.......................=...............................................................................................=.............................................................................................................................................................................................................................................................................................................................................................................................=.=.......=.......................=...............................................................................................=.............................................................................................................................................................................................................................................................................................................................................................................................=.=.......=.......................=...............................................................................................=.............................................................................................................................................................................................................................................................................................................................................................................................=.=.......=.......................=...............................................................................................=.............................................................................................................................................................................................................................................................................................................................................\", \"data\": [\"0\", \"f\", \"e\", \"c\", \"8\", \"0\", \"f\", \"e\", \"c\", \"8\", \"0\", \"f\", \"e\", \"c\", \"8\", \"0\", \"f\", \"e\", \"c\", \"8\"]}]}</script></div>"
      ]
     },
     "metadata": {},
     "output_type": "display_data"
    },
    {
     "data": {
      "application/javascript": [
       "$.getScript(\"http://wavedrom.com/wavedrom.min.js\", function () {\n",
       "$.getScript(\"http://wavedrom.com/skins/default.js\", function () {\n",
       "WaveDrom.ProcessAll();});\n",
       "});\n"
      ]
     },
     "metadata": {},
     "output_type": "display_data"
    }
   ],
   "source": [
    "Peeker.to_wavedrom()"
   ]
  },
  {
   "cell_type": "code",
   "execution_count": 34,
   "metadata": {},
   "outputs": [
    {
     "data": {
      "image/png": "[encoded data removed]",
      "text/plain": [
       "<matplotlib.figure.Figure at 0x7f0bf0d86da0>"
      ]
     },
     "metadata": {},
     "output_type": "display_data"
    }
   ],
   "source": [
    "topData=Peeker.to_dataframe()\n",
    "topData=topData[topData['clk']==1]\n",
    "topData.reset_index(drop=True, inplace=True)\n",
    "topData.plot(y='led', title='LED bitvector vs time');"
   ]
  },
  {
   "cell_type": "markdown",
   "metadata": {},
   "source": [
    "## Verilog Code"
   ]
  },
  {
   "cell_type": "code",
   "execution_count": 35,
   "metadata": {},
   "outputs": [
    {
     "name": "stdout",
     "output_type": "stream",
     "text": [
      "***Verilog modual from top.v***\n",
      "\n",
      " // File: top.v\n",
      "// Generated by MyHDL 0.10\n",
      "// Date: Mon Aug 20 12:46:43 2018\n",
      "\n",
      "\n",
      "`timescale 1ns/10ps\n",
      "\n",
      "module top (\n",
      "    clk,\n",
      "    led\n",
      ");\n",
      "// FPGA Hello world multible pwm duty cycle controled leds\n",
      "// https://timetoexplore.net/blog/arty-fpga-verilog-02\n",
      "// \n",
      "// Target:\n",
      "//     ZYNQ 7000 Board (Arty, PYNQ-Z1, PYNQ-Z2) with at least 4 leds\n",
      "// \n",
      "// \n",
      "// Input:\n",
      "//     clk(bool): clock input    \n",
      "// Ouput:\n",
      "//     led(4bitVec): led output to PYNQ-Z1/2 (ect.)\n",
      "//     \n",
      "\n",
      "input clk;\n",
      "output [3:0] led;\n",
      "wire [3:0] led;\n",
      "\n",
      "wire [7:0] pwm0_0_1_dutyCount;\n",
      "reg [7:0] pwm0_0_1_counter = 0;\n",
      "wire [7:0] pwm1_0_dutyCount;\n",
      "reg [7:0] pwm1_0_counter = 0;\n",
      "wire [7:0] pwm2_dutyCount;\n",
      "reg [7:0] pwm2_counter = 0;\n",
      "wire [7:0] pwm3_dutyCount;\n",
      "reg [7:0] pwm3_counter = 0;\n",
      "reg led_i [0:4-1];\n",
      "\n",
      "initial begin: INITIALIZE_LED_I\n",
      "    integer i;\n",
      "    for(i=0; i<4; i=i+1) begin\n",
      "        led_i[i] = 0;\n",
      "    end\n",
      "end\n",
      "\n",
      "\n",
      "assign pwm0_0_1_dutyCount = 8'd4;\n",
      "assign pwm1_0_dutyCount = 8'd16;\n",
      "assign pwm2_dutyCount = 8'd64;\n",
      "assign pwm3_dutyCount = 8'd255;\n",
      "\n",
      "\n",
      "always @(posedge clk) begin: TOP_PWM0_0_1_LOGIC\n",
      "    pwm0_0_1_counter <= (pwm0_0_1_counter + 1);\n",
      "    led_i[0] <= (pwm0_0_1_counter < pwm0_0_1_dutyCount);\n",
      "end\n",
      "\n",
      "\n",
      "always @(posedge clk) begin: TOP_PWM1_0_LOGIC\n",
      "    pwm1_0_counter <= (pwm1_0_counter + 1);\n",
      "    led_i[1] <= (pwm1_0_counter < pwm1_0_dutyCount);\n",
      "end\n",
      "\n",
      "\n",
      "always @(posedge clk) begin: TOP_PWM2_LOGIC\n",
      "    pwm2_counter <= (pwm2_counter + 1);\n",
      "    led_i[2] <= (pwm2_counter < pwm2_dutyCount);\n",
      "end\n",
      "\n",
      "\n",
      "always @(posedge clk) begin: TOP_PWM3_LOGIC\n",
      "    pwm3_counter <= (pwm3_counter + 1);\n",
      "    led_i[3] <= (pwm3_counter < pwm3_dutyCount);\n",
      "end\n",
      "\n",
      "\n",
      "\n",
      "assign led = {led_i[3], led_i[2], led_i[1], led_i[0]};\n",
      "\n",
      "endmodule\n",
      "\n"
     ]
    },
    {
     "name": "stderr",
     "output_type": "stream",
     "text": [
      "/home/iridium/anaconda3/lib/python3.6/site-packages/myhdl/conversion/_toVerilog.py:349: ToVerilogWarning: Signal is not driven: pwm0_0_1_dutyCount\n",
      "  category=ToVerilogWarning\n",
      "/home/iridium/anaconda3/lib/python3.6/site-packages/myhdl/conversion/_toVerilog.py:349: ToVerilogWarning: Signal is not driven: pwm1_0_dutyCount\n",
      "  category=ToVerilogWarning\n",
      "/home/iridium/anaconda3/lib/python3.6/site-packages/myhdl/conversion/_toVerilog.py:349: ToVerilogWarning: Signal is not driven: pwm2_dutyCount\n",
      "  category=ToVerilogWarning\n",
      "/home/iridium/anaconda3/lib/python3.6/site-packages/myhdl/conversion/_toVerilog.py:349: ToVerilogWarning: Signal is not driven: pwm3_dutyCount\n",
      "  category=ToVerilogWarning\n"
     ]
    }
   ],
   "source": [
    "DUT.convert()\n",
    "VerilogTextReader('top');"
   ]
  },
  {
   "cell_type": "markdown",
   "metadata": {},
   "source": [
    "\\begin{figure}\n",
    "\\centerline{\\includegraphics[width=10cm]{top_RTL.png}}\n",
    "\\caption{\\label{fig:topRTL} top RTL schematic; Xilinx Vivado 2017.4}\n",
    "\\end{figure}"
   ]
  },
  {
   "cell_type": "markdown",
   "metadata": {},
   "source": [
    "\\begin{figure}\n",
    "\\centerline{\\includegraphics[width=10cm]{top_SYN.png}}\n",
    "\\caption{\\label{fig:topSYN} top Synthesized Schematic; Xilinx Vivado 2017.4}\n",
    "\\end{figure}"
   ]
  },
  {
   "cell_type": "markdown",
   "metadata": {},
   "source": [
    "\\begin{figure}\n",
    "\\centerline{\\includegraphics[width=10cm]{top_IMP.png}}\n",
    "\\caption{\\label{fig:topSYN} top Implementated Schematic; Xilinx Vivado 2017.4}\n",
    "\\end{figure}"
   ]
  },
  {
   "cell_type": "markdown",
   "metadata": {},
   "source": [
    "## PYNQ-Z1 Constraints File\n",
    "uses the same constraint file `constrs_countLED.xdc` as the project **Project 3: Countdown**"
   ]
  },
  {
   "cell_type": "markdown",
   "metadata": {},
   "source": [
    "## Verilog Testbench"
   ]
  },
  {
   "cell_type": "code",
   "execution_count": 36,
   "metadata": {},
   "outputs": [
    {
     "name": "stdout",
     "output_type": "stream",
     "text": [
      "<class 'myhdl._Signal._Signal'> <class '_ast.Name'>\n",
      "<class 'myhdl._Signal._Signal'> <class '_ast.Name'>\n",
      "***Verilog modual from top_TBV.v***\n",
      "\n",
      " // File: top_TBV.v\n",
      "// Generated by MyHDL 0.10\n",
      "// Date: Mon Aug 20 12:46:54 2018\n",
      "\n",
      "\n",
      "`timescale 1ns/10ps\n",
      "\n",
      "module top_TBV (\n",
      "\n",
      ");\n",
      "// myHDL -> Verilog Testbench for `top`\n",
      "\n",
      "\n",
      "reg clk = 0;\n",
      "wire [3:0] led;\n",
      "wire [7:0] top0_0_pwm0_0_1_2_dutyCount;\n",
      "reg [7:0] top0_0_pwm0_0_1_2_counter = 0;\n",
      "wire [7:0] top0_0_pwm1_0_1_dutyCount;\n",
      "reg [7:0] top0_0_pwm1_0_1_counter = 0;\n",
      "wire [7:0] top0_0_pwm2_0_dutyCount;\n",
      "reg [7:0] top0_0_pwm2_0_counter = 0;\n",
      "wire [7:0] top0_0_pwm3_0_dutyCount;\n",
      "reg [7:0] top0_0_pwm3_0_counter = 0;\n",
      "reg top0_0_led_i [0:4-1];\n",
      "\n",
      "initial begin: INITIALIZE_TOP0_0_LED_I\n",
      "    integer i;\n",
      "    for(i=0; i<4; i=i+1) begin\n",
      "        top0_0_led_i[i] = 0;\n",
      "    end\n",
      "end\n",
      "\n",
      "\n",
      "assign top0_0_pwm0_0_1_2_dutyCount = 8'd4;\n",
      "assign top0_0_pwm1_0_1_dutyCount = 8'd16;\n",
      "assign top0_0_pwm2_0_dutyCount = 8'd64;\n",
      "assign top0_0_pwm3_0_dutyCount = 8'd255;\n",
      "\n",
      "\n",
      "always @(led, clk) begin: TOP_TBV_PRINT_DATA\n",
      "    $write(\"%h\", clk);\n",
      "    $write(\" \");\n",
      "    $write(\"%h\", led);\n",
      "    $write(\"\\n\");\n",
      "end\n",
      "\n",
      "\n",
      "always @(posedge clk) begin: TOP_TBV_TOP0_0_PWM0_0_1_2_LOGIC\n",
      "    top0_0_pwm0_0_1_2_counter <= (top0_0_pwm0_0_1_2_counter + 1);\n",
      "    top0_0_led_i[0] <= (top0_0_pwm0_0_1_2_counter < top0_0_pwm0_0_1_2_dutyCount);\n",
      "end\n",
      "\n",
      "\n",
      "always @(posedge clk) begin: TOP_TBV_TOP0_0_PWM1_0_1_LOGIC\n",
      "    top0_0_pwm1_0_1_counter <= (top0_0_pwm1_0_1_counter + 1);\n",
      "    top0_0_led_i[1] <= (top0_0_pwm1_0_1_counter < top0_0_pwm1_0_1_dutyCount);\n",
      "end\n",
      "\n",
      "\n",
      "always @(posedge clk) begin: TOP_TBV_TOP0_0_PWM2_0_LOGIC\n",
      "    top0_0_pwm2_0_counter <= (top0_0_pwm2_0_counter + 1);\n",
      "    top0_0_led_i[2] <= (top0_0_pwm2_0_counter < top0_0_pwm2_0_dutyCount);\n",
      "end\n",
      "\n",
      "\n",
      "always @(posedge clk) begin: TOP_TBV_TOP0_0_PWM3_0_LOGIC\n",
      "    top0_0_pwm3_0_counter <= (top0_0_pwm3_0_counter + 1);\n",
      "    top0_0_led_i[3] <= (top0_0_pwm3_0_counter < top0_0_pwm3_0_dutyCount);\n",
      "end\n",
      "\n",
      "\n",
      "\n",
      "assign led = {top0_0_led_i[3], top0_0_led_i[2], top0_0_led_i[1], top0_0_led_i[0]};\n",
      "\n",
      "\n",
      "initial begin: TOP_TBV_CLK_SIGNAL\n",
      "    while (1'b1) begin\n",
      "        clk <= (!clk);\n",
      "        # 1;\n",
      "    end\n",
      "end\n",
      "\n",
      "\n",
      "initial begin: TOP_TBV_STIMULES\n",
      "    integer i;\n",
      "    i = 0;\n",
      "    while (1'b1) begin\n",
      "        if ((i == 1000)) begin\n",
      "            $finish;\n",
      "        end\n",
      "        i = i + 1;\n",
      "        @(posedge clk);\n",
      "    end\n",
      "end\n",
      "\n",
      "endmodule\n",
      "\n"
     ]
    },
    {
     "name": "stderr",
     "output_type": "stream",
     "text": [
      "/home/iridium/anaconda3/lib/python3.6/site-packages/myhdl/conversion/_toVerilog.py:349: ToVerilogWarning: Signal is not driven: top0_0_pwm0_0_1_2_dutyCount\n",
      "  category=ToVerilogWarning\n",
      "/home/iridium/anaconda3/lib/python3.6/site-packages/myhdl/conversion/_toVerilog.py:349: ToVerilogWarning: Signal is not driven: top0_0_pwm1_0_1_dutyCount\n",
      "  category=ToVerilogWarning\n",
      "/home/iridium/anaconda3/lib/python3.6/site-packages/myhdl/conversion/_toVerilog.py:349: ToVerilogWarning: Signal is not driven: top0_0_pwm2_0_dutyCount\n",
      "  category=ToVerilogWarning\n",
      "/home/iridium/anaconda3/lib/python3.6/site-packages/myhdl/conversion/_toVerilog.py:349: ToVerilogWarning: Signal is not driven: top0_0_pwm3_0_dutyCount\n",
      "  category=ToVerilogWarning\n"
     ]
    }
   ],
   "source": [
    "@block\n",
    "def top_TBV():\n",
    "    \"\"\"\n",
    "    myHDL -> Verilog Testbench for `top`\n",
    "    \"\"\"\n",
    "\n",
    "    clk=Signal(bool(0))\n",
    "    led=Signal(intbv(0)[4:])\n",
    "    \n",
    "    @always_comb\n",
    "    def print_data():\n",
    "        print(clk, led)\n",
    "\n",
    "    DUT=top(clk, led)\n",
    "    \n",
    "    @instance\n",
    "    def clk_signal():\n",
    "        while True:\n",
    "            clk.next = not clk\n",
    "            yield delay(1)\n",
    "        \n",
    "    @instance\n",
    "    def stimules():\n",
    "        i=0\n",
    "        while True:\n",
    "            if i==1000:\n",
    "                raise StopSimulation()\n",
    "            \n",
    "            i+=1\n",
    "            yield clk.posedge\n",
    "    \n",
    "    return instances()\n",
    "\n",
    "TB=top_TBV()\n",
    "TB.convert(hdl=\"Verilog\", initial_values=True)\n",
    "VerilogTextReader('top_TBV');"
   ]
  },
  {
   "cell_type": "markdown",
   "metadata": {},
   "source": [
    "## Board Verification\n",
    "https://www.youtube.com/watch?v=DN-Hrm7YbpQ"
   ]
  }
 ],
 "metadata": {
  "author": "<em>myHDL</em> to <em>PYNQ-Z1/2</em> Fabric Only Examples",
  "hide_input": false,
  "kernelspec": {
   "display_name": "Python 3",
   "language": "python",
   "name": "python3"
  },
  "language_info": {
   "codemirror_mode": {
    "name": "ipython",
    "version": 3
   },
   "file_extension": ".py",
   "mimetype": "text/x-python",
   "name": "python",
   "nbconvert_exporter": "python",
   "pygments_lexer": "ipython3",
   "version": "3.6.2"
  },
  "latex_envs": {
   "LaTeX_envs_menu_present": true,
   "autoclose": false,
   "autocomplete": true,
   "bibliofile": "biblio.bib",
   "cite_by": "apalike",
   "current_citInitial": 1,
   "eqLabelWithNumbers": true,
   "eqNumInitial": 1,
   "hotkeys": {
    "equation": "Ctrl-E",
    "itemize": "Ctrl-I"
   },
   "labels_anchors": false,
   "latex_user_defs": false,
   "report_style_numbering": false,
   "user_envs_cfg": false
  },
  "toc": {
   "nav_menu": {},
   "number_sections": true,
   "sideBar": true,
   "skip_h1_title": false,
   "toc_cell": true,
   "toc_position": {
    "height": "641px",
    "left": "0px",
    "right": "1533.47px",
    "top": "184px",
    "width": "212px"
   },
   "toc_section_display": true,
   "toc_window_display": false
  }
 },
 "nbformat": 4,
 "nbformat_minor": 2
}
