{
 "cells": [
  {
   "cell_type": "markdown",
   "metadata": {},
   "source": [
    "\\title{Creating an IP Block for use in the PYNQ-Z1 using MyHDL}\n",
    "\\author{Steven K Armour}\n",
    "\\maketitle"
   ]
  },
  {
   "cell_type": "markdown",
   "metadata": {},
   "source": [
    "# Referainces\n",
    "Vivado 2015.2 CUSTOM IP PART I - Creating and Packaging Your IP Vivado\n",
    "https://www.youtube.com/watch?v=BEQXV3eAZNs\n",
    "\n",
    "Creating a Custom IP core using the IP Integrator\n",
    "https://reference.digilentinc.com/learn/programmable-logic/tutorials/zybo-creating-custom-ip-cores/start\n",
    "\n",
    "Johnson Counter\n",
    "http://www.myhdl.org/docs/examples/jc2.html\n",
    "\n"
   ]
  },
  {
   "cell_type": "markdown",
   "metadata": {},
   "source": [
    "# Introduction\n",
    "This is a training project to demonstrate the use of MyHDL in making the core logic for new IP block. How to then Package the core logic into an IP using Xilinx's IP Packager. And finally how t then integrate all the work this far into an overlay for the PYNQ-Z1 BOard and writing a PYNQ Python Instruction set."
   ]
  },
  {
   "cell_type": "markdown",
   "metadata": {},
   "source": [
    "The So-Called spec. for this will be to implement a 4Bit Johnson Counter (Shift Regester) on the PYNQ-Z1 Board with outputs to the LEDs LD 3-0 (the leads found above the push buttons on the bottom left of the board). With shifting at ~60Hz. And with co Hardware and Software directional control. Where the Software control will be injected into the AXI Bus via PYNQ. And the Hardware Controls will be implemented via the switches SW1-0 on the PYNQ-Z1 (the push switches to the left of the afforded mentioned push buttons). Where the Software and Hardware controls are codominant via the latest version in the input of each interface against it previous state will then take control of the shift direction"
   ]
  },
  {
   "cell_type": "markdown",
   "metadata": {},
   "source": [
    "In other words, if the switches are changed to an allowable state before a change to the AXI then the new input of the switches will then set the direction of the Johnson Counter. And *vice versa* such that if the switches are left to alone and a new (allowable) direction signal is sent to the AXI then the new AXI input will set the direction."
   ]
  },
  {
   "cell_type": "markdown",
   "metadata": {},
   "source": [
    "To implement this we will create three Verilog modules in myHDL and test them. Then there confirmed Verilog code will be synthesized to Verilog. Following that a new Viviado project will be started targeting the PYNQ-Z1 board will have the Verilog code added to. This will be followed by creating an IP block that will hold the Johnson counter and the AXI/Switch control code. From this, the final book design will be implemented and the overlay synthesized. Finally, the resulting overlay will be uploaded to the board and a Python PYNQ class will write to control the board via AXI alongside with the switch control"
   ]
  },
  {
   "cell_type": "markdown",
   "metadata": {},
   "source": [
    "# Creating the HDL Code"
   ]
  },
  {
   "cell_type": "markdown",
   "metadata": {},
   "source": [
    "the following assumes that you have some exposure to python and the jupyter notebook. And better yet myHDL. \n",
    "\n",
    "Import the necessary python modules."
   ]
  },
  {
   "cell_type": "code",
   "execution_count": 1,
   "metadata": {},
   "outputs": [],
   "source": [
    "from myhdl import *\n",
    "import numpy as np\n",
    "from myhdlpeek import Peeker\n",
    "import random"
   ]
  },
  {
   "cell_type": "markdown",
   "metadata": {},
   "source": [
    "## The first module\n",
    "The first HDL module that will be developed is the one to decreases the 100MHz clock from the ZYNQ on the PYNQ-Z1 to a ~60Hz clock. This is needed to that the output of the upcoming Johnson counter will be human readable."
   ]
  },
  {
   "cell_type": "markdown",
   "metadata": {},
   "source": [
    "In order to slow the clock we will create a incremental register HDL Module `SlowClock` that for every clock cycle of the ZYNQ will increment a set length register by one till it "
   ]
  },
  {
   "cell_type": "code",
   "execution_count": 6,
   "metadata": {},
   "outputs": [],
   "source": [
    "#I have to figure out why the 13 bit reg works and not the 21 calculted\n",
    "Base=100e6; Target=60"
   ]
  },
  {
   "cell_type": "code",
   "execution_count": 19,
   "metadata": {},
   "outputs": [],
   "source": [
    "RegWidth=15"
   ]
  },
  {
   "cell_type": "markdown",
   "metadata": {},
   "source": [
    "The following is the code for `SlowClock` "
   ]
  },
  {
   "cell_type": "code",
   "execution_count": 20,
   "metadata": {},
   "outputs": [],
   "source": [
    "def SlowClock(FastClk, SlowClk, RegWidthParm, rst):\n",
    "    #I, O, P, O\n",
    "    \n",
    "    #overflow counter creation\n",
    "    ClkCounter=Signal(modbv(0)[RegWidthParm:])\n",
    "    \n",
    "    #logic\n",
    "    @always(FastClk.posedge, rst.negedge)\n",
    "    def logic():\n",
    "        #reset code\n",
    "        if rst:\n",
    "            ClkCounter.next=0\n",
    "        \n",
    "        else:\n",
    "            # the overflow to triger the slow output\n",
    "            if ClkCounter==2**RegWidthParm-1:\n",
    "                SlowClk.next=1\n",
    "            \n",
    "            #non overflow to set clock output low\n",
    "            else:\n",
    "                SlowClk.next=0\n",
    "                ClkCounter.next=ClkCounter+1\n",
    "    \n",
    "    return logic"
   ]
  },
  {
   "cell_type": "markdown",
   "metadata": {},
   "source": [
    "Next, we test `SlowClock` via the following test bench verify it does what we intended it to do. Create a slow clock output signal from the fast clock signal from the ZYNQ."
   ]
  },
  {
   "cell_type": "code",
   "execution_count": 21,
   "metadata": {},
   "outputs": [
    {
     "name": "stdout",
     "output_type": "stream",
     "text": [
      "Next\n",
      "Next\n",
      "Next\n",
      "Next\n",
      "Next\n"
     ]
    }
   ],
   "source": [
    "Peeker.clear() \n",
    "FastClk=Signal(bool(0)); Peeker(FastClk, 'Fclk')\n",
    "SlowClk=Signal(bool(0)); Peeker(SlowClk, 'Sclk')\n",
    "rst=Signal(bool(0)); Peeker(rst, 'rst')\n",
    "\n",
    "RegWidthParm=RegWidth\n",
    "\n",
    "DUT=SlowClock(FastClk=FastClk, SlowClk=SlowClk, \n",
    "              RegWidthParm=RegWidthParm, rst=rst)\n",
    "\n",
    "def SlowClock_TB():\n",
    "    \n",
    "    #need to figure this out to be the 100MHz clcok from the ZYNQ\n",
    "    @always(delay(int(0.5*1e9/Base)))\n",
    "    def clkGen():\n",
    "            FastClk.next=not FastClk\n",
    "            \n",
    "            \n",
    "    @instance\n",
    "    def stimules():\n",
    "        Store=0\n",
    "        while 1:\n",
    "            if SlowClk==1:\n",
    "                #I need to write a better test bench then this\n",
    "                print('Next')\n",
    "            Store+=int(SlowClk)\n",
    "            if Store==5:\n",
    "                raise StopSimulation\n",
    "            yield FastClk.posedge\n",
    "            \n",
    "    \n",
    "    return instances()\n",
    "sim = Simulation(DUT, SlowClock_TB(), *Peeker.instances()).run()\n"
   ]
  },
  {
   "cell_type": "markdown",
   "metadata": {},
   "source": [
    "Now that the behavior has been verified to work the myHDL code for `SlowClock` is synthesized to Verilog code `SlowClock.v` via the following"
   ]
  },
  {
   "cell_type": "code",
   "execution_count": 22,
   "metadata": {},
   "outputs": [
    {
     "data": {
      "text/plain": [
       "<myhdl._always._Always at 0x7ff1706444a8>"
      ]
     },
     "execution_count": 22,
     "metadata": {},
     "output_type": "execute_result"
    }
   ],
   "source": [
    "#need to figure out how to syth `RegWidthParm` as parmter at output\n",
    "toVerilog(SlowClock, FastClk, SlowClk, RegWidthParm, rst)"
   ]
  },
  {
   "cell_type": "markdown",
   "metadata": {},
   "source": [
    "## The Second model\n",
    "\n",
    "The second model was not developed here but instead was taken from the examples on myHDL site (http://www.myhdl.org/docs/examples/jc2.html)"
   ]
  },
  {
   "cell_type": "code",
   "execution_count": 23,
   "metadata": {},
   "outputs": [],
   "source": [
    "ACTIVE = 0\n",
    "#create the states\n",
    "DirType = enum('RIGHT', 'LEFT')\n",
    "\n",
    "def jc2(goLeft, goRight, stop, clk, q):\n",
    "\n",
    "    \"\"\" A bi-directional 4-bit Johnson counter with stop control.\n",
    "\n",
    "    I/O pins:\n",
    "    --------\n",
    "    clk      : input free-running slow clock \n",
    "    goLeft   : input signal to shift left (active-low switch)\n",
    "    goRight    : input signal to shift right (active-low switch)\n",
    "    stop     : input signal to stop counting (active-low switch)\n",
    "    q        : 4-bit counter output (active-low LEDs; q[0] is right-most)\n",
    "\n",
    "    \"\"\"\n",
    "    \n",
    "    #regesters\n",
    "    dir = Signal(DirType.LEFT)\n",
    "    run = Signal(False)\n",
    "    \n",
    "    #state machine\n",
    "    @always(clk.posedge)\n",
    "    def logic():\n",
    "        \n",
    "        #State machine logic\n",
    "        # direction\n",
    "        if goRight == ACTIVE:\n",
    "            dir.next = DirType.RIGHT\n",
    "            run.next = True\n",
    "        elif goLeft == ACTIVE:\n",
    "            dir.next = DirType.LEFT\n",
    "            run.next = True\n",
    "        # stop\n",
    "        if stop == ACTIVE:\n",
    "            run.next = False\n",
    "        #State machine ouputs\n",
    "        # counter action\n",
    "        if run:\n",
    "            if dir == DirType.LEFT:\n",
    "                q.next[4:1] = q[3:]\n",
    "                q.next[0] = not q[3]\n",
    "            else:\n",
    "                q.next[3:] = q[4:1]\n",
    "                q.next[3] = not q[0]\n",
    "\n",
    "    return logic"
   ]
  },
  {
   "cell_type": "markdown",
   "metadata": {},
   "source": [
    "The testbench is a modified version of the testbench from the `SlowClock`'s test bench and the original testbench for the Johnson counter on the myHDL site. Where we use the same simulation for the ZYNQ clock via `clkGen` but then route that clock signal from there through an instance of `SlowClock` to then to `jc2`. This is done to verify the compatibility of `SlowClock` and `jc2`."
   ]
  },
  {
   "cell_type": "code",
   "execution_count": 10,
   "metadata": {},
   "outputs": [],
   "source": [
    "ACTIVE, INACTIVE = bool(0), bool(1)\n",
    "Peeker.clear() \n",
    "FastClk=Signal(bool(0)); Peeker(FastClk, 'Fclk')\n",
    "SlowClk=Signal(bool(0)); Peeker(SlowClk, 'Sclk')\n",
    "rst=Signal(bool(0)); Peeker(rst, 'rst')\n",
    "goLeft, goRight, stop = [Signal(INACTIVE) for i in range(3)]\n",
    "q = Signal(intbv(0)[4:])\n",
    "\n",
    "def test(jc2):\n",
    "\n",
    "    \n",
    "\n",
    "    @always(delay(int(0.5*1e9/Base)))\n",
    "    def clkGen():\n",
    "            FastClk.next=not FastClk\n",
    "    \n",
    "    SlowClockInt=SlowClock(FastClk=FastClk, SlowClk=SlowClk,\n",
    "                           RegWidthParm=RegWidthParm,  rst=rst)\n",
    "\n",
    "    jc2_inst = jc2(goLeft=goLeft, goRight=goRight, stop=stop, \n",
    "                   clk=SlowClk, q=q)\n",
    "\n",
    "    @instance\n",
    "    def stimulus():\n",
    "        for i in range(3):\n",
    "            yield FastClk.negedge\n",
    "        for sig, nrcycles in ((goLeft, 10), (stop, 3), (goRight, 10)):\n",
    "            sig.next = ACTIVE\n",
    "            yield FastClk.negedge\n",
    "            sig.next = INACTIVE\n",
    "            for i in range(nrcycles-1):\n",
    "                yield FastClk.negedge\n",
    "        raise StopSimulation\n",
    "\n",
    "    @instance\n",
    "    def monitor():\n",
    "        print (\"goLeft goRight stop clk q\")\n",
    "        print (\"-------------------------\")\n",
    "        while True:\n",
    "            yield FastClk.negedge\n",
    "            yield delay(1)\n",
    "            print (\"%d %d %d\" % (goLeft, goRight, stop) ,)\n",
    "            yield FastClk.posedge\n",
    "            print (\"C\",)\n",
    "            yield delay(1)\n",
    "            print (bin(q, 4))\n",
    "\n",
    "    return clkGen, SlowClockInt, jc2_inst, stimulus, monitor"
   ]
  },
  {
   "cell_type": "code",
   "execution_count": 11,
   "metadata": {},
   "outputs": [
    {
     "name": "stdout",
     "output_type": "stream",
     "text": [
      "goLeft goRight stop clk q\n",
      "-------------------------\n",
      "1 1 1\n",
      "C\n",
      "0000\n",
      "1 1 1\n",
      "C\n",
      "0000\n",
      "0 1 1\n",
      "C\n",
      "0000\n",
      "1 1 1\n",
      "C\n",
      "0000\n",
      "1 1 1\n",
      "C\n",
      "0000\n",
      "1 1 1\n",
      "C\n",
      "0000\n",
      "1 1 1\n",
      "C\n",
      "0000\n",
      "1 1 1\n",
      "C\n",
      "0000\n",
      "1 1 1\n",
      "C\n",
      "0000\n",
      "1 1 1\n",
      "C\n",
      "0000\n",
      "1 1 1\n",
      "C\n",
      "0000\n",
      "1 1 1\n",
      "C\n",
      "0000\n",
      "1 1 0\n",
      "C\n",
      "0000\n",
      "1 1 1\n",
      "C\n",
      "0000\n",
      "1 1 1\n",
      "C\n",
      "0000\n",
      "1 0 1\n",
      "C\n",
      "0000\n",
      "1 1 1\n",
      "C\n",
      "0000\n",
      "1 1 1\n",
      "C\n",
      "0000\n",
      "1 1 1\n",
      "C\n",
      "0000\n",
      "1 1 1\n",
      "C\n",
      "0000\n",
      "1 1 1\n",
      "C\n",
      "0000\n",
      "1 1 1\n",
      "C\n",
      "0000\n",
      "1 1 1\n",
      "C\n",
      "0000\n",
      "1 1 1\n",
      "C\n",
      "0000\n",
      "1 1 1\n",
      "C\n",
      "0000\n"
     ]
    },
    {
     "data": {
      "text/plain": [
       "0"
      ]
     },
     "execution_count": 11,
     "metadata": {},
     "output_type": "execute_result"
    }
   ],
   "source": [
    "sim = Simulation(test(jc2))\n",
    "sim.run()"
   ]
  },
  {
   "cell_type": "markdown",
   "metadata": {},
   "source": [
    "here we convert the myHDL `j2c` to `j2c.v`. "
   ]
  },
  {
   "cell_type": "code",
   "execution_count": 12,
   "metadata": {},
   "outputs": [
    {
     "name": "stderr",
     "output_type": "stream",
     "text": [
      "** ToVerilogWarning: Output port is read internally: q\n"
     ]
    },
    {
     "data": {
      "text/plain": [
       "<myhdl._always._Always at 0x7f393c06e4e0>"
      ]
     },
     "execution_count": 12,
     "metadata": {},
     "output_type": "execute_result"
    }
   ],
   "source": [
    "toVerilog(jc2, goLeft, goRight, stop, SlowClk, q)"
   ]
  },
  {
   "cell_type": "markdown",
   "metadata": {},
   "source": [
    "## The third module\n",
    "This model will take in both the AXI input from one the registers as well as the SWITCH inputs and from there will compere both inputs to there the last state of input and then the newest differentiating input on one of the two lines will then be used to set the Direction outputs that will end up going the Johnson counter `jc2`"
   ]
  },
  {
   "cell_type": "code",
   "execution_count": 13,
   "metadata": {},
   "outputs": [],
   "source": [
    "def DirControl(AXIin, SWITCHin, goLeft_O, goRight_O, clk):\n",
    "    AXILast=Signal(intbv(0)[len(AXIin):])\n",
    "    SWITCHLast=Signal(intbv(0)[len(AXIin):])\n",
    "    \n",
    "    @always(clk.posedge)\n",
    "    def logic():\n",
    "        if AXIin!=AXILast:\n",
    "            AXILast.next=AXIin\n",
    "            \n",
    "            if AXIin!=0 or AXIin!=3:\n",
    "                goRight_O.next=AXIin[0]\n",
    "                goLeft_O.next=AXIin[1]\n",
    "        \n",
    "        if SWITCHin!=SWITCHLast:\n",
    "            SWITCHLast.next=SWITCHin\n",
    "        \n",
    "            if SWITCHin!=0 or SWITCHin!=3:\n",
    "                goRight_O.next=SWITCHin[0]\n",
    "                goLeft_O.next=SWITCHin[1]\n",
    "                    \n",
    "    \n",
    "    return logic\n",
    "            \n",
    "    "
   ]
  },
  {
   "cell_type": "markdown",
   "metadata": {},
   "source": [
    "The following testbench for `DirControl` is strictly for said module. "
   ]
  },
  {
   "cell_type": "code",
   "execution_count": 15,
   "metadata": {},
   "outputs": [],
   "source": [
    "Peeker.clear()\n",
    "\n",
    "AXIin=Signal(intbv(0)[32:]); Peeker(AXIin, 'AXIin')\n",
    "SWITCHin=Signal(intbv(0)[2:]); Peeker(SWITCHin, 'SWITCHin')\n",
    "goLeft_O, goRight_O=[Signal(bool(0)) for _ in range(2)]; \n",
    "Peeker(goLeft_O, 'goLeft_O'); Peeker(goRight_O, 'goRight_O')\n",
    "clk=Signal(bool(0)); Peeker(clk, 'clk')\n",
    "\n",
    "DUT=DirControl(AXIin=AXIin, SWITCHin=SWITCHin, \n",
    "               goLeft_O=goLeft_O, goRight_O=goRight_O, clk=clk)\n",
    "\n",
    "def DirControl_TB():\n",
    "    \n",
    "    @always(delay(1))\n",
    "    def clkGen():\n",
    "            clk.next=not clk\n",
    "    \n",
    "    @instance\n",
    "    def stimulint():\n",
    "        Count=0\n",
    "        while 1:\n",
    "            \n",
    "            if Count==1:\n",
    "                AXIin.next=0\n",
    "            elif Count==2:\n",
    "                SWITCHin.next=3\n",
    "            elif Count==3:\n",
    "                AXIin.next=1\n",
    "            elif Count==4:\n",
    "                SWITCHin.next=2\n",
    "            elif Count==5:\n",
    "                AXIin.next=2\n",
    "            elif Count==6:\n",
    "                SWITCHin.next=1\n",
    "            elif Count==7:\n",
    "                AXIin.next=3\n",
    "            elif Count==8:\n",
    "                SWITCHin.next=0\n",
    "            \n",
    "           \n",
    "            elif Count%4==1:\n",
    "                AXIin.next=random.randint(0, 3)\n",
    "            \n",
    "\n",
    "            elif Count%4==3:\n",
    "                SWITCHin.next=random.randint(0, 3)\n",
    "            elif Count==4*6:\n",
    "                raise StopSimulation()\n",
    "            \n",
    "            \n",
    "            \n",
    "                \n",
    "            \n",
    "            Count+=1\n",
    "            yield clk.posedge \n",
    "    \n",
    "    return instances()\n"
   ]
  },
  {
   "cell_type": "code",
   "execution_count": 16,
   "metadata": {},
   "outputs": [
    {
     "data": {
      "text/html": [
       "<div><script type=\"WaveDrom\">{\"signal\": [{\"name\": \"AXIin\", \"wave\": \"=....=...=...=...........=...............=.....\", \"data\": [\"0\", \"1\", \"2\", \"3\", \"2\", \"0\"]}, {\"name\": \"clk\", \"wave\": \"01010101010101010101010101010101010101010101010\"}, {\"name\": \"goLeft_O\", \"wave\": \"0....1.0.1...0.1.0.....1...................0...\"}, {\"name\": \"goRight_O\", \"wave\": \"0....1...0...1...0.....................1...0...\"}, {\"name\": \"SWITCHin[0]\", \"wave\": \"=..=...=...=...=.....=...............=.........\", \"data\": [\"0\", \"3\", \"2\", \"1\", \"0\", \"2\", \"3\"]}]}</script></div>"
      ]
     },
     "metadata": {},
     "output_type": "display_data"
    },
    {
     "data": {
      "application/javascript": [
       "$.getScript(\"http://wavedrom.com/wavedrom.min.js\", function () {\n",
       "$.getScript(\"http://wavedrom.com/skins/default.js\", function () {\n",
       "WaveDrom.ProcessAll();});\n",
       "});\n"
      ]
     },
     "metadata": {},
     "output_type": "display_data"
    }
   ],
   "source": [
    "sim = Simulation(DUT, DirControl_TB(), *Peeker.instances()).run()\n",
    "Peeker.to_wavedrom(tock=clk)"
   ]
  },
  {
   "cell_type": "code",
   "execution_count": 17,
   "metadata": {
    "scrolled": true
   },
   "outputs": [
    {
     "data": {
      "text/html": [
       "<table>\n",
       "<thead>\n",
       "<tr><th style=\"text-align: right;\">  Time</th><th style=\"text-align: right;\">  AXIin</th><th style=\"text-align: right;\">  SWITCHin</th><th style=\"text-align: right;\">  clk</th><th style=\"text-align: right;\">  goLeft_O</th><th style=\"text-align: right;\">  goRight_O</th></tr>\n",
       "</thead>\n",
       "<tbody>\n",
       "<tr><td style=\"text-align: right;\">     0</td><td style=\"text-align: right;\">      0</td><td style=\"text-align: right;\">         0</td><td style=\"text-align: right;\">    0</td><td style=\"text-align: right;\">         0</td><td style=\"text-align: right;\">          0</td></tr>\n",
       "<tr><td style=\"text-align: right;\">     1</td><td style=\"text-align: right;\">      0</td><td style=\"text-align: right;\">         0</td><td style=\"text-align: right;\">    1</td><td style=\"text-align: right;\">         0</td><td style=\"text-align: right;\">          0</td></tr>\n",
       "<tr><td style=\"text-align: right;\">     2</td><td style=\"text-align: right;\">      0</td><td style=\"text-align: right;\">         0</td><td style=\"text-align: right;\">    0</td><td style=\"text-align: right;\">         0</td><td style=\"text-align: right;\">          0</td></tr>\n",
       "<tr><td style=\"text-align: right;\">     3</td><td style=\"text-align: right;\">      0</td><td style=\"text-align: right;\">         3</td><td style=\"text-align: right;\">    1</td><td style=\"text-align: right;\">         0</td><td style=\"text-align: right;\">          0</td></tr>\n",
       "<tr><td style=\"text-align: right;\">     4</td><td style=\"text-align: right;\">      0</td><td style=\"text-align: right;\">         3</td><td style=\"text-align: right;\">    0</td><td style=\"text-align: right;\">         0</td><td style=\"text-align: right;\">          0</td></tr>\n",
       "<tr><td style=\"text-align: right;\">     5</td><td style=\"text-align: right;\">      1</td><td style=\"text-align: right;\">         3</td><td style=\"text-align: right;\">    1</td><td style=\"text-align: right;\">         1</td><td style=\"text-align: right;\">          1</td></tr>\n",
       "<tr><td style=\"text-align: right;\">     6</td><td style=\"text-align: right;\">      1</td><td style=\"text-align: right;\">         3</td><td style=\"text-align: right;\">    0</td><td style=\"text-align: right;\">         1</td><td style=\"text-align: right;\">          1</td></tr>\n",
       "<tr><td style=\"text-align: right;\">     7</td><td style=\"text-align: right;\">      1</td><td style=\"text-align: right;\">         2</td><td style=\"text-align: right;\">    1</td><td style=\"text-align: right;\">         0</td><td style=\"text-align: right;\">          1</td></tr>\n",
       "<tr><td style=\"text-align: right;\">     8</td><td style=\"text-align: right;\">      1</td><td style=\"text-align: right;\">         2</td><td style=\"text-align: right;\">    0</td><td style=\"text-align: right;\">         0</td><td style=\"text-align: right;\">          1</td></tr>\n",
       "<tr><td style=\"text-align: right;\">     9</td><td style=\"text-align: right;\">      2</td><td style=\"text-align: right;\">         2</td><td style=\"text-align: right;\">    1</td><td style=\"text-align: right;\">         1</td><td style=\"text-align: right;\">          0</td></tr>\n",
       "<tr><td style=\"text-align: right;\">    10</td><td style=\"text-align: right;\">      2</td><td style=\"text-align: right;\">         2</td><td style=\"text-align: right;\">    0</td><td style=\"text-align: right;\">         1</td><td style=\"text-align: right;\">          0</td></tr>\n",
       "<tr><td style=\"text-align: right;\">    11</td><td style=\"text-align: right;\">      2</td><td style=\"text-align: right;\">         1</td><td style=\"text-align: right;\">    1</td><td style=\"text-align: right;\">         1</td><td style=\"text-align: right;\">          0</td></tr>\n",
       "<tr><td style=\"text-align: right;\">    12</td><td style=\"text-align: right;\">      2</td><td style=\"text-align: right;\">         1</td><td style=\"text-align: right;\">    0</td><td style=\"text-align: right;\">         1</td><td style=\"text-align: right;\">          0</td></tr>\n",
       "<tr><td style=\"text-align: right;\">    13</td><td style=\"text-align: right;\">      3</td><td style=\"text-align: right;\">         1</td><td style=\"text-align: right;\">    1</td><td style=\"text-align: right;\">         0</td><td style=\"text-align: right;\">          1</td></tr>\n",
       "<tr><td style=\"text-align: right;\">    14</td><td style=\"text-align: right;\">      3</td><td style=\"text-align: right;\">         1</td><td style=\"text-align: right;\">    0</td><td style=\"text-align: right;\">         0</td><td style=\"text-align: right;\">          1</td></tr>\n",
       "<tr><td style=\"text-align: right;\">    15</td><td style=\"text-align: right;\">      3</td><td style=\"text-align: right;\">         0</td><td style=\"text-align: right;\">    1</td><td style=\"text-align: right;\">         1</td><td style=\"text-align: right;\">          1</td></tr>\n",
       "<tr><td style=\"text-align: right;\">    16</td><td style=\"text-align: right;\">      3</td><td style=\"text-align: right;\">         0</td><td style=\"text-align: right;\">    0</td><td style=\"text-align: right;\">         1</td><td style=\"text-align: right;\">          1</td></tr>\n",
       "<tr><td style=\"text-align: right;\">    17</td><td style=\"text-align: right;\">      3</td><td style=\"text-align: right;\">         0</td><td style=\"text-align: right;\">    1</td><td style=\"text-align: right;\">         0</td><td style=\"text-align: right;\">          0</td></tr>\n",
       "<tr><td style=\"text-align: right;\">    18</td><td style=\"text-align: right;\">      3</td><td style=\"text-align: right;\">         0</td><td style=\"text-align: right;\">    0</td><td style=\"text-align: right;\">         0</td><td style=\"text-align: right;\">          0</td></tr>\n",
       "<tr><td style=\"text-align: right;\">    19</td><td style=\"text-align: right;\">      3</td><td style=\"text-align: right;\">         0</td><td style=\"text-align: right;\">    1</td><td style=\"text-align: right;\">         0</td><td style=\"text-align: right;\">          0</td></tr>\n",
       "<tr><td style=\"text-align: right;\">    20</td><td style=\"text-align: right;\">      3</td><td style=\"text-align: right;\">         0</td><td style=\"text-align: right;\">    0</td><td style=\"text-align: right;\">         0</td><td style=\"text-align: right;\">          0</td></tr>\n",
       "<tr><td style=\"text-align: right;\">    21</td><td style=\"text-align: right;\">      3</td><td style=\"text-align: right;\">         2</td><td style=\"text-align: right;\">    1</td><td style=\"text-align: right;\">         0</td><td style=\"text-align: right;\">          0</td></tr>\n",
       "<tr><td style=\"text-align: right;\">    22</td><td style=\"text-align: right;\">      3</td><td style=\"text-align: right;\">         2</td><td style=\"text-align: right;\">    0</td><td style=\"text-align: right;\">         0</td><td style=\"text-align: right;\">          0</td></tr>\n",
       "<tr><td style=\"text-align: right;\">    23</td><td style=\"text-align: right;\">      3</td><td style=\"text-align: right;\">         2</td><td style=\"text-align: right;\">    1</td><td style=\"text-align: right;\">         1</td><td style=\"text-align: right;\">          0</td></tr>\n",
       "<tr><td style=\"text-align: right;\">    24</td><td style=\"text-align: right;\">      3</td><td style=\"text-align: right;\">         2</td><td style=\"text-align: right;\">    0</td><td style=\"text-align: right;\">         1</td><td style=\"text-align: right;\">          0</td></tr>\n",
       "<tr><td style=\"text-align: right;\">    25</td><td style=\"text-align: right;\">      2</td><td style=\"text-align: right;\">         2</td><td style=\"text-align: right;\">    1</td><td style=\"text-align: right;\">         1</td><td style=\"text-align: right;\">          0</td></tr>\n",
       "<tr><td style=\"text-align: right;\">    26</td><td style=\"text-align: right;\">      2</td><td style=\"text-align: right;\">         2</td><td style=\"text-align: right;\">    0</td><td style=\"text-align: right;\">         1</td><td style=\"text-align: right;\">          0</td></tr>\n",
       "<tr><td style=\"text-align: right;\">    27</td><td style=\"text-align: right;\">      2</td><td style=\"text-align: right;\">         2</td><td style=\"text-align: right;\">    1</td><td style=\"text-align: right;\">         1</td><td style=\"text-align: right;\">          0</td></tr>\n",
       "<tr><td style=\"text-align: right;\">    28</td><td style=\"text-align: right;\">      2</td><td style=\"text-align: right;\">         2</td><td style=\"text-align: right;\">    0</td><td style=\"text-align: right;\">         1</td><td style=\"text-align: right;\">          0</td></tr>\n",
       "<tr><td style=\"text-align: right;\">    29</td><td style=\"text-align: right;\">      2</td><td style=\"text-align: right;\">         2</td><td style=\"text-align: right;\">    1</td><td style=\"text-align: right;\">         1</td><td style=\"text-align: right;\">          0</td></tr>\n",
       "<tr><td style=\"text-align: right;\">    30</td><td style=\"text-align: right;\">      2</td><td style=\"text-align: right;\">         2</td><td style=\"text-align: right;\">    0</td><td style=\"text-align: right;\">         1</td><td style=\"text-align: right;\">          0</td></tr>\n",
       "<tr><td style=\"text-align: right;\">    31</td><td style=\"text-align: right;\">      2</td><td style=\"text-align: right;\">         2</td><td style=\"text-align: right;\">    1</td><td style=\"text-align: right;\">         1</td><td style=\"text-align: right;\">          0</td></tr>\n",
       "<tr><td style=\"text-align: right;\">    32</td><td style=\"text-align: right;\">      2</td><td style=\"text-align: right;\">         2</td><td style=\"text-align: right;\">    0</td><td style=\"text-align: right;\">         1</td><td style=\"text-align: right;\">          0</td></tr>\n",
       "<tr><td style=\"text-align: right;\">    33</td><td style=\"text-align: right;\">      2</td><td style=\"text-align: right;\">         2</td><td style=\"text-align: right;\">    1</td><td style=\"text-align: right;\">         1</td><td style=\"text-align: right;\">          0</td></tr>\n",
       "<tr><td style=\"text-align: right;\">    34</td><td style=\"text-align: right;\">      2</td><td style=\"text-align: right;\">         2</td><td style=\"text-align: right;\">    0</td><td style=\"text-align: right;\">         1</td><td style=\"text-align: right;\">          0</td></tr>\n",
       "<tr><td style=\"text-align: right;\">    35</td><td style=\"text-align: right;\">      2</td><td style=\"text-align: right;\">         2</td><td style=\"text-align: right;\">    1</td><td style=\"text-align: right;\">         1</td><td style=\"text-align: right;\">          0</td></tr>\n",
       "<tr><td style=\"text-align: right;\">    36</td><td style=\"text-align: right;\">      2</td><td style=\"text-align: right;\">         2</td><td style=\"text-align: right;\">    0</td><td style=\"text-align: right;\">         1</td><td style=\"text-align: right;\">          0</td></tr>\n",
       "<tr><td style=\"text-align: right;\">    37</td><td style=\"text-align: right;\">      2</td><td style=\"text-align: right;\">         3</td><td style=\"text-align: right;\">    1</td><td style=\"text-align: right;\">         1</td><td style=\"text-align: right;\">          0</td></tr>\n",
       "<tr><td style=\"text-align: right;\">    38</td><td style=\"text-align: right;\">      2</td><td style=\"text-align: right;\">         3</td><td style=\"text-align: right;\">    0</td><td style=\"text-align: right;\">         1</td><td style=\"text-align: right;\">          0</td></tr>\n",
       "<tr><td style=\"text-align: right;\">    39</td><td style=\"text-align: right;\">      2</td><td style=\"text-align: right;\">         3</td><td style=\"text-align: right;\">    1</td><td style=\"text-align: right;\">         1</td><td style=\"text-align: right;\">          1</td></tr>\n",
       "<tr><td style=\"text-align: right;\">    40</td><td style=\"text-align: right;\">      2</td><td style=\"text-align: right;\">         3</td><td style=\"text-align: right;\">    0</td><td style=\"text-align: right;\">         1</td><td style=\"text-align: right;\">          1</td></tr>\n",
       "<tr><td style=\"text-align: right;\">    41</td><td style=\"text-align: right;\">      0</td><td style=\"text-align: right;\">         3</td><td style=\"text-align: right;\">    1</td><td style=\"text-align: right;\">         1</td><td style=\"text-align: right;\">          1</td></tr>\n",
       "<tr><td style=\"text-align: right;\">    42</td><td style=\"text-align: right;\">      0</td><td style=\"text-align: right;\">         3</td><td style=\"text-align: right;\">    0</td><td style=\"text-align: right;\">         1</td><td style=\"text-align: right;\">          1</td></tr>\n",
       "<tr><td style=\"text-align: right;\">    43</td><td style=\"text-align: right;\">      0</td><td style=\"text-align: right;\">         3</td><td style=\"text-align: right;\">    1</td><td style=\"text-align: right;\">         0</td><td style=\"text-align: right;\">          0</td></tr>\n",
       "<tr><td style=\"text-align: right;\">    44</td><td style=\"text-align: right;\">      0</td><td style=\"text-align: right;\">         3</td><td style=\"text-align: right;\">    0</td><td style=\"text-align: right;\">         0</td><td style=\"text-align: right;\">          0</td></tr>\n",
       "<tr><td style=\"text-align: right;\">    45</td><td style=\"text-align: right;\">      0</td><td style=\"text-align: right;\">         3</td><td style=\"text-align: right;\">    1</td><td style=\"text-align: right;\">         0</td><td style=\"text-align: right;\">          0</td></tr>\n",
       "<tr><td style=\"text-align: right;\">    46</td><td style=\"text-align: right;\">      0</td><td style=\"text-align: right;\">         3</td><td style=\"text-align: right;\">    0</td><td style=\"text-align: right;\">         0</td><td style=\"text-align: right;\">          0</td></tr>\n",
       "</tbody>\n",
       "</table>"
      ]
     },
     "metadata": {},
     "output_type": "display_data"
    }
   ],
   "source": [
    "A=Peeker.to_html_table(tock=True)\n"
   ]
  },
  {
   "cell_type": "code",
   "execution_count": 18,
   "metadata": {},
   "outputs": [
    {
     "data": {
      "text/plain": [
       "<myhdl._always._Always at 0x7f393c06e780>"
      ]
     },
     "execution_count": 18,
     "metadata": {},
     "output_type": "execute_result"
    }
   ],
   "source": [
    "toVerilog(DirControl, AXIin, SWITCHin, \n",
    "               goLeft_O, goRight_O, clk)"
   ]
  },
  {
   "cell_type": "code",
   "execution_count": 24,
   "metadata": {},
   "outputs": [],
   "source": [
    "# need to write a test bench that works with all three modules"
   ]
  },
  {
   "cell_type": "markdown",
   "metadata": {},
   "source": [
    "# The Resulting IP and RTL \n",
    "The following is a UML Diagram that shows what we are ultimately going to try to wire up in Vivado from created modules `SlowClock`, `j2c`, `DirControl`.  Where `SlowClock` will be an RTL element and `j2c`, `DirControl`will be encapsulated into new IP block `j2c_ip` that will be created in Vivado via the *create and package IP* tool "
   ]
  },
  {
   "cell_type": "markdown",
   "metadata": {},
   "source": [
    "<img src=\"PYNQ_AXI_Learn_IPDiag.svg\">"
   ]
  },
  {
   "cell_type": "code",
   "execution_count": null,
   "metadata": {},
   "outputs": [],
   "source": []
  }
 ],
 "metadata": {
  "author": "Creating an IP Block for use in the PYNQ-Z1 using MyHDL",
  "kernelspec": {
   "display_name": "Python 3",
   "language": "python",
   "name": "python3"
  },
  "language_info": {
   "codemirror_mode": {
    "name": "ipython",
    "version": 3
   },
   "file_extension": ".py",
   "mimetype": "text/x-python",
   "name": "python",
   "nbconvert_exporter": "python",
   "pygments_lexer": "ipython3",
   "version": "3.6.4"
  },
  "latex_envs": {
   "LaTeX_envs_menu_present": true,
   "autocomplete": true,
   "bibliofile": "biblio.bib",
   "cite_by": "apalike",
   "current_citInitial": 1,
   "eqLabelWithNumbers": true,
   "eqNumInitial": 1,
   "hotkeys": {
    "equation": "Ctrl-E",
    "itemize": "Ctrl-I"
   },
   "labels_anchors": false,
   "latex_user_defs": false,
   "report_style_numbering": false,
   "user_envs_cfg": false
  },
  "toc": {
   "nav_menu": {},
   "number_sections": true,
   "sideBar": true,
   "skip_h1_title": false,
   "title_cell": "Table of Contents",
   "title_sidebar": "Contents",
   "toc_cell": false,
   "toc_position": {},
   "toc_section_display": true,
   "toc_window_display": false
  }
 },
 "nbformat": 4,
 "nbformat_minor": 2
}
