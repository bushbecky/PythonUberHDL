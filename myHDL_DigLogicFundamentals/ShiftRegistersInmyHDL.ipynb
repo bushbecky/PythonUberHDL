{
 "cells": [
  {
   "cell_type": "markdown",
   "metadata": {},
   "source": [
    "\\title{Shift Registers in myHDL (Draft State)}\n",
    "\\author{Steven K Armour}\n",
    "\\maketitle"
   ]
  },
  {
   "cell_type": "markdown",
   "metadata": {
    "toc": true
   },
   "source": [
    "<h1>Table of Contents<span class=\"tocSkip\"></span></h1>\n",
    "<div class=\"toc\" style=\"margin-top: 1em;\"><ul class=\"toc-item\"><li><span><a href=\"#Refrances\" data-toc-modified-id=\"Refrances-1\"><span class=\"toc-item-num\">1&nbsp;&nbsp;</span>Refrances</a></span></li><li><span><a href=\"#Libraries-and-Helper-functions\" data-toc-modified-id=\"Libraries-and-Helper-functions-2\"><span class=\"toc-item-num\">2&nbsp;&nbsp;</span>Libraries and Helper functions</a></span></li><li><span><a href=\"#myHDL-shift-and-concat-behavior\" data-toc-modified-id=\"myHDL-shift-and-concat-behavior-3\"><span class=\"toc-item-num\">3&nbsp;&nbsp;</span>myHDL shift and <code>concat</code> behavior</a></span><ul class=\"toc-item\"><li><span><a href=\"#shift-(&lt;&lt;/&gt;&gt;)-behavior\" data-toc-modified-id=\"shift-(<</>>)-behavior-3.1\"><span class=\"toc-item-num\">3.1&nbsp;&nbsp;</span>shift (<code>&lt;&lt;</code>/<code>&gt;&gt;</code>) behavior</a></span><ul class=\"toc-item\"><li><span><a href=\"#Left-Shift-(&lt;&lt;)\" data-toc-modified-id=\"Left-Shift-(<<)-3.1.1\"><span class=\"toc-item-num\">3.1.1&nbsp;&nbsp;</span>Left Shift (<code>&lt;&lt;</code>)</a></span></li><li><span><a href=\"#Right-Shift-(&gt;&gt;)\" data-toc-modified-id=\"Right-Shift-(>>)-3.1.2\"><span class=\"toc-item-num\">3.1.2&nbsp;&nbsp;</span>Right Shift (<code>&gt;&gt;</code>)</a></span></li></ul></li><li><span><a href=\"#concat-behavior\" data-toc-modified-id=\"concat-behavior-3.2\"><span class=\"toc-item-num\">3.2&nbsp;&nbsp;</span><code>concat</code> behavior</a></span></li></ul></li><li><span><a href=\"#Add-more-basic-shift-registers-here\" data-toc-modified-id=\"Add-more-basic-shift-registers-here-4\"><span class=\"toc-item-num\">4&nbsp;&nbsp;</span>Add more basic shift registers here</a></span></li><li><span><a href=\"#Johnson-Counter\" data-toc-modified-id=\"Johnson-Counter-5\"><span class=\"toc-item-num\">5&nbsp;&nbsp;</span>Johnson Counter</a></span><ul class=\"toc-item\"><li><span><a href=\"#myHDL-Testing\" data-toc-modified-id=\"myHDL-Testing-5.1\"><span class=\"toc-item-num\">5.1&nbsp;&nbsp;</span>myHDL Testing</a></span></li><li><span><a href=\"#Verilog--Code\" data-toc-modified-id=\"Verilog--Code-5.2\"><span class=\"toc-item-num\">5.2&nbsp;&nbsp;</span>Verilog  Code</a></span></li><li><span><a href=\"#Verilog-Testbench\" data-toc-modified-id=\"Verilog-Testbench-5.3\"><span class=\"toc-item-num\">5.3&nbsp;&nbsp;</span>Verilog Testbench</a></span></li></ul></li><li><span><a href=\"#Ring-Counter\" data-toc-modified-id=\"Ring-Counter-6\"><span class=\"toc-item-num\">6&nbsp;&nbsp;</span>Ring Counter</a></span></li><li><span><a href=\"#To-DO\" data-toc-modified-id=\"To-DO-7\"><span class=\"toc-item-num\">7&nbsp;&nbsp;</span>To DO</a></span><ul class=\"toc-item\"><li><span><a href=\"#prototypeing-ring-counter-sifting-mechnism-with-use-of-concat\" data-toc-modified-id=\"prototypeing-ring-counter-sifting-mechnism-with-use-of-concat-7.1\"><span class=\"toc-item-num\">7.1&nbsp;&nbsp;</span>prototypeing ring counter sifting mechnism with use of <code>concat</code></a></span></li></ul></li></ul></div>"
   ]
  },
  {
   "cell_type": "markdown",
   "metadata": {},
   "source": [
    "# Refrances\n",
    "@misc{myhdl_2017,\n",
    "title={Johnson Counter},\n",
    "url={http://www.myhdl.org/docs/examples/jc2.html},\n",
    "journal={Myhdl.org},\n",
    "author={myHDL},\n",
    "year={2017}\n",
    "}"
   ]
  },
  {
   "cell_type": "markdown",
   "metadata": {},
   "source": [
    "# Libraries and Helper functions"
   ]
  },
  {
   "cell_type": "code",
   "execution_count": 1,
   "metadata": {},
   "outputs": [
    {
     "data": {
      "application/json": {
       "Software versions": [
        {
         "module": "Python",
         "version": "3.6.2 64bit [GCC 4.4.7 20120313 (Red Hat 4.4.7-1)]"
        },
        {
         "module": "IPython",
         "version": "6.2.1"
        },
        {
         "module": "OS",
         "version": "Linux 4.15.0 30 generic x86_64 with debian stretch sid"
        },
        {
         "module": "myhdl",
         "version": "0.10"
        },
        {
         "module": "myhdlpeek",
         "version": "0.0.6"
        },
        {
         "module": "numpy",
         "version": "1.13.3"
        },
        {
         "module": "pandas",
         "version": "0.23.3"
        },
        {
         "module": "matplotlib",
         "version": "2.1.0"
        },
        {
         "module": "sympy",
         "version": "1.1.2.dev"
        },
        {
         "module": "random",
         "version": "The 'random' distribution was not found and is required by the application"
        }
       ]
      },
      "text/html": [
       "<table><tr><th>Software</th><th>Version</th></tr><tr><td>Python</td><td>3.6.2 64bit [GCC 4.4.7 20120313 (Red Hat 4.4.7-1)]</td></tr><tr><td>IPython</td><td>6.2.1</td></tr><tr><td>OS</td><td>Linux 4.15.0 30 generic x86_64 with debian stretch sid</td></tr><tr><td>myhdl</td><td>0.10</td></tr><tr><td>myhdlpeek</td><td>0.0.6</td></tr><tr><td>numpy</td><td>1.13.3</td></tr><tr><td>pandas</td><td>0.23.3</td></tr><tr><td>matplotlib</td><td>2.1.0</td></tr><tr><td>sympy</td><td>1.1.2.dev</td></tr><tr><td>random</td><td>The 'random' distribution was not found and is required by the application</td></tr><tr><td colspan='2'>Tue Aug 14 07:16:05 2018 MDT</td></tr></table>"
      ],
      "text/latex": [
       "\\begin{tabular}{|l|l|}\\hline\n",
       "{\\bf Software} & {\\bf Version} \\\\ \\hline\\hline\n",
       "Python & 3.6.2 64bit [GCC 4.4.7 20120313 (Red Hat 4.4.7-1)] \\\\ \\hline\n",
       "IPython & 6.2.1 \\\\ \\hline\n",
       "OS & Linux 4.15.0 30 generic x86\\_64 with debian stretch sid \\\\ \\hline\n",
       "myhdl & 0.10 \\\\ \\hline\n",
       "myhdlpeek & 0.0.6 \\\\ \\hline\n",
       "numpy & 1.13.3 \\\\ \\hline\n",
       "pandas & 0.23.3 \\\\ \\hline\n",
       "matplotlib & 2.1.0 \\\\ \\hline\n",
       "sympy & 1.1.2.dev \\\\ \\hline\n",
       "random & The 'random' distribution was not found and is required by the application \\\\ \\hline\n",
       "\\hline \\multicolumn{2}{|l|}{Tue Aug 14 07:16:05 2018 MDT} \\\\ \\hline\n",
       "\\end{tabular}\n"
      ],
      "text/plain": [
       "Software versions\n",
       "Python 3.6.2 64bit [GCC 4.4.7 20120313 (Red Hat 4.4.7-1)]\n",
       "IPython 6.2.1\n",
       "OS Linux 4.15.0 30 generic x86_64 with debian stretch sid\n",
       "myhdl 0.10\n",
       "myhdlpeek 0.0.6\n",
       "numpy 1.13.3\n",
       "pandas 0.23.3\n",
       "matplotlib 2.1.0\n",
       "sympy 1.1.2.dev\n",
       "random The 'random' distribution was not found and is required by the application\n",
       "Tue Aug 14 07:16:05 2018 MDT"
      ]
     },
     "execution_count": 1,
     "metadata": {},
     "output_type": "execute_result"
    }
   ],
   "source": [
    "from myhdl import *\n",
    "from myhdlpeek import Peeker\n",
    "import numpy as np\n",
    "import pandas as pd\n",
    "import matplotlib.pyplot as plt\n",
    "%matplotlib inline\n",
    "\n",
    "from sympy import *\n",
    "init_printing()\n",
    "\n",
    "import random\n",
    "\n",
    "#https://github.com/jrjohansson/version_information\n",
    "%load_ext version_information\n",
    "%version_information myhdl, myhdlpeek, numpy, pandas, matplotlib, sympy, random"
   ]
  },
  {
   "cell_type": "code",
   "execution_count": 2,
   "metadata": {},
   "outputs": [],
   "source": [
    "#helper  functions to read in the .v and .vhd generated files into python\n",
    "def VerilogTextReader(loc, printresult=True):\n",
    "    with open(f'{loc}.v', 'r') as vText:\n",
    "        VerilogText=vText.read()\n",
    "    if printresult:\n",
    "        print(f'***Verilog modual from {loc}.v***\\n\\n', VerilogText)\n",
    "    return VerilogText\n",
    "\n",
    "def VHDLTextReader(loc, printresult=True):\n",
    "    with open(f'{loc}.vhd', 'r') as vText:\n",
    "        VerilogText=vText.read()\n",
    "    if printresult:\n",
    "        print(f'***VHDL modual from {loc}.vhd***\\n\\n', VerilogText)\n",
    "    return VerilogText"
   ]
  },
  {
   "cell_type": "code",
   "execution_count": 3,
   "metadata": {},
   "outputs": [
    {
     "data": {
      "image/png": "[encoded data removed]",
      "text/latex": [
       "$$5$$"
      ],
      "text/plain": [
       "5"
      ]
     },
     "execution_count": 3,
     "metadata": {},
     "output_type": "execute_result"
    }
   ],
   "source": [
    "CountVal=17\n",
    "BitSize=int(np.log2(CountVal))+1; BitSize"
   ]
  },
  {
   "cell_type": "markdown",
   "metadata": {},
   "source": [
    "# myHDL shift and `concat` behavior"
   ]
  },
  {
   "cell_type": "markdown",
   "metadata": {},
   "source": [
    "## shift (`<<`/`>>`) behavior"
   ]
  },
  {
   "cell_type": "markdown",
   "metadata": {},
   "source": [
    "### Left Shift (`<<`)"
   ]
  },
  {
   "cell_type": "code",
   "execution_count": 4,
   "metadata": {},
   "outputs": [
    {
     "data": {
      "text/plain": [
       "'0101'"
      ]
     },
     "execution_count": 4,
     "metadata": {},
     "output_type": "execute_result"
    }
   ],
   "source": [
    "#Left Shift test with intbv\n",
    "#intialize \n",
    "q=intbv(5)[4:]\n",
    "bin(q, 4)"
   ]
  },
  {
   "cell_type": "code",
   "execution_count": 5,
   "metadata": {},
   "outputs": [
    {
     "name": "stdout",
     "output_type": "stream",
     "text": [
      "0:q=14, 10100 <class 'myhdl._intbv.intbv'>\n",
      "1:q=50, 1010000 <class 'myhdl._intbv.intbv'>\n",
      "2:q=140, 101000000 <class 'myhdl._intbv.intbv'>\n",
      "3:q=500, 10100000000 <class 'myhdl._intbv.intbv'>\n",
      "4:q=1400, 1010000000000 <class 'myhdl._intbv.intbv'>\n",
      "5:q=5000, 101000000000000 <class 'myhdl._intbv.intbv'>\n",
      "6:q=14000, 10100000000000000 <class 'myhdl._intbv.intbv'>\n",
      "7:q=50000, 1010000000000000000 <class 'myhdl._intbv.intbv'>\n",
      "8:q=140000, 101000000000000000000 <class 'myhdl._intbv.intbv'>\n"
     ]
    }
   ],
   "source": [
    "#demenstrate left shifting with intbv\n",
    "for i in range(9):\n",
    "    q=q<<2\n",
    "    print(f'{i}:q={q}, {bin(q, 4)}', type(q))"
   ]
  },
  {
   "cell_type": "code",
   "execution_count": 6,
   "metadata": {},
   "outputs": [
    {
     "data": {
      "text/plain": [
       "'0101'"
      ]
     },
     "execution_count": 6,
     "metadata": {},
     "output_type": "execute_result"
    }
   ],
   "source": [
    "#Left Shift test with modbv\n",
    "#intialize \n",
    "q=modbv(5)[4:]\n",
    "bin(q, 4)"
   ]
  },
  {
   "cell_type": "code",
   "execution_count": 7,
   "metadata": {},
   "outputs": [
    {
     "name": "stdout",
     "output_type": "stream",
     "text": [
      "0:q=14, 10100 <class 'myhdl._intbv.intbv'>\n",
      "1:q=50, 1010000 <class 'myhdl._intbv.intbv'>\n",
      "2:q=140, 101000000 <class 'myhdl._intbv.intbv'>\n",
      "3:q=500, 10100000000 <class 'myhdl._intbv.intbv'>\n",
      "4:q=1400, 1010000000000 <class 'myhdl._intbv.intbv'>\n",
      "5:q=5000, 101000000000000 <class 'myhdl._intbv.intbv'>\n",
      "6:q=14000, 10100000000000000 <class 'myhdl._intbv.intbv'>\n",
      "7:q=50000, 1010000000000000000 <class 'myhdl._intbv.intbv'>\n",
      "8:q=140000, 101000000000000000000 <class 'myhdl._intbv.intbv'>\n"
     ]
    }
   ],
   "source": [
    "#demenstrate left shifting with modbv\n",
    "for i in range(9):\n",
    "    q=q<<2\n",
    "    print(f'{i}:q={q}, {bin(q, 4)}', type(q))"
   ]
  },
  {
   "cell_type": "markdown",
   "metadata": {},
   "source": [
    "As can be seen, Left shifting tacks on a number of zeros equivalent to the shift increment to the end of the binary expression for the value. This then increases the size of the needed register that the resulting value needs to set into for each left shift that does not undergo right bit cutoff"
   ]
  },
  {
   "cell_type": "markdown",
   "metadata": {},
   "source": [
    "### Right Shift (`>>`)"
   ]
  },
  {
   "cell_type": "code",
   "execution_count": 8,
   "metadata": {},
   "outputs": [
    {
     "data": {
      "text/plain": [
       "'0101'"
      ]
     },
     "execution_count": 8,
     "metadata": {},
     "output_type": "execute_result"
    }
   ],
   "source": [
    "#Right Shift test with intbv\n",
    "#intialize \n",
    "q=intbv(5)[4:].signed()\n",
    "bin(q, 4)"
   ]
  },
  {
   "cell_type": "code",
   "execution_count": 9,
   "metadata": {},
   "outputs": [
    {
     "name": "stdout",
     "output_type": "stream",
     "text": [
      "0:q=1, 0001 <class 'myhdl._intbv.intbv'>\n",
      "1:q=0, 0000 <class 'myhdl._intbv.intbv'>\n",
      "2:q=0, 0000 <class 'myhdl._intbv.intbv'>\n",
      "3:q=0, 0000 <class 'myhdl._intbv.intbv'>\n",
      "4:q=0, 0000 <class 'myhdl._intbv.intbv'>\n",
      "5:q=0, 0000 <class 'myhdl._intbv.intbv'>\n",
      "6:q=0, 0000 <class 'myhdl._intbv.intbv'>\n",
      "7:q=0, 0000 <class 'myhdl._intbv.intbv'>\n",
      "8:q=0, 0000 <class 'myhdl._intbv.intbv'>\n"
     ]
    }
   ],
   "source": [
    "#demenstrate right shifting with intbv\n",
    "for i in range(9):\n",
    "    q=q>>2\n",
    "    print(f'{i}:q={q}, {bin(q, 4)}', type(q))"
   ]
  },
  {
   "cell_type": "code",
   "execution_count": 10,
   "metadata": {},
   "outputs": [
    {
     "data": {
      "text/plain": [
       "'0101'"
      ]
     },
     "execution_count": 10,
     "metadata": {},
     "output_type": "execute_result"
    }
   ],
   "source": [
    "#Right Shift test with modbv\n",
    "#intialize \n",
    "q=modbv(5)[4:]\n",
    "bin(q, 4)"
   ]
  },
  {
   "cell_type": "code",
   "execution_count": 11,
   "metadata": {},
   "outputs": [
    {
     "name": "stdout",
     "output_type": "stream",
     "text": [
      "0:q=1, 0001 <class 'myhdl._intbv.intbv'>\n",
      "1:q=0, 0000 <class 'myhdl._intbv.intbv'>\n",
      "2:q=0, 0000 <class 'myhdl._intbv.intbv'>\n",
      "3:q=0, 0000 <class 'myhdl._intbv.intbv'>\n",
      "4:q=0, 0000 <class 'myhdl._intbv.intbv'>\n",
      "5:q=0, 0000 <class 'myhdl._intbv.intbv'>\n",
      "6:q=0, 0000 <class 'myhdl._intbv.intbv'>\n",
      "7:q=0, 0000 <class 'myhdl._intbv.intbv'>\n",
      "8:q=0, 0000 <class 'myhdl._intbv.intbv'>\n"
     ]
    }
   ],
   "source": [
    "#demenstrate right shifting with modbv\n",
    "for i in range(9):\n",
    "    q=q>>2\n",
    "    print(f'{i}:q={q}, {bin(q, 4)}', type(q))"
   ]
  },
  {
   "cell_type": "markdown",
   "metadata": {},
   "source": [
    "As can be seen, the right shift moves values (shifts) to the right all the values to the right by the shift increment while preserving the length of the register that is being shifted. While this means that overflow is not going to be in encountered with the use of the right shift operation. It trades that vulnerability for information loss as any information carried in the leftmost bits gets lost as it is shifted right beyond of the length of the register"
   ]
  },
  {
   "cell_type": "markdown",
   "metadata": {},
   "source": [
    "## `concat` behavior"
   ]
  },
  {
   "cell_type": "markdown",
   "metadata": {},
   "source": [
    "to do"
   ]
  },
  {
   "cell_type": "markdown",
   "metadata": {},
   "source": [
    "# Add more basic shift registers here "
   ]
  },
  {
   "cell_type": "markdown",
   "metadata": {},
   "source": [
    "# Johnson Counter\n",
    "The Johnson Counter is implemented in this notebook about shift registers since in reality, a Johnson Counter is a shift register. The following are aspects of Johnson Counter by Sougata Bhattacharjee [https://www.quora.com/What-is-the-difference-between-a-Johnson-counter-and-a-ring-counter]\n",
    "\n",
    "\\begin{itemize}\n",
    "\\item In a Johnson Counter the output bar or Q(bar) of the last flip-flop is connected to the input of the first flip-flop\n",
    "\n",
    "\\item If $n$ is the number of the flip-flop used, then the total number of states used is $2n$.\n",
    "\n",
    "\\item The Johnson Counter is also known as walking counter, switching tail counter and is mostly used in phase shift or function generator.\n",
    "\n",
    "\\item The decoding circuit is complex as compared to a ring counter.\n",
    "\n",
    "\\item If input frequency is $f$ in Johnson Counter,then the output is $\\dfrac{f}{2n}$.\n",
    "\n",
    "\\item The total number of unused states in Johnson Counter is $(2^n - 2n)$\n",
    "\n",
    "\\item The main problem with Johnson counter is that once it enters into an unused state it is in a lockout state\n",
    "\n",
    "\\end{itemize}\n",
    "\n",
    "\n",
    "For a four-bit Johnson Counter, the next state diagram is given by the following table from [wikipedga](https://en.wikipedia.org/wiki/Ring_counter)\n",
    "\n",
    "\\begin{figure}\n",
    "\\centerline{\\includegraphics[width=1cm]{JohnsonCounterNSTable.png}}\n",
    "\\caption{\\label{fig:JohnsonTable} 4-bit Ring Counter next state table from [wikipedia](https://en.wikipedia.org/wiki/Ring_counter#Four-bit_ring-counter_sequences)}\n",
    "\\end{figure}\n",
    "\n",
    "whereupon examining the next state table for the Johnson counter we can see why a Johnson counter is also called a Mobius counter\n",
    "\n"
   ]
  },
  {
   "cell_type": "code",
   "execution_count": 12,
   "metadata": {},
   "outputs": [
    {
     "name": "stdout",
     "output_type": "stream",
     "text": [
      "`Left` state repersentation is 0\n",
      "`Halt` state repersentation is 1\n",
      "`Right` state repersentation is 10\n"
     ]
    }
   ],
   "source": [
    "#Create the Direction States for Johnson Counter\n",
    "DirStates=enum('Left','Halt','Right')\n",
    "print(f\"`Left` state repersentation is {bin(DirStates.Left)}\")\n",
    "print(f\"`Halt` state repersentation is {bin(DirStates.Halt)}\")\n",
    "print(f\"`Right` state repersentation is {bin(DirStates.Right)}\")"
   ]
  },
  {
   "cell_type": "code",
   "execution_count": 13,
   "metadata": {},
   "outputs": [],
   "source": [
    "@block\n",
    "def JohnsonCount3(Dir, q, clk, rst):\n",
    "    \"\"\"\n",
    "    Based of the `jc2` exsample from the myHDL website \n",
    "    http://www.myhdl.org/docs/examples/jc2.html\n",
    "    \n",
    "    Input:\n",
    "        Dir(state): Left,Right, Halt Direction States\n",
    "        clk(bool): input clock\n",
    "        rst(bool): reset signal\n",
    "    \n",
    "    Ouput:\n",
    "        q(bitVec): the values in the D flip flops(aka counter)\n",
    "    \"\"\"\n",
    "    \n",
    "    q_i=Signal(intbv(0)[len(q):])\n",
    "    @always(clk.posedge, rst.negedge)\n",
    "    def JCStateMachine():\n",
    "        #moore state machine\n",
    "        if rst:\n",
    "            q_i.next=0\n",
    "        \n",
    "        elif Dir==DirStates.Left:\n",
    "            #set bit slice from left most to one from the right\n",
    "            #from bit slice from one to the left to the right most\n",
    "            q_i.next[len(q_i):1]=q_i[len(q_i)-1:]\n",
    "            #set next right most bit to negated one to the left bit\n",
    "            q_i.next[0]=not q_i[len(q_i)-1]\n",
    "        \n",
    "        elif Dir==DirStates.Halt:\n",
    "            #create circular stop\n",
    "            q_i.next=q_i\n",
    "        \n",
    "        elif Dir==DirStates.Right:\n",
    "            #set bit slice from one from the left to right most\n",
    "            #from bit slice left most bit to one from the right\n",
    "            q_i.next[len(q_i)-1:]=q_i[len(q_i):1]\n",
    "            #set next one bit from the right to be negated left most bit  \n",
    "            q_i.next[len(q_i)-1]=not q_i[0]\n",
    "            \n",
    "            \n",
    "    \n",
    "    @always_comb\n",
    "    def OuputBuffer():\n",
    "        q.next=q_i\n",
    "    \n",
    "    return instances()\n",
    "    "
   ]
  },
  {
   "cell_type": "markdown",
   "metadata": {},
   "source": [
    "## myHDL Testing"
   ]
  },
  {
   "cell_type": "code",
   "execution_count": 14,
   "metadata": {},
   "outputs": [],
   "source": [
    "BitSize=4\n",
    "Peeker.clear()\n",
    "clk=Signal(bool(0)); Peeker(clk, 'clk')\n",
    "rst=Signal(bool(0)); Peeker(rst, 'rst')\n",
    "q=Signal(intbv(0)[BitSize:]); Peeker(q, 'q')\n",
    "Dir=Signal(DirStates.Right); Peeker(Dir, 'Dir')\n",
    "\n",
    "DUT=JohnsonCount3(Dir, q, clk, rst)\n",
    "\n",
    "def JohnsonCount3_TB():\n",
    "    \"\"\"\n",
    "    myHDL only Testbench for `UpDown_Counter` module\n",
    "    \"\"\"\n",
    "    @always(delay(1))\n",
    "    def ClkGen():\n",
    "        clk.next=not clk\n",
    "    \n",
    "    @instance\n",
    "    def stimules():\n",
    "        i=0\n",
    "        while True:\n",
    "            if i==2*2*BitSize:\n",
    "                Dir.next=DirStates.Left\n",
    "            elif i==4*2*BitSize:\n",
    "                rst.next=1\n",
    "            elif i==4*2*BitSize+1:\n",
    "                rst.next=0\n",
    "            elif i==4*2*BitSize+2:\n",
    "                Dir.next=DirStates.Halt\n",
    "            \n",
    "            \n",
    "            if i==5*2*BitSize:\n",
    "                raise StopSimulation()\n",
    "                \n",
    "            i+=1\n",
    "            yield clk.posedge\n",
    "    \n",
    "    return instances()\n",
    "\n",
    "sim=Simulation(DUT, JohnsonCount3_TB(), *Peeker.instances()).run()"
   ]
  },
  {
   "cell_type": "code",
   "execution_count": 15,
   "metadata": {},
   "outputs": [
    {
     "data": {
      "text/html": [
       "<div><script type=\"WaveDrom\">{\"signal\": [{\"name\": \"clk\", \"wave\": \"0101010101010101010101010101010101010101010101010101010101010101010101010101010\"}, {\"name\": \"rst\", \"wave\": \"0..............................................................1.0.............\"}, {\"name\": \"Dir[0]\", \"wave\": \"=..............................=...................................=...........\", \"data\": [\"Right\", \"Left\", \"Halt\"]}, {\"name\": \"q[0]\", \"wave\": \"==.=.=.=.=.=.=.=.=.=.=.=.=.=.=.=.=.=.=.=.=.=.=.=.=.=.=.=.=.=.=.=.=.=...........\", \"data\": [\"0\", \"8\", \"c\", \"e\", \"f\", \"7\", \"3\", \"1\", \"0\", \"8\", \"c\", \"e\", \"f\", \"7\", \"3\", \"1\", \"0\", \"1\", \"3\", \"7\", \"f\", \"e\", \"c\", \"8\", \"0\", \"1\", \"3\", \"7\", \"f\", \"e\", \"c\", \"8\", \"0\", \"1\", \"3\"]}]}</script></div>"
      ]
     },
     "metadata": {},
     "output_type": "display_data"
    },
    {
     "data": {
      "application/javascript": [
       "$.getScript(\"http://wavedrom.com/wavedrom.min.js\", function () {\n",
       "$.getScript(\"http://wavedrom.com/skins/default.js\", function () {\n",
       "WaveDrom.ProcessAll();});\n",
       "});\n"
      ]
     },
     "metadata": {},
     "output_type": "display_data"
    }
   ],
   "source": [
    "Peeker.to_wavedrom()"
   ]
  },
  {
   "cell_type": "code",
   "execution_count": 16,
   "metadata": {
    "scrolled": true
   },
   "outputs": [
    {
     "data": {
      "text/html": [
       "<div>\n",
       "<style scoped>\n",
       "    .dataframe tbody tr th:only-of-type {\n",
       "        vertical-align: middle;\n",
       "    }\n",
       "\n",
       "    .dataframe tbody tr th {\n",
       "        vertical-align: top;\n",
       "    }\n",
       "\n",
       "    .dataframe thead th {\n",
       "        text-align: right;\n",
       "    }\n",
       "</style>\n",
       "<table border=\"1\" class=\"dataframe\">\n",
       "  <thead>\n",
       "    <tr style=\"text-align: right;\">\n",
       "      <th></th>\n",
       "      <th>Dir</th>\n",
       "      <th>q</th>\n",
       "      <th>rst</th>\n",
       "    </tr>\n",
       "  </thead>\n",
       "  <tbody>\n",
       "    <tr>\n",
       "      <th>0</th>\n",
       "      <td>Right</td>\n",
       "      <td>8</td>\n",
       "      <td>0</td>\n",
       "    </tr>\n",
       "    <tr>\n",
       "      <th>1</th>\n",
       "      <td>Right</td>\n",
       "      <td>12</td>\n",
       "      <td>0</td>\n",
       "    </tr>\n",
       "    <tr>\n",
       "      <th>2</th>\n",
       "      <td>Right</td>\n",
       "      <td>14</td>\n",
       "      <td>0</td>\n",
       "    </tr>\n",
       "    <tr>\n",
       "      <th>3</th>\n",
       "      <td>Right</td>\n",
       "      <td>15</td>\n",
       "      <td>0</td>\n",
       "    </tr>\n",
       "    <tr>\n",
       "      <th>4</th>\n",
       "      <td>Right</td>\n",
       "      <td>7</td>\n",
       "      <td>0</td>\n",
       "    </tr>\n",
       "    <tr>\n",
       "      <th>5</th>\n",
       "      <td>Right</td>\n",
       "      <td>3</td>\n",
       "      <td>0</td>\n",
       "    </tr>\n",
       "    <tr>\n",
       "      <th>6</th>\n",
       "      <td>Right</td>\n",
       "      <td>1</td>\n",
       "      <td>0</td>\n",
       "    </tr>\n",
       "    <tr>\n",
       "      <th>7</th>\n",
       "      <td>Right</td>\n",
       "      <td>0</td>\n",
       "      <td>0</td>\n",
       "    </tr>\n",
       "    <tr>\n",
       "      <th>8</th>\n",
       "      <td>Right</td>\n",
       "      <td>8</td>\n",
       "      <td>0</td>\n",
       "    </tr>\n",
       "    <tr>\n",
       "      <th>9</th>\n",
       "      <td>Right</td>\n",
       "      <td>12</td>\n",
       "      <td>0</td>\n",
       "    </tr>\n",
       "    <tr>\n",
       "      <th>10</th>\n",
       "      <td>Right</td>\n",
       "      <td>14</td>\n",
       "      <td>0</td>\n",
       "    </tr>\n",
       "    <tr>\n",
       "      <th>11</th>\n",
       "      <td>Right</td>\n",
       "      <td>15</td>\n",
       "      <td>0</td>\n",
       "    </tr>\n",
       "    <tr>\n",
       "      <th>12</th>\n",
       "      <td>Right</td>\n",
       "      <td>7</td>\n",
       "      <td>0</td>\n",
       "    </tr>\n",
       "    <tr>\n",
       "      <th>13</th>\n",
       "      <td>Right</td>\n",
       "      <td>3</td>\n",
       "      <td>0</td>\n",
       "    </tr>\n",
       "    <tr>\n",
       "      <th>14</th>\n",
       "      <td>Right</td>\n",
       "      <td>1</td>\n",
       "      <td>0</td>\n",
       "    </tr>\n",
       "    <tr>\n",
       "      <th>15</th>\n",
       "      <td>Left</td>\n",
       "      <td>0</td>\n",
       "      <td>0</td>\n",
       "    </tr>\n",
       "    <tr>\n",
       "      <th>16</th>\n",
       "      <td>Left</td>\n",
       "      <td>1</td>\n",
       "      <td>0</td>\n",
       "    </tr>\n",
       "    <tr>\n",
       "      <th>17</th>\n",
       "      <td>Left</td>\n",
       "      <td>3</td>\n",
       "      <td>0</td>\n",
       "    </tr>\n",
       "    <tr>\n",
       "      <th>18</th>\n",
       "      <td>Left</td>\n",
       "      <td>7</td>\n",
       "      <td>0</td>\n",
       "    </tr>\n",
       "    <tr>\n",
       "      <th>19</th>\n",
       "      <td>Left</td>\n",
       "      <td>15</td>\n",
       "      <td>0</td>\n",
       "    </tr>\n",
       "    <tr>\n",
       "      <th>20</th>\n",
       "      <td>Left</td>\n",
       "      <td>14</td>\n",
       "      <td>0</td>\n",
       "    </tr>\n",
       "    <tr>\n",
       "      <th>21</th>\n",
       "      <td>Left</td>\n",
       "      <td>12</td>\n",
       "      <td>0</td>\n",
       "    </tr>\n",
       "    <tr>\n",
       "      <th>22</th>\n",
       "      <td>Left</td>\n",
       "      <td>8</td>\n",
       "      <td>0</td>\n",
       "    </tr>\n",
       "    <tr>\n",
       "      <th>23</th>\n",
       "      <td>Left</td>\n",
       "      <td>0</td>\n",
       "      <td>0</td>\n",
       "    </tr>\n",
       "    <tr>\n",
       "      <th>24</th>\n",
       "      <td>Left</td>\n",
       "      <td>1</td>\n",
       "      <td>0</td>\n",
       "    </tr>\n",
       "    <tr>\n",
       "      <th>25</th>\n",
       "      <td>Left</td>\n",
       "      <td>3</td>\n",
       "      <td>0</td>\n",
       "    </tr>\n",
       "    <tr>\n",
       "      <th>26</th>\n",
       "      <td>Left</td>\n",
       "      <td>7</td>\n",
       "      <td>0</td>\n",
       "    </tr>\n",
       "    <tr>\n",
       "      <th>27</th>\n",
       "      <td>Left</td>\n",
       "      <td>15</td>\n",
       "      <td>0</td>\n",
       "    </tr>\n",
       "    <tr>\n",
       "      <th>28</th>\n",
       "      <td>Left</td>\n",
       "      <td>14</td>\n",
       "      <td>0</td>\n",
       "    </tr>\n",
       "    <tr>\n",
       "      <th>29</th>\n",
       "      <td>Left</td>\n",
       "      <td>12</td>\n",
       "      <td>0</td>\n",
       "    </tr>\n",
       "    <tr>\n",
       "      <th>30</th>\n",
       "      <td>Left</td>\n",
       "      <td>8</td>\n",
       "      <td>0</td>\n",
       "    </tr>\n",
       "    <tr>\n",
       "      <th>31</th>\n",
       "      <td>Left</td>\n",
       "      <td>0</td>\n",
       "      <td>1</td>\n",
       "    </tr>\n",
       "    <tr>\n",
       "      <th>32</th>\n",
       "      <td>Left</td>\n",
       "      <td>1</td>\n",
       "      <td>0</td>\n",
       "    </tr>\n",
       "    <tr>\n",
       "      <th>33</th>\n",
       "      <td>Halt</td>\n",
       "      <td>3</td>\n",
       "      <td>0</td>\n",
       "    </tr>\n",
       "    <tr>\n",
       "      <th>34</th>\n",
       "      <td>Halt</td>\n",
       "      <td>3</td>\n",
       "      <td>0</td>\n",
       "    </tr>\n",
       "    <tr>\n",
       "      <th>35</th>\n",
       "      <td>Halt</td>\n",
       "      <td>3</td>\n",
       "      <td>0</td>\n",
       "    </tr>\n",
       "    <tr>\n",
       "      <th>36</th>\n",
       "      <td>Halt</td>\n",
       "      <td>3</td>\n",
       "      <td>0</td>\n",
       "    </tr>\n",
       "    <tr>\n",
       "      <th>37</th>\n",
       "      <td>Halt</td>\n",
       "      <td>3</td>\n",
       "      <td>0</td>\n",
       "    </tr>\n",
       "    <tr>\n",
       "      <th>38</th>\n",
       "      <td>Halt</td>\n",
       "      <td>3</td>\n",
       "      <td>0</td>\n",
       "    </tr>\n",
       "  </tbody>\n",
       "</table>\n",
       "</div>"
      ],
      "text/plain": [
       "      Dir   q  rst\n",
       "0   Right   8    0\n",
       "1   Right  12    0\n",
       "2   Right  14    0\n",
       "3   Right  15    0\n",
       "4   Right   7    0\n",
       "5   Right   3    0\n",
       "6   Right   1    0\n",
       "7   Right   0    0\n",
       "8   Right   8    0\n",
       "9   Right  12    0\n",
       "10  Right  14    0\n",
       "11  Right  15    0\n",
       "12  Right   7    0\n",
       "13  Right   3    0\n",
       "14  Right   1    0\n",
       "15   Left   0    0\n",
       "16   Left   1    0\n",
       "17   Left   3    0\n",
       "18   Left   7    0\n",
       "19   Left  15    0\n",
       "20   Left  14    0\n",
       "21   Left  12    0\n",
       "22   Left   8    0\n",
       "23   Left   0    0\n",
       "24   Left   1    0\n",
       "25   Left   3    0\n",
       "26   Left   7    0\n",
       "27   Left  15    0\n",
       "28   Left  14    0\n",
       "29   Left  12    0\n",
       "30   Left   8    0\n",
       "31   Left   0    1\n",
       "32   Left   1    0\n",
       "33   Halt   3    0\n",
       "34   Halt   3    0\n",
       "35   Halt   3    0\n",
       "36   Halt   3    0\n",
       "37   Halt   3    0\n",
       "38   Halt   3    0"
      ]
     },
     "execution_count": 16,
     "metadata": {},
     "output_type": "execute_result"
    }
   ],
   "source": [
    "JohnsonCount3Data=Peeker.to_dataframe()\n",
    "JohnsonCount3Data=JohnsonCount3Data[JohnsonCount3Data['clk']==1]\n",
    "JohnsonCount3Data.drop('clk', axis=1, inplace=True)\n",
    "JohnsonCount3Data.reset_index(drop=True, inplace=True)\n",
    "JohnsonCount3Data"
   ]
  },
  {
   "cell_type": "code",
   "execution_count": 17,
   "metadata": {
    "scrolled": true
   },
   "outputs": [
    {
     "data": {
      "text/html": [
       "<div>\n",
       "<style scoped>\n",
       "    .dataframe tbody tr th:only-of-type {\n",
       "        vertical-align: middle;\n",
       "    }\n",
       "\n",
       "    .dataframe tbody tr th {\n",
       "        vertical-align: top;\n",
       "    }\n",
       "\n",
       "    .dataframe thead th {\n",
       "        text-align: right;\n",
       "    }\n",
       "</style>\n",
       "<table border=\"1\" class=\"dataframe\">\n",
       "  <thead>\n",
       "    <tr style=\"text-align: right;\">\n",
       "      <th></th>\n",
       "      <th>Dir</th>\n",
       "      <th>q</th>\n",
       "      <th>rst</th>\n",
       "    </tr>\n",
       "  </thead>\n",
       "  <tbody>\n",
       "    <tr>\n",
       "      <th>0</th>\n",
       "      <td>Right</td>\n",
       "      <td>1000</td>\n",
       "      <td>0</td>\n",
       "    </tr>\n",
       "    <tr>\n",
       "      <th>1</th>\n",
       "      <td>Right</td>\n",
       "      <td>1100</td>\n",
       "      <td>0</td>\n",
       "    </tr>\n",
       "    <tr>\n",
       "      <th>2</th>\n",
       "      <td>Right</td>\n",
       "      <td>1110</td>\n",
       "      <td>0</td>\n",
       "    </tr>\n",
       "    <tr>\n",
       "      <th>3</th>\n",
       "      <td>Right</td>\n",
       "      <td>1111</td>\n",
       "      <td>0</td>\n",
       "    </tr>\n",
       "    <tr>\n",
       "      <th>4</th>\n",
       "      <td>Right</td>\n",
       "      <td>0111</td>\n",
       "      <td>0</td>\n",
       "    </tr>\n",
       "    <tr>\n",
       "      <th>5</th>\n",
       "      <td>Right</td>\n",
       "      <td>0011</td>\n",
       "      <td>0</td>\n",
       "    </tr>\n",
       "    <tr>\n",
       "      <th>6</th>\n",
       "      <td>Right</td>\n",
       "      <td>0001</td>\n",
       "      <td>0</td>\n",
       "    </tr>\n",
       "    <tr>\n",
       "      <th>7</th>\n",
       "      <td>Right</td>\n",
       "      <td>0000</td>\n",
       "      <td>0</td>\n",
       "    </tr>\n",
       "    <tr>\n",
       "      <th>8</th>\n",
       "      <td>Right</td>\n",
       "      <td>1000</td>\n",
       "      <td>0</td>\n",
       "    </tr>\n",
       "    <tr>\n",
       "      <th>9</th>\n",
       "      <td>Right</td>\n",
       "      <td>1100</td>\n",
       "      <td>0</td>\n",
       "    </tr>\n",
       "    <tr>\n",
       "      <th>10</th>\n",
       "      <td>Right</td>\n",
       "      <td>1110</td>\n",
       "      <td>0</td>\n",
       "    </tr>\n",
       "    <tr>\n",
       "      <th>11</th>\n",
       "      <td>Right</td>\n",
       "      <td>1111</td>\n",
       "      <td>0</td>\n",
       "    </tr>\n",
       "    <tr>\n",
       "      <th>12</th>\n",
       "      <td>Right</td>\n",
       "      <td>0111</td>\n",
       "      <td>0</td>\n",
       "    </tr>\n",
       "    <tr>\n",
       "      <th>13</th>\n",
       "      <td>Right</td>\n",
       "      <td>0011</td>\n",
       "      <td>0</td>\n",
       "    </tr>\n",
       "    <tr>\n",
       "      <th>14</th>\n",
       "      <td>Right</td>\n",
       "      <td>0001</td>\n",
       "      <td>0</td>\n",
       "    </tr>\n",
       "    <tr>\n",
       "      <th>15</th>\n",
       "      <td>Left</td>\n",
       "      <td>0000</td>\n",
       "      <td>0</td>\n",
       "    </tr>\n",
       "    <tr>\n",
       "      <th>16</th>\n",
       "      <td>Left</td>\n",
       "      <td>0001</td>\n",
       "      <td>0</td>\n",
       "    </tr>\n",
       "    <tr>\n",
       "      <th>17</th>\n",
       "      <td>Left</td>\n",
       "      <td>0011</td>\n",
       "      <td>0</td>\n",
       "    </tr>\n",
       "    <tr>\n",
       "      <th>18</th>\n",
       "      <td>Left</td>\n",
       "      <td>0111</td>\n",
       "      <td>0</td>\n",
       "    </tr>\n",
       "    <tr>\n",
       "      <th>19</th>\n",
       "      <td>Left</td>\n",
       "      <td>1111</td>\n",
       "      <td>0</td>\n",
       "    </tr>\n",
       "    <tr>\n",
       "      <th>20</th>\n",
       "      <td>Left</td>\n",
       "      <td>1110</td>\n",
       "      <td>0</td>\n",
       "    </tr>\n",
       "    <tr>\n",
       "      <th>21</th>\n",
       "      <td>Left</td>\n",
       "      <td>1100</td>\n",
       "      <td>0</td>\n",
       "    </tr>\n",
       "    <tr>\n",
       "      <th>22</th>\n",
       "      <td>Left</td>\n",
       "      <td>1000</td>\n",
       "      <td>0</td>\n",
       "    </tr>\n",
       "    <tr>\n",
       "      <th>23</th>\n",
       "      <td>Left</td>\n",
       "      <td>0000</td>\n",
       "      <td>0</td>\n",
       "    </tr>\n",
       "    <tr>\n",
       "      <th>24</th>\n",
       "      <td>Left</td>\n",
       "      <td>0001</td>\n",
       "      <td>0</td>\n",
       "    </tr>\n",
       "    <tr>\n",
       "      <th>25</th>\n",
       "      <td>Left</td>\n",
       "      <td>0011</td>\n",
       "      <td>0</td>\n",
       "    </tr>\n",
       "    <tr>\n",
       "      <th>26</th>\n",
       "      <td>Left</td>\n",
       "      <td>0111</td>\n",
       "      <td>0</td>\n",
       "    </tr>\n",
       "    <tr>\n",
       "      <th>27</th>\n",
       "      <td>Left</td>\n",
       "      <td>1111</td>\n",
       "      <td>0</td>\n",
       "    </tr>\n",
       "    <tr>\n",
       "      <th>28</th>\n",
       "      <td>Left</td>\n",
       "      <td>1110</td>\n",
       "      <td>0</td>\n",
       "    </tr>\n",
       "    <tr>\n",
       "      <th>29</th>\n",
       "      <td>Left</td>\n",
       "      <td>1100</td>\n",
       "      <td>0</td>\n",
       "    </tr>\n",
       "    <tr>\n",
       "      <th>30</th>\n",
       "      <td>Left</td>\n",
       "      <td>1000</td>\n",
       "      <td>0</td>\n",
       "    </tr>\n",
       "    <tr>\n",
       "      <th>31</th>\n",
       "      <td>Left</td>\n",
       "      <td>0000</td>\n",
       "      <td>1</td>\n",
       "    </tr>\n",
       "    <tr>\n",
       "      <th>32</th>\n",
       "      <td>Left</td>\n",
       "      <td>0001</td>\n",
       "      <td>0</td>\n",
       "    </tr>\n",
       "    <tr>\n",
       "      <th>33</th>\n",
       "      <td>Halt</td>\n",
       "      <td>0011</td>\n",
       "      <td>0</td>\n",
       "    </tr>\n",
       "    <tr>\n",
       "      <th>34</th>\n",
       "      <td>Halt</td>\n",
       "      <td>0011</td>\n",
       "      <td>0</td>\n",
       "    </tr>\n",
       "    <tr>\n",
       "      <th>35</th>\n",
       "      <td>Halt</td>\n",
       "      <td>0011</td>\n",
       "      <td>0</td>\n",
       "    </tr>\n",
       "    <tr>\n",
       "      <th>36</th>\n",
       "      <td>Halt</td>\n",
       "      <td>0011</td>\n",
       "      <td>0</td>\n",
       "    </tr>\n",
       "    <tr>\n",
       "      <th>37</th>\n",
       "      <td>Halt</td>\n",
       "      <td>0011</td>\n",
       "      <td>0</td>\n",
       "    </tr>\n",
       "    <tr>\n",
       "      <th>38</th>\n",
       "      <td>Halt</td>\n",
       "      <td>0011</td>\n",
       "      <td>0</td>\n",
       "    </tr>\n",
       "  </tbody>\n",
       "</table>\n",
       "</div>"
      ],
      "text/plain": [
       "      Dir     q  rst\n",
       "0   Right  1000    0\n",
       "1   Right  1100    0\n",
       "2   Right  1110    0\n",
       "3   Right  1111    0\n",
       "4   Right  0111    0\n",
       "5   Right  0011    0\n",
       "6   Right  0001    0\n",
       "7   Right  0000    0\n",
       "8   Right  1000    0\n",
       "9   Right  1100    0\n",
       "10  Right  1110    0\n",
       "11  Right  1111    0\n",
       "12  Right  0111    0\n",
       "13  Right  0011    0\n",
       "14  Right  0001    0\n",
       "15   Left  0000    0\n",
       "16   Left  0001    0\n",
       "17   Left  0011    0\n",
       "18   Left  0111    0\n",
       "19   Left  1111    0\n",
       "20   Left  1110    0\n",
       "21   Left  1100    0\n",
       "22   Left  1000    0\n",
       "23   Left  0000    0\n",
       "24   Left  0001    0\n",
       "25   Left  0011    0\n",
       "26   Left  0111    0\n",
       "27   Left  1111    0\n",
       "28   Left  1110    0\n",
       "29   Left  1100    0\n",
       "30   Left  1000    0\n",
       "31   Left  0000    1\n",
       "32   Left  0001    0\n",
       "33   Halt  0011    0\n",
       "34   Halt  0011    0\n",
       "35   Halt  0011    0\n",
       "36   Halt  0011    0\n",
       "37   Halt  0011    0\n",
       "38   Halt  0011    0"
      ]
     },
     "execution_count": 17,
     "metadata": {},
     "output_type": "execute_result"
    }
   ],
   "source": [
    "JohnsonCount3Data['q']=JohnsonCount3Data['q'].apply(lambda x:bin(x, BitSize))\n",
    "JohnsonCount3Data"
   ]
  },
  {
   "cell_type": "code",
   "execution_count": 18,
   "metadata": {},
   "outputs": [
    {
     "data": {
      "text/html": [
       "<div>\n",
       "<style scoped>\n",
       "    .dataframe tbody tr th:only-of-type {\n",
       "        vertical-align: middle;\n",
       "    }\n",
       "\n",
       "    .dataframe tbody tr th {\n",
       "        vertical-align: top;\n",
       "    }\n",
       "\n",
       "    .dataframe thead th {\n",
       "        text-align: right;\n",
       "    }\n",
       "</style>\n",
       "<table border=\"1\" class=\"dataframe\">\n",
       "  <thead>\n",
       "    <tr style=\"text-align: right;\">\n",
       "      <th></th>\n",
       "      <th>Dir</th>\n",
       "      <th>q</th>\n",
       "      <th>rst</th>\n",
       "    </tr>\n",
       "  </thead>\n",
       "  <tbody>\n",
       "    <tr>\n",
       "      <th>0</th>\n",
       "      <td>Right</td>\n",
       "      <td>1000</td>\n",
       "      <td>0</td>\n",
       "    </tr>\n",
       "    <tr>\n",
       "      <th>1</th>\n",
       "      <td>Right</td>\n",
       "      <td>1100</td>\n",
       "      <td>0</td>\n",
       "    </tr>\n",
       "    <tr>\n",
       "      <th>2</th>\n",
       "      <td>Right</td>\n",
       "      <td>1110</td>\n",
       "      <td>0</td>\n",
       "    </tr>\n",
       "    <tr>\n",
       "      <th>3</th>\n",
       "      <td>Right</td>\n",
       "      <td>1111</td>\n",
       "      <td>0</td>\n",
       "    </tr>\n",
       "    <tr>\n",
       "      <th>4</th>\n",
       "      <td>Right</td>\n",
       "      <td>0111</td>\n",
       "      <td>0</td>\n",
       "    </tr>\n",
       "    <tr>\n",
       "      <th>5</th>\n",
       "      <td>Right</td>\n",
       "      <td>0011</td>\n",
       "      <td>0</td>\n",
       "    </tr>\n",
       "    <tr>\n",
       "      <th>6</th>\n",
       "      <td>Right</td>\n",
       "      <td>0001</td>\n",
       "      <td>0</td>\n",
       "    </tr>\n",
       "    <tr>\n",
       "      <th>7</th>\n",
       "      <td>Right</td>\n",
       "      <td>0000</td>\n",
       "      <td>0</td>\n",
       "    </tr>\n",
       "    <tr>\n",
       "      <th>8</th>\n",
       "      <td>Right</td>\n",
       "      <td>1000</td>\n",
       "      <td>0</td>\n",
       "    </tr>\n",
       "    <tr>\n",
       "      <th>9</th>\n",
       "      <td>Right</td>\n",
       "      <td>1100</td>\n",
       "      <td>0</td>\n",
       "    </tr>\n",
       "    <tr>\n",
       "      <th>10</th>\n",
       "      <td>Right</td>\n",
       "      <td>1110</td>\n",
       "      <td>0</td>\n",
       "    </tr>\n",
       "    <tr>\n",
       "      <th>11</th>\n",
       "      <td>Right</td>\n",
       "      <td>1111</td>\n",
       "      <td>0</td>\n",
       "    </tr>\n",
       "    <tr>\n",
       "      <th>12</th>\n",
       "      <td>Right</td>\n",
       "      <td>0111</td>\n",
       "      <td>0</td>\n",
       "    </tr>\n",
       "    <tr>\n",
       "      <th>13</th>\n",
       "      <td>Right</td>\n",
       "      <td>0011</td>\n",
       "      <td>0</td>\n",
       "    </tr>\n",
       "    <tr>\n",
       "      <th>14</th>\n",
       "      <td>Right</td>\n",
       "      <td>0001</td>\n",
       "      <td>0</td>\n",
       "    </tr>\n",
       "  </tbody>\n",
       "</table>\n",
       "</div>"
      ],
      "text/plain": [
       "      Dir     q  rst\n",
       "0   Right  1000    0\n",
       "1   Right  1100    0\n",
       "2   Right  1110    0\n",
       "3   Right  1111    0\n",
       "4   Right  0111    0\n",
       "5   Right  0011    0\n",
       "6   Right  0001    0\n",
       "7   Right  0000    0\n",
       "8   Right  1000    0\n",
       "9   Right  1100    0\n",
       "10  Right  1110    0\n",
       "11  Right  1111    0\n",
       "12  Right  0111    0\n",
       "13  Right  0011    0\n",
       "14  Right  0001    0"
      ]
     },
     "execution_count": 18,
     "metadata": {},
     "output_type": "execute_result"
    }
   ],
   "source": [
    "JohnsonCount3Data[JohnsonCount3Data['Dir']==DirStates.Right]"
   ]
  },
  {
   "cell_type": "code",
   "execution_count": 19,
   "metadata": {},
   "outputs": [
    {
     "data": {
      "text/html": [
       "<div>\n",
       "<style scoped>\n",
       "    .dataframe tbody tr th:only-of-type {\n",
       "        vertical-align: middle;\n",
       "    }\n",
       "\n",
       "    .dataframe tbody tr th {\n",
       "        vertical-align: top;\n",
       "    }\n",
       "\n",
       "    .dataframe thead th {\n",
       "        text-align: right;\n",
       "    }\n",
       "</style>\n",
       "<table border=\"1\" class=\"dataframe\">\n",
       "  <thead>\n",
       "    <tr style=\"text-align: right;\">\n",
       "      <th></th>\n",
       "      <th>Dir</th>\n",
       "      <th>q</th>\n",
       "      <th>rst</th>\n",
       "    </tr>\n",
       "  </thead>\n",
       "  <tbody>\n",
       "    <tr>\n",
       "      <th>15</th>\n",
       "      <td>Left</td>\n",
       "      <td>0000</td>\n",
       "      <td>0</td>\n",
       "    </tr>\n",
       "    <tr>\n",
       "      <th>16</th>\n",
       "      <td>Left</td>\n",
       "      <td>0001</td>\n",
       "      <td>0</td>\n",
       "    </tr>\n",
       "    <tr>\n",
       "      <th>17</th>\n",
       "      <td>Left</td>\n",
       "      <td>0011</td>\n",
       "      <td>0</td>\n",
       "    </tr>\n",
       "    <tr>\n",
       "      <th>18</th>\n",
       "      <td>Left</td>\n",
       "      <td>0111</td>\n",
       "      <td>0</td>\n",
       "    </tr>\n",
       "    <tr>\n",
       "      <th>19</th>\n",
       "      <td>Left</td>\n",
       "      <td>1111</td>\n",
       "      <td>0</td>\n",
       "    </tr>\n",
       "    <tr>\n",
       "      <th>20</th>\n",
       "      <td>Left</td>\n",
       "      <td>1110</td>\n",
       "      <td>0</td>\n",
       "    </tr>\n",
       "    <tr>\n",
       "      <th>21</th>\n",
       "      <td>Left</td>\n",
       "      <td>1100</td>\n",
       "      <td>0</td>\n",
       "    </tr>\n",
       "    <tr>\n",
       "      <th>22</th>\n",
       "      <td>Left</td>\n",
       "      <td>1000</td>\n",
       "      <td>0</td>\n",
       "    </tr>\n",
       "    <tr>\n",
       "      <th>23</th>\n",
       "      <td>Left</td>\n",
       "      <td>0000</td>\n",
       "      <td>0</td>\n",
       "    </tr>\n",
       "    <tr>\n",
       "      <th>24</th>\n",
       "      <td>Left</td>\n",
       "      <td>0001</td>\n",
       "      <td>0</td>\n",
       "    </tr>\n",
       "    <tr>\n",
       "      <th>25</th>\n",
       "      <td>Left</td>\n",
       "      <td>0011</td>\n",
       "      <td>0</td>\n",
       "    </tr>\n",
       "    <tr>\n",
       "      <th>26</th>\n",
       "      <td>Left</td>\n",
       "      <td>0111</td>\n",
       "      <td>0</td>\n",
       "    </tr>\n",
       "    <tr>\n",
       "      <th>27</th>\n",
       "      <td>Left</td>\n",
       "      <td>1111</td>\n",
       "      <td>0</td>\n",
       "    </tr>\n",
       "    <tr>\n",
       "      <th>28</th>\n",
       "      <td>Left</td>\n",
       "      <td>1110</td>\n",
       "      <td>0</td>\n",
       "    </tr>\n",
       "    <tr>\n",
       "      <th>29</th>\n",
       "      <td>Left</td>\n",
       "      <td>1100</td>\n",
       "      <td>0</td>\n",
       "    </tr>\n",
       "    <tr>\n",
       "      <th>30</th>\n",
       "      <td>Left</td>\n",
       "      <td>1000</td>\n",
       "      <td>0</td>\n",
       "    </tr>\n",
       "    <tr>\n",
       "      <th>31</th>\n",
       "      <td>Left</td>\n",
       "      <td>0000</td>\n",
       "      <td>1</td>\n",
       "    </tr>\n",
       "    <tr>\n",
       "      <th>32</th>\n",
       "      <td>Left</td>\n",
       "      <td>0001</td>\n",
       "      <td>0</td>\n",
       "    </tr>\n",
       "  </tbody>\n",
       "</table>\n",
       "</div>"
      ],
      "text/plain": [
       "     Dir     q  rst\n",
       "15  Left  0000    0\n",
       "16  Left  0001    0\n",
       "17  Left  0011    0\n",
       "18  Left  0111    0\n",
       "19  Left  1111    0\n",
       "20  Left  1110    0\n",
       "21  Left  1100    0\n",
       "22  Left  1000    0\n",
       "23  Left  0000    0\n",
       "24  Left  0001    0\n",
       "25  Left  0011    0\n",
       "26  Left  0111    0\n",
       "27  Left  1111    0\n",
       "28  Left  1110    0\n",
       "29  Left  1100    0\n",
       "30  Left  1000    0\n",
       "31  Left  0000    1\n",
       "32  Left  0001    0"
      ]
     },
     "execution_count": 19,
     "metadata": {},
     "output_type": "execute_result"
    }
   ],
   "source": [
    "JohnsonCount3Data[JohnsonCount3Data['Dir']==DirStates.Left]"
   ]
  },
  {
   "cell_type": "code",
   "execution_count": 20,
   "metadata": {},
   "outputs": [
    {
     "data": {
      "text/html": [
       "<div>\n",
       "<style scoped>\n",
       "    .dataframe tbody tr th:only-of-type {\n",
       "        vertical-align: middle;\n",
       "    }\n",
       "\n",
       "    .dataframe tbody tr th {\n",
       "        vertical-align: top;\n",
       "    }\n",
       "\n",
       "    .dataframe thead th {\n",
       "        text-align: right;\n",
       "    }\n",
       "</style>\n",
       "<table border=\"1\" class=\"dataframe\">\n",
       "  <thead>\n",
       "    <tr style=\"text-align: right;\">\n",
       "      <th></th>\n",
       "      <th>Dir</th>\n",
       "      <th>q</th>\n",
       "      <th>rst</th>\n",
       "    </tr>\n",
       "  </thead>\n",
       "  <tbody>\n",
       "    <tr>\n",
       "      <th>33</th>\n",
       "      <td>Halt</td>\n",
       "      <td>0011</td>\n",
       "      <td>0</td>\n",
       "    </tr>\n",
       "    <tr>\n",
       "      <th>34</th>\n",
       "      <td>Halt</td>\n",
       "      <td>0011</td>\n",
       "      <td>0</td>\n",
       "    </tr>\n",
       "    <tr>\n",
       "      <th>35</th>\n",
       "      <td>Halt</td>\n",
       "      <td>0011</td>\n",
       "      <td>0</td>\n",
       "    </tr>\n",
       "    <tr>\n",
       "      <th>36</th>\n",
       "      <td>Halt</td>\n",
       "      <td>0011</td>\n",
       "      <td>0</td>\n",
       "    </tr>\n",
       "    <tr>\n",
       "      <th>37</th>\n",
       "      <td>Halt</td>\n",
       "      <td>0011</td>\n",
       "      <td>0</td>\n",
       "    </tr>\n",
       "    <tr>\n",
       "      <th>38</th>\n",
       "      <td>Halt</td>\n",
       "      <td>0011</td>\n",
       "      <td>0</td>\n",
       "    </tr>\n",
       "  </tbody>\n",
       "</table>\n",
       "</div>"
      ],
      "text/plain": [
       "     Dir     q  rst\n",
       "33  Halt  0011    0\n",
       "34  Halt  0011    0\n",
       "35  Halt  0011    0\n",
       "36  Halt  0011    0\n",
       "37  Halt  0011    0\n",
       "38  Halt  0011    0"
      ]
     },
     "execution_count": 20,
     "metadata": {},
     "output_type": "execute_result"
    }
   ],
   "source": [
    "JohnsonCount3Data[JohnsonCount3Data['Dir']==DirStates.Halt]"
   ]
  },
  {
   "cell_type": "markdown",
   "metadata": {},
   "source": [
    "## Verilog  Code"
   ]
  },
  {
   "cell_type": "code",
   "execution_count": 21,
   "metadata": {},
   "outputs": [
    {
     "name": "stdout",
     "output_type": "stream",
     "text": [
      "***Verilog modual from JohnsonCount3.v***\n",
      "\n",
      " // File: JohnsonCount3.v\n",
      "// Generated by MyHDL 0.10\n",
      "// Date: Tue Aug 14 07:16:07 2018\n",
      "\n",
      "\n",
      "`timescale 1ns/10ps\n",
      "\n",
      "module JohnsonCount3 (\n",
      "    Dir,\n",
      "    q,\n",
      "    clk,\n",
      "    rst\n",
      ");\n",
      "// Based of the `jc2` exsample from the myHDL website \n",
      "// http://www.myhdl.org/docs/examples/jc2.html\n",
      "// \n",
      "// Input:\n",
      "//     Dir(state): Left,Right, Halt Direction States\n",
      "//     clk(bool): input clock\n",
      "//     rst(bool): reset signal\n",
      "// \n",
      "// Ouput:\n",
      "//     q(bitVec): the values in the D flip flops(aka counter)\n",
      "\n",
      "input [1:0] Dir;\n",
      "output [3:0] q;\n",
      "wire [3:0] q;\n",
      "input clk;\n",
      "input rst;\n",
      "\n",
      "reg [3:0] q_i;\n",
      "\n",
      "\n",
      "\n",
      "always @(posedge clk, negedge rst) begin: JOHNSONCOUNT3_JCSTATEMACHINE\n",
      "    if (rst) begin\n",
      "        q_i <= 0;\n",
      "    end\n",
      "    else if ((Dir == 2'b00)) begin\n",
      "        q_i[4-1:1] <= q_i[(4 - 1)-1:0];\n",
      "        q_i[0] <= (!q_i[(4 - 1)]);\n",
      "    end\n",
      "    else if ((Dir == 2'b01)) begin\n",
      "        q_i <= q_i;\n",
      "    end\n",
      "    else if ((Dir == 2'b10)) begin\n",
      "        q_i[(4 - 1)-1:0] <= q_i[4-1:1];\n",
      "        q_i[(4 - 1)] <= (!q_i[0]);\n",
      "    end\n",
      "end\n",
      "\n",
      "\n",
      "\n",
      "assign q = q_i;\n",
      "\n",
      "endmodule\n",
      "\n"
     ]
    }
   ],
   "source": [
    "DUT.convert()\n",
    "VerilogTextReader('JohnsonCount3');"
   ]
  },
  {
   "cell_type": "markdown",
   "metadata": {},
   "source": [
    "\\begin{figure}\n",
    "\\centerline{\\includegraphics[width=10cm]{JohnsonCount3RTL.png}}\n",
    "\\caption{\\label{fig:clkDivRTL} JohnsonCount3 RTL schematic; Xilinx Vivado 2017.4}\n",
    "\\end{figure}"
   ]
  },
  {
   "cell_type": "markdown",
   "metadata": {},
   "source": [
    "\\begin{figure}\n",
    "\\centerline{\\includegraphics[width=10cm]{JohnsonCount3SYN.png}}\n",
    "\\caption{\\label{fig:clkDivRTL} JohnsonCount3 Synthesized Schematic; Xilinx Vivado 2017.4}\n",
    "\\end{figure}"
   ]
  },
  {
   "cell_type": "markdown",
   "metadata": {},
   "source": [
    "## Verilog Testbench"
   ]
  },
  {
   "cell_type": "code",
   "execution_count": 22,
   "metadata": {},
   "outputs": [
    {
     "name": "stdout",
     "output_type": "stream",
     "text": [
      "<class 'myhdl._Signal._Signal'> <class '_ast.Name'>\n",
      "<class 'myhdl._Signal._Signal'> <class '_ast.Name'>\n",
      "<class 'myhdl._Signal._Signal'> <class '_ast.Name'>\n",
      "<class 'myhdl._Signal._Signal'> <class '_ast.Name'>\n",
      "***Verilog modual from JohnsonCount3_TBV.v***\n",
      "\n",
      " // File: JohnsonCount3_TBV.v\n",
      "// Generated by MyHDL 0.10\n",
      "// Date: Tue Aug 14 07:16:07 2018\n",
      "\n",
      "\n",
      "`timescale 1ns/10ps\n",
      "\n",
      "module JohnsonCount3_TBV (\n",
      "\n",
      ");\n",
      "// myHDL -> Verilog Testbench for `UpDown_Counter` module\n",
      "\n",
      "\n",
      "wire [3:0] q;\n",
      "reg clk = 0;\n",
      "reg rst = 0;\n",
      "reg [1:0] Dir = 2'b10;\n",
      "reg [3:0] JohnsonCount30_0_q_i = 0;\n",
      "\n",
      "\n",
      "\n",
      "always @(clk, rst, q, Dir) begin: JOHNSONCOUNT3_TBV_PRINT_DATA\n",
      "    $write(\"%h\", clk);\n",
      "    $write(\" \");\n",
      "    $write(\"%h\", rst);\n",
      "    $write(\" \");\n",
      "    $write(\"%h\", q);\n",
      "    $write(\" \");\n",
      "    $write(\"%h\", Dir);\n",
      "    $write(\"\\n\");\n",
      "end\n",
      "\n",
      "\n",
      "always @(posedge clk, negedge rst) begin: JOHNSONCOUNT3_TBV_JOHNSONCOUNT30_0_JCSTATEMACHINE\n",
      "    if (rst) begin\n",
      "        JohnsonCount30_0_q_i <= 0;\n",
      "    end\n",
      "    else if ((Dir == 2'b00)) begin\n",
      "        JohnsonCount30_0_q_i[4-1:1] <= JohnsonCount30_0_q_i[(4 - 1)-1:0];\n",
      "        JohnsonCount30_0_q_i[0] <= (!JohnsonCount30_0_q_i[(4 - 1)]);\n",
      "    end\n",
      "    else if ((Dir == 2'b01)) begin\n",
      "        JohnsonCount30_0_q_i <= JohnsonCount30_0_q_i;\n",
      "    end\n",
      "    else if ((Dir == 2'b10)) begin\n",
      "        JohnsonCount30_0_q_i[(4 - 1)-1:0] <= JohnsonCount30_0_q_i[4-1:1];\n",
      "        JohnsonCount30_0_q_i[(4 - 1)] <= (!JohnsonCount30_0_q_i[0]);\n",
      "    end\n",
      "end\n",
      "\n",
      "\n",
      "\n",
      "assign q = JohnsonCount30_0_q_i;\n",
      "\n",
      "\n",
      "initial begin: JOHNSONCOUNT3_TBV_CLK_SIGNAL\n",
      "    while (1'b1) begin\n",
      "        clk <= (!clk);\n",
      "        # 1;\n",
      "    end\n",
      "end\n",
      "\n",
      "\n",
      "initial begin: JOHNSONCOUNT3_TBV_STIMULES\n",
      "    integer i;\n",
      "    i = 0;\n",
      "    while (1'b1) begin\n",
      "        if ((i == ((2 * 2) * 4))) begin\n",
      "            Dir <= 2'b00;\n",
      "        end\n",
      "        else if ((i == ((4 * 2) * 4))) begin\n",
      "            rst <= 1;\n",
      "        end\n",
      "        else if ((i == (((4 * 2) * 4) + 1))) begin\n",
      "            rst <= 0;\n",
      "        end\n",
      "        else if ((i == (((4 * 2) * 4) + 2))) begin\n",
      "            Dir <= 2'b01;\n",
      "        end\n",
      "        else begin\n",
      "            // pass\n",
      "        end\n",
      "        if ((i == ((5 * 2) * 4))) begin\n",
      "            $finish;\n",
      "        end\n",
      "        i = i + 1;\n",
      "        @(posedge clk);\n",
      "    end\n",
      "end\n",
      "\n",
      "endmodule\n",
      "\n"
     ]
    }
   ],
   "source": [
    "@block\n",
    "def JohnsonCount3_TBV():\n",
    "    \"\"\"\n",
    "    myHDL -> Verilog Testbench for `UpDown_Counter` module\n",
    "    \"\"\"\n",
    "    \n",
    "    clk=Signal(bool(0))\n",
    "    rst=Signal(bool(0))\n",
    "    q=Signal(intbv(0)[BitSize:])\n",
    "    Dir=Signal(DirStates.Right)\n",
    "    \n",
    "    @always_comb\n",
    "    def print_data():\n",
    "        print(clk, rst, q, Dir)\n",
    "\n",
    "    DUT=JohnsonCount3(Dir, q, clk, rst)\n",
    "\n",
    "    @instance\n",
    "    def clk_signal():\n",
    "        while True:\n",
    "            clk.next = not clk\n",
    "            yield delay(1)\n",
    "    \n",
    "    @instance\n",
    "    def stimules():\n",
    "        i=0\n",
    "        while True:\n",
    "            if i==2*2*BitSize:\n",
    "                Dir.next=DirStates.Left\n",
    "            elif i==4*2*BitSize:\n",
    "                rst.next=1\n",
    "            elif i==4*2*BitSize+1:\n",
    "                rst.next=0\n",
    "            elif i==4*2*BitSize+2:\n",
    "                Dir.next=DirStates.Halt\n",
    "            else:\n",
    "                pass\n",
    "            \n",
    "            \n",
    "            if i==5*2*BitSize:\n",
    "                raise StopSimulation()\n",
    "                \n",
    "            i+=1\n",
    "            yield clk.posedge\n",
    "    \n",
    "    return instances()\n",
    "\n",
    "TB=JohnsonCount3_TBV()\n",
    "TB.convert(hdl=\"Verilog\", initial_values=True)\n",
    "VerilogTextReader('JohnsonCount3_TBV');"
   ]
  },
  {
   "cell_type": "markdown",
   "metadata": {},
   "source": [
    "# Ring Counter\n",
    "Like the Johnson Counter, which is the Mobius ring version of the Ring Counter, a Ring Counter is, in reality, a shift register The following are \n",
    "aspects of Ring Counter by Sougata Bhattacharjee [https://www.quora.com/What-is-the-difference-between-a-Johnson-counter-and-a-ring-counter]\n",
    "\n",
    "\\begin{itemize}\n",
    "\\item In a ring counter, the output of the last flip-flop is connected to the input of the first flip-flop.\n",
    "\n",
    "\\item If $n$ is the number of flip-flops that are used in ring counter, the number of possible states are also $n$.That means the number of states is equal to the number of flip-flops used.\n",
    "\n",
    "\\item A Ring counter is mostly used in Successive approximation type ADC and stepper motor control. \n",
    "\n",
    "\\item Decoding is easy in a ring counter as the number of states is equal to the number of flip-flops.\n",
    "\n",
    "\\item If the input frequency to a ring counter is $f$ then the output frequency $\\dfrac{f}{n}$.\n",
    "\n",
    "\\item The total number of unused states in the ring counter is $(2^n - n)$.\n",
    "\n",
    "\\end{itemize}\n",
    "\n",
    "For a four-bit ring counter, the next state diagram is given by the following table from [wikipedga](https://en.wikipedia.org/wiki/Ring_counter)\n",
    "\n",
    "\\begin{figure}\n",
    "\\centerline{\\includegraphics[width=1cm]{RingCounterNSTable.png}}\n",
    "\\caption{\\label{fig:RingTable} 4-bit Ring Counter next state table from [wikipedia](https://en.wikipedia.org/wiki/Ring_counter#Four-bit_ring-counter_sequences)}\n",
    "\\end{figure}\n"
   ]
  },
  {
   "cell_type": "markdown",
   "metadata": {},
   "source": [
    "# To DO\n",
    "## prototypeing ring counter sifting mechnism with use of `concat`"
   ]
  },
  {
   "cell_type": "code",
   "execution_count": 23,
   "metadata": {},
   "outputs": [
    {
     "data": {
      "text/plain": [
       "'0001'"
      ]
     },
     "execution_count": 23,
     "metadata": {},
     "output_type": "execute_result"
    }
   ],
   "source": [
    "#test with intbv\n",
    "#intialize \n",
    "q=intbv(1)[4:]\n",
    "bin(q, 4)"
   ]
  },
  {
   "cell_type": "code",
   "execution_count": 24,
   "metadata": {},
   "outputs": [
    {
     "name": "stdout",
     "output_type": "stream",
     "text": [
      "0:q=8, 1000\n",
      "1:q=4, 0100\n",
      "2:q=2, 0010\n",
      "3:q=1, 0001\n",
      "4:q=8, 1000\n",
      "5:q=4, 0100\n",
      "6:q=2, 0010\n",
      "7:q=1, 0001\n",
      "8:q=8, 1000\n"
     ]
    }
   ],
   "source": [
    "#demenstrate right shifting with intbv\n",
    "for i in range(9):\n",
    "    q=concat(q[0],q[4:1])\n",
    "    print(f'{i}:q={q}, {bin(q, 4)}')"
   ]
  },
  {
   "cell_type": "markdown",
   "metadata": {},
   "source": [
    "right shifting using `intbv` works"
   ]
  },
  {
   "cell_type": "code",
   "execution_count": 25,
   "metadata": {},
   "outputs": [
    {
     "data": {
      "text/plain": [
       "'0001'"
      ]
     },
     "execution_count": 25,
     "metadata": {},
     "output_type": "execute_result"
    }
   ],
   "source": [
    "#test with modbv\n",
    "#intialize \n",
    "q=modbv(1)[4:]\n",
    "bin(q, 4)"
   ]
  },
  {
   "cell_type": "code",
   "execution_count": 26,
   "metadata": {},
   "outputs": [
    {
     "name": "stdout",
     "output_type": "stream",
     "text": [
      "0:q=8, 1000\n",
      "1:q=4, 0100\n",
      "2:q=2, 0010\n",
      "3:q=1, 0001\n",
      "4:q=8, 1000\n",
      "5:q=4, 0100\n",
      "6:q=2, 0010\n",
      "7:q=1, 0001\n",
      "8:q=8, 1000\n"
     ]
    }
   ],
   "source": [
    "#demenstrate right shifting with modbv\n",
    "for i in range(9):\n",
    "    q=concat(q[0],q[4:1])\n",
    "    print(f'{i}:q={q}, {bin(q, 4)}')"
   ]
  },
  {
   "cell_type": "markdown",
   "metadata": {},
   "source": [
    "using `modbv` works as well as `intbv` for right shifting"
   ]
  },
  {
   "cell_type": "code",
   "execution_count": 27,
   "metadata": {},
   "outputs": [
    {
     "data": {
      "text/plain": [
       "'0001'"
      ]
     },
     "execution_count": 27,
     "metadata": {},
     "output_type": "execute_result"
    }
   ],
   "source": [
    "#test with intbv\n",
    "#intialize \n",
    "q=intbv(1)[4:]\n",
    "bin(q, 4)"
   ]
  },
  {
   "cell_type": "code",
   "execution_count": 28,
   "metadata": {},
   "outputs": [
    {
     "name": "stdout",
     "output_type": "stream",
     "text": [
      "0:q=2, 0010\n",
      "1:q=4, 0100\n",
      "2:q=8, 1000\n",
      "3:q=0, 0000\n",
      "4:q=0, 0000\n",
      "5:q=0, 0000\n",
      "6:q=0, 0000\n",
      "7:q=0, 0000\n",
      "8:q=0, 0000\n"
     ]
    }
   ],
   "source": [
    "#demenstrate left shifting with intbv\n",
    "for i in range(9):\n",
    "    q=concat(q[3:0],q[4])\n",
    "    print(f'{i}:q={q}, {bin(q, 4)}')"
   ]
  },
  {
   "cell_type": "markdown",
   "metadata": {},
   "source": [
    "there is a proplom in the shift from `1000` back to `0001` "
   ]
  },
  {
   "cell_type": "code",
   "execution_count": 29,
   "metadata": {},
   "outputs": [
    {
     "data": {
      "text/plain": [
       "'0001'"
      ]
     },
     "execution_count": 29,
     "metadata": {},
     "output_type": "execute_result"
    }
   ],
   "source": [
    "#test with modbv\n",
    "#intialize \n",
    "q=modbv(1)[4:]\n",
    "bin(q, 4)"
   ]
  },
  {
   "cell_type": "code",
   "execution_count": 30,
   "metadata": {},
   "outputs": [
    {
     "name": "stdout",
     "output_type": "stream",
     "text": [
      "0:q=2, 0010\n",
      "1:q=4, 0100\n",
      "2:q=8, 1000\n",
      "3:q=0, 0000\n",
      "4:q=0, 0000\n",
      "5:q=0, 0000\n",
      "6:q=0, 0000\n",
      "7:q=0, 0000\n",
      "8:q=0, 0000\n"
     ]
    }
   ],
   "source": [
    "#demenstrate left shifting with modbv\n",
    "for i in range(9):\n",
    "    q=concat(q[3:0],q[4])\n",
    "    print(f'{i}:q={q}, {bin(q, 4)}')"
   ]
  },
  {
   "cell_type": "markdown",
   "metadata": {},
   "source": [
    "the proplom still presists in the shift from `1000` back to `0001`"
   ]
  }
 ],
 "metadata": {
  "author": "Shift Registers in myHDL (Draft State)",
  "hide_input": false,
  "kernelspec": {
   "display_name": "Python 3",
   "language": "python",
   "name": "python3"
  },
  "language_info": {
   "codemirror_mode": {
    "name": "ipython",
    "version": 3
   },
   "file_extension": ".py",
   "mimetype": "text/x-python",
   "name": "python",
   "nbconvert_exporter": "python",
   "pygments_lexer": "ipython3",
   "version": "3.6.2"
  },
  "latex_envs": {
   "LaTeX_envs_menu_present": true,
   "autoclose": false,
   "autocomplete": true,
   "bibliofile": "biblio.bib",
   "cite_by": "apalike",
   "current_citInitial": 1,
   "eqLabelWithNumbers": true,
   "eqNumInitial": 1,
   "hotkeys": {
    "equation": "Ctrl-E",
    "itemize": "Ctrl-I"
   },
   "labels_anchors": false,
   "latex_user_defs": false,
   "report_style_numbering": false,
   "user_envs_cfg": false
  },
  "toc": {
   "nav_menu": {},
   "number_sections": true,
   "sideBar": true,
   "skip_h1_title": false,
   "toc_cell": true,
   "toc_position": {
    "height": "684px",
    "left": "0px",
    "right": "1533.47px",
    "top": "185px",
    "width": "212px"
   },
   "toc_section_display": true,
   "toc_window_display": true
  }
 },
 "nbformat": 4,
 "nbformat_minor": 2
}
