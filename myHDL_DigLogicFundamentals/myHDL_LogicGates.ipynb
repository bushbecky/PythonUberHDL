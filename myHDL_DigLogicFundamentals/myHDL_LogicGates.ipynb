{
 "cells": [
  {
   "cell_type": "markdown",
   "metadata": {},
   "source": [
    "\\title{Basic Digital Logic Gates with myHDL}\n",
    "\\author{Steven K Armour}\n",
    "\\maketitle"
   ]
  },
  {
   "cell_type": "markdown",
   "metadata": {
    "toc": "true"
   },
   "source": [
    "# Table of Contents\n",
    " <p><div class=\"lev1 toc-item\"><a href=\"#Refs\" data-toc-modified-id=\"Refs-1\"><span class=\"toc-item-num\">1&nbsp;&nbsp;</span>Refs</a></div><div class=\"lev1 toc-item\"><a href=\"#Acknowledgments\" data-toc-modified-id=\"Acknowledgments-2\"><span class=\"toc-item-num\">2&nbsp;&nbsp;</span>Acknowledgments</a></div><div class=\"lev1 toc-item\"><a href=\"#Python-Liraries-Utilized\" data-toc-modified-id=\"Python-Liraries-Utilized-3\"><span class=\"toc-item-num\">3&nbsp;&nbsp;</span>Python Liraries Utilized</a></div><div class=\"lev1 toc-item\"><a href=\"#NOT-(inverter)\" data-toc-modified-id=\"NOT-(inverter)-4\"><span class=\"toc-item-num\">4&nbsp;&nbsp;</span>NOT (inverter)</a></div><div class=\"lev2 toc-item\"><a href=\"#Symbols\" data-toc-modified-id=\"Symbols-41\"><span class=\"toc-item-num\">4.1&nbsp;&nbsp;</span>Symbols</a></div><div class=\"lev2 toc-item\"><a href=\"#NOT-Gate-Definition\" data-toc-modified-id=\"NOT-Gate-Definition-42\"><span class=\"toc-item-num\">4.2&nbsp;&nbsp;</span>NOT Gate Definition</a></div><div class=\"lev2 toc-item\"><a href=\"#NOT-Gate-in-Sympy-and-Python\" data-toc-modified-id=\"NOT-Gate-in-Sympy-and-Python-43\"><span class=\"toc-item-num\">4.3&nbsp;&nbsp;</span>NOT Gate in Sympy and Python</a></div><div class=\"lev2 toc-item\"><a href=\"#NOT-Gate-in-myHDL\" data-toc-modified-id=\"NOT-Gate-in-myHDL-44\"><span class=\"toc-item-num\">4.4&nbsp;&nbsp;</span>NOT Gate in myHDL</a></div><div class=\"lev3 toc-item\"><a href=\"#Issue\" data-toc-modified-id=\"Issue-441\"><span class=\"toc-item-num\">4.4.1&nbsp;&nbsp;</span>Issue</a></div><div class=\"lev2 toc-item\"><a href=\"#myHDL-NOT-Gate-Testing\" data-toc-modified-id=\"myHDL-NOT-Gate-Testing-45\"><span class=\"toc-item-num\">4.5&nbsp;&nbsp;</span>myHDL NOT Gate Testing</a></div><div class=\"lev2 toc-item\"><a href=\"#myHDL-NOT-Gate-to-HDL\" data-toc-modified-id=\"myHDL-NOT-Gate-to-HDL-46\"><span class=\"toc-item-num\">4.6&nbsp;&nbsp;</span>myHDL NOT Gate to HDL</a></div><div class=\"lev1 toc-item\"><a href=\"#AND\" data-toc-modified-id=\"AND-5\"><span class=\"toc-item-num\">5&nbsp;&nbsp;</span>AND</a></div><div class=\"lev2 toc-item\"><a href=\"#Symbols\" data-toc-modified-id=\"Symbols-51\"><span class=\"toc-item-num\">5.1&nbsp;&nbsp;</span>Symbols</a></div><div class=\"lev2 toc-item\"><a href=\"#AND-Gate-Definition\" data-toc-modified-id=\"AND-Gate-Definition-52\"><span class=\"toc-item-num\">5.2&nbsp;&nbsp;</span>AND Gate Definition</a></div><div class=\"lev2 toc-item\"><a href=\"#AND-Gate-in-Sympy-and-Python\" data-toc-modified-id=\"AND-Gate-in-Sympy-and-Python-53\"><span class=\"toc-item-num\">5.3&nbsp;&nbsp;</span>AND Gate in Sympy and Python</a></div><div class=\"lev2 toc-item\"><a href=\"#myHDL-Two-input-AND-Gate-and-Testing\" data-toc-modified-id=\"myHDL-Two-input-AND-Gate-and-Testing-54\"><span class=\"toc-item-num\">5.4&nbsp;&nbsp;</span>myHDL Two input AND Gate and Testing</a></div><div class=\"lev2 toc-item\"><a href=\"#myHDL-Three-Input-AND-Gate-and-Testing\" data-toc-modified-id=\"myHDL-Three-Input-AND-Gate-and-Testing-55\"><span class=\"toc-item-num\">5.5&nbsp;&nbsp;</span>myHDL Three Input AND Gate and Testing</a></div><div class=\"lev2 toc-item\"><a href=\"#myHDL-Three-Input-AND-Gate-HDL-Synthesis\" data-toc-modified-id=\"myHDL-Three-Input-AND-Gate-HDL-Synthesis-56\"><span class=\"toc-item-num\">5.6&nbsp;&nbsp;</span>myHDL Three Input AND Gate HDL Synthesis</a></div><div class=\"lev1 toc-item\"><a href=\"#OR\" data-toc-modified-id=\"OR-6\"><span class=\"toc-item-num\">6&nbsp;&nbsp;</span>OR</a></div><div class=\"lev2 toc-item\"><a href=\"#Symbols\" data-toc-modified-id=\"Symbols-61\"><span class=\"toc-item-num\">6.1&nbsp;&nbsp;</span>Symbols</a></div><div class=\"lev2 toc-item\"><a href=\"#OR-Gate-Definition\" data-toc-modified-id=\"OR-Gate-Definition-62\"><span class=\"toc-item-num\">6.2&nbsp;&nbsp;</span>OR Gate Definition</a></div><div class=\"lev2 toc-item\"><a href=\"#OR-Gate-in-Sympy-and-Python\" data-toc-modified-id=\"OR-Gate-in-Sympy-and-Python-63\"><span class=\"toc-item-num\">6.3&nbsp;&nbsp;</span>OR Gate in Sympy and Python</a></div><div class=\"lev2 toc-item\"><a href=\"#myHDL-Two-Input-OR-Gate-and-Testing\" data-toc-modified-id=\"myHDL-Two-Input-OR-Gate-and-Testing-64\"><span class=\"toc-item-num\">6.4&nbsp;&nbsp;</span>myHDL Two Input OR Gate and Testing</a></div><div class=\"lev2 toc-item\"><a href=\"#myHDL-Three-Input-OR-Gate-and-Testing\" data-toc-modified-id=\"myHDL-Three-Input-OR-Gate-and-Testing-65\"><span class=\"toc-item-num\">6.5&nbsp;&nbsp;</span>myHDL Three Input OR Gate and Testing</a></div><div class=\"lev2 toc-item\"><a href=\"#myHDL-Three-Input-AND-Gate-HDL-Synthesis\" data-toc-modified-id=\"myHDL-Three-Input-AND-Gate-HDL-Synthesis-66\"><span class=\"toc-item-num\">6.6&nbsp;&nbsp;</span>myHDL Three Input AND Gate HDL Synthesis</a></div><div class=\"lev1 toc-item\"><a href=\"#DeMorgan's-theorem\" data-toc-modified-id=\"DeMorgan's-theorem-7\"><span class=\"toc-item-num\">7&nbsp;&nbsp;</span>DeMorgan's theorem</a></div><div class=\"lev1 toc-item\"><a href=\"#NAND\" data-toc-modified-id=\"NAND-8\"><span class=\"toc-item-num\">8&nbsp;&nbsp;</span>NAND</a></div><div class=\"lev2 toc-item\"><a href=\"#Symbols\" data-toc-modified-id=\"Symbols-81\"><span class=\"toc-item-num\">8.1&nbsp;&nbsp;</span>Symbols</a></div><div class=\"lev2 toc-item\"><a href=\"#NAND-Gate-Definition\" data-toc-modified-id=\"NAND-Gate-Definition-82\"><span class=\"toc-item-num\">8.2&nbsp;&nbsp;</span>NAND Gate Definition</a></div><div class=\"lev2 toc-item\"><a href=\"#NAND-Gate-in-Sympy-and-Python\" data-toc-modified-id=\"NAND-Gate-in-Sympy-and-Python-83\"><span class=\"toc-item-num\">8.3&nbsp;&nbsp;</span>NAND Gate in Sympy and Python</a></div><div class=\"lev2 toc-item\"><a href=\"#myHDL-Two-Input-NAND-Gate-and-Testing\" data-toc-modified-id=\"myHDL-Two-Input-NAND-Gate-and-Testing-84\"><span class=\"toc-item-num\">8.4&nbsp;&nbsp;</span>myHDL Two Input NAND Gate and Testing</a></div><div class=\"lev2 toc-item\"><a href=\"#myHDL-Three-Input-NAND-Gate-and-Testing\" data-toc-modified-id=\"myHDL-Three-Input-NAND-Gate-and-Testing-85\"><span class=\"toc-item-num\">8.5&nbsp;&nbsp;</span>myHDL Three Input NAND Gate and Testing</a></div><div class=\"lev2 toc-item\"><a href=\"#myHDL-Three-Input-NAND-Gate-HDL-Synthesis\" data-toc-modified-id=\"myHDL-Three-Input-NAND-Gate-HDL-Synthesis-86\"><span class=\"toc-item-num\">8.6&nbsp;&nbsp;</span>myHDL Three Input NAND Gate HDL Synthesis</a></div><div class=\"lev1 toc-item\"><a href=\"#NOR\" data-toc-modified-id=\"NOR-9\"><span class=\"toc-item-num\">9&nbsp;&nbsp;</span>NOR</a></div><div class=\"lev2 toc-item\"><a href=\"#Symbols\" data-toc-modified-id=\"Symbols-91\"><span class=\"toc-item-num\">9.1&nbsp;&nbsp;</span>Symbols</a></div><div class=\"lev2 toc-item\"><a href=\"#NOR-Gate-Definition\" data-toc-modified-id=\"NOR-Gate-Definition-92\"><span class=\"toc-item-num\">9.2&nbsp;&nbsp;</span>NOR Gate Definition</a></div><div class=\"lev2 toc-item\"><a href=\"#NOR-Gate-in-Sympy-and-Python\" data-toc-modified-id=\"NOR-Gate-in-Sympy-and-Python-93\"><span class=\"toc-item-num\">9.3&nbsp;&nbsp;</span>NOR Gate in Sympy and Python</a></div><div class=\"lev2 toc-item\"><a href=\"#myHDL-Two-Input-NOR-Gate-and-Testing\" data-toc-modified-id=\"myHDL-Two-Input-NOR-Gate-and-Testing-94\"><span class=\"toc-item-num\">9.4&nbsp;&nbsp;</span>myHDL Two Input NOR Gate and Testing</a></div><div class=\"lev2 toc-item\"><a href=\"#myHDL-Two-Input-NOR-Gate-HDL-Synthesis\" data-toc-modified-id=\"myHDL-Two-Input-NOR-Gate-HDL-Synthesis-95\"><span class=\"toc-item-num\">9.5&nbsp;&nbsp;</span>myHDL Two Input NOR Gate HDL Synthesis</a></div><div class=\"lev1 toc-item\"><a href=\"#XOR\" data-toc-modified-id=\"XOR-10\"><span class=\"toc-item-num\">10&nbsp;&nbsp;</span>XOR</a></div><div class=\"lev2 toc-item\"><a href=\"#Symbols\" data-toc-modified-id=\"Symbols-101\"><span class=\"toc-item-num\">10.1&nbsp;&nbsp;</span>Symbols</a></div><div class=\"lev2 toc-item\"><a href=\"#XOR-Gate-Definition\" data-toc-modified-id=\"XOR-Gate-Definition-102\"><span class=\"toc-item-num\">10.2&nbsp;&nbsp;</span>XOR Gate Definition</a></div><div class=\"lev3 toc-item\"><a href=\"#need-to-come-up-with-this\" data-toc-modified-id=\"need-to-come-up-with-this-1021\"><span class=\"toc-item-num\">10.2.1&nbsp;&nbsp;</span>need to come up with this</a></div><div class=\"lev2 toc-item\"><a href=\"#XOR-Gate-in-Sympy-and-Python\" data-toc-modified-id=\"XOR-Gate-in-Sympy-and-Python-103\"><span class=\"toc-item-num\">10.3&nbsp;&nbsp;</span>XOR Gate in Sympy and Python</a></div><div class=\"lev2 toc-item\"><a href=\"#myHDL-Two-Input-XOR-Gate-and-Testing\" data-toc-modified-id=\"myHDL-Two-Input-XOR-Gate-and-Testing-104\"><span class=\"toc-item-num\">10.4&nbsp;&nbsp;</span>myHDL Two Input XOR Gate and Testing</a></div><div class=\"lev2 toc-item\"><a href=\"#myHDL-Two-Input-XOR-gate-HDL-Synthesis\" data-toc-modified-id=\"myHDL-Two-Input-XOR-gate-HDL-Synthesis-105\"><span class=\"toc-item-num\">10.5&nbsp;&nbsp;</span>myHDL Two Input XOR gate HDL Synthesis</a></div><div class=\"lev3 toc-item\"><a href=\"#!Need-to-add-the-RTL-schematic\" data-toc-modified-id=\"!Need-to-add-the-RTL-schematic-1051\"><span class=\"toc-item-num\">10.5.1&nbsp;&nbsp;</span>!Need to add the RTL schematic</a></div><div class=\"lev1 toc-item\"><a href=\"#Min-&amp;-Max-Terms,-SOP-POS\" data-toc-modified-id=\"Min-&amp;-Max-Terms,-SOP-POS-11\"><span class=\"toc-item-num\">11&nbsp;&nbsp;</span>Min &amp; Max Terms, SOP POS</a></div><div class=\"lev1 toc-item\"><a href=\"#KMaps\" data-toc-modified-id=\"KMaps-12\"><span class=\"toc-item-num\">12&nbsp;&nbsp;</span>KMaps</a></div><div class=\"lev1 toc-item\"><a href=\"#Examples-of-boolean-expressions\" data-toc-modified-id=\"Examples-of-boolean-expressions-13\"><span class=\"toc-item-num\">13&nbsp;&nbsp;</span>Examples of boolean expressions</a></div><div class=\"lev2 toc-item\"><a href=\"#Exsample-of-a-2-bit-7-Segment-Display-Logic-Synthesis\" data-toc-modified-id=\"Exsample-of-a-2-bit-7-Segment-Display-Logic-Synthesis-131\"><span class=\"toc-item-num\">13.1&nbsp;&nbsp;</span>Exsample of a 2 bit 7 Segment Display Logic Synthesis</a></div>"
   ]
  },
  {
   "cell_type": "markdown",
   "metadata": {},
   "source": [
    "# Refs\n",
    "@book{brown_vranesic_2014,\n",
    "place={New York, NY},\n",
    "edition={3},\n",
    "title={Fundamentals of digital logic with Verilog design},\n",
    "publisher={McGraw-Hill},\n",
    "author={Brown, Stephen and Vranesic, Zvonko G},\n",
    "year={2014}\n",
    "},\n",
    "\n",
    "@book{lameres_2017,\n",
    "title={Introduction to logic circuits & logic design with Verilog},\n",
    "publisher={springer},\n",
    "author={LaMeres, Brock J},\n",
    "year={2017}\n",
    "}"
   ]
  },
  {
   "cell_type": "markdown",
   "metadata": {},
   "source": [
    "# Acknowledgments\n",
    "\n",
    "Author of **myHDL** [Jan Decaluwe](http://www.myhdl.org/users/jandecaluwe.html) and the author of the **myHDL Peeker** [XESS Corp.](https://github.com/xesscorp/myhdlpeek)\n",
    "\n",
    "[**Draw.io**](https://www.draw.io/)\n",
    "\n",
    "**Xilinx**"
   ]
  },
  {
   "cell_type": "markdown",
   "metadata": {},
   "source": [
    "# Python Liraries Utilized"
   ]
  },
  {
   "cell_type": "code",
   "execution_count": 1,
   "metadata": {
    "collapsed": true
   },
   "outputs": [],
   "source": [
    "import numpy as np\n",
    "import pandas as pd\n",
    "from sympy import *\n",
    "init_printing()\n",
    "\n",
    "from myhdl import *\n",
    "from myhdlpeek import *\n",
    "import random\n",
    "\n",
    "#python file of convince tools. Should be located with this notebook\n",
    "from sympy_myhdl_tools import *"
   ]
  },
  {
   "cell_type": "markdown",
   "metadata": {},
   "source": [
    "# NOT (inverter)"
   ]
  },
  {
   "cell_type": "markdown",
   "metadata": {},
   "source": [
    "## Symbols \n",
    "The symbols for the NOT gate are shown below\n",
    "<img style=\"float: center;\" src=\"NotagateDig.jpg\">"
   ]
  },
  {
   "cell_type": "markdown",
   "metadata": {},
   "source": [
    "## NOT Gate Definition"
   ]
  },
  {
   "cell_type": "markdown",
   "metadata": {},
   "source": [
    "\\begin{definition}\\label{def:not}\n",
    "A NOT logic gate; also called an inverter, is a single input, single output gate that will output the boolean value opposite (inverted) to that which was inputted.\n",
    "Its govering equation is given by:\n",
    "$$y_{out}= \\bar{x_{in}}$$\n",
    "or can be repersented (as sympy does )\n",
    "$$y_{out} = \\neg x_{in}$$\n",
    "\\end{definition}"
   ]
  },
  {
   "cell_type": "markdown",
   "metadata": {},
   "source": [
    "## NOT Gate in Sympy and Python"
   ]
  },
  {
   "cell_type": "code",
   "execution_count": 2,
   "metadata": {},
   "outputs": [
    {
     "data": {
      "image/png": "[encoded data removed]",
      "text/latex": [
       "$$\\left ( y_{out} = \\neg x_{in}, \\quad y_{out} = \\neg x_{in}\\right )$$"
      ],
      "text/plain": [
       "(yₒᵤₜ = ¬xᵢₙ, yₒᵤₜ = ¬xᵢₙ)"
      ]
     },
     "execution_count": 2,
     "metadata": {},
     "output_type": "execute_result"
    }
   ],
   "source": [
    "x_in, y_out=symbols('x_in, y_out')\n",
    "NOTDef1=Eq(y_out, ~x_in)\n",
    "NOTDef2=Eq(y_out, Not(x_in))\n",
    "NOTDef1, NOTDef2"
   ]
  },
  {
   "cell_type": "code",
   "execution_count": 3,
   "metadata": {},
   "outputs": [
    {
     "data": {
      "text/html": [
       "<div>\n",
       "<style>\n",
       "    .dataframe thead tr:only-child th {\n",
       "        text-align: right;\n",
       "    }\n",
       "\n",
       "    .dataframe thead th {\n",
       "        text-align: left;\n",
       "    }\n",
       "\n",
       "    .dataframe tbody tr th {\n",
       "        vertical-align: top;\n",
       "    }\n",
       "</style>\n",
       "<table border=\"1\" class=\"dataframe\">\n",
       "  <thead>\n",
       "    <tr style=\"text-align: right;\">\n",
       "      <th></th>\n",
       "      <th>x_in</th>\n",
       "      <th>y_out</th>\n",
       "    </tr>\n",
       "  </thead>\n",
       "  <tbody>\n",
       "    <tr>\n",
       "      <th>0</th>\n",
       "      <td>0</td>\n",
       "      <td>1</td>\n",
       "    </tr>\n",
       "    <tr>\n",
       "      <th>1</th>\n",
       "      <td>1</td>\n",
       "      <td>0</td>\n",
       "    </tr>\n",
       "  </tbody>\n",
       "</table>\n",
       "</div>"
      ],
      "text/plain": [
       "   x_in  y_out\n",
       "0     0      1\n",
       "1     1      0"
      ]
     },
     "execution_count": 3,
     "metadata": {},
     "output_type": "execute_result"
    }
   ],
   "source": [
    "NOT_TT=TruthTabelGenrator(NOTDef1)\n",
    "NOT_TT"
   ]
  },
  {
   "cell_type": "code",
   "execution_count": 4,
   "metadata": {},
   "outputs": [
    {
     "data": {
      "text/plain": [
       "True"
      ]
     },
     "execution_count": 4,
     "metadata": {},
     "output_type": "execute_result"
    }
   ],
   "source": [
    "NOTDef1N=lambdify((x_in), NOTDef1.rhs, dummify=False)\n",
    "NOTDef1N(False)"
   ]
  },
  {
   "cell_type": "code",
   "execution_count": 5,
   "metadata": {
    "collapsed": true
   },
   "outputs": [],
   "source": [
    "pyNOTEq1=lambda x: not x"
   ]
  },
  {
   "cell_type": "code",
   "execution_count": 6,
   "metadata": {},
   "outputs": [
    {
     "data": {
      "text/plain": [
       "True"
      ]
     },
     "execution_count": 6,
     "metadata": {},
     "output_type": "execute_result"
    }
   ],
   "source": [
    "pyNOTEq1(False)"
   ]
  },
  {
   "cell_type": "markdown",
   "metadata": {},
   "source": [
    "## NOT Gate in myHDL"
   ]
  },
  {
   "cell_type": "code",
   "execution_count": 7,
   "metadata": {
    "collapsed": true
   },
   "outputs": [],
   "source": [
    "#create a HDL Module (python function) and its I\\O ports\n",
    "def NotGate(x_in, y_out):\n",
    "    \"\"\"Not Logic Gate myHDL Module (function)\n",
    "    \n",
    "    Args:\n",
    "        x_in: bool Input port\n",
    "        y_out: bool Output port\n",
    "    \n",
    "    Returns:\n",
    "        NOT Combo logic operation\n",
    "        \n",
    "    \"\"\"\n",
    "    #define what this module is to do\n",
    "    \n",
    "    #myHDL built in decorator to say the function is exuiquated on each\n",
    "    #clock cycle\n",
    "    @always_comb\n",
    "    def logic():\n",
    "        \n",
    "        #state the logic operation: in this case negation of the input 'x_in'\n",
    "        #mapped to the ouput 'y_out' at each Clock cycle\n",
    "        y_out.next= not x_in\n",
    "        \n",
    "    return logic"
   ]
  },
  {
   "cell_type": "markdown",
   "metadata": {},
   "source": [
    "### Issue\n",
    "At the moment there was a backward compatibility break so that myHDL could call in stuff from lambda functions involving strargs, see: https://github.com/myhdl/myhdl/issues/148\n",
    "\n",
    "Till this gets fixed no instant lampdafiy into the logic to define the thing but when this gets fixed I am trying that out "
   ]
  },
  {
   "cell_type": "markdown",
   "metadata": {},
   "source": [
    "## myHDL NOT Gate Testing"
   ]
  },
  {
   "cell_type": "code",
   "execution_count": 8,
   "metadata": {},
   "outputs": [
    {
     "name": "stderr",
     "output_type": "stream",
     "text": [
      "<class 'myhdl.StopSimulation'>: No more events\n"
     ]
    },
    {
     "data": {
      "text/html": [
       "<div><script type=\"WaveDrom\">{\"signal\": [{\"name\": \"x_in\", \"wave\": \"010..\"}, {\"name\": \"y_out\", \"wave\": \"101..\"}], \"head\": {\"text\": [\"tspan\", [\"tspan\", {\"fill\": \"blue\", \"font-size\": \"16\", \"font-weight\": \"bold\"}, \"NOT gate simulation\"]], \"tock\": 0}, \"foot\": {\"text\": [\"tspan\", [\"tspan\", {\"font-style\": \"italic\"}, \"after clock cycle 1 ->random input\"]], \"tock\": 0}}</script></div>"
      ]
     },
     "metadata": {},
     "output_type": "display_data"
    },
    {
     "data": {
      "application/javascript": [
       "$.getScript(\"http://wavedrom.com/wavedrom.min.js\", function () {\n",
       "$.getScript(\"http://wavedrom.com/skins/default.js\", function () {\n",
       "WaveDrom.ProcessAll();});\n",
       "});\n"
      ]
     },
     "metadata": {},
     "output_type": "display_data"
    }
   ],
   "source": [
    "#create the test signals and intilize value to both be false(0)\n",
    "x_in, y_out=[Signal(bool(0)) for _ in range(2)]\n",
    "#Peeker is helper libary for viewing wavefrom outputs and run the sim inside\n",
    "#jupyter notebooks\n",
    "#clear any previeese data loaded into peeker\n",
    "Peeker.clear()\n",
    "#load and name the signals to watch into peeker\n",
    "Peeker(x_in, 'x_in')\n",
    "Peeker(y_out, 'y_out')\n",
    "\n",
    "#make an instatince of the NotGate as the DUT\n",
    "DUT=NotGate(x_in=x_in, y_out=y_out)\n",
    "inputs=[x_in]\n",
    "sim=Simulation(DUT, Combo_TB(inputs), *Peeker.instances()).run()        \n",
    "Peeker.to_wavedrom(start_time=0, stop_time=2*2**len(inputs), tock=True,\n",
    "                  title='NOT gate simulation',\n",
    "                  caption=f'after clock cycle {2**len(inputs)-1} ->random input')\n"
   ]
  },
  {
   "cell_type": "code",
   "execution_count": 10,
   "metadata": {},
   "outputs": [
    {
     "data": {
      "text/html": [
       "<div>\n",
       "<style>\n",
       "    .dataframe thead tr:only-child th {\n",
       "        text-align: right;\n",
       "    }\n",
       "\n",
       "    .dataframe thead th {\n",
       "        text-align: left;\n",
       "    }\n",
       "\n",
       "    .dataframe tbody tr th {\n",
       "        vertical-align: top;\n",
       "    }\n",
       "</style>\n",
       "<table border=\"1\" class=\"dataframe\">\n",
       "  <thead>\n",
       "    <tr style=\"text-align: right;\">\n",
       "      <th></th>\n",
       "      <th>x_in</th>\n",
       "      <th>y_out</th>\n",
       "    </tr>\n",
       "  </thead>\n",
       "  <tbody>\n",
       "    <tr>\n",
       "      <th>0</th>\n",
       "      <td>0</td>\n",
       "      <td>1</td>\n",
       "    </tr>\n",
       "    <tr>\n",
       "      <th>1</th>\n",
       "      <td>1</td>\n",
       "      <td>0</td>\n",
       "    </tr>\n",
       "    <tr>\n",
       "      <th>2</th>\n",
       "      <td>0</td>\n",
       "      <td>1</td>\n",
       "    </tr>\n",
       "  </tbody>\n",
       "</table>\n",
       "</div>"
      ],
      "text/plain": [
       "  x_in y_out\n",
       "0    0     1\n",
       "1    1     0\n",
       "2    0     1"
      ]
     },
     "execution_count": 10,
     "metadata": {},
     "output_type": "execute_result"
    }
   ],
   "source": [
    "MakeDFfromPeeker(Peeker.to_wavejson())"
   ]
  },
  {
   "cell_type": "markdown",
   "metadata": {},
   "source": [
    "## myHDL NOT Gate to HDL"
   ]
  },
  {
   "cell_type": "code",
   "execution_count": 11,
   "metadata": {},
   "outputs": [
    {
     "name": "stdout",
     "output_type": "stream",
     "text": [
      "***Verilog modual from NotGate.v***\n",
      "\n",
      " // File: NotGate.v\n",
      "// Generated by MyHDL 0.9.0\n",
      "// Date: Mon Oct  9 02:48:20 2017\n",
      "\n",
      "\n",
      "`timescale 1ns/10ps\n",
      "\n",
      "module NotGate (\n",
      "    x_in,\n",
      "    y_out\n",
      ");\n",
      "// Not Logic Gate myHDL Module (function)\n",
      "// \n",
      "// Args:\n",
      "//     x_in: bool Input port\n",
      "//     y_out: bool Output port\n",
      "// \n",
      "// Returns:\n",
      "//     NOT Combo logic operation\n",
      "//     \n",
      "\n",
      "input x_in;\n",
      "output y_out;\n",
      "wire y_out;\n",
      "\n",
      "\n",
      "\n",
      "\n",
      "\n",
      "\n",
      "\n",
      "assign y_out = (!x_in);\n",
      "\n",
      "endmodule\n",
      "\n"
     ]
    }
   ],
   "source": [
    "toVerilog(NotGate, x_in, y_out)\n",
    "toVHDL(NotGate, x_in, y_out)\n",
    "_=VerilogTextReader('NotGate')\n"
   ]
  },
  {
   "cell_type": "code",
   "execution_count": 12,
   "metadata": {},
   "outputs": [
    {
     "name": "stdout",
     "output_type": "stream",
     "text": [
      "***VHDL modual from NotGate.vhd***\n",
      "\n",
      " -- File: NotGate.vhd\n",
      "-- Generated by MyHDL 0.9.0\n",
      "-- Date: Mon Oct  9 02:48:20 2017\n",
      "\n",
      "\n",
      "library IEEE;\n",
      "use IEEE.std_logic_1164.all;\n",
      "use IEEE.numeric_std.all;\n",
      "use std.textio.all;\n",
      "\n",
      "use work.pck_myhdl_090.all;\n",
      "\n",
      "entity NotGate is\n",
      "    port (\n",
      "        x_in: in std_logic;\n",
      "        y_out: out std_logic\n",
      "    );\n",
      "end entity NotGate;\n",
      "-- Not Logic Gate myHDL Module (function)\n",
      "-- \n",
      "-- Args:\n",
      "--     x_in: bool Input port\n",
      "--     y_out: bool Output port\n",
      "-- \n",
      "-- Returns:\n",
      "--     NOT Combo logic operation\n",
      "--     \n",
      "\n",
      "architecture MyHDL of NotGate is\n",
      "\n",
      "\n",
      "\n",
      "\n",
      "\n",
      "\n",
      "begin\n",
      "\n",
      "\n",
      "\n",
      "\n",
      "\n",
      "\n",
      "y_out <= stdl((not bool(x_in)));\n",
      "\n",
      "end architecture MyHDL;\n",
      "\n"
     ]
    }
   ],
   "source": [
    "_=VHDLTextReader('NotGate')"
   ]
  },
  {
   "cell_type": "markdown",
   "metadata": {},
   "source": [
    "The following shows the **Xilinx**'s _Vivado 2016.1_ RTL generated schematic of our NOT Gate from the synthesised verilog code\n",
    "<img style=\"float: center;\" src=\"NotGateRTLSch.PNG\">"
   ]
  },
  {
   "cell_type": "markdown",
   "metadata": {},
   "source": [
    "# AND"
   ]
  },
  {
   "cell_type": "markdown",
   "metadata": {},
   "source": [
    "## Symbols"
   ]
  },
  {
   "cell_type": "markdown",
   "metadata": {},
   "source": [
    "The symbols for an AND gate are shown below\n",
    "<img style=\"float: center;\" src=\"AndGateDig.jpg\">"
   ]
  },
  {
   "cell_type": "markdown",
   "metadata": {},
   "source": [
    "## AND Gate Definition"
   ]
  },
  {
   "cell_type": "markdown",
   "metadata": {},
   "source": [
    "\\begin{definition}\n",
    "An AND gate is a multi input single output logic gate that gives the multiplication of the boolean inputs as its output.\n",
    "$$y_{\\text{out}}=\\prod_{i=1}^{N\\geq 2} x_{i\\text{ in} }$$\n",
    "    \n",
    " In more compact notation it is represented as (for a 2-input):\n",
    " $$y_{\\text{out}}=x_{1\\text{ in} } \\cdot x_{2\\text{ in} }$$\n",
    " Which can also be written (as sympy does) as:\n",
    " $$y_{\\text{out}}=x_{1\\text{ in} }  \\wedge  x_{2\\text{ in} }$$\n",
    "\\end{definition} "
   ]
  },
  {
   "cell_type": "markdown",
   "metadata": {},
   "source": [
    "## AND Gate in Sympy and Python"
   ]
  },
  {
   "cell_type": "code",
   "execution_count": 13,
   "metadata": {},
   "outputs": [
    {
     "data": {
      "image/png": "[encoded data removed]",
      "text/latex": [
       "$$\\left ( y_{out} = x_{1in} \\wedge x_{2in}, \\quad y_{out} = x_{1in} \\wedge x_{2in}\\right )$$"
      ],
      "text/plain": [
       "(yₒᵤₜ = x₁ᵢₙ ∧ x₂ᵢₙ, yₒᵤₜ = x₁ᵢₙ ∧ x₂ᵢₙ)"
      ]
     },
     "execution_count": 13,
     "metadata": {},
     "output_type": "execute_result"
    }
   ],
   "source": [
    "x_1in, x_2in, y_out=symbols('x_1in, x_2in, y_out')\n",
    "AND2Def1=Eq(y_out, x_1in & x_2in)\n",
    "AND2Def2=Eq(y_out, And(x_1in , x_2in))\n",
    "AND2Def1, AND2Def2\n"
   ]
  },
  {
   "cell_type": "code",
   "execution_count": 14,
   "metadata": {},
   "outputs": [
    {
     "data": {
      "text/html": [
       "<div>\n",
       "<style>\n",
       "    .dataframe thead tr:only-child th {\n",
       "        text-align: right;\n",
       "    }\n",
       "\n",
       "    .dataframe thead th {\n",
       "        text-align: left;\n",
       "    }\n",
       "\n",
       "    .dataframe tbody tr th {\n",
       "        vertical-align: top;\n",
       "    }\n",
       "</style>\n",
       "<table border=\"1\" class=\"dataframe\">\n",
       "  <thead>\n",
       "    <tr style=\"text-align: right;\">\n",
       "      <th></th>\n",
       "      <th>x_1in</th>\n",
       "      <th>x_2in</th>\n",
       "      <th>y_out</th>\n",
       "    </tr>\n",
       "  </thead>\n",
       "  <tbody>\n",
       "    <tr>\n",
       "      <th>0</th>\n",
       "      <td>0</td>\n",
       "      <td>0</td>\n",
       "      <td>0</td>\n",
       "    </tr>\n",
       "    <tr>\n",
       "      <th>1</th>\n",
       "      <td>0</td>\n",
       "      <td>1</td>\n",
       "      <td>0</td>\n",
       "    </tr>\n",
       "    <tr>\n",
       "      <th>2</th>\n",
       "      <td>1</td>\n",
       "      <td>0</td>\n",
       "      <td>0</td>\n",
       "    </tr>\n",
       "    <tr>\n",
       "      <th>3</th>\n",
       "      <td>1</td>\n",
       "      <td>1</td>\n",
       "      <td>1</td>\n",
       "    </tr>\n",
       "  </tbody>\n",
       "</table>\n",
       "</div>"
      ],
      "text/plain": [
       "   x_1in  x_2in  y_out\n",
       "0      0      0      0\n",
       "1      0      1      0\n",
       "2      1      0      0\n",
       "3      1      1      1"
      ]
     },
     "execution_count": 14,
     "metadata": {},
     "output_type": "execute_result"
    }
   ],
   "source": [
    "AND2_TT=TruthTabelGenrator(AND2Def1)\n",
    "AND2_TT"
   ]
  },
  {
   "cell_type": "code",
   "execution_count": 15,
   "metadata": {},
   "outputs": [
    {
     "data": {
      "text/plain": [
       "False"
      ]
     },
     "execution_count": 15,
     "metadata": {},
     "output_type": "execute_result"
    }
   ],
   "source": [
    "AND2Def2N=lambdify((x_1in, x_2in), AND2Def2.rhs, dummify=False)\n",
    "AND2Def2N(True, False)"
   ]
  },
  {
   "cell_type": "code",
   "execution_count": 16,
   "metadata": {},
   "outputs": [
    {
     "data": {
      "image/png": "[encoded data removed]",
      "text/latex": [
       "$$\\left ( y_{out} = x_{1in} \\wedge x_{2in} \\wedge x_{3in}, \\quad y_{out} = x_{1in} \\wedge x_{2in} \\wedge x_{3in}\\right )$$"
      ],
      "text/plain": [
       "(yₒᵤₜ = x₁ᵢₙ ∧ x₂ᵢₙ ∧ x₃ᵢₙ, yₒᵤₜ = x₁ᵢₙ ∧ x₂ᵢₙ ∧ x₃ᵢₙ)"
      ]
     },
     "execution_count": 16,
     "metadata": {},
     "output_type": "execute_result"
    }
   ],
   "source": [
    "x_1in, x_2in, x_3in, y_out=symbols('x_1in, x_2in, x_3in, y_out')\n",
    "AND3Def1=Eq(y_out, x_1in & x_2in & x_3in)\n",
    "AND3Def2=Eq(y_out, And(x_1in , x_2in, x_3in))\n",
    "AND3Def1, AND3Def2"
   ]
  },
  {
   "cell_type": "code",
   "execution_count": 17,
   "metadata": {},
   "outputs": [
    {
     "data": {
      "text/html": [
       "<div>\n",
       "<style>\n",
       "    .dataframe thead tr:only-child th {\n",
       "        text-align: right;\n",
       "    }\n",
       "\n",
       "    .dataframe thead th {\n",
       "        text-align: left;\n",
       "    }\n",
       "\n",
       "    .dataframe tbody tr th {\n",
       "        vertical-align: top;\n",
       "    }\n",
       "</style>\n",
       "<table border=\"1\" class=\"dataframe\">\n",
       "  <thead>\n",
       "    <tr style=\"text-align: right;\">\n",
       "      <th></th>\n",
       "      <th>x_1in</th>\n",
       "      <th>x_2in</th>\n",
       "      <th>x_3in</th>\n",
       "      <th>y_out</th>\n",
       "    </tr>\n",
       "  </thead>\n",
       "  <tbody>\n",
       "    <tr>\n",
       "      <th>0</th>\n",
       "      <td>0</td>\n",
       "      <td>0</td>\n",
       "      <td>0</td>\n",
       "      <td>0</td>\n",
       "    </tr>\n",
       "    <tr>\n",
       "      <th>1</th>\n",
       "      <td>0</td>\n",
       "      <td>0</td>\n",
       "      <td>1</td>\n",
       "      <td>0</td>\n",
       "    </tr>\n",
       "    <tr>\n",
       "      <th>2</th>\n",
       "      <td>0</td>\n",
       "      <td>1</td>\n",
       "      <td>0</td>\n",
       "      <td>0</td>\n",
       "    </tr>\n",
       "    <tr>\n",
       "      <th>3</th>\n",
       "      <td>0</td>\n",
       "      <td>1</td>\n",
       "      <td>1</td>\n",
       "      <td>0</td>\n",
       "    </tr>\n",
       "    <tr>\n",
       "      <th>4</th>\n",
       "      <td>1</td>\n",
       "      <td>0</td>\n",
       "      <td>0</td>\n",
       "      <td>0</td>\n",
       "    </tr>\n",
       "    <tr>\n",
       "      <th>5</th>\n",
       "      <td>1</td>\n",
       "      <td>0</td>\n",
       "      <td>1</td>\n",
       "      <td>0</td>\n",
       "    </tr>\n",
       "    <tr>\n",
       "      <th>6</th>\n",
       "      <td>1</td>\n",
       "      <td>1</td>\n",
       "      <td>0</td>\n",
       "      <td>0</td>\n",
       "    </tr>\n",
       "    <tr>\n",
       "      <th>7</th>\n",
       "      <td>1</td>\n",
       "      <td>1</td>\n",
       "      <td>1</td>\n",
       "      <td>1</td>\n",
       "    </tr>\n",
       "  </tbody>\n",
       "</table>\n",
       "</div>"
      ],
      "text/plain": [
       "   x_1in  x_2in  x_3in  y_out\n",
       "0      0      0      0      0\n",
       "1      0      0      1      0\n",
       "2      0      1      0      0\n",
       "3      0      1      1      0\n",
       "4      1      0      0      0\n",
       "5      1      0      1      0\n",
       "6      1      1      0      0\n",
       "7      1      1      1      1"
      ]
     },
     "execution_count": 17,
     "metadata": {},
     "output_type": "execute_result"
    }
   ],
   "source": [
    "AND3_TT=TruthTabelGenrator(AND3Def2)\n",
    "AND3_TT"
   ]
  },
  {
   "cell_type": "code",
   "execution_count": 18,
   "metadata": {
    "collapsed": true
   },
   "outputs": [],
   "source": [
    "AND3Def1N=lambdify((x_1in, x_2in, x_3in), AND3Def1.rhs, dummify=False)\n",
    "#not working no idea\n",
    "#AND3Def1N(True, True, True)"
   ]
  },
  {
   "cell_type": "code",
   "execution_count": 19,
   "metadata": {
    "collapsed": true
   },
   "outputs": [],
   "source": [
    "pyAND2Eq2=lambda x1, x2: x1 & x2\n",
    "pyAND2Eq2=lambda x1, x2: x1 and x2\n",
    "pyAND3Eq1=lambda x1, x2, x3: x1 & x2 & x3\n",
    "pyAND3Eq2=lambda x1, x2, x3: x1 and x2 and x3"
   ]
  },
  {
   "cell_type": "code",
   "execution_count": 20,
   "metadata": {},
   "outputs": [
    {
     "data": {
      "image/png": "[encoded data removed]",
      "text/latex": [
       "$$\\left ( 0, \\quad 0, \\quad 1, \\quad 0\\right )$$"
      ],
      "text/plain": [
       "(0, 0, 1, 0)"
      ]
     },
     "execution_count": 20,
     "metadata": {},
     "output_type": "execute_result"
    }
   ],
   "source": [
    "pyAND2Eq2(0,0), pyAND2Eq2(0,1), pyAND3Eq1(1,1,1), pyAND3Eq1(0,1,1)"
   ]
  },
  {
   "cell_type": "markdown",
   "metadata": {},
   "source": [
    "## myHDL Two input AND Gate and Testing"
   ]
  },
  {
   "cell_type": "code",
   "execution_count": 21,
   "metadata": {
    "collapsed": true
   },
   "outputs": [],
   "source": [
    "#create a HDL Module (python function) and its I\\O ports\n",
    "def And2Gate(x_1in, x_2in, y_out):\n",
    "    \"\"\"AND Logic Gate myHDL Module (function)\n",
    "    \n",
    "    Args:\n",
    "        x_1in: bool Input port\n",
    "        x_2in: bool Input port\n",
    "        y_out: bool Output port\n",
    "    \n",
    "    Returns:\n",
    "        AND Combo logic operation\n",
    "        \n",
    "    \"\"\"\n",
    "    #define what this module is to do\n",
    "    \n",
    "    #myHDL built in decorator to say the function is exuiquated on each\n",
    "    #clock cycle\n",
    "    @always_comb\n",
    "    def logic():\n",
    "        y_out.next= x_1in and x_2in\n",
    "        \n",
    "    return logic"
   ]
  },
  {
   "cell_type": "code",
   "execution_count": 22,
   "metadata": {},
   "outputs": [
    {
     "name": "stderr",
     "output_type": "stream",
     "text": [
      "<class 'myhdl.StopSimulation'>: No more events\n"
     ]
    },
    {
     "data": {
      "text/html": [
       "<div><script type=\"WaveDrom\">{\"signal\": [{\"name\": \"x_1in\", \"wave\": \"0.1.0.10.\"}, {\"name\": \"x_2in\", \"wave\": \"0101.0...\"}, {\"name\": \"y_out\", \"wave\": \"0..10....\"}], \"head\": {\"text\": [\"tspan\", [\"tspan\", {\"fill\": \"blue\", \"font-size\": \"16\", \"font-weight\": \"bold\"}, \"AND 2 gate simulation\"]], \"tock\": 0}, \"foot\": {\"text\": [\"tspan\", [\"tspan\", {\"font-style\": \"italic\"}, \"after clock cycle 3 ->random input\"]], \"tock\": 0}}</script></div>"
      ]
     },
     "metadata": {},
     "output_type": "display_data"
    },
    {
     "data": {
      "application/javascript": [
       "$.getScript(\"http://wavedrom.com/wavedrom.min.js\", function () {\n",
       "$.getScript(\"http://wavedrom.com/skins/default.js\", function () {\n",
       "WaveDrom.ProcessAll();});\n",
       "});\n"
      ]
     },
     "metadata": {},
     "output_type": "display_data"
    }
   ],
   "source": [
    "#create the test signals and intilize value to both be false(0)\n",
    "x_1in, x_2in, y_out=[Signal(bool(0)) for _ in range(3)]\n",
    "\n",
    "#Peeker is helper libary for viewing wavefrom outputs and run the sim inside\n",
    "#jupyter notebooks\n",
    "#clear any previeese data loaded into peeker\n",
    "Peeker.clear()\n",
    "\n",
    "#load and name the signals to watch into peeker\n",
    "Peeker(x_1in, 'x_1in'); Peeker(x_2in, 'x_2in')\n",
    "Peeker(y_out, 'y_out')\n",
    "\n",
    "#make an instatince of the NotGate as the DUT\n",
    "DUT=And2Gate(x_1in=x_1in, x_2in=x_2in, y_out=y_out)\n",
    "\n",
    "inputs=[x_1in, x_2in]\n",
    "\n",
    "sim=Simulation(DUT, Combo_TB(inputs), *Peeker.instances()).run()        \n",
    "Peeker.to_wavedrom(start_time=0, stop_time=2*2**len(inputs), tock=True,\n",
    "                  title='AND 2 gate simulation',\n",
    "                  caption=f'after clock cycle {2**len(inputs)-1} ->random input')\n"
   ]
  },
  {
   "cell_type": "code",
   "execution_count": 23,
   "metadata": {},
   "outputs": [
    {
     "data": {
      "text/html": [
       "<div>\n",
       "<style>\n",
       "    .dataframe thead tr:only-child th {\n",
       "        text-align: right;\n",
       "    }\n",
       "\n",
       "    .dataframe thead th {\n",
       "        text-align: left;\n",
       "    }\n",
       "\n",
       "    .dataframe tbody tr th {\n",
       "        vertical-align: top;\n",
       "    }\n",
       "</style>\n",
       "<table border=\"1\" class=\"dataframe\">\n",
       "  <thead>\n",
       "    <tr style=\"text-align: right;\">\n",
       "      <th></th>\n",
       "      <th>x_1in</th>\n",
       "      <th>x_2in</th>\n",
       "      <th>y_out</th>\n",
       "    </tr>\n",
       "  </thead>\n",
       "  <tbody>\n",
       "    <tr>\n",
       "      <th>0</th>\n",
       "      <td>0</td>\n",
       "      <td>0</td>\n",
       "      <td>0</td>\n",
       "    </tr>\n",
       "    <tr>\n",
       "      <th>1</th>\n",
       "      <td>0</td>\n",
       "      <td>1</td>\n",
       "      <td>0</td>\n",
       "    </tr>\n",
       "    <tr>\n",
       "      <th>2</th>\n",
       "      <td>1</td>\n",
       "      <td>0</td>\n",
       "      <td>0</td>\n",
       "    </tr>\n",
       "    <tr>\n",
       "      <th>3</th>\n",
       "      <td>1</td>\n",
       "      <td>1</td>\n",
       "      <td>1</td>\n",
       "    </tr>\n",
       "  </tbody>\n",
       "</table>\n",
       "</div>"
      ],
      "text/plain": [
       "  x_1in x_2in y_out\n",
       "0     0     0     0\n",
       "1     0     1     0\n",
       "2     1     0     0\n",
       "3     1     1     1"
      ]
     },
     "execution_count": 23,
     "metadata": {},
     "output_type": "execute_result"
    }
   ],
   "source": [
    "MakeDFfromPeeker(Peeker.to_wavejson(start_time=0, stop_time=2**len(inputs) -1))"
   ]
  },
  {
   "cell_type": "markdown",
   "metadata": {},
   "source": [
    "## myHDL Three Input AND Gate and Testing"
   ]
  },
  {
   "cell_type": "code",
   "execution_count": 24,
   "metadata": {
    "collapsed": true
   },
   "outputs": [],
   "source": [
    "#create a myHDL Module (python function) and its I\\O ports\n",
    "def And3Gate(x_1in, x_2in, x_3in, y_out):\n",
    "    \"\"\"AND Logic Gate myHDL Module (function)\n",
    "    \n",
    "    Args:\n",
    "        x_1in: bool Input port\n",
    "        x_2in: bool Input port\n",
    "        x_3in: bool Input port\n",
    "        y_out: bool Output port\n",
    "    \n",
    "    Returns:\n",
    "        AND Combo logic operation\n",
    "        \n",
    "    \"\"\"\n",
    "    #define what this module is to do\n",
    "    \n",
    "    #myHDL built in decorator to say the function is exuiquated on each\n",
    "    #clock cycle\n",
    "    @always_comb\n",
    "    def logic():\n",
    "        y_out.next= x_1in and x_2in and x_3in\n",
    "        \n",
    "    return logic"
   ]
  },
  {
   "cell_type": "code",
   "execution_count": 25,
   "metadata": {},
   "outputs": [
    {
     "name": "stderr",
     "output_type": "stream",
     "text": [
      "<class 'myhdl.StopSimulation'>: No more events\n"
     ]
    },
    {
     "data": {
      "text/html": [
       "<div><script type=\"WaveDrom\">{\"signal\": [{\"name\": \"x_1in\", \"wave\": \"0...1...0..10..1.\"}, {\"name\": \"x_2in\", \"wave\": \"0.1.0.1..01..010.\"}, {\"name\": \"x_3in[0]\", \"wave\": \"0101010101.0..10.\"}, {\"name\": \"y_out[0]\", \"wave\": \"0......10........\"}], \"head\": {\"text\": [\"tspan\", [\"tspan\", {\"fill\": \"blue\", \"font-size\": \"16\", \"font-weight\": \"bold\"}, \"AND 2 gate simulation\"]], \"tock\": 0}, \"foot\": {\"text\": [\"tspan\", [\"tspan\", {\"font-style\": \"italic\"}, \"after clock cycle 7 ->random input\"]], \"tock\": 0}}</script></div>"
      ]
     },
     "metadata": {},
     "output_type": "display_data"
    },
    {
     "data": {
      "application/javascript": [
       "$.getScript(\"http://wavedrom.com/wavedrom.min.js\", function () {\n",
       "$.getScript(\"http://wavedrom.com/skins/default.js\", function () {\n",
       "WaveDrom.ProcessAll();});\n",
       "});\n"
      ]
     },
     "metadata": {},
     "output_type": "display_data"
    }
   ],
   "source": [
    "#create the test signals and intilize value to both be false(0)\n",
    "x_1in, x_2in, x_3in, y_out=[Signal(bool(0)) for _ in range(4)]\n",
    "\n",
    "#Peeker is helper libary for viewing wavefrom outputs and run the sim inside\n",
    "#jupyter notebooks\n",
    "#clear any previeese data loaded into peeker\n",
    "Peeker.clear()\n",
    "\n",
    "#load and name the signals to watch into peeker\n",
    "Peeker(x_1in, 'x_1in'); Peeker(x_2in, 'x_2in'); Peeker(x_3in, 'x_3in')\n",
    "Peeker(y_out, 'y_out')\n",
    "\n",
    "#make an instatince of the NotGate as the DUT\n",
    "DUT=And3Gate(x_1in=x_1in, x_2in=x_2in, x_3in=x_3in, y_out=y_out)\n",
    "\n",
    "inputs=[x_1in, x_2in, x_3in]\n",
    "\n",
    "sim=Simulation(DUT, Combo_TB(inputs), *Peeker.instances()).run()        \n",
    "Peeker.to_wavedrom(start_time=0, stop_time=2*2**len(inputs), tock=True,\n",
    "                  title='AND 2 gate simulation',\n",
    "                  caption=f'after clock cycle {2**len(inputs)-1} ->random input')\n"
   ]
  },
  {
   "cell_type": "code",
   "execution_count": 26,
   "metadata": {},
   "outputs": [
    {
     "data": {
      "text/html": [
       "<div>\n",
       "<style>\n",
       "    .dataframe thead tr:only-child th {\n",
       "        text-align: right;\n",
       "    }\n",
       "\n",
       "    .dataframe thead th {\n",
       "        text-align: left;\n",
       "    }\n",
       "\n",
       "    .dataframe tbody tr th {\n",
       "        vertical-align: top;\n",
       "    }\n",
       "</style>\n",
       "<table border=\"1\" class=\"dataframe\">\n",
       "  <thead>\n",
       "    <tr style=\"text-align: right;\">\n",
       "      <th></th>\n",
       "      <th>x_1in</th>\n",
       "      <th>x_2in</th>\n",
       "      <th>x_3in</th>\n",
       "      <th>y_out</th>\n",
       "    </tr>\n",
       "  </thead>\n",
       "  <tbody>\n",
       "    <tr>\n",
       "      <th>0</th>\n",
       "      <td>0</td>\n",
       "      <td>0</td>\n",
       "      <td>0</td>\n",
       "      <td>0</td>\n",
       "    </tr>\n",
       "    <tr>\n",
       "      <th>1</th>\n",
       "      <td>0</td>\n",
       "      <td>0</td>\n",
       "      <td>1</td>\n",
       "      <td>0</td>\n",
       "    </tr>\n",
       "    <tr>\n",
       "      <th>2</th>\n",
       "      <td>0</td>\n",
       "      <td>1</td>\n",
       "      <td>0</td>\n",
       "      <td>0</td>\n",
       "    </tr>\n",
       "    <tr>\n",
       "      <th>3</th>\n",
       "      <td>0</td>\n",
       "      <td>1</td>\n",
       "      <td>1</td>\n",
       "      <td>0</td>\n",
       "    </tr>\n",
       "    <tr>\n",
       "      <th>4</th>\n",
       "      <td>1</td>\n",
       "      <td>0</td>\n",
       "      <td>0</td>\n",
       "      <td>0</td>\n",
       "    </tr>\n",
       "    <tr>\n",
       "      <th>5</th>\n",
       "      <td>1</td>\n",
       "      <td>0</td>\n",
       "      <td>1</td>\n",
       "      <td>0</td>\n",
       "    </tr>\n",
       "    <tr>\n",
       "      <th>6</th>\n",
       "      <td>1</td>\n",
       "      <td>1</td>\n",
       "      <td>0</td>\n",
       "      <td>0</td>\n",
       "    </tr>\n",
       "    <tr>\n",
       "      <th>7</th>\n",
       "      <td>1</td>\n",
       "      <td>1</td>\n",
       "      <td>1</td>\n",
       "      <td>1</td>\n",
       "    </tr>\n",
       "  </tbody>\n",
       "</table>\n",
       "</div>"
      ],
      "text/plain": [
       "  x_1in x_2in x_3in y_out\n",
       "0     0     0     0     0\n",
       "1     0     0     1     0\n",
       "2     0     1     0     0\n",
       "3     0     1     1     0\n",
       "4     1     0     0     0\n",
       "5     1     0     1     0\n",
       "6     1     1     0     0\n",
       "7     1     1     1     1"
      ]
     },
     "execution_count": 26,
     "metadata": {},
     "output_type": "execute_result"
    }
   ],
   "source": [
    "MakeDFfromPeeker(Peeker.to_wavejson(start_time=0, stop_time=2**len(inputs) -1))"
   ]
  },
  {
   "cell_type": "markdown",
   "metadata": {},
   "source": [
    "## myHDL Three Input AND Gate HDL Synthesis"
   ]
  },
  {
   "cell_type": "code",
   "execution_count": 27,
   "metadata": {},
   "outputs": [
    {
     "name": "stdout",
     "output_type": "stream",
     "text": [
      "***Verilog modual from And3Gate.v***\n",
      "\n",
      " // File: And3Gate.v\n",
      "// Generated by MyHDL 0.9.0\n",
      "// Date: Mon Oct  9 02:48:50 2017\n",
      "\n",
      "\n",
      "`timescale 1ns/10ps\n",
      "\n",
      "module And3Gate (\n",
      "    x_1in,\n",
      "    x_2in,\n",
      "    x_3in,\n",
      "    y_out\n",
      ");\n",
      "// AND Logic Gate myHDL Module (function)\n",
      "// \n",
      "// Args:\n",
      "//     x_1in: bool Input port\n",
      "//     x_2in: bool Input port\n",
      "//     x_3in: bool Input port\n",
      "//     y_out: bool Output port\n",
      "// \n",
      "// Returns:\n",
      "//     AND Combo logic operation\n",
      "//     \n",
      "\n",
      "input x_1in;\n",
      "input x_2in;\n",
      "input x_3in;\n",
      "output y_out;\n",
      "wire y_out;\n",
      "\n",
      "\n",
      "\n",
      "\n",
      "\n",
      "\n",
      "\n",
      "assign y_out = (x_1in && x_2in && x_3in);\n",
      "\n",
      "endmodule\n",
      "\n"
     ]
    }
   ],
   "source": [
    "toVerilog(And3Gate, x_1in, x_2in, x_3in, y_out)\n",
    "#toVHDL(And3Gate, x_1in, x_2in, x_3in y_out)\n",
    "_=VerilogTextReader('And3Gate')"
   ]
  },
  {
   "cell_type": "markdown",
   "metadata": {},
   "source": [
    "The following shows the **Xilinx**'s _Vivado 2016.1_ RTL generated schematic of our myHDL three input AND gate's verilog code\n",
    "<img style=\"float: center;\" src=\"And3GateRTLSch.PNG\">"
   ]
  },
  {
   "cell_type": "markdown",
   "metadata": {},
   "source": [
    "# OR"
   ]
  },
  {
   "cell_type": "markdown",
   "metadata": {},
   "source": [
    "## Symbols\n",
    "The Symbols for an OR gate are shown below\n",
    "<img style=\"float: center;\" src=\"OrGateDig.jpg\">"
   ]
  },
  {
   "cell_type": "markdown",
   "metadata": {},
   "source": [
    "## OR Gate Definition"
   ]
  },
  {
   "cell_type": "markdown",
   "metadata": {},
   "source": [
    "\\begin{definition}\\label{def:or}\n",
    "An OR gate is a multi input single output logic gate that gives the sum of the boolean inputs as its output  \n",
    " $$y_{\\text{out}}=\\sum_{i=1}^{N\\geq 2} x_{i\\text{ in}}$$\n",
    " \n",
    " In more compact notation it is represented as (for a 2-input):\n",
    " $$y_{\\text{out}}=x_{1\\text{ in} } + x_{2\\text{ in} }$$\n",
    " \n",
    " Which can also be written (as sympy does) as:\n",
    " $$y_{\\text{out}}=x_{1\\text{ in} }  \\vee  x_{2\\text{ in} }$$\n",
    "\n",
    "\\end{definition} "
   ]
  },
  {
   "cell_type": "markdown",
   "metadata": {},
   "source": [
    "## OR Gate in Sympy and Python"
   ]
  },
  {
   "cell_type": "code",
   "execution_count": 28,
   "metadata": {},
   "outputs": [
    {
     "data": {
      "image/png": "[encoded data removed]",
      "text/latex": [
       "$$\\left ( y_{out} = x_{1in} \\vee x_{2in}, \\quad y_{out} = x_{1in} \\vee x_{2in}\\right )$$"
      ],
      "text/plain": [
       "(yₒᵤₜ = x₁ᵢₙ ∨ x₂ᵢₙ, yₒᵤₜ = x₁ᵢₙ ∨ x₂ᵢₙ)"
      ]
     },
     "execution_count": 28,
     "metadata": {},
     "output_type": "execute_result"
    }
   ],
   "source": [
    "x_1in, x_2in, y_out=symbols('x_1in, x_2in, y_out')\n",
    "OR2Def1=Eq(y_out, x_1in | x_2in)\n",
    "OR2Def2=Eq(y_out, Or(x_1in , x_2in))\n",
    "OR2Def1, OR2Def2"
   ]
  },
  {
   "cell_type": "code",
   "execution_count": 29,
   "metadata": {},
   "outputs": [
    {
     "data": {
      "text/html": [
       "<div>\n",
       "<style>\n",
       "    .dataframe thead tr:only-child th {\n",
       "        text-align: right;\n",
       "    }\n",
       "\n",
       "    .dataframe thead th {\n",
       "        text-align: left;\n",
       "    }\n",
       "\n",
       "    .dataframe tbody tr th {\n",
       "        vertical-align: top;\n",
       "    }\n",
       "</style>\n",
       "<table border=\"1\" class=\"dataframe\">\n",
       "  <thead>\n",
       "    <tr style=\"text-align: right;\">\n",
       "      <th></th>\n",
       "      <th>x_1in</th>\n",
       "      <th>x_2in</th>\n",
       "      <th>y_out</th>\n",
       "    </tr>\n",
       "  </thead>\n",
       "  <tbody>\n",
       "    <tr>\n",
       "      <th>0</th>\n",
       "      <td>0</td>\n",
       "      <td>0</td>\n",
       "      <td>0</td>\n",
       "    </tr>\n",
       "    <tr>\n",
       "      <th>1</th>\n",
       "      <td>0</td>\n",
       "      <td>1</td>\n",
       "      <td>1</td>\n",
       "    </tr>\n",
       "    <tr>\n",
       "      <th>2</th>\n",
       "      <td>1</td>\n",
       "      <td>0</td>\n",
       "      <td>1</td>\n",
       "    </tr>\n",
       "    <tr>\n",
       "      <th>3</th>\n",
       "      <td>1</td>\n",
       "      <td>1</td>\n",
       "      <td>1</td>\n",
       "    </tr>\n",
       "  </tbody>\n",
       "</table>\n",
       "</div>"
      ],
      "text/plain": [
       "   x_1in  x_2in  y_out\n",
       "0      0      0      0\n",
       "1      0      1      1\n",
       "2      1      0      1\n",
       "3      1      1      1"
      ]
     },
     "execution_count": 29,
     "metadata": {},
     "output_type": "execute_result"
    }
   ],
   "source": [
    "OR2_TT=TruthTabelGenrator(OR2Def2)\n",
    "OR2_TT"
   ]
  },
  {
   "cell_type": "code",
   "execution_count": 30,
   "metadata": {},
   "outputs": [
    {
     "data": {
      "text/plain": [
       "True"
      ]
     },
     "execution_count": 30,
     "metadata": {},
     "output_type": "execute_result"
    }
   ],
   "source": [
    "OR2Def1N=lambdify((x_1in, x_2in), OR2Def1.rhs, dummify=False)\n",
    "OR2Def1N(True, False)"
   ]
  },
  {
   "cell_type": "code",
   "execution_count": 31,
   "metadata": {},
   "outputs": [
    {
     "data": {
      "image/png": "[encoded data removed]",
      "text/latex": [
       "$$\\left ( y_{out} = x_{1in} \\vee x_{2in} \\vee x_{3in}, \\quad y_{out} = x_{1in} \\vee x_{2in} \\vee x_{3in}\\right )$$"
      ],
      "text/plain": [
       "(yₒᵤₜ = x₁ᵢₙ ∨ x₂ᵢₙ ∨ x₃ᵢₙ, yₒᵤₜ = x₁ᵢₙ ∨ x₂ᵢₙ ∨ x₃ᵢₙ)"
      ]
     },
     "execution_count": 31,
     "metadata": {},
     "output_type": "execute_result"
    }
   ],
   "source": [
    "x_1in, x_2in, x_3in, y_out=symbols('x_1in, x_2in, x_3in, y_out')\n",
    "OR3Def1=Eq(y_out, x_1in | x_2in | x_3in)\n",
    "OR3Def2=Eq(y_out, Or(x_1in , x_2in, x_3in))\n",
    "OR3Def1, OR3Def2"
   ]
  },
  {
   "cell_type": "code",
   "execution_count": 32,
   "metadata": {},
   "outputs": [
    {
     "data": {
      "text/html": [
       "<div>\n",
       "<style>\n",
       "    .dataframe thead tr:only-child th {\n",
       "        text-align: right;\n",
       "    }\n",
       "\n",
       "    .dataframe thead th {\n",
       "        text-align: left;\n",
       "    }\n",
       "\n",
       "    .dataframe tbody tr th {\n",
       "        vertical-align: top;\n",
       "    }\n",
       "</style>\n",
       "<table border=\"1\" class=\"dataframe\">\n",
       "  <thead>\n",
       "    <tr style=\"text-align: right;\">\n",
       "      <th></th>\n",
       "      <th>x_1in</th>\n",
       "      <th>x_2in</th>\n",
       "      <th>x_3in</th>\n",
       "      <th>y_out</th>\n",
       "    </tr>\n",
       "  </thead>\n",
       "  <tbody>\n",
       "    <tr>\n",
       "      <th>0</th>\n",
       "      <td>0</td>\n",
       "      <td>0</td>\n",
       "      <td>0</td>\n",
       "      <td>0</td>\n",
       "    </tr>\n",
       "    <tr>\n",
       "      <th>1</th>\n",
       "      <td>0</td>\n",
       "      <td>0</td>\n",
       "      <td>1</td>\n",
       "      <td>1</td>\n",
       "    </tr>\n",
       "    <tr>\n",
       "      <th>2</th>\n",
       "      <td>0</td>\n",
       "      <td>1</td>\n",
       "      <td>0</td>\n",
       "      <td>1</td>\n",
       "    </tr>\n",
       "    <tr>\n",
       "      <th>3</th>\n",
       "      <td>0</td>\n",
       "      <td>1</td>\n",
       "      <td>1</td>\n",
       "      <td>1</td>\n",
       "    </tr>\n",
       "    <tr>\n",
       "      <th>4</th>\n",
       "      <td>1</td>\n",
       "      <td>0</td>\n",
       "      <td>0</td>\n",
       "      <td>1</td>\n",
       "    </tr>\n",
       "    <tr>\n",
       "      <th>5</th>\n",
       "      <td>1</td>\n",
       "      <td>0</td>\n",
       "      <td>1</td>\n",
       "      <td>1</td>\n",
       "    </tr>\n",
       "    <tr>\n",
       "      <th>6</th>\n",
       "      <td>1</td>\n",
       "      <td>1</td>\n",
       "      <td>0</td>\n",
       "      <td>1</td>\n",
       "    </tr>\n",
       "    <tr>\n",
       "      <th>7</th>\n",
       "      <td>1</td>\n",
       "      <td>1</td>\n",
       "      <td>1</td>\n",
       "      <td>1</td>\n",
       "    </tr>\n",
       "  </tbody>\n",
       "</table>\n",
       "</div>"
      ],
      "text/plain": [
       "   x_1in  x_2in  x_3in  y_out\n",
       "0      0      0      0      0\n",
       "1      0      0      1      1\n",
       "2      0      1      0      1\n",
       "3      0      1      1      1\n",
       "4      1      0      0      1\n",
       "5      1      0      1      1\n",
       "6      1      1      0      1\n",
       "7      1      1      1      1"
      ]
     },
     "execution_count": 32,
     "metadata": {},
     "output_type": "execute_result"
    }
   ],
   "source": [
    "OR3_TT=TruthTabelGenrator(OR3Def1)\n",
    "OR3_TT"
   ]
  },
  {
   "cell_type": "code",
   "execution_count": 33,
   "metadata": {
    "collapsed": true
   },
   "outputs": [],
   "source": [
    "OR3Def2N=lambdify((x_1in, x_2in, x_3in), OR3Def2.rhs, dummify=False)\n",
    "#yeah WTH\n",
    "#OR3Def2N(False, False, False)"
   ]
  },
  {
   "cell_type": "code",
   "execution_count": 34,
   "metadata": {
    "collapsed": true
   },
   "outputs": [],
   "source": [
    "pyOR2Eq1=lambda x1, x2: x1 | x2\n",
    "pyOR2Eq2=lambda x1, x2: x1 or x2\n",
    "pyOR3Eq1=lambda x1, x2, x3: x1 | x2 | x3\n",
    "pyOR3Eq2=lambda x1, x2, x3: x1 or x2 or x3"
   ]
  },
  {
   "cell_type": "code",
   "execution_count": 35,
   "metadata": {},
   "outputs": [
    {
     "data": {
      "image/png": "[encoded data removed]",
      "text/latex": [
       "$$\\left ( 0, \\quad 1, \\quad 1, \\quad 1\\right )$$"
      ],
      "text/plain": [
       "(0, 1, 1, 1)"
      ]
     },
     "execution_count": 35,
     "metadata": {},
     "output_type": "execute_result"
    }
   ],
   "source": [
    "pyOR2Eq1(0, 0), pyOR2Eq2(1,1), pyOR3Eq1(1,1,0), pyOR3Eq2(0,1,0)"
   ]
  },
  {
   "cell_type": "markdown",
   "metadata": {},
   "source": [
    "## myHDL Two Input OR Gate and Testing"
   ]
  },
  {
   "cell_type": "code",
   "execution_count": 36,
   "metadata": {
    "collapsed": true
   },
   "outputs": [],
   "source": [
    "#create a HDL Module (python function) and its I\\O ports\n",
    "def Or2Gate(x_1in, x_2in, y_out):\n",
    "    \"\"\"AND Logic Gate myHDL Module (function)\n",
    "    \n",
    "    Args:\n",
    "        x_1in: bool Input port\n",
    "        x_2in: bool Input port\n",
    "        y_out: bool Output port\n",
    "    \n",
    "    Returns:\n",
    "        AND Combo logic operation\n",
    "        \n",
    "    \"\"\"\n",
    "    #define what this module is to do\n",
    "    \n",
    "    #myHDL built in decorator to say the function is exuiquated on each\n",
    "    #clock cycle\n",
    "    @always_comb\n",
    "    def logic():\n",
    "        y_out.next= x_1in or x_2in\n",
    "        \n",
    "    return logic"
   ]
  },
  {
   "cell_type": "code",
   "execution_count": 37,
   "metadata": {},
   "outputs": [
    {
     "name": "stderr",
     "output_type": "stream",
     "text": [
      "<class 'myhdl.StopSimulation'>: No more events\n"
     ]
    },
    {
     "data": {
      "text/html": [
       "<div><script type=\"WaveDrom\">{\"signal\": [{\"name\": \"x_1in\", \"wave\": \"0.1......\"}, {\"name\": \"x_2in\", \"wave\": \"01010.10.\"}, {\"name\": \"y_out\", \"wave\": \"01.......\"}], \"head\": {\"text\": [\"tspan\", [\"tspan\", {\"fill\": \"blue\", \"font-size\": \"16\", \"font-weight\": \"bold\"}, \"OR 2 gate simulation\"]], \"tock\": 0}, \"foot\": {\"text\": [\"tspan\", [\"tspan\", {\"font-style\": \"italic\"}, \"after clock cycle 3 ->random input\"]], \"tock\": 0}}</script></div>"
      ]
     },
     "metadata": {},
     "output_type": "display_data"
    },
    {
     "data": {
      "application/javascript": [
       "$.getScript(\"http://wavedrom.com/wavedrom.min.js\", function () {\n",
       "$.getScript(\"http://wavedrom.com/skins/default.js\", function () {\n",
       "WaveDrom.ProcessAll();});\n",
       "});\n"
      ]
     },
     "metadata": {},
     "output_type": "display_data"
    }
   ],
   "source": [
    "#create the test signals and intilize value to both be false(0)\n",
    "x_1in, x_2in, y_out=[Signal(bool(0)) for _ in range(3)]\n",
    "\n",
    "#Peeker is helper libary for viewing wavefrom outputs and run the sim inside\n",
    "#jupyter notebooks\n",
    "#clear any previeese data loaded into peeker\n",
    "Peeker.clear()\n",
    "\n",
    "#load and name the signals to watch into peeker\n",
    "Peeker(x_1in, 'x_1in'); Peeker(x_2in, 'x_2in')\n",
    "Peeker(y_out, 'y_out')\n",
    "\n",
    "#make an instatince of the NotGate as the DUT\n",
    "DUT=Or2Gate(x_1in=x_1in, x_2in=x_2in, y_out=y_out)\n",
    "\n",
    "inputs=[x_1in, x_2in]\n",
    "\n",
    "sim=Simulation(DUT, Combo_TB(inputs), *Peeker.instances()).run()        \n",
    "Peeker.to_wavedrom(start_time=0, stop_time=2*2**len(inputs), tock=True,\n",
    "                  title='OR 2 gate simulation',\n",
    "                  caption=f'after clock cycle {2**len(inputs)-1} ->random input')\n"
   ]
  },
  {
   "cell_type": "code",
   "execution_count": 40,
   "metadata": {},
   "outputs": [
    {
     "data": {
      "text/html": [
       "<div>\n",
       "<style>\n",
       "    .dataframe thead tr:only-child th {\n",
       "        text-align: right;\n",
       "    }\n",
       "\n",
       "    .dataframe thead th {\n",
       "        text-align: left;\n",
       "    }\n",
       "\n",
       "    .dataframe tbody tr th {\n",
       "        vertical-align: top;\n",
       "    }\n",
       "</style>\n",
       "<table border=\"1\" class=\"dataframe\">\n",
       "  <thead>\n",
       "    <tr style=\"text-align: right;\">\n",
       "      <th></th>\n",
       "      <th>x_1in</th>\n",
       "      <th>x_2in</th>\n",
       "      <th>y_out</th>\n",
       "    </tr>\n",
       "  </thead>\n",
       "  <tbody>\n",
       "    <tr>\n",
       "      <th>0</th>\n",
       "      <td>0</td>\n",
       "      <td>0</td>\n",
       "      <td>0</td>\n",
       "    </tr>\n",
       "    <tr>\n",
       "      <th>1</th>\n",
       "      <td>0</td>\n",
       "      <td>1</td>\n",
       "      <td>1</td>\n",
       "    </tr>\n",
       "    <tr>\n",
       "      <th>2</th>\n",
       "      <td>1</td>\n",
       "      <td>0</td>\n",
       "      <td>1</td>\n",
       "    </tr>\n",
       "    <tr>\n",
       "      <th>3</th>\n",
       "      <td>1</td>\n",
       "      <td>1</td>\n",
       "      <td>1</td>\n",
       "    </tr>\n",
       "  </tbody>\n",
       "</table>\n",
       "</div>"
      ],
      "text/plain": [
       "  x_1in x_2in y_out\n",
       "0     0     0     0\n",
       "1     0     1     1\n",
       "2     1     0     1\n",
       "3     1     1     1"
      ]
     },
     "execution_count": 40,
     "metadata": {},
     "output_type": "execute_result"
    }
   ],
   "source": [
    "MakeDFfromPeeker(Peeker.to_wavejson(start_time=0, stop_time=2**len(inputs) -1))"
   ]
  },
  {
   "cell_type": "markdown",
   "metadata": {},
   "source": [
    "## myHDL Three Input OR Gate and Testing"
   ]
  },
  {
   "cell_type": "code",
   "execution_count": 41,
   "metadata": {
    "collapsed": true
   },
   "outputs": [],
   "source": [
    "#create a HDL Module (python function) and its I\\O ports\n",
    "def Or3Gate(x_1in, x_2in, x_3in, y_out):\n",
    "    \"\"\"Or Logic Gate myHDL Module (function)\n",
    "    \n",
    "    Args:\n",
    "        x_1in: bool Input port\n",
    "        x_2in: bool Input port\n",
    "        x_3in: bool Input port\n",
    "        y_out: bool Output port\n",
    "    \n",
    "    Returns:\n",
    "        AND Combo logic operation\n",
    "        \n",
    "    \"\"\"\n",
    "    #define what this module is to do\n",
    "    \n",
    "    #myHDL built in decorator to say the function is exuiquated on each\n",
    "    #clock cycle\n",
    "    @always_comb\n",
    "    def logic():\n",
    "        y_out.next= x_1in or x_2in or x_3in\n",
    "        \n",
    "    return logic"
   ]
  },
  {
   "cell_type": "code",
   "execution_count": 42,
   "metadata": {},
   "outputs": [
    {
     "name": "stderr",
     "output_type": "stream",
     "text": [
      "<class 'myhdl.StopSimulation'>: No more events\n"
     ]
    },
    {
     "data": {
      "text/html": [
       "<div><script type=\"WaveDrom\">{\"signal\": [{\"name\": \"x_1in\", \"wave\": \"0...1...010...1..\"}, {\"name\": \"x_2in\", \"wave\": \"0.1.0.1.0.1.0..1.\"}, {\"name\": \"x_3in[0]\", \"wave\": \"010101010..1010..\"}, {\"name\": \"y_out[0]\", \"wave\": \"01......01..01...\"}], \"head\": {\"text\": [\"tspan\", [\"tspan\", {\"fill\": \"blue\", \"font-size\": \"16\", \"font-weight\": \"bold\"}, \"OR 2 gate simulation\"]], \"tock\": 0}, \"foot\": {\"text\": [\"tspan\", [\"tspan\", {\"font-style\": \"italic\"}, \"after clock cycle 7 ->random input\"]], \"tock\": 0}}</script></div>"
      ]
     },
     "metadata": {},
     "output_type": "display_data"
    },
    {
     "data": {
      "application/javascript": [
       "$.getScript(\"http://wavedrom.com/wavedrom.min.js\", function () {\n",
       "$.getScript(\"http://wavedrom.com/skins/default.js\", function () {\n",
       "WaveDrom.ProcessAll();});\n",
       "});\n"
      ]
     },
     "metadata": {},
     "output_type": "display_data"
    }
   ],
   "source": [
    "#create the test signals and intilize value to both be false(0)\n",
    "x_1in, x_2in, x_3in, y_out=[Signal(bool(0)) for _ in range(4)]\n",
    "\n",
    "#Peeker is helper libary for viewing wavefrom outputs and run the sim inside\n",
    "#jupyter notebooks\n",
    "#clear any previeese data loaded into peeker\n",
    "Peeker.clear()\n",
    "\n",
    "#load and name the signals to watch into peeker\n",
    "Peeker(x_1in, 'x_1in'); Peeker(x_2in, 'x_2in'); Peeker(x_3in, 'x_3in')\n",
    "Peeker(y_out, 'y_out')\n",
    "\n",
    "#make an instatince of the NotGate as the DUT\n",
    "DUT=Or3Gate(x_1in=x_1in, x_2in=x_2in, x_3in=x_3in, y_out=y_out)\n",
    "\n",
    "inputs=[x_1in, x_2in, x_3in]\n",
    "\n",
    "sim=Simulation(DUT, Combo_TB(inputs), *Peeker.instances()).run()        \n",
    "Peeker.to_wavedrom(start_time=0, stop_time=2*2**len(inputs), tock=True,\n",
    "                  title='OR 2 gate simulation',\n",
    "                  caption=f'after clock cycle {2**len(inputs)-1} ->random input')\n"
   ]
  },
  {
   "cell_type": "code",
   "execution_count": 43,
   "metadata": {},
   "outputs": [
    {
     "data": {
      "text/html": [
       "<div>\n",
       "<style>\n",
       "    .dataframe thead tr:only-child th {\n",
       "        text-align: right;\n",
       "    }\n",
       "\n",
       "    .dataframe thead th {\n",
       "        text-align: left;\n",
       "    }\n",
       "\n",
       "    .dataframe tbody tr th {\n",
       "        vertical-align: top;\n",
       "    }\n",
       "</style>\n",
       "<table border=\"1\" class=\"dataframe\">\n",
       "  <thead>\n",
       "    <tr style=\"text-align: right;\">\n",
       "      <th></th>\n",
       "      <th>x_1in</th>\n",
       "      <th>x_2in</th>\n",
       "      <th>x_3in</th>\n",
       "      <th>y_out</th>\n",
       "    </tr>\n",
       "  </thead>\n",
       "  <tbody>\n",
       "    <tr>\n",
       "      <th>0</th>\n",
       "      <td>0</td>\n",
       "      <td>0</td>\n",
       "      <td>0</td>\n",
       "      <td>0</td>\n",
       "    </tr>\n",
       "    <tr>\n",
       "      <th>1</th>\n",
       "      <td>0</td>\n",
       "      <td>0</td>\n",
       "      <td>1</td>\n",
       "      <td>1</td>\n",
       "    </tr>\n",
       "    <tr>\n",
       "      <th>2</th>\n",
       "      <td>0</td>\n",
       "      <td>1</td>\n",
       "      <td>0</td>\n",
       "      <td>1</td>\n",
       "    </tr>\n",
       "    <tr>\n",
       "      <th>3</th>\n",
       "      <td>0</td>\n",
       "      <td>1</td>\n",
       "      <td>1</td>\n",
       "      <td>1</td>\n",
       "    </tr>\n",
       "    <tr>\n",
       "      <th>4</th>\n",
       "      <td>1</td>\n",
       "      <td>0</td>\n",
       "      <td>0</td>\n",
       "      <td>1</td>\n",
       "    </tr>\n",
       "    <tr>\n",
       "      <th>5</th>\n",
       "      <td>1</td>\n",
       "      <td>0</td>\n",
       "      <td>1</td>\n",
       "      <td>1</td>\n",
       "    </tr>\n",
       "    <tr>\n",
       "      <th>6</th>\n",
       "      <td>1</td>\n",
       "      <td>1</td>\n",
       "      <td>0</td>\n",
       "      <td>1</td>\n",
       "    </tr>\n",
       "    <tr>\n",
       "      <th>7</th>\n",
       "      <td>1</td>\n",
       "      <td>1</td>\n",
       "      <td>1</td>\n",
       "      <td>1</td>\n",
       "    </tr>\n",
       "  </tbody>\n",
       "</table>\n",
       "</div>"
      ],
      "text/plain": [
       "  x_1in x_2in x_3in y_out\n",
       "0     0     0     0     0\n",
       "1     0     0     1     1\n",
       "2     0     1     0     1\n",
       "3     0     1     1     1\n",
       "4     1     0     0     1\n",
       "5     1     0     1     1\n",
       "6     1     1     0     1\n",
       "7     1     1     1     1"
      ]
     },
     "execution_count": 43,
     "metadata": {},
     "output_type": "execute_result"
    }
   ],
   "source": [
    "MakeDFfromPeeker(Peeker.to_wavejson(start_time=0, stop_time=2**len(inputs) -1))"
   ]
  },
  {
   "cell_type": "markdown",
   "metadata": {},
   "source": [
    "## myHDL Three Input AND Gate HDL Synthesis"
   ]
  },
  {
   "cell_type": "code",
   "execution_count": 44,
   "metadata": {},
   "outputs": [
    {
     "name": "stdout",
     "output_type": "stream",
     "text": [
      "***Verilog modual from Or3Gate.v***\n",
      "\n",
      " // File: Or3Gate.v\n",
      "// Generated by MyHDL 0.9.0\n",
      "// Date: Mon Oct  9 02:49:49 2017\n",
      "\n",
      "\n",
      "`timescale 1ns/10ps\n",
      "\n",
      "module Or3Gate (\n",
      "    x_1in,\n",
      "    x_2in,\n",
      "    x_3in,\n",
      "    y_out\n",
      ");\n",
      "// Or Logic Gate myHDL Module (function)\n",
      "// \n",
      "// Args:\n",
      "//     x_1in: bool Input port\n",
      "//     x_2in: bool Input port\n",
      "//     x_3in: bool Input port\n",
      "//     y_out: bool Output port\n",
      "// \n",
      "// Returns:\n",
      "//     AND Combo logic operation\n",
      "//     \n",
      "\n",
      "input x_1in;\n",
      "input x_2in;\n",
      "input x_3in;\n",
      "output y_out;\n",
      "wire y_out;\n",
      "\n",
      "\n",
      "\n",
      "\n",
      "\n",
      "\n",
      "\n",
      "assign y_out = (x_1in || x_2in || x_3in);\n",
      "\n",
      "endmodule\n",
      "\n"
     ]
    }
   ],
   "source": [
    "toVerilog(Or3Gate, x_1in, x_2in, x_3in, y_out)\n",
    "#toVHDL(And3Gate, x_1in, x_2in, x_3in y_out)\n",
    "_=VerilogTextReader('Or3Gate')"
   ]
  },
  {
   "cell_type": "markdown",
   "metadata": {},
   "source": [
    "The following shows the **Xilinx**'s _Vivado 2016.1_ RTL generated schematic of our myHDL three input OR gate's verilog code\n",
    "<img style=\"float: center;\" src=\"Or3GateRTLSch.PNG\">"
   ]
  },
  {
   "cell_type": "markdown",
   "metadata": {},
   "source": [
    "# DeMorgan's theorem\n",
    "finding the conjugate logical expression"
   ]
  },
  {
   "cell_type": "markdown",
   "metadata": {},
   "source": [
    "# NAND\n",
    "negated and, negated multiplication, sum of negated inputs"
   ]
  },
  {
   "cell_type": "markdown",
   "metadata": {},
   "source": [
    "## Symbols"
   ]
  },
  {
   "cell_type": "markdown",
   "metadata": {},
   "source": [
    "## NAND Gate Definition"
   ]
  },
  {
   "cell_type": "markdown",
   "metadata": {},
   "source": [
    "\\begin{definition}\n",
    "A  NAND gate is multi input single output logic gate that gives the negation of the multiplication of the boolean inputs at its output and is thus the DeMorgan conjugate of the AND Gate \n",
    "$$y_{\\text{out}}=\\bar{\\prod_{i=1}^{N\\geq 2} x_{i\\text{ in} }}=\\sum_{i=1}^{N\\geq 2} \\bar{x_{i\\text{ in} }}$$\n",
    "    \n",
    " In more compact notation it is represented as (for a 2-input):\n",
    " $$y_{\\text{out}}=\\bar{x_{1\\text{ in} }} + \\bar{x_{2\\text{ in} }}$$\n",
    " Which can also be written (as sympy does) as:\n",
    " $$y_{\\text{out}}=\\neg(x_{1\\text{ in} }  \\wedge  x_{2\\text{ in} })=\\neg x_{1\\text{ in} } \\vee \\neg x_{2\\text{ in} }$$\n",
    "\\end{definition} "
   ]
  },
  {
   "cell_type": "markdown",
   "metadata": {},
   "source": [
    "## NAND Gate in Sympy and Python"
   ]
  },
  {
   "cell_type": "code",
   "execution_count": 45,
   "metadata": {},
   "outputs": [
    {
     "data": {
      "image/png": "[encoded data removed]",
      "text/latex": [
       "$$\\left ( y_{out} = \\neg (x_{1in} \\wedge x_{2in}), \\quad y_{out} = \\neg (x_{1in} \\wedge x_{2in}), \\quad y_{out} = \\neg (x_{1in} \\wedge x_{2in}), \\quad y_{out} = \\neg x_{1in} \\vee \\neg x_{2in}\\right )$$"
      ],
      "text/plain": [
       "(yₒᵤₜ = ¬(x₁ᵢₙ ∧ x₂ᵢₙ), yₒᵤₜ = ¬(x₁ᵢₙ ∧ x₂ᵢₙ), yₒᵤₜ = ¬(x₁ᵢₙ ∧ x₂ᵢₙ), yₒᵤₜ = ¬\n",
       "x₁ᵢₙ ∨ ¬x₂ᵢₙ)"
      ]
     },
     "execution_count": 45,
     "metadata": {},
     "output_type": "execute_result"
    }
   ],
   "source": [
    "x_1in, x_2in, y_out=symbols('x_1in, x_2in, y_out')\n",
    "NAND2Def0=Eq(y_out, Nand(x_1in, x_2in))\n",
    "NAND2Def1=Eq(y_out, ~(x_1in & x_2in))\n",
    "NAND2Def2=Eq(y_out, Not(And(x_1in , x_2in)))\n",
    "NAND2Def3=simplify(NAND2Def2) #DeMorgan equivlinacy\n",
    "NAND2Def0, NAND2Def1, NAND2Def2, NAND2Def3"
   ]
  },
  {
   "cell_type": "code",
   "execution_count": 46,
   "metadata": {},
   "outputs": [
    {
     "data": {
      "text/html": [
       "<div>\n",
       "<style>\n",
       "    .dataframe thead tr:only-child th {\n",
       "        text-align: right;\n",
       "    }\n",
       "\n",
       "    .dataframe thead th {\n",
       "        text-align: left;\n",
       "    }\n",
       "\n",
       "    .dataframe tbody tr th {\n",
       "        vertical-align: top;\n",
       "    }\n",
       "</style>\n",
       "<table border=\"1\" class=\"dataframe\">\n",
       "  <thead>\n",
       "    <tr style=\"text-align: right;\">\n",
       "      <th></th>\n",
       "      <th>x_1in</th>\n",
       "      <th>x_2in</th>\n",
       "      <th>y_out</th>\n",
       "    </tr>\n",
       "  </thead>\n",
       "  <tbody>\n",
       "    <tr>\n",
       "      <th>0</th>\n",
       "      <td>0</td>\n",
       "      <td>0</td>\n",
       "      <td>1</td>\n",
       "    </tr>\n",
       "    <tr>\n",
       "      <th>1</th>\n",
       "      <td>0</td>\n",
       "      <td>1</td>\n",
       "      <td>1</td>\n",
       "    </tr>\n",
       "    <tr>\n",
       "      <th>2</th>\n",
       "      <td>1</td>\n",
       "      <td>0</td>\n",
       "      <td>1</td>\n",
       "    </tr>\n",
       "    <tr>\n",
       "      <th>3</th>\n",
       "      <td>1</td>\n",
       "      <td>1</td>\n",
       "      <td>0</td>\n",
       "    </tr>\n",
       "  </tbody>\n",
       "</table>\n",
       "</div>"
      ],
      "text/plain": [
       "   x_1in  x_2in  y_out\n",
       "0      0      0      1\n",
       "1      0      1      1\n",
       "2      1      0      1\n",
       "3      1      1      0"
      ]
     },
     "execution_count": 46,
     "metadata": {},
     "output_type": "execute_result"
    }
   ],
   "source": [
    "NAND2_TT=TruthTabelGenrator(NAND2Def0)\n",
    "NAND2_TT"
   ]
  },
  {
   "cell_type": "code",
   "execution_count": 47,
   "metadata": {},
   "outputs": [
    {
     "data": {
      "text/html": [
       "<div>\n",
       "<style>\n",
       "    .dataframe thead tr:only-child th {\n",
       "        text-align: right;\n",
       "    }\n",
       "\n",
       "    .dataframe thead th {\n",
       "        text-align: left;\n",
       "    }\n",
       "\n",
       "    .dataframe tbody tr th {\n",
       "        vertical-align: top;\n",
       "    }\n",
       "</style>\n",
       "<table border=\"1\" class=\"dataframe\">\n",
       "  <thead>\n",
       "    <tr style=\"text-align: right;\">\n",
       "      <th></th>\n",
       "      <th>x_1in</th>\n",
       "      <th>x_2in</th>\n",
       "      <th>y_out</th>\n",
       "    </tr>\n",
       "  </thead>\n",
       "  <tbody>\n",
       "    <tr>\n",
       "      <th>0</th>\n",
       "      <td>0</td>\n",
       "      <td>0</td>\n",
       "      <td>1</td>\n",
       "    </tr>\n",
       "    <tr>\n",
       "      <th>1</th>\n",
       "      <td>0</td>\n",
       "      <td>1</td>\n",
       "      <td>1</td>\n",
       "    </tr>\n",
       "    <tr>\n",
       "      <th>2</th>\n",
       "      <td>1</td>\n",
       "      <td>0</td>\n",
       "      <td>1</td>\n",
       "    </tr>\n",
       "    <tr>\n",
       "      <th>3</th>\n",
       "      <td>1</td>\n",
       "      <td>1</td>\n",
       "      <td>0</td>\n",
       "    </tr>\n",
       "  </tbody>\n",
       "</table>\n",
       "</div>"
      ],
      "text/plain": [
       "   x_1in  x_2in  y_out\n",
       "0      0      0      1\n",
       "1      0      1      1\n",
       "2      1      0      1\n",
       "3      1      1      0"
      ]
     },
     "execution_count": 47,
     "metadata": {},
     "output_type": "execute_result"
    }
   ],
   "source": [
    "NAND2_DME_TT=TruthTabelGenrator(NAND2Def2)\n",
    "NAND2_DME_TT"
   ]
  },
  {
   "cell_type": "code",
   "execution_count": 48,
   "metadata": {},
   "outputs": [
    {
     "data": {
      "text/plain": [
       "True"
      ]
     },
     "execution_count": 48,
     "metadata": {},
     "output_type": "execute_result"
    }
   ],
   "source": [
    "NAND2_TT.equals(NAND2_DME_TT)"
   ]
  },
  {
   "cell_type": "code",
   "execution_count": 49,
   "metadata": {},
   "outputs": [
    {
     "data": {
      "text/plain": [
       "False"
      ]
     },
     "execution_count": 49,
     "metadata": {},
     "output_type": "execute_result"
    }
   ],
   "source": [
    "NAND2Def3N=lambdify((x_1in, x_2in), NAND2Def3.rhs, dummify=False)\n",
    "NAND2Def3N(True, True)"
   ]
  },
  {
   "cell_type": "code",
   "execution_count": 50,
   "metadata": {},
   "outputs": [
    {
     "data": {
      "image/png": "[encoded data removed]",
      "text/latex": [
       "$$\\left ( y_{out} = \\neg (x_{1in} \\wedge x_{2in} \\wedge x_{3in}), \\quad y_{out} = \\neg (x_{1in} \\wedge x_{2in} \\wedge x_{3in}), \\quad y_{out} = \\neg (x_{1in} \\wedge x_{2in} \\wedge x_{3in}), \\quad y_{out} = \\neg x_{1in} \\vee \\neg x_{2in} \\vee \\neg x_{3in}\\right )$$"
      ],
      "text/plain": [
       "(yₒᵤₜ = ¬(x₁ᵢₙ ∧ x₂ᵢₙ ∧ x₃ᵢₙ), yₒᵤₜ = ¬(x₁ᵢₙ ∧ x₂ᵢₙ ∧ x₃ᵢₙ), yₒᵤₜ = ¬(x₁ᵢₙ ∧ x\n",
       "₂ᵢₙ ∧ x₃ᵢₙ), yₒᵤₜ = ¬x₁ᵢₙ ∨ ¬x₂ᵢₙ ∨ ¬x₃ᵢₙ)"
      ]
     },
     "execution_count": 50,
     "metadata": {},
     "output_type": "execute_result"
    }
   ],
   "source": [
    "x_1in, x_2in, x_3in, y_out=symbols('x_1in, x_2in, x_3in, y_out')\n",
    "NAND3Def0=Eq(y_out, Nand(x_1in, x_2in, x_3in))\n",
    "NAND3Def1=Eq(y_out, ~(x_1in & x_2in & x_3in))\n",
    "NAND3Def2=Eq(y_out, Not(And(x_1in , x_2in, x_3in)))\n",
    "NAND3Def3=simplify(NAND3Def1) #DeMorgan equivlinacy\n",
    "NAND3Def0, NAND3Def1, NAND3Def2, NAND3Def3"
   ]
  },
  {
   "cell_type": "code",
   "execution_count": 51,
   "metadata": {},
   "outputs": [
    {
     "data": {
      "text/html": [
       "<div>\n",
       "<style>\n",
       "    .dataframe thead tr:only-child th {\n",
       "        text-align: right;\n",
       "    }\n",
       "\n",
       "    .dataframe thead th {\n",
       "        text-align: left;\n",
       "    }\n",
       "\n",
       "    .dataframe tbody tr th {\n",
       "        vertical-align: top;\n",
       "    }\n",
       "</style>\n",
       "<table border=\"1\" class=\"dataframe\">\n",
       "  <thead>\n",
       "    <tr style=\"text-align: right;\">\n",
       "      <th></th>\n",
       "      <th>x_1in</th>\n",
       "      <th>x_2in</th>\n",
       "      <th>x_3in</th>\n",
       "      <th>y_out</th>\n",
       "    </tr>\n",
       "  </thead>\n",
       "  <tbody>\n",
       "    <tr>\n",
       "      <th>0</th>\n",
       "      <td>0</td>\n",
       "      <td>0</td>\n",
       "      <td>0</td>\n",
       "      <td>1</td>\n",
       "    </tr>\n",
       "    <tr>\n",
       "      <th>1</th>\n",
       "      <td>0</td>\n",
       "      <td>0</td>\n",
       "      <td>1</td>\n",
       "      <td>1</td>\n",
       "    </tr>\n",
       "    <tr>\n",
       "      <th>2</th>\n",
       "      <td>0</td>\n",
       "      <td>1</td>\n",
       "      <td>0</td>\n",
       "      <td>1</td>\n",
       "    </tr>\n",
       "    <tr>\n",
       "      <th>3</th>\n",
       "      <td>0</td>\n",
       "      <td>1</td>\n",
       "      <td>1</td>\n",
       "      <td>1</td>\n",
       "    </tr>\n",
       "    <tr>\n",
       "      <th>4</th>\n",
       "      <td>1</td>\n",
       "      <td>0</td>\n",
       "      <td>0</td>\n",
       "      <td>1</td>\n",
       "    </tr>\n",
       "    <tr>\n",
       "      <th>5</th>\n",
       "      <td>1</td>\n",
       "      <td>0</td>\n",
       "      <td>1</td>\n",
       "      <td>1</td>\n",
       "    </tr>\n",
       "    <tr>\n",
       "      <th>6</th>\n",
       "      <td>1</td>\n",
       "      <td>1</td>\n",
       "      <td>0</td>\n",
       "      <td>1</td>\n",
       "    </tr>\n",
       "    <tr>\n",
       "      <th>7</th>\n",
       "      <td>1</td>\n",
       "      <td>1</td>\n",
       "      <td>1</td>\n",
       "      <td>0</td>\n",
       "    </tr>\n",
       "  </tbody>\n",
       "</table>\n",
       "</div>"
      ],
      "text/plain": [
       "   x_1in  x_2in  x_3in  y_out\n",
       "0      0      0      0      1\n",
       "1      0      0      1      1\n",
       "2      0      1      0      1\n",
       "3      0      1      1      1\n",
       "4      1      0      0      1\n",
       "5      1      0      1      1\n",
       "6      1      1      0      1\n",
       "7      1      1      1      0"
      ]
     },
     "execution_count": 51,
     "metadata": {},
     "output_type": "execute_result"
    }
   ],
   "source": [
    "NAND3_TT=TruthTabelGenrator(NAND3Def0)\n",
    "NAND3_TT"
   ]
  },
  {
   "cell_type": "code",
   "execution_count": 52,
   "metadata": {},
   "outputs": [
    {
     "data": {
      "text/plain": [
       "True"
      ]
     },
     "execution_count": 52,
     "metadata": {},
     "output_type": "execute_result"
    }
   ],
   "source": [
    "NAND3_DME_TT=TruthTabelGenrator(NAND3Def1)\n",
    "NAND3_TT.equals(NAND3_DME_TT)"
   ]
  },
  {
   "cell_type": "code",
   "execution_count": 53,
   "metadata": {
    "collapsed": true
   },
   "outputs": [],
   "source": [
    "NAND3Def3N=lambdify((x_1in, x_2in, x_3in), NAND3Def3, dummify=False)\n",
    "#again WTH\n",
    "#NAND3Def3N(1, 0, 1)"
   ]
  },
  {
   "cell_type": "code",
   "execution_count": 54,
   "metadata": {
    "collapsed": true
   },
   "outputs": [],
   "source": [
    "#DoNotTrust: pyNAND2Eq1=lambda x1, x2: ~(x1 & x2)\n",
    "pyNAND2Eq2=lambda x1, x2: not(x1 and x2)\n",
    "#DoNotTrust: pyNAND2Eq3=lambda x1, x2: ~x1 | ~x2\n",
    "pyNAND2Eq4=lambda x1, x2: not x1 or not x2\n",
    "\n",
    "#DoNotTrust:pyNAND3Eq1=lambda x1, x2, x3: ~(x1 & x2 & x3)\n",
    "pyNAND3Eq2=lambda x1, x2, x3: not(x1 and x2 and x3)\n",
    "#DoNotTrust:pyNAND3Eq3=lambda x1, x2, x3: ~x1 | ~x2 | ~x3\n",
    "pyNAND3Eq4=lambda x1, x2, x3: not x1 or not x2 or not x3\n"
   ]
  },
  {
   "cell_type": "code",
   "execution_count": 55,
   "metadata": {},
   "outputs": [
    {
     "data": {
      "text/plain": [
       "(True, False, True, True)"
      ]
     },
     "execution_count": 55,
     "metadata": {},
     "output_type": "execute_result"
    }
   ],
   "source": [
    " pyNAND2Eq2(0,1), pyNAND2Eq4(1,1), pyNAND3Eq2(0,1,0), pyNAND3Eq4(0,0,0)"
   ]
  },
  {
   "cell_type": "markdown",
   "metadata": {},
   "source": [
    "## myHDL Two Input NAND Gate and Testing"
   ]
  },
  {
   "cell_type": "code",
   "execution_count": 56,
   "metadata": {
    "collapsed": true
   },
   "outputs": [],
   "source": [
    "#create a HDL Module (python function) and its I\\O ports\n",
    "def Nand2Gate(x_1in, x_2in, y_out):\n",
    "    \"\"\"AND Logic Gate myHDL Module (function)\n",
    "    \n",
    "    Args:\n",
    "        x_1in: bool Input port\n",
    "        x_2in: bool Input port\n",
    "        y_out: bool Output port\n",
    "    \n",
    "    Returns:\n",
    "        AND Combo logic operation\n",
    "        \n",
    "    \"\"\"\n",
    "    #define what this module is to do\n",
    "    \n",
    "    #myHDL built in decorator to say the function is exuiquated on each\n",
    "    #clock cycle\n",
    "    @always_comb\n",
    "    def logic():\n",
    "        y_out.next= not(x_1in and x_2in)\n",
    "        \n",
    "    return logic"
   ]
  },
  {
   "cell_type": "code",
   "execution_count": 57,
   "metadata": {},
   "outputs": [
    {
     "name": "stderr",
     "output_type": "stream",
     "text": [
      "<class 'myhdl.StopSimulation'>: No more events\n"
     ]
    },
    {
     "data": {
      "text/html": [
       "<div><script type=\"WaveDrom\">{\"signal\": [{\"name\": \"x_1in\", \"wave\": \"0.1.01...\"}, {\"name\": \"x_2in\", \"wave\": \"0101.0.1.\"}, {\"name\": \"y_out\", \"wave\": \"1..01..0.\"}], \"head\": {\"text\": [\"tspan\", [\"tspan\", {\"fill\": \"blue\", \"font-size\": \"16\", \"font-weight\": \"bold\"}, \"NAND 2 gate simulation\"]], \"tock\": 0}, \"foot\": {\"text\": [\"tspan\", [\"tspan\", {\"font-style\": \"italic\"}, \"after clock cycle 3 ->random input\"]], \"tock\": 0}}</script></div>"
      ]
     },
     "metadata": {},
     "output_type": "display_data"
    },
    {
     "data": {
      "application/javascript": [
       "$.getScript(\"http://wavedrom.com/wavedrom.min.js\", function () {\n",
       "$.getScript(\"http://wavedrom.com/skins/default.js\", function () {\n",
       "WaveDrom.ProcessAll();});\n",
       "});\n"
      ]
     },
     "metadata": {},
     "output_type": "display_data"
    }
   ],
   "source": [
    "#create the test signals and intilize value to both be false(0)\n",
    "x_1in, x_2in, y_out=[Signal(bool(0)) for _ in range(3)]\n",
    "\n",
    "#Peeker is helper libary for viewing wavefrom outputs and run the sim inside\n",
    "#jupyter notebooks\n",
    "#clear any previeese data loaded into peeker\n",
    "Peeker.clear()\n",
    "\n",
    "#load and name the signals to watch into peeker\n",
    "Peeker(x_1in, 'x_1in'); Peeker(x_2in, 'x_2in')\n",
    "Peeker(y_out, 'y_out')\n",
    "\n",
    "#make an instatince of the NotGate as the DUT\n",
    "DUT=Nand2Gate(x_1in=x_1in, x_2in=x_2in, y_out=y_out)\n",
    "\n",
    "inputs=[x_1in, x_2in]\n",
    "\n",
    "sim=Simulation(DUT, Combo_TB(inputs), *Peeker.instances()).run()        \n",
    "Peeker.to_wavedrom(start_time=0, stop_time=2*2**len(inputs), tock=True,\n",
    "                  title='NAND 2 gate simulation',\n",
    "                  caption=f'after clock cycle {2**len(inputs)-1} ->random input')"
   ]
  },
  {
   "cell_type": "code",
   "execution_count": 58,
   "metadata": {},
   "outputs": [
    {
     "data": {
      "text/html": [
       "<div>\n",
       "<style>\n",
       "    .dataframe thead tr:only-child th {\n",
       "        text-align: right;\n",
       "    }\n",
       "\n",
       "    .dataframe thead th {\n",
       "        text-align: left;\n",
       "    }\n",
       "\n",
       "    .dataframe tbody tr th {\n",
       "        vertical-align: top;\n",
       "    }\n",
       "</style>\n",
       "<table border=\"1\" class=\"dataframe\">\n",
       "  <thead>\n",
       "    <tr style=\"text-align: right;\">\n",
       "      <th></th>\n",
       "      <th>x_1in</th>\n",
       "      <th>x_2in</th>\n",
       "      <th>y_out</th>\n",
       "    </tr>\n",
       "  </thead>\n",
       "  <tbody>\n",
       "    <tr>\n",
       "      <th>0</th>\n",
       "      <td>0</td>\n",
       "      <td>0</td>\n",
       "      <td>1</td>\n",
       "    </tr>\n",
       "    <tr>\n",
       "      <th>1</th>\n",
       "      <td>0</td>\n",
       "      <td>1</td>\n",
       "      <td>1</td>\n",
       "    </tr>\n",
       "    <tr>\n",
       "      <th>2</th>\n",
       "      <td>1</td>\n",
       "      <td>0</td>\n",
       "      <td>1</td>\n",
       "    </tr>\n",
       "    <tr>\n",
       "      <th>3</th>\n",
       "      <td>1</td>\n",
       "      <td>1</td>\n",
       "      <td>0</td>\n",
       "    </tr>\n",
       "  </tbody>\n",
       "</table>\n",
       "</div>"
      ],
      "text/plain": [
       "  x_1in x_2in y_out\n",
       "0     0     0     1\n",
       "1     0     1     1\n",
       "2     1     0     1\n",
       "3     1     1     0"
      ]
     },
     "execution_count": 58,
     "metadata": {},
     "output_type": "execute_result"
    }
   ],
   "source": [
    "MakeDFfromPeeker(Peeker.to_wavejson(start_time=0, stop_time=2**len(inputs) -1))"
   ]
  },
  {
   "cell_type": "markdown",
   "metadata": {},
   "source": [
    "## myHDL Three Input NAND Gate and Testing"
   ]
  },
  {
   "cell_type": "code",
   "execution_count": 59,
   "metadata": {
    "collapsed": true
   },
   "outputs": [],
   "source": [
    "#create a HDL Module (python function) and its I\\O ports\n",
    "def Nand3Gate(x_1in, x_2in, x_3in, y_out):\n",
    "    \"\"\"AND Logic Gate myHDL Module (function)\n",
    "    \n",
    "    Args:\n",
    "        x_1in: bool Input port\n",
    "        x_2in: bool Input port\n",
    "        x_3in: bool Input port\n",
    "        y_out: bool Output port\n",
    "    \n",
    "    Returns:\n",
    "        AND Combo logic operation\n",
    "        \n",
    "    \"\"\"\n",
    "    #define what this module is to do\n",
    "    \n",
    "    #myHDL built in decorator to say the function is exuiquated on each\n",
    "    #clock cycle\n",
    "    @always_comb\n",
    "    def logic():\n",
    "        y_out.next= (not x_1in) or  (not x_2in) or (not x_3in)\n",
    "        \n",
    "    return logic"
   ]
  },
  {
   "cell_type": "code",
   "execution_count": 60,
   "metadata": {},
   "outputs": [
    {
     "name": "stderr",
     "output_type": "stream",
     "text": [
      "<class 'myhdl.StopSimulation'>: No more events\n"
     ]
    },
    {
     "data": {
      "text/html": [
       "<div><script type=\"WaveDrom\">{\"signal\": [{\"name\": \"x_1in\", \"wave\": \"0...1...01.0.1...\"}, {\"name\": \"x_2in\", \"wave\": \"0.1.0.1...0...10.\"}, {\"name\": \"x_3in[0]\", \"wave\": \"010101010.10...1.\"}, {\"name\": \"y_out[0]\", \"wave\": \"1......01........\"}], \"head\": {\"text\": [\"tspan\", [\"tspan\", {\"fill\": \"blue\", \"font-size\": \"16\", \"font-weight\": \"bold\"}, \"NAND 3 gate simulation\"]], \"tock\": 0}, \"foot\": {\"text\": [\"tspan\", [\"tspan\", {\"font-style\": \"italic\"}, \"after clock cycle 7 ->random input\"]], \"tock\": 0}}</script></div>"
      ]
     },
     "metadata": {},
     "output_type": "display_data"
    },
    {
     "data": {
      "application/javascript": [
       "$.getScript(\"http://wavedrom.com/wavedrom.min.js\", function () {\n",
       "$.getScript(\"http://wavedrom.com/skins/default.js\", function () {\n",
       "WaveDrom.ProcessAll();});\n",
       "});\n"
      ]
     },
     "metadata": {},
     "output_type": "display_data"
    }
   ],
   "source": [
    "#create the test signals and intilize value to both be false(0)\n",
    "x_1in, x_2in, x_3in, y_out=[Signal(bool(0)) for _ in range(4)]\n",
    "\n",
    "#Peeker is helper libary for viewing wavefrom outputs and run the sim inside\n",
    "#jupyter notebooks\n",
    "#clear any previeese data loaded into peeker\n",
    "Peeker.clear()\n",
    "\n",
    "#load and name the signals to watch into peeker\n",
    "Peeker(x_1in, 'x_1in'); Peeker(x_2in, 'x_2in'); Peeker(x_3in, 'x_3in')\n",
    "Peeker(y_out, 'y_out')\n",
    "\n",
    "#make an instatince of the NotGate as the DUT\n",
    "DUT=Nand3Gate(x_1in=x_1in, x_2in=x_2in, x_3in=x_3in, y_out=y_out)\n",
    "\n",
    "inputs=[x_1in, x_2in, x_3in]\n",
    "\n",
    "sim=Simulation(DUT, Combo_TB(inputs), *Peeker.instances()).run()        \n",
    "Peeker.to_wavedrom(start_time=0, stop_time=2*2**len(inputs), tock=True,\n",
    "                  title='NAND 3 gate simulation',\n",
    "             ## myHDL Three Input AND Gate HDL Synthesis\n",
    "     caption=f'after clock cycle {2**len(inputs)-1} ->random input')"
   ]
  },
  {
   "cell_type": "code",
   "execution_count": 61,
   "metadata": {},
   "outputs": [
    {
     "data": {
      "text/html": [
       "<div>\n",
       "<style>\n",
       "    .dataframe thead tr:only-child th {\n",
       "        text-align: right;\n",
       "    }\n",
       "\n",
       "    .dataframe thead th {\n",
       "        text-align: left;\n",
       "    }\n",
       "\n",
       "    .dataframe tbody tr th {\n",
       "        vertical-align: top;\n",
       "    }\n",
       "</style>\n",
       "<table border=\"1\" class=\"dataframe\">\n",
       "  <thead>\n",
       "    <tr style=\"text-align: right;\">\n",
       "      <th></th>\n",
       "      <th>x_1in</th>\n",
       "      <th>x_2in</th>\n",
       "      <th>x_3in</th>\n",
       "      <th>y_out</th>\n",
       "    </tr>\n",
       "  </thead>\n",
       "  <tbody>\n",
       "    <tr>\n",
       "      <th>0</th>\n",
       "      <td>0</td>\n",
       "      <td>0</td>\n",
       "      <td>0</td>\n",
       "      <td>1</td>\n",
       "    </tr>\n",
       "    <tr>\n",
       "      <th>1</th>\n",
       "      <td>0</td>\n",
       "      <td>0</td>\n",
       "      <td>1</td>\n",
       "      <td>1</td>\n",
       "    </tr>\n",
       "    <tr>\n",
       "      <th>2</th>\n",
       "      <td>0</td>\n",
       "      <td>1</td>\n",
       "      <td>0</td>\n",
       "      <td>1</td>\n",
       "    </tr>\n",
       "    <tr>\n",
       "      <th>3</th>\n",
       "      <td>0</td>\n",
       "      <td>1</td>\n",
       "      <td>1</td>\n",
       "      <td>1</td>\n",
       "    </tr>\n",
       "    <tr>\n",
       "      <th>4</th>\n",
       "      <td>1</td>\n",
       "      <td>0</td>\n",
       "      <td>0</td>\n",
       "      <td>1</td>\n",
       "    </tr>\n",
       "    <tr>\n",
       "      <th>5</th>\n",
       "      <td>1</td>\n",
       "      <td>0</td>\n",
       "      <td>1</td>\n",
       "      <td>1</td>\n",
       "    </tr>\n",
       "    <tr>\n",
       "      <th>6</th>\n",
       "      <td>1</td>\n",
       "      <td>1</td>\n",
       "      <td>0</td>\n",
       "      <td>1</td>\n",
       "    </tr>\n",
       "    <tr>\n",
       "      <th>7</th>\n",
       "      <td>1</td>\n",
       "      <td>1</td>\n",
       "      <td>1</td>\n",
       "      <td>0</td>\n",
       "    </tr>\n",
       "  </tbody>\n",
       "</table>\n",
       "</div>"
      ],
      "text/plain": [
       "  x_1in x_2in x_3in y_out\n",
       "0     0     0     0     1\n",
       "1     0     0     1     1\n",
       "2     0     1     0     1\n",
       "3     0     1     1     1\n",
       "4     1     0     0     1\n",
       "5     1     0     1     1\n",
       "6     1     1     0     1\n",
       "7     1     1     1     0"
      ]
     },
     "execution_count": 61,
     "metadata": {},
     "output_type": "execute_result"
    }
   ],
   "source": [
    "MakeDFfromPeeker(Peeker.to_wavejson(start_time=0, stop_time=2**len(inputs) -1))"
   ]
  },
  {
   "cell_type": "markdown",
   "metadata": {},
   "source": [
    "## myHDL Three Input NAND Gate HDL Synthesis\n"
   ]
  },
  {
   "cell_type": "code",
   "execution_count": 62,
   "metadata": {
    "scrolled": true
   },
   "outputs": [
    {
     "name": "stdout",
     "output_type": "stream",
     "text": [
      "***Verilog modual from Nand3Gate.v***\n",
      "\n",
      " // File: Nand3Gate.v\n",
      "// Generated by MyHDL 0.9.0\n",
      "// Date: Mon Oct  9 02:50:21 2017\n",
      "\n",
      "\n",
      "`timescale 1ns/10ps\n",
      "\n",
      "module Nand3Gate (\n",
      "    x_1in,\n",
      "    x_2in,\n",
      "    x_3in,\n",
      "    y_out\n",
      ");\n",
      "// AND Logic Gate myHDL Module (function)\n",
      "// \n",
      "// Args:\n",
      "//     x_1in: bool Input port\n",
      "//     x_2in: bool Input port\n",
      "//     x_3in: bool Input port\n",
      "//     y_out: bool Output port\n",
      "// \n",
      "// Returns:\n",
      "//     AND Combo logic operation\n",
      "//     \n",
      "\n",
      "input x_1in;\n",
      "input x_2in;\n",
      "input x_3in;\n",
      "output y_out;\n",
      "wire y_out;\n",
      "\n",
      "\n",
      "\n",
      "\n",
      "\n",
      "\n",
      "\n",
      "assign y_out = ((!x_1in) || (!x_2in) || (!x_3in));\n",
      "\n",
      "endmodule\n",
      "\n"
     ]
    }
   ],
   "source": [
    "toVerilog(Nand3Gate, x_1in, x_2in, x_3in, y_out)\n",
    "#toVHDL(And3Gate, x_1in, x_2in, x_3in y_out)\n",
    "_=VerilogTextReader('Nand3Gate')"
   ]
  },
  {
   "cell_type": "markdown",
   "metadata": {},
   "source": [
    "The following shows the **Xilinx**'s _Vivado 2016.1_ RTL generated schematic of our myHDL three input NAND gate's verilog code\n",
    "<img style=\"float: center;\" src=\"Nand3GateRTLSch.PNG\">"
   ]
  },
  {
   "cell_type": "markdown",
   "metadata": {},
   "source": [
    "# NOR\n",
    "negated or, negated addition, product of negated inputs"
   ]
  },
  {
   "cell_type": "markdown",
   "metadata": {},
   "source": [
    "## Symbols"
   ]
  },
  {
   "cell_type": "markdown",
   "metadata": {},
   "source": [
    "## NOR Gate Definition"
   ]
  },
  {
   "cell_type": "markdown",
   "metadata": {},
   "source": [
    "\\begin{definition}\\label{def:nor}\n",
    "A NOR gate is a multi input single output logic gate that gives the negation of the sum of the boolean inputs at its output  and is thus the DeMorgan conjugate of the OR Gate\n",
    " $$y_{\\text{out}}=\\bar{\\sum_{i=1}^{N\\geq 2} x_{i\\text{ in}}}=\\prod_{i=1}^{N\\geq 2} \\bar{x_{i\\text{ in}}}$$\n",
    "\n",
    " In more compact notation it is represented as (for a 2-input):\n",
    " $$y_{\\text{out}}=\\bar{x_{1\\text{ in} } + x_{2\\text{ in} }}=\\bar{x_{1\\text{ in} }} \\cdot \\bar{x_{2\\text{ in} }}$$\n",
    "\n",
    " Which can also be written (as sympy does) as:\n",
    " $$y_{\\text{out}}=\\neg(x_{1\\text{ in} }  \\vee  x_{2\\text{ in} })=\\neg x_{1\\text{ in} }  \\wedge  \\neg x_{2\\text{ in} }$$\n",
    "\n",
    "\\end{definition}"
   ]
  },
  {
   "cell_type": "markdown",
   "metadata": {},
   "source": [
    "## NOR Gate in Sympy and Python"
   ]
  },
  {
   "cell_type": "code",
   "execution_count": 63,
   "metadata": {},
   "outputs": [
    {
     "data": {
      "image/png": "[encoded data removed]",
      "text/latex": [
       "$$\\left ( y_{out} = \\neg (x_{1in} \\vee x_{2in}), \\quad y_{out} = \\neg (x_{1in} \\vee x_{2in}), \\quad y_{out} = \\neg (x_{1in} \\vee x_{2in}), \\quad y_{out} = \\neg x_{1in} \\wedge \\neg x_{2in}\\right )$$"
      ],
      "text/plain": [
       "(yₒᵤₜ = ¬(x₁ᵢₙ ∨ x₂ᵢₙ), yₒᵤₜ = ¬(x₁ᵢₙ ∨ x₂ᵢₙ), yₒᵤₜ = ¬(x₁ᵢₙ ∨ x₂ᵢₙ), yₒᵤₜ = ¬\n",
       "x₁ᵢₙ ∧ ¬x₂ᵢₙ)"
      ]
     },
     "execution_count": 63,
     "metadata": {},
     "output_type": "execute_result"
    }
   ],
   "source": [
    "x_1in, x_2in, y_out=symbols('x_1in, x_2in, y_out')\n",
    "NOR2Def0=Eq(y_out, Nor(x_1in, x_2in))\n",
    "NOR2Def1=Eq(y_out, ~(x_1in | x_2in))\n",
    "NOR2Def2=Eq(y_out, Not(Or(x_1in , x_2in)))\n",
    "NOR2Def3=simplify(NOR2Def2) #DeMorgan equivlinacy\n",
    "NOR2Def0, NOR2Def1, NOR2Def2, NOR2Def3"
   ]
  },
  {
   "cell_type": "code",
   "execution_count": 64,
   "metadata": {},
   "outputs": [
    {
     "data": {
      "text/html": [
       "<div>\n",
       "<style>\n",
       "    .dataframe thead tr:only-child th {\n",
       "        text-align: right;\n",
       "    }\n",
       "\n",
       "    .dataframe thead th {\n",
       "        text-align: left;\n",
       "    }\n",
       "\n",
       "    .dataframe tbody tr th {\n",
       "        vertical-align: top;\n",
       "    }\n",
       "</style>\n",
       "<table border=\"1\" class=\"dataframe\">\n",
       "  <thead>\n",
       "    <tr style=\"text-align: right;\">\n",
       "      <th></th>\n",
       "      <th>x_1in</th>\n",
       "      <th>x_2in</th>\n",
       "      <th>y_out</th>\n",
       "    </tr>\n",
       "  </thead>\n",
       "  <tbody>\n",
       "    <tr>\n",
       "      <th>0</th>\n",
       "      <td>0</td>\n",
       "      <td>0</td>\n",
       "      <td>1</td>\n",
       "    </tr>\n",
       "    <tr>\n",
       "      <th>1</th>\n",
       "      <td>0</td>\n",
       "      <td>1</td>\n",
       "      <td>0</td>\n",
       "    </tr>\n",
       "    <tr>\n",
       "      <th>2</th>\n",
       "      <td>1</td>\n",
       "      <td>0</td>\n",
       "      <td>0</td>\n",
       "    </tr>\n",
       "    <tr>\n",
       "      <th>3</th>\n",
       "      <td>1</td>\n",
       "      <td>1</td>\n",
       "      <td>0</td>\n",
       "    </tr>\n",
       "  </tbody>\n",
       "</table>\n",
       "</div>"
      ],
      "text/plain": [
       "   x_1in  x_2in  y_out\n",
       "0      0      0      1\n",
       "1      0      1      0\n",
       "2      1      0      0\n",
       "3      1      1      0"
      ]
     },
     "execution_count": 64,
     "metadata": {},
     "output_type": "execute_result"
    }
   ],
   "source": [
    "NOR2_TT=TruthTabelGenrator(NOR2Def0)\n",
    "NOR2_TT"
   ]
  },
  {
   "cell_type": "code",
   "execution_count": 65,
   "metadata": {},
   "outputs": [
    {
     "data": {
      "text/plain": [
       "True"
      ]
     },
     "execution_count": 65,
     "metadata": {},
     "output_type": "execute_result"
    }
   ],
   "source": [
    "NOR2_DME_TT=TruthTabelGenrator(NOR2Def3)\n",
    "NOR2_TT.equals(NOR2_DME_TT)"
   ]
  },
  {
   "cell_type": "code",
   "execution_count": 66,
   "metadata": {},
   "outputs": [
    {
     "data": {
      "text/plain": [
       "False"
      ]
     },
     "execution_count": 66,
     "metadata": {},
     "output_type": "execute_result"
    }
   ],
   "source": [
    "NOR2Def2N=lambdify((x_1in, x_2in), NOR2Def2.rhs, dummify=False)\n",
    "NOR2Def2N(0,1)"
   ]
  },
  {
   "cell_type": "code",
   "execution_count": 67,
   "metadata": {},
   "outputs": [
    {
     "data": {
      "image/png": "[encoded data removed]",
      "text/latex": [
       "$$\\left ( y_{out} = \\neg (x_{1in} \\vee x_{2in} \\vee x_{3in}), \\quad y_{out} = \\neg (x_{1in} \\vee x_{2in} \\vee x_{3in}), \\quad y_{out} = \\neg (x_{1in} \\vee x_{2in} \\vee x_{3in}), \\quad y_{out} = \\neg x_{1in} \\wedge \\neg x_{2in} \\wedge \\neg x_{3in}\\right )$$"
      ],
      "text/plain": [
       "(yₒᵤₜ = ¬(x₁ᵢₙ ∨ x₂ᵢₙ ∨ x₃ᵢₙ), yₒᵤₜ = ¬(x₁ᵢₙ ∨ x₂ᵢₙ ∨ x₃ᵢₙ), yₒᵤₜ = ¬(x₁ᵢₙ ∨ x\n",
       "₂ᵢₙ ∨ x₃ᵢₙ), yₒᵤₜ = ¬x₁ᵢₙ ∧ ¬x₂ᵢₙ ∧ ¬x₃ᵢₙ)"
      ]
     },
     "execution_count": 67,
     "metadata": {},
     "output_type": "execute_result"
    }
   ],
   "source": [
    "x_1in, x_2in, x_3in, y_out=symbols('x_1in, x_2in, x_3in, y_out')\n",
    "NOR3Def0=Eq(y_out, Nor(x_1in, x_2in, x_3in))\n",
    "NOR3Def1=Eq(y_out, ~(x_1in | x_2in | x_3in))\n",
    "NOR3Def2=Eq(y_out, Not(Or(x_1in , x_2in, x_3in)))\n",
    "NOR3Def3=simplify(NOR3Def1) #DeMorgan equivlinacy\n",
    "NOR3Def0, NOR3Def1, NOR3Def2, NOR3Def3"
   ]
  },
  {
   "cell_type": "code",
   "execution_count": 68,
   "metadata": {},
   "outputs": [
    {
     "data": {
      "text/html": [
       "<div>\n",
       "<style>\n",
       "    .dataframe thead tr:only-child th {\n",
       "        text-align: right;\n",
       "    }\n",
       "\n",
       "    .dataframe thead th {\n",
       "        text-align: left;\n",
       "    }\n",
       "\n",
       "    .dataframe tbody tr th {\n",
       "        vertical-align: top;\n",
       "    }\n",
       "</style>\n",
       "<table border=\"1\" class=\"dataframe\">\n",
       "  <thead>\n",
       "    <tr style=\"text-align: right;\">\n",
       "      <th></th>\n",
       "      <th>x_1in</th>\n",
       "      <th>x_2in</th>\n",
       "      <th>x_3in</th>\n",
       "      <th>y_out</th>\n",
       "    </tr>\n",
       "  </thead>\n",
       "  <tbody>\n",
       "    <tr>\n",
       "      <th>0</th>\n",
       "      <td>0</td>\n",
       "      <td>0</td>\n",
       "      <td>0</td>\n",
       "      <td>1</td>\n",
       "    </tr>\n",
       "    <tr>\n",
       "      <th>1</th>\n",
       "      <td>0</td>\n",
       "      <td>0</td>\n",
       "      <td>1</td>\n",
       "      <td>0</td>\n",
       "    </tr>\n",
       "    <tr>\n",
       "      <th>2</th>\n",
       "      <td>0</td>\n",
       "      <td>1</td>\n",
       "      <td>0</td>\n",
       "      <td>0</td>\n",
       "    </tr>\n",
       "    <tr>\n",
       "      <th>3</th>\n",
       "      <td>0</td>\n",
       "      <td>1</td>\n",
       "      <td>1</td>\n",
       "      <td>0</td>\n",
       "    </tr>\n",
       "    <tr>\n",
       "      <th>4</th>\n",
       "      <td>1</td>\n",
       "      <td>0</td>\n",
       "      <td>0</td>\n",
       "      <td>0</td>\n",
       "    </tr>\n",
       "    <tr>\n",
       "      <th>5</th>\n",
       "      <td>1</td>\n",
       "      <td>0</td>\n",
       "      <td>1</td>\n",
       "      <td>0</td>\n",
       "    </tr>\n",
       "    <tr>\n",
       "      <th>6</th>\n",
       "      <td>1</td>\n",
       "      <td>1</td>\n",
       "      <td>0</td>\n",
       "      <td>0</td>\n",
       "    </tr>\n",
       "    <tr>\n",
       "      <th>7</th>\n",
       "      <td>1</td>\n",
       "      <td>1</td>\n",
       "      <td>1</td>\n",
       "      <td>0</td>\n",
       "    </tr>\n",
       "  </tbody>\n",
       "</table>\n",
       "</div>"
      ],
      "text/plain": [
       "   x_1in  x_2in  x_3in  y_out\n",
       "0      0      0      0      1\n",
       "1      0      0      1      0\n",
       "2      0      1      0      0\n",
       "3      0      1      1      0\n",
       "4      1      0      0      0\n",
       "5      1      0      1      0\n",
       "6      1      1      0      0\n",
       "7      1      1      1      0"
      ]
     },
     "execution_count": 68,
     "metadata": {},
     "output_type": "execute_result"
    }
   ],
   "source": [
    "NOR3_TT=TruthTabelGenrator(NOR3Def0)\n",
    "NOR3_TT"
   ]
  },
  {
   "cell_type": "code",
   "execution_count": 69,
   "metadata": {},
   "outputs": [
    {
     "data": {
      "text/plain": [
       "True"
      ]
     },
     "execution_count": 69,
     "metadata": {},
     "output_type": "execute_result"
    }
   ],
   "source": [
    "NOR3_DME_TT=TruthTabelGenrator(NOR3Def1)\n",
    "NOR3_TT.equals(NOR3_DME_TT)"
   ]
  },
  {
   "cell_type": "code",
   "execution_count": 70,
   "metadata": {
    "collapsed": true
   },
   "outputs": [],
   "source": [
    "NOR3Def2N=lambdify((x_1in, x_2in, x_3in), NOR3Def2.rhs, dummify=False)\n",
    "#Again WTH\n",
    "#NOR3Def2N(False, False, False)"
   ]
  },
  {
   "cell_type": "code",
   "execution_count": 71,
   "metadata": {
    "collapsed": true
   },
   "outputs": [],
   "source": [
    "#DoNotTrust: pyNOR2Eq1=lambda x1, x2: ~(x1 | x2)\n",
    "pyNOR2Eq2=lambda x1, x2: not(x1 or x2)\n",
    "#DoNotTrust: pyNOR2Eq3=lambda x1, x2: ~x1 & ~x2\n",
    "pyNOR2Eq4=lambda x1, x2: not x1 and not x2\n",
    "\n",
    "#DoNotTrust: pyNOR3Eq1=lambda x1, x2, x3: ~(x1 | x2 | x3)\n",
    "pyNOR3Eq2=lambda x1, x2, x3: not(x1 or x2 or x3)\n",
    "#DoNotTrust: pyNOR3Eq3=lambda x1, x2, x3: ~x1 & ~x2 & ~x3\n",
    "pyNOR3Eq4=lambda x1, x2, x3: not x1 and not x2 and not x3\n"
   ]
  },
  {
   "cell_type": "code",
   "execution_count": 72,
   "metadata": {},
   "outputs": [
    {
     "data": {
      "text/plain": [
       "(False, False, True, False)"
      ]
     },
     "execution_count": 72,
     "metadata": {},
     "output_type": "execute_result"
    }
   ],
   "source": [
    "pyNOR2Eq2(0,1), pyNOR2Eq4(1,0), pyNOR3Eq2(0,0,0), pyNOR3Eq4(1,0,1)"
   ]
  },
  {
   "cell_type": "markdown",
   "metadata": {},
   "source": [
    "## myHDL Two Input NOR Gate and Testing"
   ]
  },
  {
   "cell_type": "code",
   "execution_count": 73,
   "metadata": {
    "collapsed": true
   },
   "outputs": [],
   "source": [
    "#create a HDL Module (python function) and its I\\O ports\n",
    "def Nor2Gate(x_1in, x_2in, y_out):\n",
    "    \"\"\"AND Logic Gate myHDL Module (function)\n",
    "    \n",
    "    Args:\n",
    "        x_1in: bool Input port\n",
    "        x_2in: bool Input port\n",
    "        y_out: bool Output port\n",
    "    \n",
    "    Returns:\n",
    "        AND Combo logic operation\n",
    "        \n",
    "    \"\"\"\n",
    "    #define what this module is to do\n",
    "    \n",
    "    #myHDL built in decorator to say the function is exuiquated on each\n",
    "    #clock cycle\n",
    "    @always_comb\n",
    "    def logic():\n",
    "        y_out.next= not(x_1in or x_2in)\n",
    "        \n",
    "    return logic"
   ]
  },
  {
   "cell_type": "code",
   "execution_count": 74,
   "metadata": {},
   "outputs": [
    {
     "name": "stderr",
     "output_type": "stream",
     "text": [
      "<class 'myhdl.StopSimulation'>: No more events\n"
     ]
    },
    {
     "data": {
      "text/html": [
       "<div><script type=\"WaveDrom\">{\"signal\": [{\"name\": \"x_1in\", \"wave\": \"0.1.0101.\"}, {\"name\": \"x_2in\", \"wave\": \"0101.01..\"}, {\"name\": \"y_out\", \"wave\": \"10.......\"}], \"head\": {\"text\": [\"tspan\", [\"tspan\", {\"fill\": \"blue\", \"font-size\": \"16\", \"font-weight\": \"bold\"}, \"NOR 2 gate simulation\"]], \"tock\": 0}, \"foot\": {\"text\": [\"tspan\", [\"tspan\", {\"font-style\": \"italic\"}, \"after clock cycle 3 ->random input\"]], \"tock\": 0}}</script></div>"
      ]
     },
     "metadata": {},
     "output_type": "display_data"
    },
    {
     "data": {
      "application/javascript": [
       "$.getScript(\"http://wavedrom.com/wavedrom.min.js\", function () {\n",
       "$.getScript(\"http://wavedrom.com/skins/default.js\", function () {\n",
       "WaveDrom.ProcessAll();});\n",
       "});\n"
      ]
     },
     "metadata": {},
     "output_type": "display_data"
    }
   ],
   "source": [
    "#create the test signals and intilize value to both be false(0)\n",
    "x_1in, x_2in, y_out=[Signal(bool(0)) for _ in range(3)]\n",
    "\n",
    "#Peeker is helper libary for viewing wavefrom outputs and run the sim inside\n",
    "#jupyter notebooks\n",
    "#clear any previeese data loaded into peeker\n",
    "Peeker.clear()\n",
    "\n",
    "#load and name the signals to watch into peeker\n",
    "Peeker(x_1in, 'x_1in'); Peeker(x_2in, 'x_2in')\n",
    "Peeker(y_out, 'y_out')\n",
    "\n",
    "#make an instatince of the NotGate as the DUT\n",
    "DUT=Nor2Gate(x_1in=x_1in, x_2in=x_2in, y_out=y_out)\n",
    "\n",
    "inputs=[x_1in, x_2in]\n",
    "\n",
    "sim=Simulation(DUT, Combo_TB(inputs), *Peeker.instances()).run()        \n",
    "Peeker.to_wavedrom(start_time=0, stop_time=2*2**len(inputs), tock=True,\n",
    "                  title='NOR 2 gate simulation',\n",
    "                  caption=f'after clock cycle {2**len(inputs)-1} ->random input')"
   ]
  },
  {
   "cell_type": "code",
   "execution_count": 75,
   "metadata": {},
   "outputs": [
    {
     "data": {
      "text/html": [
       "<div>\n",
       "<style>\n",
       "    .dataframe thead tr:only-child th {\n",
       "        text-align: right;\n",
       "    }\n",
       "\n",
       "    .dataframe thead th {\n",
       "        text-align: left;\n",
       "    }\n",
       "\n",
       "    .dataframe tbody tr th {\n",
       "        vertical-align: top;\n",
       "    }\n",
       "</style>\n",
       "<table border=\"1\" class=\"dataframe\">\n",
       "  <thead>\n",
       "    <tr style=\"text-align: right;\">\n",
       "      <th></th>\n",
       "      <th>x_1in</th>\n",
       "      <th>x_2in</th>\n",
       "      <th>y_out</th>\n",
       "    </tr>\n",
       "  </thead>\n",
       "  <tbody>\n",
       "    <tr>\n",
       "      <th>0</th>\n",
       "      <td>0</td>\n",
       "      <td>0</td>\n",
       "      <td>1</td>\n",
       "    </tr>\n",
       "    <tr>\n",
       "      <th>1</th>\n",
       "      <td>0</td>\n",
       "      <td>1</td>\n",
       "      <td>0</td>\n",
       "    </tr>\n",
       "    <tr>\n",
       "      <th>2</th>\n",
       "      <td>1</td>\n",
       "      <td>0</td>\n",
       "      <td>0</td>\n",
       "    </tr>\n",
       "    <tr>\n",
       "      <th>3</th>\n",
       "      <td>1</td>\n",
       "      <td>1</td>\n",
       "      <td>0</td>\n",
       "    </tr>\n",
       "  </tbody>\n",
       "</table>\n",
       "</div>"
      ],
      "text/plain": [
       "  x_1in x_2in y_out\n",
       "0     0     0     1\n",
       "1     0     1     0\n",
       "2     1     0     0\n",
       "3     1     1     0"
      ]
     },
     "execution_count": 75,
     "metadata": {},
     "output_type": "execute_result"
    }
   ],
   "source": [
    "MakeDFfromPeeker(Peeker.to_wavejson(start_time=0, stop_time=2**len(inputs) -1))"
   ]
  },
  {
   "cell_type": "markdown",
   "metadata": {},
   "source": [
    "## myHDL Two Input NOR Gate HDL Synthesis"
   ]
  },
  {
   "cell_type": "code",
   "execution_count": 76,
   "metadata": {},
   "outputs": [
    {
     "name": "stdout",
     "output_type": "stream",
     "text": [
      "***Verilog modual from Nor2Gate.v***\n",
      "\n",
      " // File: Nor2Gate.v\n",
      "// Generated by MyHDL 0.9.0\n",
      "// Date: Mon Oct  9 02:50:55 2017\n",
      "\n",
      "\n",
      "`timescale 1ns/10ps\n",
      "\n",
      "module Nor2Gate (\n",
      "    x_1in,\n",
      "    x_2in,\n",
      "    y_out\n",
      ");\n",
      "// AND Logic Gate myHDL Module (function)\n",
      "// \n",
      "// Args:\n",
      "//     x_1in: bool Input port\n",
      "//     x_2in: bool Input port\n",
      "//     y_out: bool Output port\n",
      "// \n",
      "// Returns:\n",
      "//     AND Combo logic operation\n",
      "//     \n",
      "\n",
      "input x_1in;\n",
      "input x_2in;\n",
      "output y_out;\n",
      "wire y_out;\n",
      "\n",
      "\n",
      "\n",
      "\n",
      "\n",
      "\n",
      "\n",
      "assign y_out = (!(x_1in || x_2in));\n",
      "\n",
      "endmodule\n",
      "\n"
     ]
    }
   ],
   "source": [
    "toVerilog(Nor2Gate, x_1in, x_2in, y_out)\n",
    "#toVHDL(Nor2Gate, x_1in, x_2in y_out)\n",
    "_=VerilogTextReader('Nor2Gate')"
   ]
  },
  {
   "cell_type": "markdown",
   "metadata": {},
   "source": [
    "The following shows the **Xilinx**'s _Vivado 2016.1_ RTL generated schematic of our myHDL two input NOR gate's verilog code\n",
    "<img style=\"float: center;\" src=\"Nor2GateRTLSch.PNG\">"
   ]
  },
  {
   "cell_type": "markdown",
   "metadata": {},
   "source": [
    "# XOR\n",
    "The Exclusive OR"
   ]
  },
  {
   "cell_type": "markdown",
   "metadata": {},
   "source": [
    "## Symbols"
   ]
  },
  {
   "cell_type": "markdown",
   "metadata": {},
   "source": [
    "The Symbols for a XOR gate are show below\n",
    "<img style=\"float: center;\" src=\"XorGateDig.jpg\">"
   ]
  },
  {
   "cell_type": "markdown",
   "metadata": {},
   "source": [
    "## XOR Gate Definition\n",
    "### need to come up with this"
   ]
  },
  {
   "cell_type": "markdown",
   "metadata": {},
   "source": [
    "## XOR Gate in Sympy and Python"
   ]
  },
  {
   "cell_type": "code",
   "execution_count": 77,
   "metadata": {},
   "outputs": [
    {
     "data": {
      "image/png": "[encoded data removed]",
      "text/latex": [
       "$$\\left ( y_{out} = x_{1in} \\veebar x_{2in}, \\quad y_{out} = x_{1in} \\veebar x_{2in}, \\quad y_{out} = \\left(x_{1in} \\wedge \\neg x_{2in}\\right) \\vee \\left(x_{2in} \\wedge \\neg x_{1in}\\right), \\quad y_{out} = \\left(x_{1in} \\wedge \\neg x_{2in}\\right) \\vee \\left(x_{2in} \\wedge \\neg x_{1in}\\right)\\right )$$"
      ],
      "text/plain": [
       "(yₒᵤₜ = x₁ᵢₙ ⊻ x₂ᵢₙ, yₒᵤₜ = x₁ᵢₙ ⊻ x₂ᵢₙ, yₒᵤₜ = (x₁ᵢₙ ∧ ¬x₂ᵢₙ) ∨ (x₂ᵢₙ ∧ ¬x₁ᵢₙ\n",
       "), yₒᵤₜ = (x₁ᵢₙ ∧ ¬x₂ᵢₙ) ∨ (x₂ᵢₙ ∧ ¬x₁ᵢₙ))"
      ]
     },
     "execution_count": 77,
     "metadata": {},
     "output_type": "execute_result"
    }
   ],
   "source": [
    "x_1in, x_2in, y_out=symbols('x_1in, x_2in, y_out')\n",
    "XOR2Def0=Eq(y_out, Xor(x_1in, x_2in))\n",
    "XOR2Def1=Eq(y_out, x_1in ^ x_2in)\n",
    "XOR2Def2=Eq(y_out, ~x_1in&x_2in | x_1in& ~x_2in)\n",
    "XOR2Def0, XOR2Def1, XOR2Def2, simplify_logic(XOR2Def2)"
   ]
  },
  {
   "cell_type": "code",
   "execution_count": 78,
   "metadata": {},
   "outputs": [
    {
     "data": {
      "text/html": [
       "<div>\n",
       "<style>\n",
       "    .dataframe thead tr:only-child th {\n",
       "        text-align: right;\n",
       "    }\n",
       "\n",
       "    .dataframe thead th {\n",
       "        text-align: left;\n",
       "    }\n",
       "\n",
       "    .dataframe tbody tr th {\n",
       "        vertical-align: top;\n",
       "    }\n",
       "</style>\n",
       "<table border=\"1\" class=\"dataframe\">\n",
       "  <thead>\n",
       "    <tr style=\"text-align: right;\">\n",
       "      <th></th>\n",
       "      <th>x_1in</th>\n",
       "      <th>x_2in</th>\n",
       "      <th>y_out</th>\n",
       "    </tr>\n",
       "  </thead>\n",
       "  <tbody>\n",
       "    <tr>\n",
       "      <th>0</th>\n",
       "      <td>0</td>\n",
       "      <td>0</td>\n",
       "      <td>0</td>\n",
       "    </tr>\n",
       "    <tr>\n",
       "      <th>1</th>\n",
       "      <td>0</td>\n",
       "      <td>1</td>\n",
       "      <td>1</td>\n",
       "    </tr>\n",
       "    <tr>\n",
       "      <th>2</th>\n",
       "      <td>1</td>\n",
       "      <td>0</td>\n",
       "      <td>1</td>\n",
       "    </tr>\n",
       "    <tr>\n",
       "      <th>3</th>\n",
       "      <td>1</td>\n",
       "      <td>1</td>\n",
       "      <td>0</td>\n",
       "    </tr>\n",
       "  </tbody>\n",
       "</table>\n",
       "</div>"
      ],
      "text/plain": [
       "   x_1in  x_2in  y_out\n",
       "0      0      0      0\n",
       "1      0      1      1\n",
       "2      1      0      1\n",
       "3      1      1      0"
      ]
     },
     "execution_count": 78,
     "metadata": {},
     "output_type": "execute_result"
    }
   ],
   "source": [
    "XOR2_TT=TruthTabelGenrator(XOR2Def0)\n",
    "XOR2_TT"
   ]
  },
  {
   "cell_type": "code",
   "execution_count": 79,
   "metadata": {},
   "outputs": [
    {
     "data": {
      "text/plain": [
       "True"
      ]
     },
     "execution_count": 79,
     "metadata": {},
     "output_type": "execute_result"
    }
   ],
   "source": [
    "XOR2_TT2=TruthTabelGenrator(XOR2Def2)\n",
    "XOR2_TT.equals(XOR2_TT2)"
   ]
  },
  {
   "cell_type": "code",
   "execution_count": 80,
   "metadata": {
    "collapsed": true
   },
   "outputs": [],
   "source": [
    "XOR2Def1N=lambdify((x_1in, x_2in), XOR2Def1, dummify=False)\n",
    "#oh come on\n",
    "#XOR2Def1N(0, 1)"
   ]
  },
  {
   "cell_type": "code",
   "execution_count": 81,
   "metadata": {},
   "outputs": [
    {
     "data": {
      "image/png": "[encoded data removed]",
      "text/latex": [
       "$$0$$"
      ],
      "text/plain": [
       "0"
      ]
     },
     "execution_count": 81,
     "metadata": {},
     "output_type": "execute_result"
    }
   ],
   "source": [
    "pyXOR2Eq1=lambda x1, x2: x1^x2\n",
    "pyXOR2Eq1(1, 1)"
   ]
  },
  {
   "cell_type": "markdown",
   "metadata": {},
   "source": [
    "## myHDL Two Input XOR Gate and Testing"
   ]
  },
  {
   "cell_type": "code",
   "execution_count": 82,
   "metadata": {
    "collapsed": true
   },
   "outputs": [],
   "source": [
    "#create a HDL Module (python function) and its I\\O ports\n",
    "def Xor2Gate(x_1in, x_2in, y_out):\n",
    "    \"\"\"Or Logic Gate myHDL Module (function)\n",
    "    \n",
    "    Args:\n",
    "        x_1in: bool Input port\n",
    "        x_2in: bool Input port\n",
    "        y_out: bool Output port\n",
    "    \n",
    "    Returns:\n",
    "        XOR Combo logic operation\n",
    "        \n",
    "    \"\"\"\n",
    "    #define what this module is to do\n",
    "    \n",
    "    #myHDL built in decorator to say the function is exuiquated on each\n",
    "    #clock cycle\n",
    "    @always_comb\n",
    "    def logic():\n",
    "        y_out.next= x_1in ^ x_2in \n",
    "        \n",
    "    return logic"
   ]
  },
  {
   "cell_type": "code",
   "execution_count": 83,
   "metadata": {},
   "outputs": [
    {
     "name": "stderr",
     "output_type": "stream",
     "text": [
      "<class 'myhdl.StopSimulation'>: No more events\n"
     ]
    },
    {
     "data": {
      "text/html": [
       "<div><script type=\"WaveDrom\">{\"signal\": [{\"name\": \"x_1in\", \"wave\": \"0.1.01.0.\"}, {\"name\": \"x_2in\", \"wave\": \"0101.010.\"}, {\"name\": \"y_out\", \"wave\": \"01.01.0..\"}], \"head\": {\"text\": [\"tspan\", [\"tspan\", {\"fill\": \"blue\", \"font-size\": \"16\", \"font-weight\": \"bold\"}, \"XOR 2 gate simulation\"]], \"tock\": 0}, \"foot\": {\"text\": [\"tspan\", [\"tspan\", {\"font-style\": \"italic\"}, \"after clock cycle 3 ->random input\"]], \"tock\": 0}}</script></div>"
      ]
     },
     "metadata": {},
     "output_type": "display_data"
    },
    {
     "data": {
      "application/javascript": [
       "$.getScript(\"http://wavedrom.com/wavedrom.min.js\", function () {\n",
       "$.getScript(\"http://wavedrom.com/skins/default.js\", function () {\n",
       "WaveDrom.ProcessAll();});\n",
       "});\n"
      ]
     },
     "metadata": {},
     "output_type": "display_data"
    }
   ],
   "source": [
    "#create the test signals and intilize value to both be false(0)\n",
    "x_1in, x_2in, y_out=[Signal(bool(0)) for _ in range(3)]\n",
    "\n",
    "#Peeker is helper libary for viewing wavefrom outputs and run the sim inside\n",
    "#jupyter notebooks\n",
    "#clear any previeese data loaded into peeker\n",
    "Peeker.clear()\n",
    "\n",
    "#load and name the signals to watch into peeker\n",
    "Peeker(x_1in, 'x_1in'); Peeker(x_2in, 'x_2in')\n",
    "Peeker(y_out, 'y_out')\n",
    "\n",
    "#make an instatince of the NotGate as the DUT\n",
    "DUT=Xor2Gate(x_1in=x_1in, x_2in=x_2in, y_out=y_out)\n",
    "\n",
    "inputs=[x_1in, x_2in]\n",
    "\n",
    "sim=Simulation(DUT, Combo_TB(inputs), *Peeker.instances()).run()        \n",
    "Peeker.to_wavedrom(start_time=0, stop_time=2*2**len(inputs), tock=True,\n",
    "                  title='XOR 2 gate simulation',\n",
    "                  caption=f'after clock cycle {2**len(inputs)-1} ->random input')"
   ]
  },
  {
   "cell_type": "code",
   "execution_count": 84,
   "metadata": {},
   "outputs": [
    {
     "data": {
      "text/html": [
       "<div>\n",
       "<style>\n",
       "    .dataframe thead tr:only-child th {\n",
       "        text-align: right;\n",
       "    }\n",
       "\n",
       "    .dataframe thead th {\n",
       "        text-align: left;\n",
       "    }\n",
       "\n",
       "    .dataframe tbody tr th {\n",
       "        vertical-align: top;\n",
       "    }\n",
       "</style>\n",
       "<table border=\"1\" class=\"dataframe\">\n",
       "  <thead>\n",
       "    <tr style=\"text-align: right;\">\n",
       "      <th></th>\n",
       "      <th>x_1in</th>\n",
       "      <th>x_2in</th>\n",
       "      <th>y_out</th>\n",
       "    </tr>\n",
       "  </thead>\n",
       "  <tbody>\n",
       "    <tr>\n",
       "      <th>0</th>\n",
       "      <td>0</td>\n",
       "      <td>0</td>\n",
       "      <td>0</td>\n",
       "    </tr>\n",
       "    <tr>\n",
       "      <th>1</th>\n",
       "      <td>0</td>\n",
       "      <td>1</td>\n",
       "      <td>1</td>\n",
       "    </tr>\n",
       "    <tr>\n",
       "      <th>2</th>\n",
       "      <td>1</td>\n",
       "      <td>0</td>\n",
       "      <td>1</td>\n",
       "    </tr>\n",
       "    <tr>\n",
       "      <th>3</th>\n",
       "      <td>1</td>\n",
       "      <td>1</td>\n",
       "      <td>0</td>\n",
       "    </tr>\n",
       "  </tbody>\n",
       "</table>\n",
       "</div>"
      ],
      "text/plain": [
       "  x_1in x_2in y_out\n",
       "0     0     0     0\n",
       "1     0     1     1\n",
       "2     1     0     1\n",
       "3     1     1     0"
      ]
     },
     "execution_count": 84,
     "metadata": {},
     "output_type": "execute_result"
    }
   ],
   "source": [
    "MakeDFfromPeeker(Peeker.to_wavejson(start_time=0, stop_time=2**len(inputs) -1))"
   ]
  },
  {
   "cell_type": "markdown",
   "metadata": {},
   "source": [
    "## myHDL Two Input XOR gate HDL Synthesis"
   ]
  },
  {
   "cell_type": "code",
   "execution_count": 85,
   "metadata": {},
   "outputs": [
    {
     "name": "stdout",
     "output_type": "stream",
     "text": [
      "***Verilog modual from Xor2Gate.v***\n",
      "\n",
      " // File: Xor2Gate.v\n",
      "// Generated by MyHDL 0.9.0\n",
      "// Date: Mon Oct  9 02:51:19 2017\n",
      "\n",
      "\n",
      "`timescale 1ns/10ps\n",
      "\n",
      "module Xor2Gate (\n",
      "    x_1in,\n",
      "    x_2in,\n",
      "    y_out\n",
      ");\n",
      "// Or Logic Gate myHDL Module (function)\n",
      "// \n",
      "// Args:\n",
      "//     x_1in: bool Input port\n",
      "//     x_2in: bool Input port\n",
      "//     y_out: bool Output port\n",
      "// \n",
      "// Returns:\n",
      "//     XOR Combo logic operation\n",
      "//     \n",
      "\n",
      "input x_1in;\n",
      "input x_2in;\n",
      "output y_out;\n",
      "wire y_out;\n",
      "\n",
      "\n",
      "\n",
      "\n",
      "\n",
      "\n",
      "\n",
      "assign y_out = (x_1in ^ x_2in);\n",
      "\n",
      "endmodule\n",
      "\n"
     ]
    }
   ],
   "source": [
    "toVerilog(Xor2Gate, x_1in, x_2in, y_out)\n",
    "#toVHDL(Xor2Gate, x_1in, x_2in y_out)\n",
    "_=VerilogTextReader('Xor2Gate')"
   ]
  },
  {
   "cell_type": "markdown",
   "metadata": {},
   "source": [
    "The following shows the **Xilinx**'s _Vivado 2016.1_ RTL generated schematic of our myHDL two input NOR gate's verilog code"
   ]
  },
  {
   "cell_type": "markdown",
   "metadata": {},
   "source": [
    "### !Need to add the RTL schematic"
   ]
  },
  {
   "cell_type": "markdown",
   "metadata": {},
   "source": [
    "# Min & Max Terms, SOP POS"
   ]
  },
  {
   "cell_type": "markdown",
   "metadata": {},
   "source": [
    "# KMaps"
   ]
  },
  {
   "cell_type": "markdown",
   "metadata": {},
   "source": [
    "# Examples of boolean expressions"
   ]
  },
  {
   "cell_type": "markdown",
   "metadata": {},
   "source": [
    "## Exsample of a 2 bit 7 Segment Display Logic Synthesis\n"
   ]
  },
  {
   "cell_type": "code",
   "execution_count": 88,
   "metadata": {
    "collapsed": true
   },
   "outputs": [],
   "source": [
    "x1, x2, x3, x4=symbols('x_1, x_2, x_3, x_4')\n",
    "lits=[x1, x2, x3, x4]"
   ]
  },
  {
   "cell_type": "code",
   "execution_count": 89,
   "metadata": {},
   "outputs": [
    {
     "data": {
      "image/png": "[encoded data removed]",
      "text/latex": [
       "$$\\left\\{0, 1, 2, 3, 4, 5, 6, 7, 8, 9, 10, 11, 12, 13, 14, 15\\right\\}$$"
      ],
      "text/plain": [
       "set([0, 1, 2, 3, 4, 5, 6, 7, 8, 9, 10, 11, 12, 13, 14, 15])"
      ]
     },
     "execution_count": 89,
     "metadata": {},
     "output_type": "execute_result"
    }
   ],
   "source": [
    "terms=set(list(range(2**len(lits)))); terms"
   ]
  },
  {
   "cell_type": "code",
   "execution_count": 90,
   "metadata": {},
   "outputs": [
    {
     "data": {
      "image/png": "[encoded data removed]",
      "text/latex": [
       "$$\\left\\{10, 11, 12, 13, 14, 15\\right\\}$$"
      ],
      "text/plain": [
       "set([10, 11, 12, 13, 14, 15])"
      ]
     },
     "execution_count": 90,
     "metadata": {},
     "output_type": "execute_result"
    }
   ],
   "source": [
    "DCterms=set(list(range(10, 15+1))); DCterms"
   ]
  },
  {
   "cell_type": "code",
   "execution_count": 91,
   "metadata": {},
   "outputs": [
    {
     "data": {
      "image/png": "[encoded data removed]",
      "text/latex": [
       "$$\\left\\{0, 1, 2, 3, 4, 5, 6, 7, 8, 9\\right\\}$$"
      ],
      "text/plain": [
       "set([0, 1, 2, 3, 4, 5, 6, 7, 8, 9])"
      ]
     },
     "execution_count": 91,
     "metadata": {},
     "output_type": "execute_result"
    }
   ],
   "source": [
    "usableTerms=terms-DCterms; usableTerms"
   ]
  },
  {
   "cell_type": "code",
   "execution_count": 92,
   "metadata": {
    "collapsed": true
   },
   "outputs": [],
   "source": [
    "SOPfromUT=lambda POSterms: usableTerms-POSterms"
   ]
  },
  {
   "cell_type": "code",
   "execution_count": 93,
   "metadata": {
    "collapsed": true
   },
   "outputs": [],
   "source": [
    "aPOSterms={1,4}; aSOPterms=SOPfromUT(aPOSterms)\n",
    "bPOSterms={5,6}; bSOPterms=SOPfromUT(bPOSterms)\n",
    "cPOSterms={2}; cSOPterms=SOPfromUT(cPOSterms)\n",
    "dPOSterms={2,4,7}; dSOPterms=SOPfromUT(dPOSterms)\n",
    "ePOSterms={1,3,4,5,7,9}; eSOPterms=SOPfromUT(ePOSterms)\n",
    "fPOSterms={1,2,3,7}; fSOPterms=SOPfromUT(fPOSterms)\n",
    "gPOSterms={0,1,7}; gSOPterms=SOPfromUT(gPOSterms)\n"
   ]
  },
  {
   "cell_type": "code",
   "execution_count": 94,
   "metadata": {
    "collapsed": true
   },
   "outputs": [],
   "source": [
    "aSOP, aPOS=POS_SOPformCalcater(lits, aSOPterms, aPOSterms, DCterms)\n",
    "bSOP, bPOS=POS_SOPformCalcater(lits, bSOPterms, bPOSterms, DCterms)\n",
    "cSOP, cPOS=POS_SOPformCalcater(lits, cSOPterms, cPOSterms, DCterms)\n",
    "dSOP, dPOS=POS_SOPformCalcater(lits, dSOPterms, dPOSterms, DCterms)\n",
    "eSOP, ePOS=POS_SOPformCalcater(lits, eSOPterms, ePOSterms, DCterms)\n",
    "fSOP, fPOS=POS_SOPformCalcater(lits, fSOPterms, fPOSterms, DCterms)\n",
    "gSOP, gPOS=POS_SOPformCalcater(lits, gSOPterms, gPOSterms, DCterms)"
   ]
  },
  {
   "cell_type": "code",
   "execution_count": 95,
   "metadata": {},
   "outputs": [
    {
     "data": {
      "image/png": "[encoded data removed]",
      "text/latex": [
       "$$\\left ( x_{1} \\vee x_{3} \\vee \\left(x_{2} \\wedge x_{4}\\right) \\vee \\left(\\neg x_{2} \\wedge \\neg x_{4}\\right), \\quad \\neg x_{1} \\wedge \\neg x_{3} \\wedge \\left(x_{2} \\vee x_{4}\\right) \\wedge \\left(\\neg x_{2} \\vee \\neg x_{4}\\right)\\right )$$"
      ],
      "text/plain": [
       "(x₁ ∨ x₃ ∨ (x₂ ∧ x₄) ∨ (¬x₂ ∧ ¬x₄), ¬x₁ ∧ ¬x₃ ∧ (x₂ ∨ x₄) ∧ (¬x₂ ∨ ¬x₄))"
      ]
     },
     "execution_count": 95,
     "metadata": {},
     "output_type": "execute_result"
    }
   ],
   "source": [
    "aSOP, aPOS"
   ]
  },
  {
   "cell_type": "code",
   "execution_count": 96,
   "metadata": {},
   "outputs": [
    {
     "data": {
      "image/png": "[encoded data removed]",
      "text/latex": [
       "$$\\left ( \\left(x_{3} \\wedge x_{4}\\right) \\vee \\left(\\neg x_{3} \\wedge \\neg x_{4}\\right) \\vee \\neg x_{2}, \\quad x_{2} \\wedge \\left(x_{3} \\vee x_{4}\\right) \\wedge \\left(\\neg x_{3} \\vee \\neg x_{4}\\right)\\right )$$"
      ],
      "text/plain": [
       "((x₃ ∧ x₄) ∨ (¬x₃ ∧ ¬x₄) ∨ ¬x₂, x₂ ∧ (x₃ ∨ x₄) ∧ (¬x₃ ∨ ¬x₄))"
      ]
     },
     "execution_count": 96,
     "metadata": {},
     "output_type": "execute_result"
    }
   ],
   "source": [
    "bSOP, bPOS"
   ]
  },
  {
   "cell_type": "code",
   "execution_count": 97,
   "metadata": {},
   "outputs": [
    {
     "data": {
      "image/png": "[encoded data removed]",
      "text/latex": [
       "$$\\left ( x_{2} \\vee x_{4} \\vee \\neg x_{3}, \\quad x_{3} \\wedge \\neg x_{2} \\wedge \\neg x_{4}\\right )$$"
      ],
      "text/plain": [
       "(x₂ ∨ x₄ ∨ ¬x₃, x₃ ∧ ¬x₂ ∧ ¬x₄)"
      ]
     },
     "execution_count": 97,
     "metadata": {},
     "output_type": "execute_result"
    }
   ],
   "source": [
    "cSOP, cPOS"
   ]
  },
  {
   "cell_type": "code",
   "execution_count": 98,
   "metadata": {},
   "outputs": [
    {
     "data": {
      "image/png": "[encoded data removed]",
      "text/latex": [
       "$$\\left ( \\left(x_{4} \\wedge \\neg x_{2}\\right) \\vee \\left(x_{4} \\wedge \\neg x_{3}\\right) \\vee \\left(\\neg x_{2} \\wedge \\neg x_{3}\\right) \\vee \\left(x_{2} \\wedge x_{3} \\wedge \\neg x_{4}\\right), \\quad \\left(x_{2} \\vee x_{3}\\right) \\wedge \\left(x_{2} \\vee \\neg x_{4}\\right) \\wedge \\left(x_{3} \\vee \\neg x_{4}\\right) \\wedge \\left(x_{4} \\vee \\neg x_{2} \\vee \\neg x_{3}\\right)\\right )$$"
      ],
      "text/plain": [
       "((x₄ ∧ ¬x₂) ∨ (x₄ ∧ ¬x₃) ∨ (¬x₂ ∧ ¬x₃) ∨ (x₂ ∧ x₃ ∧ ¬x₄), (x₂ ∨ x₃) ∧ (x₂ ∨ ¬x\n",
       "₄) ∧ (x₃ ∨ ¬x₄) ∧ (x₄ ∨ ¬x₂ ∨ ¬x₃))"
      ]
     },
     "execution_count": 98,
     "metadata": {},
     "output_type": "execute_result"
    }
   ],
   "source": [
    "dSOP, dPOS"
   ]
  },
  {
   "cell_type": "code",
   "execution_count": 99,
   "metadata": {},
   "outputs": [
    {
     "data": {
      "image/png": "[encoded data removed]",
      "text/latex": [
       "$$\\left ( \\neg x_{4} \\wedge \\left(x_{3} \\vee \\neg x_{2}\\right), \\quad x_{4} \\vee \\left(x_{2} \\wedge \\neg x_{3}\\right)\\right )$$"
      ],
      "text/plain": [
       "(¬x₄ ∧ (x₃ ∨ ¬x₂), x₄ ∨ (x₂ ∧ ¬x₃))"
      ]
     },
     "execution_count": 99,
     "metadata": {},
     "output_type": "execute_result"
    }
   ],
   "source": [
    "eSOP, ePOS"
   ]
  },
  {
   "cell_type": "code",
   "execution_count": 100,
   "metadata": {},
   "outputs": [
    {
     "data": {
      "image/png": "[encoded data removed]",
      "text/latex": [
       "$$\\left ( x_{1} \\vee \\left(x_{2} \\wedge \\neg x_{3}\\right) \\vee \\left(x_{2} \\wedge \\neg x_{4}\\right) \\vee \\left(\\neg x_{3} \\wedge \\neg x_{4}\\right), \\quad \\neg x_{1} \\wedge \\left(x_{3} \\vee x_{4}\\right) \\wedge \\left(x_{3} \\vee \\neg x_{2}\\right) \\wedge \\left(x_{4} \\vee \\neg x_{2}\\right)\\right )$$"
      ],
      "text/plain": [
       "(x₁ ∨ (x₂ ∧ ¬x₃) ∨ (x₂ ∧ ¬x₄) ∨ (¬x₃ ∧ ¬x₄), ¬x₁ ∧ (x₃ ∨ x₄) ∧ (x₃ ∨ ¬x₂) ∧ (x\n",
       "₄ ∨ ¬x₂))"
      ]
     },
     "execution_count": 100,
     "metadata": {},
     "output_type": "execute_result"
    }
   ],
   "source": [
    "fSOP, fPOS"
   ]
  },
  {
   "cell_type": "code",
   "execution_count": 101,
   "metadata": {},
   "outputs": [
    {
     "data": {
      "image/png": "[encoded data removed]",
      "text/latex": [
       "$$\\left ( x_{1} \\vee \\left(x_{2} \\wedge \\neg x_{3}\\right) \\vee \\left(x_{3} \\wedge \\neg x_{2}\\right) \\vee \\left(x_{3} \\wedge \\neg x_{4}\\right), \\quad \\neg x_{1} \\wedge \\left(x_{2} \\vee \\neg x_{3}\\right) \\wedge \\left(x_{3} \\vee \\neg x_{2}\\right) \\wedge \\left(x_{4} \\vee \\neg x_{3}\\right)\\right )$$"
      ],
      "text/plain": [
       "(x₁ ∨ (x₂ ∧ ¬x₃) ∨ (x₃ ∧ ¬x₂) ∨ (x₃ ∧ ¬x₄), ¬x₁ ∧ (x₂ ∨ ¬x₃) ∧ (x₃ ∨ ¬x₂) ∧ (x\n",
       "₄ ∨ ¬x₃))"
      ]
     },
     "execution_count": 101,
     "metadata": {},
     "output_type": "execute_result"
    }
   ],
   "source": [
    "gSOP, gPOS"
   ]
  },
  {
   "cell_type": "code",
   "execution_count": null,
   "metadata": {
    "collapsed": true
   },
   "outputs": [],
   "source": []
  }
 ],
 "metadata": {
  "author": "Basic Digital Logic Gates with myHDL",
  "hide_input": false,
  "kernelspec": {
   "display_name": "Python 3",
   "language": "python",
   "name": "python3"
  },
  "language_info": {
   "codemirror_mode": {
    "name": "ipython",
    "version": 3
   },
   "file_extension": ".py",
   "mimetype": "text/x-python",
   "name": "python",
   "nbconvert_exporter": "python",
   "pygments_lexer": "ipython3",
   "version": "3.6.1"
  },
  "latex_envs": {
   "LaTeX_envs_menu_present": true,
   "autocomplete": true,
   "bibliofile": "biblio.bib",
   "cite_by": "apalike",
   "current_citInitial": 1,
   "eqLabelWithNumbers": true,
   "eqNumInitial": 1,
   "hotkeys": {
    "equation": "Ctrl-E",
    "itemize": "Ctrl-I"
   },
   "labels_anchors": false,
   "latex_user_defs": false,
   "report_style_numbering": false,
   "user_envs_cfg": false
  },
  "nbTranslate": {
   "displayLangs": [
    "*"
   ],
   "hotkey": "alt-t",
   "langInMainMenu": true,
   "sourceLang": "fr",
   "targetLang": "en",
   "useGoogleTranslate": true
  },
  "toc": {
   "colors": {
    "hover_highlight": "#DAA520",
    "navigate_num": "#000000",
    "navigate_text": "#333333",
    "running_highlight": "#FF0000",
    "selected_highlight": "#FFD700",
    "sidebar_border": "#EEEEEE",
    "wrapper_background": "#FFFFFF"
   },
   "moveMenuLeft": true,
   "nav_menu": {
    "height": "138px",
    "width": "252px"
   },
   "navigate_menu": true,
   "number_sections": true,
   "sideBar": true,
   "threshold": 4,
   "toc_cell": true,
   "toc_position": {
    "height": "800px",
    "left": "0px",
    "right": "738px",
    "top": "130px",
    "width": "212px"
   },
   "toc_section_display": "none",
   "toc_window_display": false,
   "widenNotebook": false
  }
 },
 "nbformat": 4,
 "nbformat_minor": 2
}
