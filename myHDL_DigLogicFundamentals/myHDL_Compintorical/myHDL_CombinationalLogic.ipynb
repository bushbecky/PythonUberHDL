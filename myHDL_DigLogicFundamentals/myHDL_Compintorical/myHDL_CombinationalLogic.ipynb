{
 "cells": [
  {
   "cell_type": "code",
   "execution_count": 1,
   "metadata": {},
   "outputs": [
    {
     "data": {
      "application/json": {
       "Software versions": [
        {
         "module": "Python",
         "version": "3.6.2 64bit [GCC 4.4.7 20120313 (Red Hat 4.4.7-1)]"
        },
        {
         "module": "IPython",
         "version": "6.2.1"
        },
        {
         "module": "OS",
         "version": "Linux 4.15.0 30 generic x86_64 with debian stretch sid"
        },
        {
         "module": "myhdl",
         "version": "0.10"
        },
        {
         "module": "myhdlpeek",
         "version": "0.0.6"
        },
        {
         "module": "numpy",
         "version": "1.13.3"
        },
        {
         "module": "pandas",
         "version": "0.23.3"
        },
        {
         "module": "matplotlib",
         "version": "2.1.0"
        },
        {
         "module": "sympy",
         "version": "1.1.2.dev"
        },
        {
         "module": "itertools",
         "version": "The 'itertools' distribution was not found and is required by the application"
        },
        {
         "module": "SchemDraw",
         "version": "0.3.0"
        }
       ]
      },
      "text/html": [
       "<table><tr><th>Software</th><th>Version</th></tr><tr><td>Python</td><td>3.6.2 64bit [GCC 4.4.7 20120313 (Red Hat 4.4.7-1)]</td></tr><tr><td>IPython</td><td>6.2.1</td></tr><tr><td>OS</td><td>Linux 4.15.0 30 generic x86_64 with debian stretch sid</td></tr><tr><td>myhdl</td><td>0.10</td></tr><tr><td>myhdlpeek</td><td>0.0.6</td></tr><tr><td>numpy</td><td>1.13.3</td></tr><tr><td>pandas</td><td>0.23.3</td></tr><tr><td>matplotlib</td><td>2.1.0</td></tr><tr><td>sympy</td><td>1.1.2.dev</td></tr><tr><td>itertools</td><td>The 'itertools' distribution was not found and is required by the application</td></tr><tr><td>SchemDraw</td><td>0.3.0</td></tr><tr><td colspan='2'>Sat Sep 15 21:15:38 2018 MDT</td></tr></table>"
      ],
      "text/latex": [
       "\\begin{tabular}{|l|l|}\\hline\n",
       "{\\bf Software} & {\\bf Version} \\\\ \\hline\\hline\n",
       "Python & 3.6.2 64bit [GCC 4.4.7 20120313 (Red Hat 4.4.7-1)] \\\\ \\hline\n",
       "IPython & 6.2.1 \\\\ \\hline\n",
       "OS & Linux 4.15.0 30 generic x86\\_64 with debian stretch sid \\\\ \\hline\n",
       "myhdl & 0.10 \\\\ \\hline\n",
       "myhdlpeek & 0.0.6 \\\\ \\hline\n",
       "numpy & 1.13.3 \\\\ \\hline\n",
       "pandas & 0.23.3 \\\\ \\hline\n",
       "matplotlib & 2.1.0 \\\\ \\hline\n",
       "sympy & 1.1.2.dev \\\\ \\hline\n",
       "itertools & The 'itertools' distribution was not found and is required by the application \\\\ \\hline\n",
       "SchemDraw & 0.3.0 \\\\ \\hline\n",
       "\\hline \\multicolumn{2}{|l|}{Sat Sep 15 21:15:38 2018 MDT} \\\\ \\hline\n",
       "\\end{tabular}\n"
      ],
      "text/plain": [
       "Software versions\n",
       "Python 3.6.2 64bit [GCC 4.4.7 20120313 (Red Hat 4.4.7-1)]\n",
       "IPython 6.2.1\n",
       "OS Linux 4.15.0 30 generic x86_64 with debian stretch sid\n",
       "myhdl 0.10\n",
       "myhdlpeek 0.0.6\n",
       "numpy 1.13.3\n",
       "pandas 0.23.3\n",
       "matplotlib 2.1.0\n",
       "sympy 1.1.2.dev\n",
       "itertools The 'itertools' distribution was not found and is required by the application\n",
       "SchemDraw 0.3.0\n",
       "Sat Sep 15 21:15:38 2018 MDT"
      ]
     },
     "execution_count": 1,
     "metadata": {},
     "output_type": "execute_result"
    }
   ],
   "source": [
    "#This notebook also uses the `(some) LaTeX environments for Jupyter`\n",
    "#https://github.com/ProfFan/latex_envs wich is part of the\n",
    "#jupyter_contrib_nbextensions package\n",
    "\n",
    "from myhdl import *\n",
    "from myhdlpeek import Peeker\n",
    "import numpy as np\n",
    "import pandas as pd\n",
    "import matplotlib.pyplot as plt\n",
    "%matplotlib inline\n",
    "\n",
    "from sympy import *\n",
    "init_printing()\n",
    "\n",
    "import itertools\n",
    "\n",
    "#EE drawing tools in python from https://cdelker.bitbucket.io/SchemDraw/\n",
    "import SchemDraw as schem\n",
    "import SchemDraw.elements as e\n",
    "import SchemDraw.logic as l\n",
    "\n",
    "#https://github.com/jrjohansson/version_information\n",
    "%load_ext version_information\n",
    "%version_information myhdl, myhdlpeek, numpy, pandas, matplotlib, sympy, itertools, SchemDraw"
   ]
  },
  {
   "cell_type": "code",
   "execution_count": 2,
   "metadata": {},
   "outputs": [],
   "source": [
    "#helper  functions to read in the .v and .vhd generated files into python\n",
    "def VerilogTextReader(loc, printresult=True):\n",
    "    with open(f'{loc}.v', 'r') as vText:\n",
    "        VerilogText=vText.read()\n",
    "    if printresult:\n",
    "        print(f'***Verilog modual from {loc}.v***\\n\\n', VerilogText)\n",
    "    return VerilogText\n",
    "\n",
    "def VHDLTextReader(loc, printresult=True):\n",
    "    with open(f'{loc}.vhd', 'r') as vText:\n",
    "        VerilogText=vText.read()\n",
    "    if printresult:\n",
    "        print(f'***VHDL modual from {loc}.vhd***\\n\\n', VerilogText)\n",
    "    return VerilogText\n",
    "\n",
    "def ConstraintXDCTextReader(loc, printresult=True):\n",
    "    with open(f'{loc}.xdc', 'r') as xdcText:\n",
    "        ConstraintText=xdcText.read()\n",
    "    if printresult:\n",
    "        print(f'***Constraint file from {loc}.xdc***\\n\\n', ConstraintText)\n",
    "    return ConstraintText"
   ]
  },
  {
   "cell_type": "code",
   "execution_count": 3,
   "metadata": {},
   "outputs": [],
   "source": [
    "def TruthTabelGenrator(BoolSymFunc):\n",
    "    \"\"\"\n",
    "    Function to generate a truth table from a sympy boolian expression\n",
    "    BoolSymFunc: sympy boolian expression\n",
    "    return TT: a Truth table stored in a pandas dataframe\n",
    "    \"\"\"\n",
    "    colsL=sorted([i for i in list(BoolSymFunc.rhs.atoms())], key=lambda x:x.sort_key())\n",
    "    colsR=sorted([i for i in list(BoolSymFunc.lhs.atoms())], key=lambda x:x.sort_key())\n",
    "    bitwidth=len(colsL)\n",
    "    cols=colsL+colsR; cols\n",
    "    \n",
    "    TT=pd.DataFrame(columns=cols, index=range(2**bitwidth))\n",
    "    \n",
    "    for i in range(2**bitwidth):\n",
    "        inputs=[int(j) for j in list(np.binary_repr(i, bitwidth))]\n",
    "        outputs=BoolSymFunc.rhs.subs({j:v for j, v in zip(colsL, inputs)})\n",
    "        inputs.append(int(bool(outputs)))\n",
    "        TT.iloc[i]=inputs\n",
    "    \n",
    "    return TT\n",
    "    \n",
    "    \n",
    "    "
   ]
  },
  {
   "cell_type": "markdown",
   "metadata": {},
   "source": [
    "# Multiplexer"
   ]
  },
  {
   "cell_type": "markdown",
   "metadata": {},
   "source": [
    "## 2 Channel Input:1 Channel Output multiplexer in compontirical logic"
   ]
  },
  {
   "cell_type": "markdown",
   "metadata": {},
   "source": [
    "### Sympy Expression"
   ]
  },
  {
   "cell_type": "code",
   "execution_count": 4,
   "metadata": {},
   "outputs": [
    {
     "data": {
      "image/png": "[encoded data removed]",
      "text/latex": [
       "$$y = \\left(a \\wedge \\neg s\\right) \\vee \\left(b \\wedge s\\right)$$"
      ],
      "text/plain": [
       "y = (a ∧ ¬s) ∨ (b ∧ s)"
      ]
     },
     "execution_count": 4,
     "metadata": {},
     "output_type": "execute_result"
    }
   ],
   "source": [
    "a, b, s, y=symbols('a, b, s, y')\n",
    "yEq=Eq(y, (~s&a) |(s&b) ); yEq"
   ]
  },
  {
   "cell_type": "code",
   "execution_count": 5,
   "metadata": {},
   "outputs": [
    {
     "data": {
      "text/html": [
       "<div>\n",
       "<style scoped>\n",
       "    .dataframe tbody tr th:only-of-type {\n",
       "        vertical-align: middle;\n",
       "    }\n",
       "\n",
       "    .dataframe tbody tr th {\n",
       "        vertical-align: top;\n",
       "    }\n",
       "\n",
       "    .dataframe thead th {\n",
       "        text-align: right;\n",
       "    }\n",
       "</style>\n",
       "<table border=\"1\" class=\"dataframe\">\n",
       "  <thead>\n",
       "    <tr style=\"text-align: right;\">\n",
       "      <th></th>\n",
       "      <th>a</th>\n",
       "      <th>b</th>\n",
       "      <th>s</th>\n",
       "      <th>y</th>\n",
       "    </tr>\n",
       "  </thead>\n",
       "  <tbody>\n",
       "    <tr>\n",
       "      <th>0</th>\n",
       "      <td>0</td>\n",
       "      <td>0</td>\n",
       "      <td>0</td>\n",
       "      <td>0</td>\n",
       "    </tr>\n",
       "    <tr>\n",
       "      <th>1</th>\n",
       "      <td>0</td>\n",
       "      <td>0</td>\n",
       "      <td>1</td>\n",
       "      <td>0</td>\n",
       "    </tr>\n",
       "    <tr>\n",
       "      <th>2</th>\n",
       "      <td>0</td>\n",
       "      <td>1</td>\n",
       "      <td>0</td>\n",
       "      <td>0</td>\n",
       "    </tr>\n",
       "    <tr>\n",
       "      <th>3</th>\n",
       "      <td>0</td>\n",
       "      <td>1</td>\n",
       "      <td>1</td>\n",
       "      <td>1</td>\n",
       "    </tr>\n",
       "    <tr>\n",
       "      <th>4</th>\n",
       "      <td>1</td>\n",
       "      <td>0</td>\n",
       "      <td>0</td>\n",
       "      <td>1</td>\n",
       "    </tr>\n",
       "    <tr>\n",
       "      <th>5</th>\n",
       "      <td>1</td>\n",
       "      <td>0</td>\n",
       "      <td>1</td>\n",
       "      <td>0</td>\n",
       "    </tr>\n",
       "    <tr>\n",
       "      <th>6</th>\n",
       "      <td>1</td>\n",
       "      <td>1</td>\n",
       "      <td>0</td>\n",
       "      <td>1</td>\n",
       "    </tr>\n",
       "    <tr>\n",
       "      <th>7</th>\n",
       "      <td>1</td>\n",
       "      <td>1</td>\n",
       "      <td>1</td>\n",
       "      <td>1</td>\n",
       "    </tr>\n",
       "  </tbody>\n",
       "</table>\n",
       "</div>"
      ],
      "text/plain": [
       "   a  b  s  y\n",
       "0  0  0  0  0\n",
       "1  0  0  1  0\n",
       "2  0  1  0  0\n",
       "3  0  1  1  1\n",
       "4  1  0  0  1\n",
       "5  1  0  1  0\n",
       "6  1  1  0  1\n",
       "7  1  1  1  1"
      ]
     },
     "execution_count": 5,
     "metadata": {},
     "output_type": "execute_result"
    }
   ],
   "source": [
    "TruthTabelGenrator(yEq)"
   ]
  },
  {
   "cell_type": "code",
   "execution_count": 6,
   "metadata": {},
   "outputs": [
    {
     "data": {
      "text/plain": [
       "(array([[0, 0, 0],\n",
       "        [0, 0, 1],\n",
       "        [0, 1, 0],\n",
       "        [0, 1, 1],\n",
       "        [1, 0, 0],\n",
       "        [1, 0, 1],\n",
       "        [1, 1, 0],\n",
       "        [1, 1, 1]]), array([0, 0, 0, 1, 1, 0, 1, 1]))"
      ]
     },
     "execution_count": 6,
     "metadata": {},
     "output_type": "execute_result"
    }
   ],
   "source": [
    "yEqN=lambdify([a, b, s], yEq.rhs, dummify=False)\n",
    "SystmaticVals=np.array(list(itertools.product([0,1], repeat=3)))\n",
    "SystmaticVals, yEqN(SystmaticVals[:, 0], SystmaticVals[:, 1], SystmaticVals[:, 2]).astype(int)"
   ]
  },
  {
   "cell_type": "markdown",
   "metadata": {},
   "source": [
    "### myHDL Module"
   ]
  },
  {
   "cell_type": "code",
   "execution_count": 7,
   "metadata": {},
   "outputs": [],
   "source": [
    "@block\n",
    "def MUX2_1_Combo(a, b, s, y):\n",
    "    \"\"\"\n",
    "    2:1 Multiblexer written in full combo\n",
    "    Input:\n",
    "        a(bool): input channel a\n",
    "        b(bool): input channel b\n",
    "        s(bool): channel selection input \n",
    "    Output:\n",
    "        y(bool): ouput\n",
    "    \"\"\"\n",
    "    \n",
    "    @always_comb\n",
    "    def logic():\n",
    "        y.next= (not s and a) or (s and b)\n",
    "    \n",
    "    return instances()"
   ]
  },
  {
   "cell_type": "markdown",
   "metadata": {},
   "source": [
    "### myHDL Testing"
   ]
  },
  {
   "cell_type": "code",
   "execution_count": 8,
   "metadata": {},
   "outputs": [
    {
     "data": {
      "text/plain": [
       "([(0, 0, 0),\n",
       "  (0, 0, 1),\n",
       "  (0, 1, 0),\n",
       "  (0, 1, 1),\n",
       "  (1, 0, 0),\n",
       "  (1, 0, 1),\n",
       "  (1, 1, 0),\n",
       "  (1, 1, 1)],\n",
       " array([0, 0, 0, 0, 1, 1, 1, 1, 1, 1, 1, 0, 0, 1, 0, 1, 0, 1]),\n",
       " array([0, 1, 0, 1, 0, 1, 0, 1, 0, 1, 0, 1, 1, 0, 0, 1, 1, 1]),\n",
       " array([0, 0, 1, 1, 0, 0, 1, 1, 1, 0, 1, 1, 1, 1, 0, 1, 1, 0]),\n",
       " 18)"
      ]
     },
     "execution_count": 8,
     "metadata": {},
     "output_type": "execute_result"
    }
   ],
   "source": [
    "#generate systmatic and random test values for AndGate_TB\n",
    "#stimules inputs X1 and X2\n",
    "TestLen=10\n",
    "SystmaticVals=list(itertools.product([0,1], repeat=3))\n",
    "bTVs=np.array([i[2] for i in SystmaticVals]).astype(int)\n",
    "np.random.seed(15)\n",
    "bTVs=np.append(bTVs, np.random.randint(0,2, TestLen)).astype(int)\n",
    "\n",
    "aTVs=np.array([i[1] for i in SystmaticVals]).astype(int)\n",
    "#the random genrator must have a differint seed beween each generation\n",
    "#call in order to produce differint values for each call\n",
    "np.random.seed(16)\n",
    "aTVs=np.append(aTVs, np.random.randint(0,2, TestLen)).astype(int)\n",
    "\n",
    "sTVs=np.array([i[0] for i in SystmaticVals]).astype(int)\n",
    "#the random genrator must have a differint seed beween each generation\n",
    "#call in order to produce differint values for each call\n",
    "np.random.seed(17)\n",
    "sTVs=np.append(sTVs, np.random.randint(0,2, TestLen)).astype(int)\n",
    "\n",
    "\n",
    "TestLen=len(aTVs)\n",
    "SystmaticVals, sTVs, bTVs, aTVs, TestLen"
   ]
  },
  {
   "cell_type": "code",
   "execution_count": 9,
   "metadata": {},
   "outputs": [],
   "source": [
    "Peeker.clear()\n",
    "a=Signal(bool(0)); Peeker(a, 'a')\n",
    "b=Signal(bool(0)); Peeker(b, 'b')\n",
    "s=Signal(bool(0)); Peeker(s, 's')\n",
    "y=Signal(bool(0)); Peeker(y, 'y')\n",
    "\n",
    "DUT=MUX2_1_Combo(a, b, s, y)\n",
    "\n",
    "def MUX2_1_Combo_TB():\n",
    "    \"\"\"\n",
    "    myHDL only testbench for module `MUX2_1_Combo`\n",
    "    \"\"\"\n",
    "    \n",
    "    @instance\n",
    "    def stimules():\n",
    "        for i in range(TestLen):\n",
    "            a.next=int(aTVs[i])\n",
    "            b.next=int(bTVs[i])\n",
    "            s.next=int(sTVs[i])\n",
    "\n",
    "            yield delay(1)\n",
    "        \n",
    "        raise StopSimulation()\n",
    "        \n",
    "    return instances()\n",
    "\n",
    "sim=Simulation(DUT, MUX2_1_Combo_TB(), *Peeker.instances()).run()            "
   ]
  },
  {
   "cell_type": "code",
   "execution_count": 10,
   "metadata": {},
   "outputs": [
    {
     "data": {
      "text/html": [
       "<div><script type=\"WaveDrom\">{\"signal\": [{}, {\"name\": \"a\", \"wave\": \"0.1.0.1..01...01.0\"}, {\"name\": \"b\", \"wave\": \"010101010101.0.1..\"}, {}]}</script></div>"
      ]
     },
     "metadata": {},
     "output_type": "display_data"
    },
    {
     "data": {
      "application/javascript": [
       "$.getScript(\"http://wavedrom.com/wavedrom.min.js\", function () {\n",
       "$.getScript(\"http://wavedrom.com/skins/default.js\", function () {\n",
       "WaveDrom.ProcessAll();});\n",
       "});\n"
      ]
     },
     "metadata": {},
     "output_type": "display_data"
    }
   ],
   "source": [
    "Peeker.to_wavedrom('s', 'a', 'b','y')"
   ]
  },
  {
   "cell_type": "code",
   "execution_count": 11,
   "metadata": {},
   "outputs": [
    {
     "data": {
      "text/html": [
       "<div>\n",
       "<style scoped>\n",
       "    .dataframe tbody tr th:only-of-type {\n",
       "        vertical-align: middle;\n",
       "    }\n",
       "\n",
       "    .dataframe tbody tr th {\n",
       "        vertical-align: top;\n",
       "    }\n",
       "\n",
       "    .dataframe thead th {\n",
       "        text-align: right;\n",
       "    }\n",
       "</style>\n",
       "<table border=\"1\" class=\"dataframe\">\n",
       "  <thead>\n",
       "    <tr style=\"text-align: right;\">\n",
       "      <th></th>\n",
       "      <th>s</th>\n",
       "      <th>a</th>\n",
       "      <th>b</th>\n",
       "      <th>y</th>\n",
       "    </tr>\n",
       "  </thead>\n",
       "  <tbody>\n",
       "    <tr>\n",
       "      <th>0</th>\n",
       "      <td>0</td>\n",
       "      <td>0</td>\n",
       "      <td>0</td>\n",
       "      <td>0</td>\n",
       "    </tr>\n",
       "    <tr>\n",
       "      <th>1</th>\n",
       "      <td>0</td>\n",
       "      <td>0</td>\n",
       "      <td>1</td>\n",
       "      <td>0</td>\n",
       "    </tr>\n",
       "    <tr>\n",
       "      <th>2</th>\n",
       "      <td>0</td>\n",
       "      <td>1</td>\n",
       "      <td>0</td>\n",
       "      <td>1</td>\n",
       "    </tr>\n",
       "    <tr>\n",
       "      <th>3</th>\n",
       "      <td>0</td>\n",
       "      <td>1</td>\n",
       "      <td>1</td>\n",
       "      <td>1</td>\n",
       "    </tr>\n",
       "    <tr>\n",
       "      <th>4</th>\n",
       "      <td>1</td>\n",
       "      <td>0</td>\n",
       "      <td>0</td>\n",
       "      <td>0</td>\n",
       "    </tr>\n",
       "    <tr>\n",
       "      <th>5</th>\n",
       "      <td>1</td>\n",
       "      <td>0</td>\n",
       "      <td>1</td>\n",
       "      <td>1</td>\n",
       "    </tr>\n",
       "    <tr>\n",
       "      <th>6</th>\n",
       "      <td>1</td>\n",
       "      <td>1</td>\n",
       "      <td>0</td>\n",
       "      <td>0</td>\n",
       "    </tr>\n",
       "    <tr>\n",
       "      <th>7</th>\n",
       "      <td>1</td>\n",
       "      <td>1</td>\n",
       "      <td>1</td>\n",
       "      <td>1</td>\n",
       "    </tr>\n",
       "    <tr>\n",
       "      <th>8</th>\n",
       "      <td>1</td>\n",
       "      <td>1</td>\n",
       "      <td>0</td>\n",
       "      <td>0</td>\n",
       "    </tr>\n",
       "    <tr>\n",
       "      <th>9</th>\n",
       "      <td>1</td>\n",
       "      <td>0</td>\n",
       "      <td>1</td>\n",
       "      <td>1</td>\n",
       "    </tr>\n",
       "    <tr>\n",
       "      <th>10</th>\n",
       "      <td>1</td>\n",
       "      <td>1</td>\n",
       "      <td>0</td>\n",
       "      <td>0</td>\n",
       "    </tr>\n",
       "    <tr>\n",
       "      <th>11</th>\n",
       "      <td>0</td>\n",
       "      <td>1</td>\n",
       "      <td>1</td>\n",
       "      <td>1</td>\n",
       "    </tr>\n",
       "    <tr>\n",
       "      <th>13</th>\n",
       "      <td>1</td>\n",
       "      <td>1</td>\n",
       "      <td>0</td>\n",
       "      <td>0</td>\n",
       "    </tr>\n",
       "    <tr>\n",
       "      <th>14</th>\n",
       "      <td>0</td>\n",
       "      <td>0</td>\n",
       "      <td>0</td>\n",
       "      <td>0</td>\n",
       "    </tr>\n",
       "    <tr>\n",
       "      <th>15</th>\n",
       "      <td>1</td>\n",
       "      <td>1</td>\n",
       "      <td>1</td>\n",
       "      <td>1</td>\n",
       "    </tr>\n",
       "    <tr>\n",
       "      <th>16</th>\n",
       "      <td>0</td>\n",
       "      <td>1</td>\n",
       "      <td>1</td>\n",
       "      <td>1</td>\n",
       "    </tr>\n",
       "    <tr>\n",
       "      <th>17</th>\n",
       "      <td>1</td>\n",
       "      <td>0</td>\n",
       "      <td>1</td>\n",
       "      <td>1</td>\n",
       "    </tr>\n",
       "  </tbody>\n",
       "</table>\n",
       "</div>"
      ],
      "text/plain": [
       "    s  a  b  y\n",
       "0   0  0  0  0\n",
       "1   0  0  1  0\n",
       "2   0  1  0  1\n",
       "3   0  1  1  1\n",
       "4   1  0  0  0\n",
       "5   1  0  1  1\n",
       "6   1  1  0  0\n",
       "7   1  1  1  1\n",
       "8   1  1  0  0\n",
       "9   1  0  1  1\n",
       "10  1  1  0  0\n",
       "11  0  1  1  1\n",
       "13  1  1  0  0\n",
       "14  0  0  0  0\n",
       "15  1  1  1  1\n",
       "16  0  1  1  1\n",
       "17  1  0  1  1"
      ]
     },
     "execution_count": 11,
     "metadata": {},
     "output_type": "execute_result"
    }
   ],
   "source": [
    "MUX2_1_ComboData=Peeker.to_dataframe()\n",
    "MUX2_1_ComboData=MUX2_1_ComboData[['s', 'a', 'b','y']]\n",
    "MUX2_1_ComboData"
   ]
  },
  {
   "cell_type": "code",
   "execution_count": 12,
   "metadata": {},
   "outputs": [
    {
     "data": {
      "text/html": [
       "<div>\n",
       "<style scoped>\n",
       "    .dataframe tbody tr th:only-of-type {\n",
       "        vertical-align: middle;\n",
       "    }\n",
       "\n",
       "    .dataframe tbody tr th {\n",
       "        vertical-align: top;\n",
       "    }\n",
       "\n",
       "    .dataframe thead th {\n",
       "        text-align: right;\n",
       "    }\n",
       "</style>\n",
       "<table border=\"1\" class=\"dataframe\">\n",
       "  <thead>\n",
       "    <tr style=\"text-align: right;\">\n",
       "      <th></th>\n",
       "      <th>s</th>\n",
       "      <th>a</th>\n",
       "      <th>b</th>\n",
       "      <th>y</th>\n",
       "      <th>yRef</th>\n",
       "    </tr>\n",
       "  </thead>\n",
       "  <tbody>\n",
       "    <tr>\n",
       "      <th>0</th>\n",
       "      <td>0</td>\n",
       "      <td>0</td>\n",
       "      <td>0</td>\n",
       "      <td>0</td>\n",
       "      <td>0</td>\n",
       "    </tr>\n",
       "    <tr>\n",
       "      <th>1</th>\n",
       "      <td>0</td>\n",
       "      <td>0</td>\n",
       "      <td>1</td>\n",
       "      <td>0</td>\n",
       "      <td>0</td>\n",
       "    </tr>\n",
       "    <tr>\n",
       "      <th>2</th>\n",
       "      <td>0</td>\n",
       "      <td>1</td>\n",
       "      <td>0</td>\n",
       "      <td>1</td>\n",
       "      <td>1</td>\n",
       "    </tr>\n",
       "    <tr>\n",
       "      <th>3</th>\n",
       "      <td>0</td>\n",
       "      <td>1</td>\n",
       "      <td>1</td>\n",
       "      <td>1</td>\n",
       "      <td>1</td>\n",
       "    </tr>\n",
       "    <tr>\n",
       "      <th>4</th>\n",
       "      <td>1</td>\n",
       "      <td>0</td>\n",
       "      <td>0</td>\n",
       "      <td>0</td>\n",
       "      <td>0</td>\n",
       "    </tr>\n",
       "    <tr>\n",
       "      <th>5</th>\n",
       "      <td>1</td>\n",
       "      <td>0</td>\n",
       "      <td>1</td>\n",
       "      <td>1</td>\n",
       "      <td>1</td>\n",
       "    </tr>\n",
       "    <tr>\n",
       "      <th>6</th>\n",
       "      <td>1</td>\n",
       "      <td>1</td>\n",
       "      <td>0</td>\n",
       "      <td>0</td>\n",
       "      <td>0</td>\n",
       "    </tr>\n",
       "    <tr>\n",
       "      <th>7</th>\n",
       "      <td>1</td>\n",
       "      <td>1</td>\n",
       "      <td>1</td>\n",
       "      <td>1</td>\n",
       "      <td>1</td>\n",
       "    </tr>\n",
       "    <tr>\n",
       "      <th>8</th>\n",
       "      <td>1</td>\n",
       "      <td>1</td>\n",
       "      <td>0</td>\n",
       "      <td>0</td>\n",
       "      <td>0</td>\n",
       "    </tr>\n",
       "    <tr>\n",
       "      <th>9</th>\n",
       "      <td>1</td>\n",
       "      <td>0</td>\n",
       "      <td>1</td>\n",
       "      <td>1</td>\n",
       "      <td>1</td>\n",
       "    </tr>\n",
       "    <tr>\n",
       "      <th>10</th>\n",
       "      <td>1</td>\n",
       "      <td>1</td>\n",
       "      <td>0</td>\n",
       "      <td>0</td>\n",
       "      <td>0</td>\n",
       "    </tr>\n",
       "    <tr>\n",
       "      <th>11</th>\n",
       "      <td>0</td>\n",
       "      <td>1</td>\n",
       "      <td>1</td>\n",
       "      <td>1</td>\n",
       "      <td>1</td>\n",
       "    </tr>\n",
       "    <tr>\n",
       "      <th>13</th>\n",
       "      <td>1</td>\n",
       "      <td>1</td>\n",
       "      <td>0</td>\n",
       "      <td>0</td>\n",
       "      <td>0</td>\n",
       "    </tr>\n",
       "    <tr>\n",
       "      <th>14</th>\n",
       "      <td>0</td>\n",
       "      <td>0</td>\n",
       "      <td>0</td>\n",
       "      <td>0</td>\n",
       "      <td>0</td>\n",
       "    </tr>\n",
       "    <tr>\n",
       "      <th>15</th>\n",
       "      <td>1</td>\n",
       "      <td>1</td>\n",
       "      <td>1</td>\n",
       "      <td>1</td>\n",
       "      <td>1</td>\n",
       "    </tr>\n",
       "    <tr>\n",
       "      <th>16</th>\n",
       "      <td>0</td>\n",
       "      <td>1</td>\n",
       "      <td>1</td>\n",
       "      <td>1</td>\n",
       "      <td>1</td>\n",
       "    </tr>\n",
       "    <tr>\n",
       "      <th>17</th>\n",
       "      <td>1</td>\n",
       "      <td>0</td>\n",
       "      <td>1</td>\n",
       "      <td>1</td>\n",
       "      <td>1</td>\n",
       "    </tr>\n",
       "  </tbody>\n",
       "</table>\n",
       "</div>"
      ],
      "text/plain": [
       "    s  a  b  y  yRef\n",
       "0   0  0  0  0     0\n",
       "1   0  0  1  0     0\n",
       "2   0  1  0  1     1\n",
       "3   0  1  1  1     1\n",
       "4   1  0  0  0     0\n",
       "5   1  0  1  1     1\n",
       "6   1  1  0  0     0\n",
       "7   1  1  1  1     1\n",
       "8   1  1  0  0     0\n",
       "9   1  0  1  1     1\n",
       "10  1  1  0  0     0\n",
       "11  0  1  1  1     1\n",
       "13  1  1  0  0     0\n",
       "14  0  0  0  0     0\n",
       "15  1  1  1  1     1\n",
       "16  0  1  1  1     1\n",
       "17  1  0  1  1     1"
      ]
     },
     "execution_count": 12,
     "metadata": {},
     "output_type": "execute_result"
    }
   ],
   "source": [
    "MUX2_1_ComboData['yRef']=MUX2_1_ComboData.apply(lambda row:yEqN(row['a'], row['b'], row['s']), axis=1).astype(int)\n",
    "MUX2_1_ComboData"
   ]
  },
  {
   "cell_type": "code",
   "execution_count": 13,
   "metadata": {},
   "outputs": [
    {
     "name": "stdout",
     "output_type": "stream",
     "text": [
      "Module `MUX2_1_Combo` works as exspected: True\n"
     ]
    }
   ],
   "source": [
    "Test=(MUX2_1_ComboData['y']==MUX2_1_ComboData['yRef']).all()\n",
    "print(f'Module `MUX2_1_Combo` works as exspected: {Test}')"
   ]
  },
  {
   "cell_type": "markdown",
   "metadata": {},
   "source": [
    "### Verilog Conversion"
   ]
  },
  {
   "cell_type": "code",
   "execution_count": 14,
   "metadata": {},
   "outputs": [
    {
     "name": "stdout",
     "output_type": "stream",
     "text": [
      "***Verilog modual from MUX2_1_Combo.v***\n",
      "\n",
      " // File: MUX2_1_Combo.v\n",
      "// Generated by MyHDL 0.10\n",
      "// Date: Sat Sep 15 21:15:41 2018\n",
      "\n",
      "\n",
      "`timescale 1ns/10ps\n",
      "\n",
      "module MUX2_1_Combo (\n",
      "    a,\n",
      "    b,\n",
      "    s,\n",
      "    y\n",
      ");\n",
      "// Input:\n",
      "//     a(bool)\n",
      "//     b(bool)\n",
      "//     s(bool)\n",
      "// Output:\n",
      "//     y(bool)\n",
      "\n",
      "input a;\n",
      "input b;\n",
      "input s;\n",
      "output y;\n",
      "wire y;\n",
      "\n",
      "\n",
      "\n",
      "\n",
      "\n",
      "assign y = (((!s) && a) || (s && b));\n",
      "\n",
      "endmodule\n",
      "\n"
     ]
    }
   ],
   "source": [
    "DUT.convert()\n",
    "VerilogTextReader('MUX2_1_Combo');"
   ]
  },
  {
   "cell_type": "markdown",
   "metadata": {},
   "source": [
    "\\begin{figure}\n",
    "\\centerline{\\includegraphics[width=10cm]{MUX2_1_Combo_RTL.png}}\n",
    "\\caption{\\label{fig:M21CRTL} MUX2_1_Combo RTL schematic; Xilinx Vivado 2017.4}\n",
    "\\end{figure}"
   ]
  },
  {
   "cell_type": "markdown",
   "metadata": {},
   "source": [
    "\\begin{figure}\n",
    "\\centerline{\\includegraphics[width=10cm]{MUX2_1_Combo_SYN.png}}\n",
    "\\caption{\\label{fig:M21CSYN} MUX2_1_Combo Synthesized Schematic; Xilinx Vivado 2017.4}\n",
    "\\end{figure}"
   ]
  },
  {
   "cell_type": "markdown",
   "metadata": {},
   "source": [
    "\\begin{figure}\n",
    "\\centerline{\\includegraphics[width=10cm]{MUX2_1_Combo_IMP.png}}\n",
    "\\caption{\\label{fig:M21CIMP} MUX2_1_Combo Implementated Schematic; Xilinx Vivado 2017.4}\n",
    "\\end{figure}"
   ]
  },
  {
   "cell_type": "markdown",
   "metadata": {},
   "source": [
    "### myHDL to Verilog Testbench"
   ]
  },
  {
   "cell_type": "code",
   "execution_count": 15,
   "metadata": {},
   "outputs": [
    {
     "data": {
      "text/plain": [
       "(intbv(52982),\n",
       " '1100111011110110',\n",
       " intbv(87399),\n",
       " '10101010101100111',\n",
       " intbv(16277),\n",
       " '11111110010101')"
      ]
     },
     "execution_count": 15,
     "metadata": {},
     "output_type": "execute_result"
    }
   ],
   "source": [
    "#create BitVectors for AndGate_TBV\n",
    "aTVs=intbv(int(''.join(aTVs.astype(str)), 2))[TestLen:]\n",
    "bTVs=intbv(int(''.join(bTVs.astype(str)), 2))[TestLen:]\n",
    "sTVs=intbv(int(''.join(sTVs.astype(str)), 2))[TestLen:]\n",
    "\n",
    "aTVs, bin(aTVs), bTVs, bin(bTVs), sTVs, bin(sTVs)"
   ]
  },
  {
   "cell_type": "code",
   "execution_count": 16,
   "metadata": {},
   "outputs": [
    {
     "name": "stdout",
     "output_type": "stream",
     "text": [
      "<class 'myhdl._Signal._Signal'> <class '_ast.Name'>\n",
      "<class 'myhdl._Signal._Signal'> <class '_ast.Name'>\n",
      "<class 'myhdl._Signal._Signal'> <class '_ast.Name'>\n",
      "<class 'myhdl._Signal._Signal'> <class '_ast.Name'>\n",
      "***Verilog modual from MUX2_1_Combo_TBV.v***\n",
      "\n",
      " // File: MUX2_1_Combo_TBV.v\n",
      "// Generated by MyHDL 0.10\n",
      "// Date: Sat Sep 15 21:15:41 2018\n",
      "\n",
      "\n",
      "`timescale 1ns/10ps\n",
      "\n",
      "module MUX2_1_Combo_TBV (\n",
      "\n",
      ");\n",
      "// myHDL -> Verilog testbench for module `AndGate`\n",
      "\n",
      "\n",
      "reg a = 0;\n",
      "reg b = 0;\n",
      "reg s = 0;\n",
      "wire y;\n",
      "wire [17:0] aTV;\n",
      "wire [17:0] bTV;\n",
      "wire [17:0] sTV;\n",
      "\n",
      "assign aTV = 18'd52982;\n",
      "assign bTV = 18'd87399;\n",
      "assign sTV = 18'd16277;\n",
      "\n",
      "\n",
      "always @(y, a, b, s) begin: MUX2_1_COMBO_TBV_PRINT_DATA\n",
      "    $write(\"%h\", a);\n",
      "    $write(\" \");\n",
      "    $write(\"%h\", b);\n",
      "    $write(\" \");\n",
      "    $write(\"%h\", s);\n",
      "    $write(\" \");\n",
      "    $write(\"%h\", y);\n",
      "    $write(\"\\n\");\n",
      "end\n",
      "\n",
      "\n",
      "\n",
      "assign y = (((!s) && a) || (s && b));\n",
      "\n",
      "\n",
      "initial begin: MUX2_1_COMBO_TBV_STIMULES\n",
      "    integer i;\n",
      "    for (i=0; i<18; i=i+1) begin\n",
      "        a <= aTV[i];\n",
      "        b <= bTV[i];\n",
      "        s <= sTV[i];\n",
      "        # 1;\n",
      "    end\n",
      "    $finish;\n",
      "end\n",
      "\n",
      "endmodule\n",
      "\n"
     ]
    },
    {
     "name": "stderr",
     "output_type": "stream",
     "text": [
      "/home/iridium/anaconda3/lib/python3.6/site-packages/myhdl/conversion/_toVerilog.py:349: ToVerilogWarning: Signal is not driven: aTV\n",
      "  category=ToVerilogWarning\n",
      "/home/iridium/anaconda3/lib/python3.6/site-packages/myhdl/conversion/_toVerilog.py:349: ToVerilogWarning: Signal is not driven: bTV\n",
      "  category=ToVerilogWarning\n",
      "/home/iridium/anaconda3/lib/python3.6/site-packages/myhdl/conversion/_toVerilog.py:349: ToVerilogWarning: Signal is not driven: sTV\n",
      "  category=ToVerilogWarning\n"
     ]
    }
   ],
   "source": [
    "@block\n",
    "def MUX2_1_Combo_TBV():\n",
    "    \"\"\"\n",
    "    myHDL -> Verilog testbench for module `MUX2_1_Combo`\n",
    "    \"\"\"\n",
    "    a=Signal(bool(0))\n",
    "    b=Signal(bool(0))\n",
    "    s=Signal(bool(0))\n",
    "    y=Signal(bool(0))\n",
    "    \n",
    "    @always_comb\n",
    "    def print_data():\n",
    "        print(a, b, s, y)\n",
    "    \n",
    "    #Test Signal Bit Vectors\n",
    "    aTV=Signal(aTVs)\n",
    "    bTV=Signal(bTVs)\n",
    "    sTV=Signal(sTVs)\n",
    "\n",
    "\n",
    "    DUT=MUX2_1_Combo(a, b, s, y)\n",
    "\n",
    "    @instance\n",
    "    def stimules():\n",
    "        for i in range(TestLen):\n",
    "            a.next=int(aTV[i])\n",
    "            b.next=int(bTV[i])\n",
    "            s.next=int(sTV[i])\n",
    "            yield delay(1)\n",
    "        \n",
    "        raise StopSimulation()\n",
    "    return instances()\n",
    "\n",
    "TB=MUX2_1_Combo_TBV()\n",
    "TB.convert(hdl=\"Verilog\", initial_values=True)\n",
    "VerilogTextReader('MUX2_1_Combo_TBV');         "
   ]
  },
  {
   "cell_type": "markdown",
   "metadata": {},
   "source": [
    "### PYNQ-Z1 Deployment"
   ]
  },
  {
   "cell_type": "markdown",
   "metadata": {},
   "source": [
    "#### Board Circuit"
   ]
  },
  {
   "cell_type": "markdown",
   "metadata": {},
   "source": [
    "#### Board Constraint"
   ]
  },
  {
   "cell_type": "code",
   "execution_count": 18,
   "metadata": {},
   "outputs": [
    {
     "name": "stdout",
     "output_type": "stream",
     "text": [
      "***Constraint file from MUX2_1_Combo.xdc***\n",
      "\n",
      " ## PYNQ-Z1 Constraint File for MUX2_1_Combo\n",
      "## Based on https://github.com/Xilinx/PYNQ/blob/master/boards/Pynq-Z1/base/vivado/constraints/base.xdc\n",
      "\n",
      "\n",
      "## Switches\n",
      "set_property -dict {PACKAGE_PIN M20 IOSTANDARD LVCMOS33} [get_ports {s}]; ##SW0\n",
      "\n",
      "## Buttons\n",
      "set_property -dict {PACKAGE_PIN D19 IOSTANDARD LVCMOS33} [get_ports {b}]; ## BT0\n",
      "set_property -dict {PACKAGE_PIN D20 IOSTANDARD LVCMOS33} [get_ports {a}]; ##BT1\n",
      "\n",
      "\n",
      "## LEDs\n",
      "set_property -dict {PACKAGE_PIN R14 IOSTANDARD LVCMOS33} [get_ports {y}]; ## Led 0\n",
      "\n",
      "\n",
      "\n"
     ]
    }
   ],
   "source": [
    "ConstraintXDCTextReader('MUX2_1_Combo');"
   ]
  },
  {
   "cell_type": "markdown",
   "metadata": {},
   "source": [
    "#### Video of Deployment\n",
    "MUX2_1_Combo myHDL PYNQ-Z1 ([YouTube]())"
   ]
  },
  {
   "cell_type": "markdown",
   "metadata": {},
   "source": [
    "## 4:1"
   ]
  },
  {
   "cell_type": "code",
   "execution_count": 17,
   "metadata": {},
   "outputs": [
    {
     "data": {
      "image/png": "[encoded data removed]",
      "text/latex": [
       "$$y = \\left(a \\wedge \\neg s_{0} \\wedge \\neg s_{1}\\right) \\vee \\left(b \\wedge s_{0} \\wedge \\neg s_{1}\\right) \\vee \\left(c \\wedge s_{1} \\wedge \\neg s_{0}\\right) \\vee \\left(d \\wedge s_{0} \\wedge s_{1}\\right)$$"
      ],
      "text/plain": [
       "y = (a ∧ ¬s₀ ∧ ¬s₁) ∨ (b ∧ s₀ ∧ ¬s₁) ∨ (c ∧ s₁ ∧ ¬s₀) ∨ (d ∧ s₀ ∧ s₁)"
      ]
     },
     "execution_count": 17,
     "metadata": {},
     "output_type": "execute_result"
    }
   ],
   "source": [
    "a, b, c, d, s0, s1, y=symbols('a, b, c, d, s_0, s_1, y')\n",
    "yEq=Eq(y, (~s0&~s1&a) | (s0&~s1&b)| (~s0&s1&c)|(s0&s1&d)); yEq"
   ]
  },
  {
   "cell_type": "code",
   "execution_count": null,
   "metadata": {},
   "outputs": [],
   "source": []
  }
 ],
 "metadata": {
  "hide_input": false,
  "kernelspec": {
   "display_name": "Python 3",
   "language": "python",
   "name": "python3"
  },
  "language_info": {
   "codemirror_mode": {
    "name": "ipython",
    "version": 3
   },
   "file_extension": ".py",
   "mimetype": "text/x-python",
   "name": "python",
   "nbconvert_exporter": "python",
   "pygments_lexer": "ipython3",
   "version": "3.6.2"
  },
  "latex_envs": {
   "LaTeX_envs_menu_present": true,
   "autoclose": false,
   "autocomplete": true,
   "bibliofile": "biblio.bib",
   "cite_by": "apalike",
   "current_citInitial": 1,
   "eqLabelWithNumbers": true,
   "eqNumInitial": 1,
   "hotkeys": {
    "equation": "Ctrl-E",
    "itemize": "Ctrl-I"
   },
   "labels_anchors": false,
   "latex_user_defs": false,
   "report_style_numbering": false,
   "user_envs_cfg": false
  },
  "toc": {
   "nav_menu": {},
   "number_sections": true,
   "sideBar": true,
   "skip_h1_title": false,
   "toc_cell": false,
   "toc_position": {},
   "toc_section_display": true,
   "toc_window_display": true
  }
 },
 "nbformat": 4,
 "nbformat_minor": 2
}
