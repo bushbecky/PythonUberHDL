{
 "cells": [
  {
   "cell_type": "markdown",
   "metadata": {},
   "source": [
    "\\title{Memories in myHDL}\n",
    "\\author{Steven K Armour}\n",
    "\\maketitle"
   ]
  },
  {
   "cell_type": "markdown",
   "metadata": {
    "toc": true
   },
   "source": [
    "<h1>Table of Contents<span class=\"tocSkip\"></span></h1>\n",
    "<div class=\"toc\"><ul class=\"toc-item\"><li><span><a href=\"#References\" data-toc-modified-id=\"References-1\"><span class=\"toc-item-num\">1&nbsp;&nbsp;</span>References</a></span></li><li><span><a href=\"#Libraries-and-auxiliary-functions\" data-toc-modified-id=\"Libraries-and-auxiliary-functions-2\"><span class=\"toc-item-num\">2&nbsp;&nbsp;</span>Libraries and auxiliary functions</a></span></li><li><span><a href=\"#Read-Only-Memory-(ROM)\" data-toc-modified-id=\"Read-Only-Memory-(ROM)-3\"><span class=\"toc-item-num\">3&nbsp;&nbsp;</span>Read Only Memory (ROM)</a></span></li><li><span><a href=\"#Random-and-Sequential-Access-Memory\" data-toc-modified-id=\"Random-and-Sequential-Access-Memory-4\"><span class=\"toc-item-num\">4&nbsp;&nbsp;</span>Random and Sequential Access Memory</a></span></li><li><span><a href=\"#HDL-Memories\" data-toc-modified-id=\"HDL-Memories-5\"><span class=\"toc-item-num\">5&nbsp;&nbsp;</span>HDL Memories</a></span><ul class=\"toc-item\"><li><span><a href=\"#ROM-Preloaded\" data-toc-modified-id=\"ROM-Preloaded-5.1\"><span class=\"toc-item-num\">5.1&nbsp;&nbsp;</span>ROM Preloaded</a></span><ul class=\"toc-item\"><li><span><a href=\"#testing\" data-toc-modified-id=\"testing-5.1.1\"><span class=\"toc-item-num\">5.1.1&nbsp;&nbsp;</span>testing</a></span></li><li><span><a href=\"#results\" data-toc-modified-id=\"results-5.1.2\"><span class=\"toc-item-num\">5.1.2&nbsp;&nbsp;</span>results</a></span></li><li><span><a href=\"#Verilog\" data-toc-modified-id=\"Verilog-5.1.3\"><span class=\"toc-item-num\">5.1.3&nbsp;&nbsp;</span>Verilog</a></span></li></ul></li><li><span><a href=\"#Enhanced-HDL-ROM-writing-with-myHDL\" data-toc-modified-id=\"Enhanced-HDL-ROM-writing-with-myHDL-5.2\"><span class=\"toc-item-num\">5.2&nbsp;&nbsp;</span>Enhanced HDL ROM writing with myHDL</a></span><ul class=\"toc-item\"><li><span><a href=\"#testing\" data-toc-modified-id=\"testing-5.2.1\"><span class=\"toc-item-num\">5.2.1&nbsp;&nbsp;</span>testing</a></span></li><li><span><a href=\"#results\" data-toc-modified-id=\"results-5.2.2\"><span class=\"toc-item-num\">5.2.2&nbsp;&nbsp;</span>results</a></span></li><li><span><a href=\"#Verilog\" data-toc-modified-id=\"Verilog-5.2.3\"><span class=\"toc-item-num\">5.2.3&nbsp;&nbsp;</span>Verilog</a></span></li></ul></li><li><span><a href=\"#Synchronous-ROM\" data-toc-modified-id=\"Synchronous-ROM-5.3\"><span class=\"toc-item-num\">5.3&nbsp;&nbsp;</span>Synchronous ROM</a></span><ul class=\"toc-item\"><li><span><a href=\"#testing\" data-toc-modified-id=\"testing-5.3.1\"><span class=\"toc-item-num\">5.3.1&nbsp;&nbsp;</span>testing</a></span></li><li><span><a href=\"#results\" data-toc-modified-id=\"results-5.3.2\"><span class=\"toc-item-num\">5.3.2&nbsp;&nbsp;</span>results</a></span></li><li><span><a href=\"#Verilog\" data-toc-modified-id=\"Verilog-5.3.3\"><span class=\"toc-item-num\">5.3.3&nbsp;&nbsp;</span>Verilog</a></span></li></ul></li><li><span><a href=\"#Sequential-ROM\" data-toc-modified-id=\"Sequential-ROM-5.4\"><span class=\"toc-item-num\">5.4&nbsp;&nbsp;</span>Sequential ROM</a></span><ul class=\"toc-item\"><li><span><a href=\"#Testing\" data-toc-modified-id=\"Testing-5.4.1\"><span class=\"toc-item-num\">5.4.1&nbsp;&nbsp;</span>Testing</a></span></li><li><span><a href=\"#Verilog\" data-toc-modified-id=\"Verilog-5.4.2\"><span class=\"toc-item-num\">5.4.2&nbsp;&nbsp;</span>Verilog</a></span></li></ul></li></ul></li><li><span><a href=\"#Read-and-Write-Memory\" data-toc-modified-id=\"Read-and-Write-Memory-6\"><span class=\"toc-item-num\">6&nbsp;&nbsp;</span>Read and Write Memory</a></span><ul class=\"toc-item\"><li><span><a href=\"#testing\" data-toc-modified-id=\"testing-6.1\"><span class=\"toc-item-num\">6.1&nbsp;&nbsp;</span>testing</a></span></li><li><span><a href=\"#results\" data-toc-modified-id=\"results-6.2\"><span class=\"toc-item-num\">6.2&nbsp;&nbsp;</span>results</a></span></li><li><span><a href=\"#Verilog\" data-toc-modified-id=\"Verilog-6.3\"><span class=\"toc-item-num\">6.3&nbsp;&nbsp;</span>Verilog</a></span></li></ul></li></ul></div>"
   ]
  },
  {
   "cell_type": "markdown",
   "metadata": {},
   "source": [
    "# References \n",
    "@misc{conversion examples  myhdl 0.10 documentation_2018,\n",
    "url={http://docs.myhdl.org/en/stable/manual/conversion_examples.html},\n",
    "journal={Docs.myhdl.org},\n",
    "year={2018}\n",
    "}"
   ]
  },
  {
   "cell_type": "markdown",
   "metadata": {},
   "source": [
    "# Libraries and auxiliary functions"
   ]
  },
  {
   "cell_type": "code",
   "execution_count": 1,
   "metadata": {},
   "outputs": [
    {
     "data": {
      "application/json": {
       "Software versions": [
        {
         "module": "Python",
         "version": "3.6.4 64bit [GCC 7.2.0]"
        },
        {
         "module": "IPython",
         "version": "6.2.1"
        },
        {
         "module": "OS",
         "version": "Linux 4.13.0 39 generic x86_64 with debian stretch sid"
        },
        {
         "module": "myhdl",
         "version": "0.10"
        },
        {
         "module": "myhdlpeek",
         "version": "0.0.6"
        },
        {
         "module": "numpy",
         "version": "1.13.3"
        },
        {
         "module": "pandas",
         "version": "0.21.1"
        },
        {
         "module": "matplotlib",
         "version": "2.1.1"
        },
        {
         "module": "sympy",
         "version": "1.1.1"
        },
        {
         "module": "random",
         "version": "The 'random' distribution was not found and is required by the application"
        }
       ]
      },
      "text/html": [
       "<table><tr><th>Software</th><th>Version</th></tr><tr><td>Python</td><td>3.6.4 64bit [GCC 7.2.0]</td></tr><tr><td>IPython</td><td>6.2.1</td></tr><tr><td>OS</td><td>Linux 4.13.0 39 generic x86_64 with debian stretch sid</td></tr><tr><td>myhdl</td><td>0.10</td></tr><tr><td>myhdlpeek</td><td>0.0.6</td></tr><tr><td>numpy</td><td>1.13.3</td></tr><tr><td>pandas</td><td>0.21.1</td></tr><tr><td>matplotlib</td><td>2.1.1</td></tr><tr><td>sympy</td><td>1.1.1</td></tr><tr><td>random</td><td>The 'random' distribution was not found and is required by the application</td></tr><tr><td colspan='2'>Thu May 24 22:19:01 2018 MDT</td></tr></table>"
      ],
      "text/latex": [
       "\\begin{tabular}{|l|l|}\\hline\n",
       "{\\bf Software} & {\\bf Version} \\\\ \\hline\\hline\n",
       "Python & 3.6.4 64bit [GCC 7.2.0] \\\\ \\hline\n",
       "IPython & 6.2.1 \\\\ \\hline\n",
       "OS & Linux 4.13.0 39 generic x86\\_64 with debian stretch sid \\\\ \\hline\n",
       "myhdl & 0.10 \\\\ \\hline\n",
       "myhdlpeek & 0.0.6 \\\\ \\hline\n",
       "numpy & 1.13.3 \\\\ \\hline\n",
       "pandas & 0.21.1 \\\\ \\hline\n",
       "matplotlib & 2.1.1 \\\\ \\hline\n",
       "sympy & 1.1.1 \\\\ \\hline\n",
       "random & The 'random' distribution was not found and is required by the application \\\\ \\hline\n",
       "\\hline \\multicolumn{2}{|l|}{Thu May 24 22:19:01 2018 MDT} \\\\ \\hline\n",
       "\\end{tabular}\n"
      ],
      "text/plain": [
       "Software versions\n",
       "Python 3.6.4 64bit [GCC 7.2.0]\n",
       "IPython 6.2.1\n",
       "OS Linux 4.13.0 39 generic x86_64 with debian stretch sid\n",
       "myhdl 0.10\n",
       "myhdlpeek 0.0.6\n",
       "numpy 1.13.3\n",
       "pandas 0.21.1\n",
       "matplotlib 2.1.1\n",
       "sympy 1.1.1\n",
       "random The 'random' distribution was not found and is required by the application\n",
       "Thu May 24 22:19:01 2018 MDT"
      ]
     },
     "execution_count": 1,
     "metadata": {},
     "output_type": "execute_result"
    }
   ],
   "source": [
    "from myhdl import *\n",
    "from myhdlpeek import Peeker\n",
    "import numpy as np\n",
    "import pandas as pd\n",
    "import matplotlib.pyplot as plt\n",
    "%matplotlib inline\n",
    "\n",
    "from sympy import *\n",
    "init_printing()\n",
    "\n",
    "import random\n",
    "\n",
    "#https://github.com/jrjohansson/version_information/blob/master/example.ipynb\n",
    "%load_ext version_information\n",
    "%version_information myhdl, myhdlpeek, numpy, pandas, matplotlib, sympy, random"
   ]
  },
  {
   "cell_type": "code",
   "execution_count": 2,
   "metadata": {},
   "outputs": [],
   "source": [
    "#helper  functions to read in the .v and .vhd generated files into python\n",
    "def VerilogTextReader(loc, printresult=True):\n",
    "    with open(f'{loc}.v', 'r') as vText:\n",
    "        VerilogText=vText.read()\n",
    "    if printresult:\n",
    "        print(f'***Verilog modual from {loc}.v***\\n\\n', VerilogText)\n",
    "    return VerilogText\n",
    "\n",
    "def VHDLTextReader(loc, printresult=True):\n",
    "    with open(f'{loc}.vhd', 'r') as vText:\n",
    "        VerilogText=vText.read()\n",
    "    if printresult:\n",
    "        print(f'***VHDL modual from {loc}.vhd***\\n\\n', VerilogText)\n",
    "    return VerilogText"
   ]
  },
  {
   "cell_type": "markdown",
   "metadata": {},
   "source": [
    "# Read Only Memory (ROM)\n",
    "ROM is a memory structure that holds static information that can only be read from. In other words, these are hard-coded instruction memory. That *should* never change. Furthermore, this data is held in a sort of array; for example, we can think of a python tuple as a sort of read-only memory since the content of a tuple is static and we use array indexing to access a certain portions of the memory."
   ]
  },
  {
   "cell_type": "code",
   "execution_count": 3,
   "metadata": {},
   "outputs": [
    {
     "data": {
      "text/plain": [
       "('00000000',\n",
       " '00000001',\n",
       " '00000010',\n",
       " '00000011',\n",
       " '00000100',\n",
       " '00000101',\n",
       " '00000110',\n",
       " '00000111',\n",
       " '00001000',\n",
       " '00001001')"
      ]
     },
     "execution_count": 3,
     "metadata": {},
     "output_type": "execute_result"
    }
   ],
   "source": [
    "#use type casting on list genrator to store 0-9 in 8bit binary\n",
    "TupleROM=tuple([bin(i, 8) for i in range(10)])\n",
    "TupleROM"
   ]
  },
  {
   "cell_type": "code",
   "execution_count": 4,
   "metadata": {},
   "outputs": [
    {
     "data": {
      "text/plain": [
       "'accesss location 6: 00000110, read contents of location 6 to dec:6'"
      ]
     },
     "execution_count": 4,
     "metadata": {},
     "output_type": "execute_result"
    }
   ],
   "source": [
    "f'accesss location 6: {TupleROM[6]}, read contents of location 6 to dec:{int(TupleROM[6], 2)}'"
   ]
  },
  {
   "cell_type": "markdown",
   "metadata": {},
   "source": [
    "And if we try writing to the tuple we will get an error"
   ]
  },
  {
   "cell_type": "code",
   "execution_count": 5,
   "metadata": {},
   "outputs": [],
   "source": [
    "#TupleROM[6]=bin(16,2)"
   ]
  },
  {
   "cell_type": "markdown",
   "metadata": {},
   "source": [
    "# Random and Sequential Access Memory\n",
    "So to start off with the Random in RAM does not mean Random in a probabilistic sense. It refers to Random as in you can randomly access any part of the data array as opposed to the now specialty sequential only memory which are typically made with a counter or state machine to sequentially increment the  location of memory being accessed"
   ]
  },
  {
   "cell_type": "markdown",
   "metadata": {},
   "source": [
    "# HDL Memories\n",
    "in HDL ROM the data is stored a form of a D flip-flop that are structured in a sort of two-dimensional array where one axis is the address and the other is the content and we use a mux to control which address \"row\" we are trying to read. Therefore we have two signals: address and content. Where the address controls the mux."
   ]
  },
  {
   "cell_type": "markdown",
   "metadata": {},
   "source": [
    "## ROM Preloaded"
   ]
  },
  {
   "cell_type": "code",
   "execution_count": 6,
   "metadata": {},
   "outputs": [],
   "source": [
    "@block\n",
    "def ROMLoaded(addr, dout):\n",
    "    \"\"\"\n",
    "    A ROM laoded with data already incoded in the structer\n",
    "    insted of using myHDL inchanced parmter loading\n",
    "    \n",
    "    I/O:\n",
    "        addr(Signal>4): addres; range is from 0-3\n",
    "        dout(Signal>4): data at each address\n",
    "    \"\"\"\n",
    "    @always_comb\n",
    "    def readAction():\n",
    "        if addr==0:\n",
    "            dout.next=3\n",
    "        elif addr==1:\n",
    "            dout.next=2\n",
    "        elif addr==2:\n",
    "            dout.next=1\n",
    "        \n",
    "        elif addr==3:\n",
    "            dout.next=0\n",
    "    \n",
    "    return instances()\n",
    "    "
   ]
  },
  {
   "cell_type": "markdown",
   "metadata": {},
   "source": [
    "### testing"
   ]
  },
  {
   "cell_type": "code",
   "execution_count": 7,
   "metadata": {},
   "outputs": [],
   "source": [
    "Peeker.clear()\n",
    "addr=Signal(intbv(0)[4:]); Peeker(addr, 'addr')\n",
    "dout=Signal(intbv(0)[4:]); Peeker(dout, 'dout')\n",
    "\n",
    "DUT=ROMLoaded(addr, dout)\n",
    "\n",
    "def ROMLoaded_TB():\n",
    "    @instance\n",
    "    def stimules():\n",
    "        for i in range(3+1):\n",
    "            addr.next=i\n",
    "            yield delay(1)\n",
    "        raise StopSimulation()\n",
    "        \n",
    "    return instances()\n",
    "\n",
    "sim = Simulation(DUT, ROMLoaded_TB(), *Peeker.instances()).run()"
   ]
  },
  {
   "cell_type": "markdown",
   "metadata": {},
   "source": [
    "### results"
   ]
  },
  {
   "cell_type": "code",
   "execution_count": 8,
   "metadata": {},
   "outputs": [
    {
     "data": {
      "text/html": [
       "<div><script type=\"WaveDrom\">{\"signal\": [{\"name\": \"addr\", \"wave\": \"====\", \"data\": [\"0\", \"1\", \"2\", \"3\"]}, {\"name\": \"dout\", \"wave\": \"====\", \"data\": [\"3\", \"2\", \"1\", \"0\"]}]}</script></div>"
      ]
     },
     "metadata": {},
     "output_type": "display_data"
    },
    {
     "data": {
      "application/javascript": [
       "$.getScript(\"http://wavedrom.com/wavedrom.min.js\", function () {\n",
       "$.getScript(\"http://wavedrom.com/skins/default.js\", function () {\n",
       "WaveDrom.ProcessAll();});\n",
       "});\n"
      ]
     },
     "metadata": {},
     "output_type": "display_data"
    }
   ],
   "source": [
    "Peeker.to_wavedrom()"
   ]
  },
  {
   "cell_type": "code",
   "execution_count": 9,
   "metadata": {},
   "outputs": [
    {
     "data": {
      "text/html": [
       "<div>\n",
       "<style scoped>\n",
       "    .dataframe tbody tr th:only-of-type {\n",
       "        vertical-align: middle;\n",
       "    }\n",
       "\n",
       "    .dataframe tbody tr th {\n",
       "        vertical-align: top;\n",
       "    }\n",
       "\n",
       "    .dataframe thead th {\n",
       "        text-align: right;\n",
       "    }\n",
       "</style>\n",
       "<table border=\"1\" class=\"dataframe\">\n",
       "  <thead>\n",
       "    <tr style=\"text-align: right;\">\n",
       "      <th></th>\n",
       "      <th>addr</th>\n",
       "      <th>dout</th>\n",
       "    </tr>\n",
       "  </thead>\n",
       "  <tbody>\n",
       "    <tr>\n",
       "      <th>0</th>\n",
       "      <td>0</td>\n",
       "      <td>3</td>\n",
       "    </tr>\n",
       "    <tr>\n",
       "      <th>1</th>\n",
       "      <td>1</td>\n",
       "      <td>2</td>\n",
       "    </tr>\n",
       "    <tr>\n",
       "      <th>2</th>\n",
       "      <td>2</td>\n",
       "      <td>1</td>\n",
       "    </tr>\n",
       "    <tr>\n",
       "      <th>3</th>\n",
       "      <td>3</td>\n",
       "      <td>0</td>\n",
       "    </tr>\n",
       "  </tbody>\n",
       "</table>\n",
       "</div>"
      ],
      "text/plain": [
       "   addr  dout\n",
       "0     0     3\n",
       "1     1     2\n",
       "2     2     1\n",
       "3     3     0"
      ]
     },
     "execution_count": 9,
     "metadata": {},
     "output_type": "execute_result"
    }
   ],
   "source": [
    "Peeker.to_dataframe()"
   ]
  },
  {
   "cell_type": "markdown",
   "metadata": {},
   "source": [
    "### Verilog"
   ]
  },
  {
   "cell_type": "code",
   "execution_count": 10,
   "metadata": {},
   "outputs": [
    {
     "name": "stdout",
     "output_type": "stream",
     "text": [
      "***Verilog modual from ROMLoaded.v***\n",
      "\n",
      " // File: ROMLoaded.v\n",
      "// Generated by MyHDL 0.10\n",
      "// Date: Thu May 24 22:19:02 2018\n",
      "\n",
      "\n",
      "`timescale 1ns/10ps\n",
      "\n",
      "module ROMLoaded (\n",
      "    addr,\n",
      "    dout\n",
      ");\n",
      "// A ROM laoded with data already incoded in the structer\n",
      "// insted of using myHDL inchanced parmter loading\n",
      "// \n",
      "// I/O:\n",
      "//     addr(Signal>4): addres; range is from 0-3\n",
      "//     dout(Signal>4): data at each address\n",
      "\n",
      "input [3:0] addr;\n",
      "output [3:0] dout;\n",
      "reg [3:0] dout;\n",
      "\n",
      "\n",
      "\n",
      "\n",
      "always @(addr) begin: ROMLOADED_READACTION\n",
      "    case (addr)\n",
      "        'h0: begin\n",
      "            dout = 3;\n",
      "        end\n",
      "        'h1: begin\n",
      "            dout = 2;\n",
      "        end\n",
      "        'h2: begin\n",
      "            dout = 1;\n",
      "        end\n",
      "        'h3: begin\n",
      "            dout = 0;\n",
      "        end\n",
      "    endcase\n",
      "end\n",
      "\n",
      "endmodule\n",
      "\n"
     ]
    }
   ],
   "source": [
    "DUT.convert()\n",
    "VerilogTextReader('ROMLoaded');"
   ]
  },
  {
   "cell_type": "markdown",
   "metadata": {},
   "source": [
    "## Enhanced HDL ROM writing with myHDL\n",
    "With myHDL we can dynamically load the contents that will be hardcoded in the conversion to Verilog/VHDL which is an amazing benefit for development as is seen here"
   ]
  },
  {
   "cell_type": "code",
   "execution_count": 11,
   "metadata": {},
   "outputs": [],
   "source": [
    "@block\n",
    "def ROMParmLoad(addr, dout, CONTENT):\n",
    "    \"\"\"\n",
    "    A ROM laoded with data from CONTENT input tuple\n",
    "    \n",
    "    I/O:\n",
    "        addr(Signal>4): addres; range is from 0-3\n",
    "        dout(Signal>4): data at each address\n",
    "    Parm:\n",
    "        CONTENT: tuple size 4 with contende must be no larger then 4bit\n",
    "    \"\"\"\n",
    "    @always_comb\n",
    "    def readAction():\n",
    "        dout.next=CONTENT[int(addr)]\n",
    "    \n",
    "    return instances()\n",
    "    "
   ]
  },
  {
   "cell_type": "markdown",
   "metadata": {},
   "source": [
    "### testing"
   ]
  },
  {
   "cell_type": "code",
   "execution_count": 12,
   "metadata": {},
   "outputs": [],
   "source": [
    "Peeker.clear()\n",
    "addr=Signal(intbv(0)[4:]); Peeker(addr, 'addr')\n",
    "dout=Signal(intbv(0)[4:]); Peeker(dout, 'dout')\n",
    "CONTENT=tuple([i for i in range(4)][::-1])\n",
    "\n",
    "DUT=ROMParmLoad(addr, dout, CONTENT)\n",
    "\n",
    "def ROMParmLoad_TB():\n",
    "    @instance\n",
    "    def stimules():\n",
    "        for i in range(3+1):\n",
    "            addr.next=i\n",
    "            yield delay(1)\n",
    "        raise StopSimulation()\n",
    "\n",
    "        \n",
    "    return instances()\n",
    "\n",
    "sim = Simulation(DUT, ROMParmLoad_TB(), *Peeker.instances()).run()"
   ]
  },
  {
   "cell_type": "markdown",
   "metadata": {},
   "source": [
    "### results"
   ]
  },
  {
   "cell_type": "code",
   "execution_count": 13,
   "metadata": {},
   "outputs": [
    {
     "data": {
      "text/html": [
       "<div><script type=\"WaveDrom\">{\"signal\": [{\"name\": \"addr\", \"wave\": \"====\", \"data\": [\"0\", \"1\", \"2\", \"3\"]}, {\"name\": \"dout\", \"wave\": \"====\", \"data\": [\"3\", \"2\", \"1\", \"0\"]}]}</script></div>"
      ]
     },
     "metadata": {},
     "output_type": "display_data"
    },
    {
     "data": {
      "application/javascript": [
       "$.getScript(\"http://wavedrom.com/wavedrom.min.js\", function () {\n",
       "$.getScript(\"http://wavedrom.com/skins/default.js\", function () {\n",
       "WaveDrom.ProcessAll();});\n",
       "});\n"
      ]
     },
     "metadata": {},
     "output_type": "display_data"
    }
   ],
   "source": [
    "Peeker.to_wavedrom()"
   ]
  },
  {
   "cell_type": "code",
   "execution_count": 14,
   "metadata": {},
   "outputs": [
    {
     "data": {
      "text/html": [
       "<div>\n",
       "<style scoped>\n",
       "    .dataframe tbody tr th:only-of-type {\n",
       "        vertical-align: middle;\n",
       "    }\n",
       "\n",
       "    .dataframe tbody tr th {\n",
       "        vertical-align: top;\n",
       "    }\n",
       "\n",
       "    .dataframe thead th {\n",
       "        text-align: right;\n",
       "    }\n",
       "</style>\n",
       "<table border=\"1\" class=\"dataframe\">\n",
       "  <thead>\n",
       "    <tr style=\"text-align: right;\">\n",
       "      <th></th>\n",
       "      <th>addr</th>\n",
       "      <th>dout</th>\n",
       "    </tr>\n",
       "  </thead>\n",
       "  <tbody>\n",
       "    <tr>\n",
       "      <th>0</th>\n",
       "      <td>0</td>\n",
       "      <td>3</td>\n",
       "    </tr>\n",
       "    <tr>\n",
       "      <th>1</th>\n",
       "      <td>1</td>\n",
       "      <td>2</td>\n",
       "    </tr>\n",
       "    <tr>\n",
       "      <th>2</th>\n",
       "      <td>2</td>\n",
       "      <td>1</td>\n",
       "    </tr>\n",
       "    <tr>\n",
       "      <th>3</th>\n",
       "      <td>3</td>\n",
       "      <td>0</td>\n",
       "    </tr>\n",
       "  </tbody>\n",
       "</table>\n",
       "</div>"
      ],
      "text/plain": [
       "   addr  dout\n",
       "0     0     3\n",
       "1     1     2\n",
       "2     2     1\n",
       "3     3     0"
      ]
     },
     "execution_count": 14,
     "metadata": {},
     "output_type": "execute_result"
    }
   ],
   "source": [
    "Peeker.to_dataframe()"
   ]
  },
  {
   "cell_type": "markdown",
   "metadata": {},
   "source": [
    "### Verilog"
   ]
  },
  {
   "cell_type": "code",
   "execution_count": 15,
   "metadata": {},
   "outputs": [
    {
     "name": "stdout",
     "output_type": "stream",
     "text": [
      "***Verilog modual from ROMParmLoad.v***\n",
      "\n",
      " // File: ROMParmLoad.v\n",
      "// Generated by MyHDL 0.10\n",
      "// Date: Thu May 24 22:19:03 2018\n",
      "\n",
      "\n",
      "`timescale 1ns/10ps\n",
      "\n",
      "module ROMParmLoad (\n",
      "    addr,\n",
      "    dout\n",
      ");\n",
      "// A ROM laoded with data from CONTENT input tuple\n",
      "// \n",
      "// I/O:\n",
      "//     addr(Signal>4): addres; range is from 0-3\n",
      "//     dout(Signal>4): data at each address\n",
      "// Parm:\n",
      "//     CONTENT: tuple size 4 with contende must be no larger then 4bit\n",
      "\n",
      "input [3:0] addr;\n",
      "output [3:0] dout;\n",
      "reg [3:0] dout;\n",
      "\n",
      "\n",
      "\n",
      "\n",
      "always @(addr) begin: ROMPARMLOAD_READACTION\n",
      "    case (addr)\n",
      "        0: dout = 3;\n",
      "        1: dout = 2;\n",
      "        2: dout = 1;\n",
      "        default: dout = 0;\n",
      "    endcase\n",
      "end\n",
      "\n",
      "endmodule\n",
      "\n"
     ]
    }
   ],
   "source": [
    "DUT.convert()\n",
    "VerilogTextReader('ROMParmLoad');"
   ]
  },
  {
   "cell_type": "markdown",
   "metadata": {},
   "source": [
    "## Synchronous ROM\n",
    "we can also create ROM that instead of being asynchronous is synchronous "
   ]
  },
  {
   "cell_type": "code",
   "execution_count": 16,
   "metadata": {},
   "outputs": [],
   "source": [
    "@block\n",
    "def ROMParmLoadSync(addr, dout, clk, rst, CONTENT):\n",
    "    \"\"\"\n",
    "    A ROM laoded with data from CONTENT input tuple that is synchronous \n",
    "    \n",
    "    I/O:\n",
    "        addr(Signal>4): addres; range is from 0-3\n",
    "        dout(Signal>4): data at each address\n",
    "        clk (bool): clock feed\n",
    "        rst (bool): reset\n",
    "    Parm:\n",
    "        CONTENT: tuple size 4 with contende must be no larger then 4bit\n",
    "    \"\"\"\n",
    "    @always(clk.posedge)\n",
    "    def readAction():\n",
    "        if rst:\n",
    "            dout.next=0\n",
    "        else:\n",
    "            dout.next=CONTENT[int(addr)]\n",
    "    \n",
    "    return instances()\n",
    "    "
   ]
  },
  {
   "cell_type": "markdown",
   "metadata": {},
   "source": [
    "### testing"
   ]
  },
  {
   "cell_type": "code",
   "execution_count": 17,
   "metadata": {},
   "outputs": [],
   "source": [
    "Peeker.clear()\n",
    "addr=Signal(intbv(0)[4:]); Peeker(addr, 'addr')\n",
    "dout=Signal(intbv(0)[4:]); Peeker(dout, 'dout')\n",
    "clk=Signal(bool(0)); Peeker(clk, 'clk')\n",
    "rst=Signal(bool(0)); Peeker(rst, 'rst')\n",
    "CONTENT=tuple([i for i in range(4)][::-1])\n",
    "\n",
    "DUT=ROMParmLoadSync(addr, dout, clk, rst, CONTENT)\n",
    "\n",
    "def ROMParmLoadSync_TB():\n",
    "    \n",
    "    @always(delay(1))\n",
    "    def ClkGen():\n",
    "        clk.next=not clk\n",
    "    \n",
    "    @instance\n",
    "    def stimules():\n",
    "        for i in range(3+1):\n",
    "            yield clk.posedge\n",
    "            addr.next=i\n",
    "        \n",
    "        for i in range(4):\n",
    "            yield clk.posedge\n",
    "            rst.next=1                        \n",
    "            addr.next=i\n",
    "\n",
    "        raise StopSimulation()\n",
    "\n",
    "        \n",
    "    return instances()\n",
    "\n",
    "sim = Simulation(DUT, ROMParmLoadSync_TB(), *Peeker.instances()).run()"
   ]
  },
  {
   "cell_type": "markdown",
   "metadata": {},
   "source": [
    "### results"
   ]
  },
  {
   "cell_type": "code",
   "execution_count": 18,
   "metadata": {},
   "outputs": [
    {
     "data": {
      "text/html": [
       "<div><script type=\"WaveDrom\">{\"signal\": [{\"name\": \"addr\", \"wave\": \"=..=.=.=.=.=.=.\", \"data\": [\"0\", \"1\", \"2\", \"3\", \"0\", \"1\", \"2\"]}, {\"name\": \"dout\", \"wave\": \"==...=.=.=.....\", \"data\": [\"0\", \"3\", \"2\", \"1\", \"0\"]}, {\"name\": \"clk[0]\", \"wave\": \"010101010101010\"}, {\"name\": \"rst[0]\", \"wave\": \"0........1.....\"}]}</script></div>"
      ]
     },
     "metadata": {},
     "output_type": "display_data"
    },
    {
     "data": {
      "application/javascript": [
       "$.getScript(\"http://wavedrom.com/wavedrom.min.js\", function () {\n",
       "$.getScript(\"http://wavedrom.com/skins/default.js\", function () {\n",
       "WaveDrom.ProcessAll();});\n",
       "});\n"
      ]
     },
     "metadata": {},
     "output_type": "display_data"
    }
   ],
   "source": [
    "Peeker.to_wavedrom()"
   ]
  },
  {
   "cell_type": "code",
   "execution_count": 19,
   "metadata": {},
   "outputs": [
    {
     "data": {
      "text/html": [
       "<div>\n",
       "<style scoped>\n",
       "    .dataframe tbody tr th:only-of-type {\n",
       "        vertical-align: middle;\n",
       "    }\n",
       "\n",
       "    .dataframe tbody tr th {\n",
       "        vertical-align: top;\n",
       "    }\n",
       "\n",
       "    .dataframe thead th {\n",
       "        text-align: right;\n",
       "    }\n",
       "</style>\n",
       "<table border=\"1\" class=\"dataframe\">\n",
       "  <thead>\n",
       "    <tr style=\"text-align: right;\">\n",
       "      <th></th>\n",
       "      <th>addr</th>\n",
       "      <th>dout</th>\n",
       "      <th>rst</th>\n",
       "    </tr>\n",
       "  </thead>\n",
       "  <tbody>\n",
       "    <tr>\n",
       "      <th>0</th>\n",
       "      <td>0</td>\n",
       "      <td>3</td>\n",
       "      <td>0</td>\n",
       "    </tr>\n",
       "    <tr>\n",
       "      <th>1</th>\n",
       "      <td>1</td>\n",
       "      <td>3</td>\n",
       "      <td>0</td>\n",
       "    </tr>\n",
       "    <tr>\n",
       "      <th>2</th>\n",
       "      <td>2</td>\n",
       "      <td>2</td>\n",
       "      <td>0</td>\n",
       "    </tr>\n",
       "    <tr>\n",
       "      <th>3</th>\n",
       "      <td>3</td>\n",
       "      <td>1</td>\n",
       "      <td>0</td>\n",
       "    </tr>\n",
       "    <tr>\n",
       "      <th>4</th>\n",
       "      <td>0</td>\n",
       "      <td>0</td>\n",
       "      <td>1</td>\n",
       "    </tr>\n",
       "    <tr>\n",
       "      <th>5</th>\n",
       "      <td>1</td>\n",
       "      <td>0</td>\n",
       "      <td>1</td>\n",
       "    </tr>\n",
       "    <tr>\n",
       "      <th>6</th>\n",
       "      <td>2</td>\n",
       "      <td>0</td>\n",
       "      <td>1</td>\n",
       "    </tr>\n",
       "  </tbody>\n",
       "</table>\n",
       "</div>"
      ],
      "text/plain": [
       "   addr  dout  rst\n",
       "0     0     3    0\n",
       "1     1     3    0\n",
       "2     2     2    0\n",
       "3     3     1    0\n",
       "4     0     0    1\n",
       "5     1     0    1\n",
       "6     2     0    1"
      ]
     },
     "execution_count": 19,
     "metadata": {},
     "output_type": "execute_result"
    }
   ],
   "source": [
    "ROMData=Peeker.to_dataframe()\n",
    "#keep only clock high\n",
    "ROMData=ROMData[ROMData['clk']==1]\n",
    "ROMData.drop(columns='clk', inplace=True)\n",
    "ROMData.reset_index(drop=True, inplace=True)\n",
    "ROMData"
   ]
  },
  {
   "cell_type": "markdown",
   "metadata": {},
   "source": [
    "### Verilog"
   ]
  },
  {
   "cell_type": "code",
   "execution_count": 20,
   "metadata": {},
   "outputs": [
    {
     "name": "stdout",
     "output_type": "stream",
     "text": [
      "***Verilog modual from ROMParmLoadSync.v***\n",
      "\n",
      " // File: ROMParmLoadSync.v\n",
      "// Generated by MyHDL 0.10\n",
      "// Date: Thu May 24 22:19:04 2018\n",
      "\n",
      "\n",
      "`timescale 1ns/10ps\n",
      "\n",
      "module ROMParmLoadSync (\n",
      "    addr,\n",
      "    dout,\n",
      "    clk,\n",
      "    rst\n",
      ");\n",
      "// A ROM laoded with data from CONTENT input tuple that is synchronous \n",
      "// \n",
      "// I/O:\n",
      "//     addr(Signal>4): addres; range is from 0-3\n",
      "//     dout(Signal>4): data at each address\n",
      "//     clk (bool): clock feed\n",
      "//     rst (bool): reset\n",
      "// Parm:\n",
      "//     CONTENT: tuple size 4 with contende must be no larger then 4bit\n",
      "\n",
      "input [3:0] addr;\n",
      "output [3:0] dout;\n",
      "reg [3:0] dout;\n",
      "input clk;\n",
      "input rst;\n",
      "\n",
      "\n",
      "\n",
      "\n",
      "always @(posedge clk) begin: ROMPARMLOADSYNC_READACTION\n",
      "    if (rst) begin\n",
      "        dout <= 0;\n",
      "    end\n",
      "    else begin\n",
      "        case (addr)\n",
      "            0: dout <= 3;\n",
      "            1: dout <= 2;\n",
      "            2: dout <= 1;\n",
      "            default: dout <= 0;\n",
      "        endcase\n",
      "    end\n",
      "end\n",
      "\n",
      "endmodule\n",
      "\n"
     ]
    }
   ],
   "source": [
    "DUT.convert()\n",
    "VerilogTextReader('ROMParmLoadSync');"
   ]
  },
  {
   "cell_type": "markdown",
   "metadata": {},
   "source": [
    "## Sequential ROM"
   ]
  },
  {
   "cell_type": "code",
   "execution_count": 21,
   "metadata": {},
   "outputs": [],
   "source": [
    "@block\n",
    "def SeqROMEx(clk, rst, dout):\n",
    "    \"\"\"\n",
    "    Seq Read Only Memory Ex\n",
    "    I/O:\n",
    "        clk (bool): clock\n",
    "        rst (bool): rst on counter\n",
    "        dout (signal >4): data out\n",
    "    \"\"\"\n",
    "    Count=Signal(intbv(0)[3:])\n",
    "    \n",
    "    @always(clk.posedge)\n",
    "    def counter():\n",
    "        if rst:\n",
    "            Count.next=0\n",
    "        elif Count==3:\n",
    "            Count.next=0\n",
    "            \n",
    "        else:\n",
    "            Count.next=Count+1\n",
    "    \n",
    "    @always(clk.posedge)\n",
    "    def Memory():\n",
    "        if Count==0:\n",
    "            dout.next=3\n",
    "        elif Count==1:\n",
    "            dout.next=2\n",
    "        elif Count==2:\n",
    "            dout.next=1\n",
    "        elif Count==3:\n",
    "            dout.next=0\n",
    "    \n",
    "    return instances()"
   ]
  },
  {
   "cell_type": "markdown",
   "metadata": {},
   "source": [
    "### Testing"
   ]
  },
  {
   "cell_type": "code",
   "execution_count": 22,
   "metadata": {},
   "outputs": [],
   "source": [
    "Peeker.clear()\n",
    "dout=Signal(intbv(0)[4:]); Peeker(dout, 'dout')\n",
    "clk=Signal(bool(0)); Peeker(clk, 'clk')\n",
    "rst=Signal(bool(0)); Peeker(rst, 'rst')\n",
    "\n",
    "DUT=SeqROMEx(clk, rst, dout)\n",
    "\n",
    "def SeqROMEx_TB():\n",
    "    \n",
    "    @always(delay(1))\n",
    "    def ClkGen():\n",
    "        clk.next=not clk\n",
    "    \n",
    "    @instance\n",
    "    def stimules():\n",
    "        for i in range(5+1):\n",
    "            yield clk.posedge\n",
    "        \n",
    "        for i in range(4):\n",
    "            yield clk.posedge\n",
    "            rst.next=1                        \n",
    "            addr.next=i\n",
    "\n",
    "        raise StopSimulation()\n",
    "\n",
    "        \n",
    "    return instances()\n",
    "\n",
    "sim = Simulation(DUT, SeqROMEx_TB(), *Peeker.instances()).run()"
   ]
  },
  {
   "cell_type": "code",
   "execution_count": 23,
   "metadata": {},
   "outputs": [],
   "source": [
    "### Results"
   ]
  },
  {
   "cell_type": "code",
   "execution_count": 24,
   "metadata": {},
   "outputs": [
    {
     "data": {
      "text/html": [
       "<div><script type=\"WaveDrom\">{\"signal\": [{\"name\": \"clk\", \"wave\": \"0101010101010101010\"}, {\"name\": \"dout\", \"wave\": \"==.=.=.=.=.=.=.=.=.\", \"data\": [\"0\", \"3\", \"2\", \"1\", \"0\", \"3\", \"2\", \"1\", \"0\", \"3\"]}, {\"name\": \"rst\", \"wave\": \"0............1.....\"}]}</script></div>"
      ]
     },
     "metadata": {},
     "output_type": "display_data"
    },
    {
     "data": {
      "application/javascript": [
       "$.getScript(\"http://wavedrom.com/wavedrom.min.js\", function () {\n",
       "$.getScript(\"http://wavedrom.com/skins/default.js\", function () {\n",
       "WaveDrom.ProcessAll();});\n",
       "});\n"
      ]
     },
     "metadata": {},
     "output_type": "display_data"
    }
   ],
   "source": [
    "Peeker.to_wavedrom()"
   ]
  },
  {
   "cell_type": "code",
   "execution_count": 25,
   "metadata": {},
   "outputs": [
    {
     "data": {
      "text/html": [
       "<div>\n",
       "<style scoped>\n",
       "    .dataframe tbody tr th:only-of-type {\n",
       "        vertical-align: middle;\n",
       "    }\n",
       "\n",
       "    .dataframe tbody tr th {\n",
       "        vertical-align: top;\n",
       "    }\n",
       "\n",
       "    .dataframe thead th {\n",
       "        text-align: right;\n",
       "    }\n",
       "</style>\n",
       "<table border=\"1\" class=\"dataframe\">\n",
       "  <thead>\n",
       "    <tr style=\"text-align: right;\">\n",
       "      <th></th>\n",
       "      <th>dout</th>\n",
       "      <th>rst</th>\n",
       "    </tr>\n",
       "  </thead>\n",
       "  <tbody>\n",
       "    <tr>\n",
       "      <th>0</th>\n",
       "      <td>3</td>\n",
       "      <td>0</td>\n",
       "    </tr>\n",
       "    <tr>\n",
       "      <th>1</th>\n",
       "      <td>2</td>\n",
       "      <td>0</td>\n",
       "    </tr>\n",
       "    <tr>\n",
       "      <th>2</th>\n",
       "      <td>1</td>\n",
       "      <td>0</td>\n",
       "    </tr>\n",
       "    <tr>\n",
       "      <th>3</th>\n",
       "      <td>0</td>\n",
       "      <td>0</td>\n",
       "    </tr>\n",
       "    <tr>\n",
       "      <th>4</th>\n",
       "      <td>3</td>\n",
       "      <td>0</td>\n",
       "    </tr>\n",
       "    <tr>\n",
       "      <th>5</th>\n",
       "      <td>2</td>\n",
       "      <td>0</td>\n",
       "    </tr>\n",
       "    <tr>\n",
       "      <th>6</th>\n",
       "      <td>1</td>\n",
       "      <td>1</td>\n",
       "    </tr>\n",
       "    <tr>\n",
       "      <th>7</th>\n",
       "      <td>0</td>\n",
       "      <td>1</td>\n",
       "    </tr>\n",
       "    <tr>\n",
       "      <th>8</th>\n",
       "      <td>3</td>\n",
       "      <td>1</td>\n",
       "    </tr>\n",
       "  </tbody>\n",
       "</table>\n",
       "</div>"
      ],
      "text/plain": [
       "   dout  rst\n",
       "0     3    0\n",
       "1     2    0\n",
       "2     1    0\n",
       "3     0    0\n",
       "4     3    0\n",
       "5     2    0\n",
       "6     1    1\n",
       "7     0    1\n",
       "8     3    1"
      ]
     },
     "execution_count": 25,
     "metadata": {},
     "output_type": "execute_result"
    }
   ],
   "source": [
    "SROMData=Peeker.to_dataframe()\n",
    "#keep only clock high\n",
    "SROMData=SROMData[SROMData['clk']==1]\n",
    "SROMData.drop(columns='clk', inplace=True)\n",
    "SROMData.reset_index(drop=True, inplace=True)\n",
    "SROMData"
   ]
  },
  {
   "cell_type": "markdown",
   "metadata": {},
   "source": [
    "### Verilog"
   ]
  },
  {
   "cell_type": "code",
   "execution_count": 26,
   "metadata": {},
   "outputs": [
    {
     "name": "stdout",
     "output_type": "stream",
     "text": [
      "***Verilog modual from SeqROMEx.v***\n",
      "\n",
      " // File: SeqROMEx.v\n",
      "// Generated by MyHDL 0.10\n",
      "// Date: Thu May 24 22:19:05 2018\n",
      "\n",
      "\n",
      "`timescale 1ns/10ps\n",
      "\n",
      "module SeqROMEx (\n",
      "    clk,\n",
      "    rst,\n",
      "    dout\n",
      ");\n",
      "// Seq Read Only Memory Ex\n",
      "// I/O:\n",
      "//     clk (bool): clock\n",
      "//     rst (bool): rst on counter\n",
      "//     dout (signal >4): data out\n",
      "\n",
      "input clk;\n",
      "input rst;\n",
      "output [3:0] dout;\n",
      "reg [3:0] dout;\n",
      "\n",
      "reg [2:0] Count;\n",
      "\n",
      "\n",
      "\n",
      "always @(posedge clk) begin: SEQROMEX_COUNTER\n",
      "    if (rst) begin\n",
      "        Count <= 0;\n",
      "    end\n",
      "    else if ((Count == 3)) begin\n",
      "        Count <= 0;\n",
      "    end\n",
      "    else begin\n",
      "        Count <= (Count + 1);\n",
      "    end\n",
      "end\n",
      "\n",
      "\n",
      "always @(posedge clk) begin: SEQROMEX_MEMORY\n",
      "    case (Count)\n",
      "        'h0: begin\n",
      "            dout <= 3;\n",
      "        end\n",
      "        'h1: begin\n",
      "            dout <= 2;\n",
      "        end\n",
      "        'h2: begin\n",
      "            dout <= 1;\n",
      "        end\n",
      "        'h3: begin\n",
      "            dout <= 0;\n",
      "        end\n",
      "    endcase\n",
      "end\n",
      "\n",
      "endmodule\n",
      "\n"
     ]
    }
   ],
   "source": [
    "DUT.convert()\n",
    "VerilogTextReader('SeqROMEx');"
   ]
  },
  {
   "cell_type": "markdown",
   "metadata": {},
   "source": [
    "# Read and Write Memory\n",
    "Read and Write memory is the type of memory most students know of Such as flash memory and hard drives and ram cards. Though don't be deceived that these items are totally read and write. Often there are sections of ROM that encode the operating instructions that you never want the user to change. \n",
    "\n",
    "To implement read and write we have to have to not only add a *data input* line the accompanies the *address* location the data is going to be written too but also a *write enable* line. The write enable lines is typically a boolean signal that the toggled high enables the memory at the given address to be rewritten with the word on the data input line. Whereas when the memory is being used in its ROM state the write enable line is kept low "
   ]
  },
  {
   "cell_type": "code",
   "execution_count": 27,
   "metadata": {},
   "outputs": [],
   "source": [
    "@block\n",
    "def RAMConcur(addr, din, writeE, dout, clk):\n",
    "    \"\"\"\n",
    "    Random access read/write memeory\n",
    "    I/O:\n",
    "        addr(signal>4): the memory cell arrdress\n",
    "        din (signal>4): data to write into memeory\n",
    "        writeE (bool): write enable contorl; false is read only\n",
    "        dout (signal>4): the data out\n",
    "        clk (bool): clock\n",
    "        \n",
    "    Note:\n",
    "        this is only a 4 byte memory\n",
    "    \"\"\"\n",
    "    #create the memeory list (1D array)\n",
    "    memory=[Signal(intbv(0)[4:]) for i in range(4)]\n",
    "    \n",
    "    @always(clk.posedge)\n",
    "    def writeAction():\n",
    "        if writeE:\n",
    "            memory[addr].next=din\n",
    "    \n",
    "    @always_comb\n",
    "    def readAction():\n",
    "        dout.next=memory[addr]\n",
    "    \n",
    "    return instances()\n",
    "    "
   ]
  },
  {
   "cell_type": "markdown",
   "metadata": {},
   "source": [
    "## testing"
   ]
  },
  {
   "cell_type": "code",
   "execution_count": 28,
   "metadata": {},
   "outputs": [],
   "source": [
    "Peeker.clear()\n",
    "addr=Signal(intbv(0)[4:]); Peeker(addr, 'addr')\n",
    "din=Signal(intbv(0)[4:]); Peeker(din, 'din')\n",
    "writeE=Signal(bool(0)); Peeker(writeE, 'writeE')\n",
    "dout=Signal(intbv(0)[4:]); Peeker(dout, 'dout')\n",
    "clk=Signal(bool(0)); Peeker(clk, 'clk')\n",
    "CONTENT=tuple([i for i in range(4)][::-1])\n",
    "\n",
    "DUT=RAMConcur(addr, din, writeE, dout, clk)\n",
    "\n",
    "def RAMConcur_TB():\n",
    "    \n",
    "    @always(delay(1))\n",
    "    def ClkGen():\n",
    "        clk.next=not clk\n",
    "    \n",
    "    @instance\n",
    "    def stimules():\n",
    "        # do nothing\n",
    "        for i in range(1):\n",
    "            yield clk.posedge\n",
    "        \n",
    "        #write memory\n",
    "        for i in range(4):\n",
    "            yield clk.posedge\n",
    "            writeE.next=True\n",
    "            addr.next=i\n",
    "            din.next=CONTENT[i]\n",
    "        \n",
    "        #do nothing\n",
    "        for i in range(1):\n",
    "            yield clk.posedge\n",
    "            writeE.next=False\n",
    "            \n",
    "        #read memory\n",
    "        for i in range(4):\n",
    "            yield clk.posedge\n",
    "            addr.next=i\n",
    "\n",
    "        # rewrite memory\n",
    "        for i in range(4):\n",
    "            yield clk.posedge\n",
    "            writeE.next=True\n",
    "            addr.next=i\n",
    "            din.next=CONTENT[-i]\n",
    "        \n",
    "        #do nothing\n",
    "        for i in range(1):\n",
    "            yield clk.posedge\n",
    "            writeE.next=False\n",
    "        \n",
    "        #read memory\n",
    "        for i in range(4):\n",
    "            yield clk.posedge\n",
    "            addr.next=i\n",
    "        \n",
    "        raise StopSimulation()\n",
    "        \n",
    "        \n",
    "\n",
    "        \n",
    "    return instances()\n",
    "\n",
    "sim = Simulation(DUT, RAMConcur_TB(), *Peeker.instances()).run()"
   ]
  },
  {
   "cell_type": "markdown",
   "metadata": {},
   "source": [
    "## results"
   ]
  },
  {
   "cell_type": "code",
   "execution_count": 29,
   "metadata": {},
   "outputs": [
    {
     "data": {
      "text/html": [
       "<div><script type=\"WaveDrom\">{\"signal\": [{\"name\": \"addr\", \"wave\": \"=....=.=.=...=.=.=.=.=.=.=.=...=.=.=.\", \"data\": [\"0\", \"1\", \"2\", \"3\", \"0\", \"1\", \"2\", \"3\", \"0\", \"1\", \"2\", \"3\", \"0\", \"1\", \"2\"]}, {\"name\": \"clk\", \"wave\": \"0101010101010101010101010101010101010\"}, {\"name\": \"dout\", \"wave\": \"=............=.=.=.=.=.=.=.=.=.=.=.=.\", \"data\": [\"0\", \"3\", \"2\", \"1\", \"0\", \"3\", \"2\", \"1\", \"0\", \"2\", \"3\", \"0\", \"1\"]}, {\"name\": \"writeE\", \"wave\": \"0..1.......0.........1.......0.......\"}, {\"name\": \"din[0]\", \"wave\": \"=..=.=.=.=...........=.=.=.=.........\", \"data\": [\"0\", \"3\", \"2\", \"1\", \"0\", \"3\", \"0\", \"1\", \"2\"]}]}</script></div>"
      ]
     },
     "metadata": {},
     "output_type": "display_data"
    },
    {
     "data": {
      "application/javascript": [
       "$.getScript(\"http://wavedrom.com/wavedrom.min.js\", function () {\n",
       "$.getScript(\"http://wavedrom.com/skins/default.js\", function () {\n",
       "WaveDrom.ProcessAll();});\n",
       "});\n"
      ]
     },
     "metadata": {},
     "output_type": "display_data"
    }
   ],
   "source": [
    "Peeker.to_wavedrom()"
   ]
  },
  {
   "cell_type": "code",
   "execution_count": 30,
   "metadata": {},
   "outputs": [
    {
     "data": {
      "text/html": [
       "<div>\n",
       "<style scoped>\n",
       "    .dataframe tbody tr th:only-of-type {\n",
       "        vertical-align: middle;\n",
       "    }\n",
       "\n",
       "    .dataframe tbody tr th {\n",
       "        vertical-align: top;\n",
       "    }\n",
       "\n",
       "    .dataframe thead th {\n",
       "        text-align: right;\n",
       "    }\n",
       "</style>\n",
       "<table border=\"1\" class=\"dataframe\">\n",
       "  <thead>\n",
       "    <tr style=\"text-align: right;\">\n",
       "      <th></th>\n",
       "      <th>addr</th>\n",
       "      <th>din</th>\n",
       "      <th>dout</th>\n",
       "      <th>writeE</th>\n",
       "    </tr>\n",
       "  </thead>\n",
       "  <tbody>\n",
       "    <tr>\n",
       "      <th>0</th>\n",
       "      <td>0</td>\n",
       "      <td>0</td>\n",
       "      <td>0</td>\n",
       "      <td>0</td>\n",
       "    </tr>\n",
       "    <tr>\n",
       "      <th>1</th>\n",
       "      <td>0</td>\n",
       "      <td>3</td>\n",
       "      <td>0</td>\n",
       "      <td>1</td>\n",
       "    </tr>\n",
       "    <tr>\n",
       "      <th>2</th>\n",
       "      <td>1</td>\n",
       "      <td>2</td>\n",
       "      <td>0</td>\n",
       "      <td>1</td>\n",
       "    </tr>\n",
       "    <tr>\n",
       "      <th>3</th>\n",
       "      <td>2</td>\n",
       "      <td>1</td>\n",
       "      <td>0</td>\n",
       "      <td>1</td>\n",
       "    </tr>\n",
       "    <tr>\n",
       "      <th>4</th>\n",
       "      <td>3</td>\n",
       "      <td>0</td>\n",
       "      <td>0</td>\n",
       "      <td>1</td>\n",
       "    </tr>\n",
       "    <tr>\n",
       "      <th>5</th>\n",
       "      <td>3</td>\n",
       "      <td>0</td>\n",
       "      <td>0</td>\n",
       "      <td>0</td>\n",
       "    </tr>\n",
       "    <tr>\n",
       "      <th>6</th>\n",
       "      <td>0</td>\n",
       "      <td>0</td>\n",
       "      <td>3</td>\n",
       "      <td>0</td>\n",
       "    </tr>\n",
       "    <tr>\n",
       "      <th>7</th>\n",
       "      <td>1</td>\n",
       "      <td>0</td>\n",
       "      <td>2</td>\n",
       "      <td>0</td>\n",
       "    </tr>\n",
       "    <tr>\n",
       "      <th>8</th>\n",
       "      <td>2</td>\n",
       "      <td>0</td>\n",
       "      <td>1</td>\n",
       "      <td>0</td>\n",
       "    </tr>\n",
       "    <tr>\n",
       "      <th>9</th>\n",
       "      <td>3</td>\n",
       "      <td>0</td>\n",
       "      <td>0</td>\n",
       "      <td>0</td>\n",
       "    </tr>\n",
       "    <tr>\n",
       "      <th>10</th>\n",
       "      <td>0</td>\n",
       "      <td>3</td>\n",
       "      <td>3</td>\n",
       "      <td>1</td>\n",
       "    </tr>\n",
       "    <tr>\n",
       "      <th>11</th>\n",
       "      <td>1</td>\n",
       "      <td>0</td>\n",
       "      <td>2</td>\n",
       "      <td>1</td>\n",
       "    </tr>\n",
       "    <tr>\n",
       "      <th>12</th>\n",
       "      <td>2</td>\n",
       "      <td>1</td>\n",
       "      <td>1</td>\n",
       "      <td>1</td>\n",
       "    </tr>\n",
       "    <tr>\n",
       "      <th>13</th>\n",
       "      <td>3</td>\n",
       "      <td>2</td>\n",
       "      <td>0</td>\n",
       "      <td>1</td>\n",
       "    </tr>\n",
       "    <tr>\n",
       "      <th>14</th>\n",
       "      <td>3</td>\n",
       "      <td>2</td>\n",
       "      <td>2</td>\n",
       "      <td>0</td>\n",
       "    </tr>\n",
       "    <tr>\n",
       "      <th>15</th>\n",
       "      <td>0</td>\n",
       "      <td>2</td>\n",
       "      <td>3</td>\n",
       "      <td>0</td>\n",
       "    </tr>\n",
       "    <tr>\n",
       "      <th>16</th>\n",
       "      <td>1</td>\n",
       "      <td>2</td>\n",
       "      <td>0</td>\n",
       "      <td>0</td>\n",
       "    </tr>\n",
       "    <tr>\n",
       "      <th>17</th>\n",
       "      <td>2</td>\n",
       "      <td>2</td>\n",
       "      <td>1</td>\n",
       "      <td>0</td>\n",
       "    </tr>\n",
       "  </tbody>\n",
       "</table>\n",
       "</div>"
      ],
      "text/plain": [
       "    addr  din  dout  writeE\n",
       "0      0    0     0       0\n",
       "1      0    3     0       1\n",
       "2      1    2     0       1\n",
       "3      2    1     0       1\n",
       "4      3    0     0       1\n",
       "5      3    0     0       0\n",
       "6      0    0     3       0\n",
       "7      1    0     2       0\n",
       "8      2    0     1       0\n",
       "9      3    0     0       0\n",
       "10     0    3     3       1\n",
       "11     1    0     2       1\n",
       "12     2    1     1       1\n",
       "13     3    2     0       1\n",
       "14     3    2     2       0\n",
       "15     0    2     3       0\n",
       "16     1    2     0       0\n",
       "17     2    2     1       0"
      ]
     },
     "execution_count": 30,
     "metadata": {},
     "output_type": "execute_result"
    }
   ],
   "source": [
    "RAMData=Peeker.to_dataframe()\n",
    "RAMData=RAMData[RAMData['clk']==1]\n",
    "RAMData.drop(columns='clk', inplace=True)\n",
    "RAMData.reset_index(drop=True, inplace=True)\n",
    "RAMData"
   ]
  },
  {
   "cell_type": "markdown",
   "metadata": {},
   "source": [
    "The write periods"
   ]
  },
  {
   "cell_type": "code",
   "execution_count": 31,
   "metadata": {},
   "outputs": [
    {
     "data": {
      "text/html": [
       "<div>\n",
       "<style scoped>\n",
       "    .dataframe tbody tr th:only-of-type {\n",
       "        vertical-align: middle;\n",
       "    }\n",
       "\n",
       "    .dataframe tbody tr th {\n",
       "        vertical-align: top;\n",
       "    }\n",
       "\n",
       "    .dataframe thead th {\n",
       "        text-align: right;\n",
       "    }\n",
       "</style>\n",
       "<table border=\"1\" class=\"dataframe\">\n",
       "  <thead>\n",
       "    <tr style=\"text-align: right;\">\n",
       "      <th></th>\n",
       "      <th>addr</th>\n",
       "      <th>din</th>\n",
       "      <th>dout</th>\n",
       "      <th>writeE</th>\n",
       "    </tr>\n",
       "  </thead>\n",
       "  <tbody>\n",
       "    <tr>\n",
       "      <th>1</th>\n",
       "      <td>0</td>\n",
       "      <td>3</td>\n",
       "      <td>0</td>\n",
       "      <td>1</td>\n",
       "    </tr>\n",
       "    <tr>\n",
       "      <th>2</th>\n",
       "      <td>1</td>\n",
       "      <td>2</td>\n",
       "      <td>0</td>\n",
       "      <td>1</td>\n",
       "    </tr>\n",
       "    <tr>\n",
       "      <th>3</th>\n",
       "      <td>2</td>\n",
       "      <td>1</td>\n",
       "      <td>0</td>\n",
       "      <td>1</td>\n",
       "    </tr>\n",
       "    <tr>\n",
       "      <th>4</th>\n",
       "      <td>3</td>\n",
       "      <td>0</td>\n",
       "      <td>0</td>\n",
       "      <td>1</td>\n",
       "    </tr>\n",
       "    <tr>\n",
       "      <th>10</th>\n",
       "      <td>0</td>\n",
       "      <td>3</td>\n",
       "      <td>3</td>\n",
       "      <td>1</td>\n",
       "    </tr>\n",
       "    <tr>\n",
       "      <th>11</th>\n",
       "      <td>1</td>\n",
       "      <td>0</td>\n",
       "      <td>2</td>\n",
       "      <td>1</td>\n",
       "    </tr>\n",
       "    <tr>\n",
       "      <th>12</th>\n",
       "      <td>2</td>\n",
       "      <td>1</td>\n",
       "      <td>1</td>\n",
       "      <td>1</td>\n",
       "    </tr>\n",
       "    <tr>\n",
       "      <th>13</th>\n",
       "      <td>3</td>\n",
       "      <td>2</td>\n",
       "      <td>0</td>\n",
       "      <td>1</td>\n",
       "    </tr>\n",
       "  </tbody>\n",
       "</table>\n",
       "</div>"
      ],
      "text/plain": [
       "    addr  din  dout  writeE\n",
       "1      0    3     0       1\n",
       "2      1    2     0       1\n",
       "3      2    1     0       1\n",
       "4      3    0     0       1\n",
       "10     0    3     3       1\n",
       "11     1    0     2       1\n",
       "12     2    1     1       1\n",
       "13     3    2     0       1"
      ]
     },
     "execution_count": 31,
     "metadata": {},
     "output_type": "execute_result"
    }
   ],
   "source": [
    "RAMData[RAMData['writeE']==1]"
   ]
  },
  {
   "cell_type": "markdown",
   "metadata": {},
   "source": [
    "The read periods"
   ]
  },
  {
   "cell_type": "code",
   "execution_count": 32,
   "metadata": {},
   "outputs": [
    {
     "data": {
      "text/html": [
       "<div>\n",
       "<style scoped>\n",
       "    .dataframe tbody tr th:only-of-type {\n",
       "        vertical-align: middle;\n",
       "    }\n",
       "\n",
       "    .dataframe tbody tr th {\n",
       "        vertical-align: top;\n",
       "    }\n",
       "\n",
       "    .dataframe thead th {\n",
       "        text-align: right;\n",
       "    }\n",
       "</style>\n",
       "<table border=\"1\" class=\"dataframe\">\n",
       "  <thead>\n",
       "    <tr style=\"text-align: right;\">\n",
       "      <th></th>\n",
       "      <th>addr</th>\n",
       "      <th>din</th>\n",
       "      <th>dout</th>\n",
       "      <th>writeE</th>\n",
       "    </tr>\n",
       "  </thead>\n",
       "  <tbody>\n",
       "    <tr>\n",
       "      <th>0</th>\n",
       "      <td>0</td>\n",
       "      <td>0</td>\n",
       "      <td>0</td>\n",
       "      <td>0</td>\n",
       "    </tr>\n",
       "    <tr>\n",
       "      <th>5</th>\n",
       "      <td>3</td>\n",
       "      <td>0</td>\n",
       "      <td>0</td>\n",
       "      <td>0</td>\n",
       "    </tr>\n",
       "    <tr>\n",
       "      <th>6</th>\n",
       "      <td>0</td>\n",
       "      <td>0</td>\n",
       "      <td>3</td>\n",
       "      <td>0</td>\n",
       "    </tr>\n",
       "    <tr>\n",
       "      <th>7</th>\n",
       "      <td>1</td>\n",
       "      <td>0</td>\n",
       "      <td>2</td>\n",
       "      <td>0</td>\n",
       "    </tr>\n",
       "    <tr>\n",
       "      <th>8</th>\n",
       "      <td>2</td>\n",
       "      <td>0</td>\n",
       "      <td>1</td>\n",
       "      <td>0</td>\n",
       "    </tr>\n",
       "    <tr>\n",
       "      <th>9</th>\n",
       "      <td>3</td>\n",
       "      <td>0</td>\n",
       "      <td>0</td>\n",
       "      <td>0</td>\n",
       "    </tr>\n",
       "    <tr>\n",
       "      <th>14</th>\n",
       "      <td>3</td>\n",
       "      <td>2</td>\n",
       "      <td>2</td>\n",
       "      <td>0</td>\n",
       "    </tr>\n",
       "    <tr>\n",
       "      <th>15</th>\n",
       "      <td>0</td>\n",
       "      <td>2</td>\n",
       "      <td>3</td>\n",
       "      <td>0</td>\n",
       "    </tr>\n",
       "    <tr>\n",
       "      <th>16</th>\n",
       "      <td>1</td>\n",
       "      <td>2</td>\n",
       "      <td>0</td>\n",
       "      <td>0</td>\n",
       "    </tr>\n",
       "    <tr>\n",
       "      <th>17</th>\n",
       "      <td>2</td>\n",
       "      <td>2</td>\n",
       "      <td>1</td>\n",
       "      <td>0</td>\n",
       "    </tr>\n",
       "  </tbody>\n",
       "</table>\n",
       "</div>"
      ],
      "text/plain": [
       "    addr  din  dout  writeE\n",
       "0      0    0     0       0\n",
       "5      3    0     0       0\n",
       "6      0    0     3       0\n",
       "7      1    0     2       0\n",
       "8      2    0     1       0\n",
       "9      3    0     0       0\n",
       "14     3    2     2       0\n",
       "15     0    2     3       0\n",
       "16     1    2     0       0\n",
       "17     2    2     1       0"
      ]
     },
     "execution_count": 32,
     "metadata": {},
     "output_type": "execute_result"
    }
   ],
   "source": [
    "RAMData[RAMData['writeE']==0]"
   ]
  },
  {
   "cell_type": "markdown",
   "metadata": {},
   "source": [
    "## Verilog"
   ]
  },
  {
   "cell_type": "code",
   "execution_count": 33,
   "metadata": {},
   "outputs": [
    {
     "name": "stdout",
     "output_type": "stream",
     "text": [
      "***Verilog modual from RAMConcur.v***\n",
      "\n",
      " // File: RAMConcur.v\n",
      "// Generated by MyHDL 0.10\n",
      "// Date: Thu May 24 22:19:06 2018\n",
      "\n",
      "\n",
      "`timescale 1ns/10ps\n",
      "\n",
      "module RAMConcur (\n",
      "    addr,\n",
      "    din,\n",
      "    writeE,\n",
      "    dout,\n",
      "    clk\n",
      ");\n",
      "// Random access read/write memeory\n",
      "// I/O:\n",
      "//     addr(signal>4): the memory cell arrdress\n",
      "//     din (signal>4): data to write into memeory\n",
      "//     writeE (bool): write enable contorl; false is read only\n",
      "//     dout (signal>4): the data out\n",
      "//     clk (bool): clock\n",
      "//     \n",
      "// Note:\n",
      "//     this is only a 4 byte memory\n",
      "\n",
      "input [3:0] addr;\n",
      "input [3:0] din;\n",
      "input writeE;\n",
      "output [3:0] dout;\n",
      "wire [3:0] dout;\n",
      "input clk;\n",
      "\n",
      "reg [3:0] memory [0:4-1];\n",
      "\n",
      "\n",
      "\n",
      "always @(posedge clk) begin: RAMCONCUR_WRITEACTION\n",
      "    if (writeE) begin\n",
      "        memory[addr] <= din;\n",
      "    end\n",
      "end\n",
      "\n",
      "\n",
      "\n",
      "assign dout = memory[addr];\n",
      "\n",
      "endmodule\n",
      "\n"
     ]
    }
   ],
   "source": [
    "DUT.convert()\n",
    "VerilogTextReader('RAMConcur');"
   ]
  }
 ],
 "metadata": {
  "author": "Memories in myHDL",
  "hide_input": false,
  "kernelspec": {
   "display_name": "Python 3",
   "language": "python",
   "name": "python3"
  },
  "language_info": {
   "codemirror_mode": {
    "name": "ipython",
    "version": 3
   },
   "file_extension": ".py",
   "mimetype": "text/x-python",
   "name": "python",
   "nbconvert_exporter": "python",
   "pygments_lexer": "ipython3",
   "version": "3.6.4"
  },
  "latex_envs": {
   "LaTeX_envs_menu_present": true,
   "autocomplete": true,
   "bibliofile": "biblio.bib",
   "cite_by": "apalike",
   "current_citInitial": 1,
   "eqLabelWithNumbers": true,
   "eqNumInitial": 1,
   "hotkeys": {
    "equation": "Ctrl-E",
    "itemize": "Ctrl-I"
   },
   "labels_anchors": false,
   "latex_user_defs": false,
   "report_style_numbering": false,
   "user_envs_cfg": false
  },
  "toc": {
   "nav_menu": {},
   "number_sections": true,
   "sideBar": true,
   "skip_h1_title": false,
   "title_cell": "Table of Contents",
   "title_sidebar": "Contents",
   "toc_cell": true,
   "toc_position": {},
   "toc_section_display": "block",
   "toc_window_display": true
  }
 },
 "nbformat": 4,
 "nbformat_minor": 2
}
